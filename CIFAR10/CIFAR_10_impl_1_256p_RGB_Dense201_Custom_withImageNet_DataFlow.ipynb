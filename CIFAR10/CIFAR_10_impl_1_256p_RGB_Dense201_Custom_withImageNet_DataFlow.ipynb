{
  "nbformat": 4,
  "nbformat_minor": 0,
  "metadata": {
    "colab": {
      "name": "CIFAR_10_impl_1_256p_RGB_Dense201_Custom_withImageNet_DataFlow.ipynb",
      "provenance": [],
      "collapsed_sections": []
    },
    "kernelspec": {
      "display_name": "Python 3",
      "name": "python3"
    },
    "accelerator": "GPU"
  },
  "cells": [
    {
      "cell_type": "code",
      "metadata": {
        "colab": {
          "base_uri": "https://localhost:8080/"
        },
        "id": "w35zPOcMyNwJ",
        "outputId": "3b6008f1-a860-4592-8ed4-df56267acd01"
      },
      "source": [
        "from google.colab import drive \n",
        "drive.mount('/content/drive', force_remount=True)"
      ],
      "execution_count": 1,
      "outputs": [
        {
          "output_type": "stream",
          "text": [
            "Mounted at /content/drive\n"
          ],
          "name": "stdout"
        }
      ]
    },
    {
      "cell_type": "code",
      "metadata": {
        "id": "ph-qNIaajXGT"
      },
      "source": [
        "#drive.flush_and_unmount(timeout_ms=24)"
      ],
      "execution_count": 2,
      "outputs": []
    },
    {
      "cell_type": "code",
      "metadata": {
        "id": "9xc7MvTxyQd7"
      },
      "source": [
        "\n",
        "import numpy as np\n",
        "import pandas as pd\n",
        "import pickle\n",
        "import numpy as np\n",
        "import random\n",
        "import time\n",
        "import os\n",
        "#os.environ[\"OPENCV_IO_MAX_IMAGE_PIXELS\"] = pow(2,40).__str__()\n",
        "import cv2\n",
        "from tqdm import tqdm\n",
        "\n",
        "import tensorflow as tf\n",
        "from tensorflow.python.keras import Sequential\n",
        "from tensorflow.keras import layers, optimizers\n",
        "from tensorflow.keras.applications import DenseNet121\n",
        "from tensorflow.keras.applications.resnet50 import ResNet50\n",
        "from tensorflow.keras.layers import *\n",
        "from tensorflow.keras.models import Model, load_model\n",
        "from tensorflow.keras.initializers import glorot_uniform\n",
        "from tensorflow.keras.utils import plot_model\n",
        "from tensorflow.keras.callbacks import ReduceLROnPlateau, EarlyStopping, ModelCheckpoint, LearningRateScheduler\n",
        "from IPython.display import display\n",
        "from tensorflow.keras import backend as K\n",
        "import matplotlib.pyplot as plt\n",
        "import matplotlib.image as mpimg\n",
        "from sklearn.model_selection import train_test_split\n",
        "from keras import optimizers\n",
        "#from sklearn.metrics import classification_report, confusion_matrix\n",
        "import sklearn\n",
        "import seaborn as sn\n",
        "from keras.callbacks import CSVLogger, LambdaCallback\n",
        "from tensorflow.keras.preprocessing.image import ImageDataGenerator"
      ],
      "execution_count": 3,
      "outputs": []
    },
    {
      "cell_type": "code",
      "metadata": {
        "id": "LLy6y_e1yQhC"
      },
      "source": [
        "Dataset_Name = \"CIFAR_10\"\n",
        "base_dir = 'drive/My Drive/CIFAR10/CIFAR10_32p/'\n",
        "work_dir = \"drive/My Drive/CIFAR10/Records/\"\n",
        "#dataset_dir = \"drive/My Drive/Plant_Leaf_MalayaKew_MK_Dataset/MK/D2/\"\n",
        "\n",
        "train_dir = os.path.join(base_dir, 'train')\n",
        "test_dir = os.path.join(base_dir, 'test')\n",
        "\n",
        "#data_instance = 64 # 64 256\n",
        "color_type = 'rgb' # rgb, grayscale"
      ],
      "execution_count": 4,
      "outputs": []
    },
    {
      "cell_type": "code",
      "metadata": {
        "id": "LnYytOrbKGMH"
      },
      "source": [
        "train_datagen = ImageDataGenerator(rescale=1./255)\n",
        "test_datagen = ImageDataGenerator(rescale=1./255)"
      ],
      "execution_count": 5,
      "outputs": []
    },
    {
      "cell_type": "code",
      "metadata": {
        "id": "3mgmPRJEKk3r"
      },
      "source": [
        "BATCH_SIZE = 16"
      ],
      "execution_count": 6,
      "outputs": []
    },
    {
      "cell_type": "code",
      "metadata": {
        "colab": {
          "base_uri": "https://localhost:8080/"
        },
        "id": "rga2byZPKPQt",
        "outputId": "a317bc7a-6a97-4e50-989a-99f7ab8bc449"
      },
      "source": [
        "train_generator = train_datagen.flow_from_directory(\n",
        "        train_dir,\n",
        "        #target_size=(800, 804),  # target images are automatically resized to (256, 256)\n",
        "        batch_size=BATCH_SIZE,\n",
        "        color_mode=color_type, # grayscale, rgb\n",
        "        class_mode='categorical')"
      ],
      "execution_count": 7,
      "outputs": [
        {
          "output_type": "stream",
          "text": [
            "Found 50000 images belonging to 10 classes.\n"
          ],
          "name": "stdout"
        }
      ]
    },
    {
      "cell_type": "code",
      "metadata": {
        "colab": {
          "base_uri": "https://localhost:8080/"
        },
        "id": "uwy6M8sgK1KT",
        "outputId": "d599cf78-d78b-4109-d453-cb731b814640"
      },
      "source": [
        "num_classes = train_generator.num_classes\n",
        "total_train_data = train_generator.samples\n",
        "\n",
        "print(f\"total_train_data = {total_train_data}\")\n",
        "print(f\"train_generator.image_shape = {train_generator.image_shape}\")\n",
        "print(f\"num_classes = {num_classes}\")"
      ],
      "execution_count": 8,
      "outputs": [
        {
          "output_type": "stream",
          "text": [
            "total_train_data = 50000\n",
            "train_generator.image_shape = (256, 256, 3)\n",
            "num_classes = 10\n"
          ],
          "name": "stdout"
        }
      ]
    },
    {
      "cell_type": "code",
      "metadata": {
        "colab": {
          "base_uri": "https://localhost:8080/"
        },
        "id": "YsvrZgrALXMl",
        "outputId": "3b7f9f1a-7cdc-4816-8af7-4261d5ef1dec"
      },
      "source": [
        "test_generator = test_datagen.flow_from_directory(\n",
        "        test_dir,\n",
        "        #target_size=(800, 804),  # target images are automatically resized to (256, 256)\n",
        "        batch_size=BATCH_SIZE,\n",
        "        shuffle=False,\n",
        "        color_mode=color_type, # grayscale, rgb\n",
        "        class_mode='categorical')"
      ],
      "execution_count": 9,
      "outputs": [
        {
          "output_type": "stream",
          "text": [
            "Found 10000 images belonging to 10 classes.\n"
          ],
          "name": "stdout"
        }
      ]
    },
    {
      "cell_type": "code",
      "metadata": {
        "colab": {
          "base_uri": "https://localhost:8080/"
        },
        "id": "HxU0D6TuOOOL",
        "outputId": "e9f8b00c-a5dc-4b65-fe56-3c9f3a4d01dc"
      },
      "source": [
        "total_test_data = test_generator.samples\n",
        "print(f\"total_test_data = {total_test_data}\")"
      ],
      "execution_count": 10,
      "outputs": [
        {
          "output_type": "stream",
          "text": [
            "total_test_data = 10000\n"
          ],
          "name": "stdout"
        }
      ]
    },
    {
      "cell_type": "code",
      "metadata": {
        "id": "roidu5RmFRJq"
      },
      "source": [
        ""
      ],
      "execution_count": 10,
      "outputs": []
    },
    {
      "cell_type": "code",
      "metadata": {
        "colab": {
          "base_uri": "https://localhost:8080/",
          "height": 36
        },
        "id": "XRwynF9xPBWy",
        "outputId": "6bf553ff-70ad-494f-e068-da0d5da09fa8"
      },
      "source": [
        "# DenseNet121 ResNet101 ResNet50 DenseNet201 InceptionV3 Xception NASNetLarge ResNet152V2 InceptionResNetV2 EfficientNetB7\n",
        "impl_type = \"TransferLearning3D.DenseNet201\" # TransferLearning3D \n",
        "dataset = f\"{Dataset_Name}.{color_type}.{train_generator.image_shape[:2]}.DataFlow\" # +str(img_size)+\"p\"\n",
        "dataset"
      ],
      "execution_count": 11,
      "outputs": [
        {
          "output_type": "execute_result",
          "data": {
            "application/vnd.google.colaboratory.intrinsic+json": {
              "type": "string"
            },
            "text/plain": [
              "'CIFAR_10.rgb.(256, 256).DataFlow'"
            ]
          },
          "metadata": {
            "tags": []
          },
          "execution_count": 11
        }
      ]
    },
    {
      "cell_type": "code",
      "metadata": {
        "id": "rLVsewD-O3gl",
        "colab": {
          "base_uri": "https://localhost:8080/",
          "height": 36
        },
        "outputId": "14772be0-d7c3-45a4-f6d7-7518173752c6"
      },
      "source": [
        "'''\n",
        "count_no_improvement = 0\n",
        "epoch_initial = True\n",
        "#'''"
      ],
      "execution_count": 12,
      "outputs": [
        {
          "output_type": "execute_result",
          "data": {
            "application/vnd.google.colaboratory.intrinsic+json": {
              "type": "string"
            },
            "text/plain": [
              "'\\ncount_no_improvement = 0\\nepoch_initial = True\\n#'"
            ]
          },
          "metadata": {
            "tags": []
          },
          "execution_count": 12
        }
      ]
    },
    {
      "cell_type": "code",
      "metadata": {
        "colab": {
          "base_uri": "https://localhost:8080/"
        },
        "id": "OxppPm7hO3l8",
        "outputId": "f546d063-de24-46e4-f8ca-b935eadf6824"
      },
      "source": [
        "#NUM_NEURONS = 16\n",
        "#NUM_LAYERS = 3\n",
        "#BATCH_SIZE = 16 # 10\n",
        "NUM_EPOCHS = 10 # 300\n",
        "epochs_completed = 0\n",
        "LEARNING_RATE = 0.00001\n",
        "EPSILON = 1e-4\n",
        "early_stop_after_epochs = 5\n",
        "DROPOUT = 0.5 # 0.5 0.0\n",
        "pad = 0\n",
        "\n",
        "LOSS = 'categorical_crossentropy'\n",
        "ACTIVATION_FUNCTION = 'elu' # relu sigmoid elu\n",
        "FINAL_ACTIVATION_FUNCTION = 'softmax'\n",
        "validation_split = 0.1\n",
        "kernel_size=(1,1)\n",
        "pointTrainableAfter = \"allDefault\" # \"allDefault\" 160 170\n",
        "OPTIMIZER = \"Adam\" # Adam SGD RMSProp\n",
        "init_weights = \"imagenet\" # \"imagenet\" None\n",
        "modelExt = \".Dense.1024.1024.2048\" # .Dense.128.256.512, .512.512.512 .Dense.512.512.512.512.Res\n",
        "l2_val = 0.001\n",
        "\n",
        "# +\"_kernel\"+str(kernel_size)+\"_lr\"+str(LEARNING_RATE)+\"_batch\"+str(BATCH_SIZE)+\"_epochs\"+str(NUM_EPOCHS)\n",
        "#checkpointer_name  = \"weights_\"+dataset+\"_\"+impl_type+\"_nLayers\"+str(NUM_LAYERS)+\"_nNeurons\"+str(NUM_NEURONS)+\".hdf5\"\n",
        "ext = f\".Flatten.l2.{str(l2_val)}.run_2\" # run_1 run_2 .DropAfter .momentum0.9\n",
        "#'''\n",
        "checkpointer_name  = \"weights.\"+dataset+\".pad\"+str(pad)+\".\"+impl_type+\".wInit.\"+str(init_weights)+\".TrainableAfter.\"+str(pointTrainableAfter)+\\\n",
        "                     modelExt+\".actF.\"+ACTIVATION_FUNCTION+\".opt.\"+OPTIMIZER+\".drop.\"+str(DROPOUT)+\".batch\"+str(BATCH_SIZE)+ext+\".hdf5\"\n",
        "log_name = \"log.\"+checkpointer_name[8:-5]+\".log\"\n",
        "\n",
        "print('checkpointer_name =', checkpointer_name)\n",
        "print('log_name =', log_name)\n",
        "#'''"
      ],
      "execution_count": 13,
      "outputs": [
        {
          "output_type": "stream",
          "text": [
            "checkpointer_name = weights.CIFAR_10.rgb.(256, 256).DataFlow.pad0.TransferLearning3D.DenseNet201.wInit.imagenet.TrainableAfter.allDefault.Dense.1024.1024.2048.actF.elu.opt.Adam.drop.0.5.batch16.Flatten.l2.0.001.run_2.hdf5\n",
            "log_name = log.CIFAR_10.rgb.(256, 256).DataFlow.pad0.TransferLearning3D.DenseNet201.wInit.imagenet.TrainableAfter.allDefault.Dense.1024.1024.2048.actF.elu.opt.Adam.drop.0.5.batch16.Flatten.l2.0.001.run_2.log\n"
          ],
          "name": "stdout"
        }
      ]
    },
    {
      "cell_type": "code",
      "metadata": {
        "colab": {
          "base_uri": "https://localhost:8080/"
        },
        "id": "hcB3WVaWO6BV",
        "outputId": "cc072d27-66a7-42dd-bc37-dc3d1d9f5464"
      },
      "source": [
        "train_generator.image_shape"
      ],
      "execution_count": 14,
      "outputs": [
        {
          "output_type": "execute_result",
          "data": {
            "text/plain": [
              "(256, 256, 3)"
            ]
          },
          "metadata": {
            "tags": []
          },
          "execution_count": 14
        }
      ]
    },
    {
      "cell_type": "code",
      "metadata": {
        "colab": {
          "base_uri": "https://localhost:8080/"
        },
        "id": "XyK6ZbJOOsjV",
        "outputId": "a67eaba8-8fbc-45e9-d897-f175b9259c30"
      },
      "source": [
        "#'''\n",
        "#base_model=DenseNet121(weights=None, include_top=False, input_shape=np_train_dataset2.shape[1:]) # `None` (random initialization)\n",
        "#base_model=ResNet152V2(weights=None, include_top=False, input_shape=np_train_dataset2.shape[1:])\n",
        "# ResNet152V2 ResNet50 ResNet101 ResNet152 DenseNet201 InceptionV3 Xception NASNetLarge 'imagenet' ResNet152V2 DenseNet121\n",
        "#inputs = Input(final_train_imageset.shape[1:])\n",
        "#x = ZeroPadding2D(padding=(pad,pad))(inputs)\n",
        "#base_model=tf.keras.applications.ResNet50(weights=init_weights, include_top=False, input_tensor=x)\n",
        "base_model=tf.keras.applications.DenseNet201(weights=init_weights, include_top=False, input_shape=train_generator.image_shape)\n",
        "x=base_model.output\n",
        "\n",
        "x = Flatten()(x)\n",
        "\n",
        "#'''\n",
        "x = Dense(1024, kernel_regularizer=tf.keras.regularizers.l2(l2_val), activation=ACTIVATION_FUNCTION)(x)\n",
        "#x_copy = x\n",
        "x = Dropout(DROPOUT)(x)\n",
        "x = Dense(1024, kernel_regularizer=tf.keras.regularizers.l2(l2_val), activation=ACTIVATION_FUNCTION)(x)\n",
        "x = Dropout(DROPOUT)(x)\n",
        "x = Dense(2048, kernel_regularizer=tf.keras.regularizers.l2(l2_val), activation=ACTIVATION_FUNCTION)(x)\n",
        "x = Dropout(DROPOUT)(x)\n",
        "#x = Add()([x,x_copy])\n",
        "#'''\n",
        "outputs=Dense(num_classes,activation='softmax')(x)\n",
        "\n",
        "model=Model(inputs=base_model.input,outputs=outputs)\n",
        "model.summary()\n",
        "#'''"
      ],
      "execution_count": 15,
      "outputs": [
        {
          "output_type": "stream",
          "text": [
            "Model: \"model\"\n",
            "__________________________________________________________________________________________________\n",
            "Layer (type)                    Output Shape         Param #     Connected to                     \n",
            "==================================================================================================\n",
            "input_1 (InputLayer)            [(None, 256, 256, 3) 0                                            \n",
            "__________________________________________________________________________________________________\n",
            "zero_padding2d (ZeroPadding2D)  (None, 262, 262, 3)  0           input_1[0][0]                    \n",
            "__________________________________________________________________________________________________\n",
            "conv1/conv (Conv2D)             (None, 128, 128, 64) 9408        zero_padding2d[0][0]             \n",
            "__________________________________________________________________________________________________\n",
            "conv1/bn (BatchNormalization)   (None, 128, 128, 64) 256         conv1/conv[0][0]                 \n",
            "__________________________________________________________________________________________________\n",
            "conv1/relu (Activation)         (None, 128, 128, 64) 0           conv1/bn[0][0]                   \n",
            "__________________________________________________________________________________________________\n",
            "zero_padding2d_1 (ZeroPadding2D (None, 130, 130, 64) 0           conv1/relu[0][0]                 \n",
            "__________________________________________________________________________________________________\n",
            "pool1 (MaxPooling2D)            (None, 64, 64, 64)   0           zero_padding2d_1[0][0]           \n",
            "__________________________________________________________________________________________________\n",
            "conv2_block1_0_bn (BatchNormali (None, 64, 64, 64)   256         pool1[0][0]                      \n",
            "__________________________________________________________________________________________________\n",
            "conv2_block1_0_relu (Activation (None, 64, 64, 64)   0           conv2_block1_0_bn[0][0]          \n",
            "__________________________________________________________________________________________________\n",
            "conv2_block1_1_conv (Conv2D)    (None, 64, 64, 128)  8192        conv2_block1_0_relu[0][0]        \n",
            "__________________________________________________________________________________________________\n",
            "conv2_block1_1_bn (BatchNormali (None, 64, 64, 128)  512         conv2_block1_1_conv[0][0]        \n",
            "__________________________________________________________________________________________________\n",
            "conv2_block1_1_relu (Activation (None, 64, 64, 128)  0           conv2_block1_1_bn[0][0]          \n",
            "__________________________________________________________________________________________________\n",
            "conv2_block1_2_conv (Conv2D)    (None, 64, 64, 32)   36864       conv2_block1_1_relu[0][0]        \n",
            "__________________________________________________________________________________________________\n",
            "conv2_block1_concat (Concatenat (None, 64, 64, 96)   0           pool1[0][0]                      \n",
            "                                                                 conv2_block1_2_conv[0][0]        \n",
            "__________________________________________________________________________________________________\n",
            "conv2_block2_0_bn (BatchNormali (None, 64, 64, 96)   384         conv2_block1_concat[0][0]        \n",
            "__________________________________________________________________________________________________\n",
            "conv2_block2_0_relu (Activation (None, 64, 64, 96)   0           conv2_block2_0_bn[0][0]          \n",
            "__________________________________________________________________________________________________\n",
            "conv2_block2_1_conv (Conv2D)    (None, 64, 64, 128)  12288       conv2_block2_0_relu[0][0]        \n",
            "__________________________________________________________________________________________________\n",
            "conv2_block2_1_bn (BatchNormali (None, 64, 64, 128)  512         conv2_block2_1_conv[0][0]        \n",
            "__________________________________________________________________________________________________\n",
            "conv2_block2_1_relu (Activation (None, 64, 64, 128)  0           conv2_block2_1_bn[0][0]          \n",
            "__________________________________________________________________________________________________\n",
            "conv2_block2_2_conv (Conv2D)    (None, 64, 64, 32)   36864       conv2_block2_1_relu[0][0]        \n",
            "__________________________________________________________________________________________________\n",
            "conv2_block2_concat (Concatenat (None, 64, 64, 128)  0           conv2_block1_concat[0][0]        \n",
            "                                                                 conv2_block2_2_conv[0][0]        \n",
            "__________________________________________________________________________________________________\n",
            "conv2_block3_0_bn (BatchNormali (None, 64, 64, 128)  512         conv2_block2_concat[0][0]        \n",
            "__________________________________________________________________________________________________\n",
            "conv2_block3_0_relu (Activation (None, 64, 64, 128)  0           conv2_block3_0_bn[0][0]          \n",
            "__________________________________________________________________________________________________\n",
            "conv2_block3_1_conv (Conv2D)    (None, 64, 64, 128)  16384       conv2_block3_0_relu[0][0]        \n",
            "__________________________________________________________________________________________________\n",
            "conv2_block3_1_bn (BatchNormali (None, 64, 64, 128)  512         conv2_block3_1_conv[0][0]        \n",
            "__________________________________________________________________________________________________\n",
            "conv2_block3_1_relu (Activation (None, 64, 64, 128)  0           conv2_block3_1_bn[0][0]          \n",
            "__________________________________________________________________________________________________\n",
            "conv2_block3_2_conv (Conv2D)    (None, 64, 64, 32)   36864       conv2_block3_1_relu[0][0]        \n",
            "__________________________________________________________________________________________________\n",
            "conv2_block3_concat (Concatenat (None, 64, 64, 160)  0           conv2_block2_concat[0][0]        \n",
            "                                                                 conv2_block3_2_conv[0][0]        \n",
            "__________________________________________________________________________________________________\n",
            "conv2_block4_0_bn (BatchNormali (None, 64, 64, 160)  640         conv2_block3_concat[0][0]        \n",
            "__________________________________________________________________________________________________\n",
            "conv2_block4_0_relu (Activation (None, 64, 64, 160)  0           conv2_block4_0_bn[0][0]          \n",
            "__________________________________________________________________________________________________\n",
            "conv2_block4_1_conv (Conv2D)    (None, 64, 64, 128)  20480       conv2_block4_0_relu[0][0]        \n",
            "__________________________________________________________________________________________________\n",
            "conv2_block4_1_bn (BatchNormali (None, 64, 64, 128)  512         conv2_block4_1_conv[0][0]        \n",
            "__________________________________________________________________________________________________\n",
            "conv2_block4_1_relu (Activation (None, 64, 64, 128)  0           conv2_block4_1_bn[0][0]          \n",
            "__________________________________________________________________________________________________\n",
            "conv2_block4_2_conv (Conv2D)    (None, 64, 64, 32)   36864       conv2_block4_1_relu[0][0]        \n",
            "__________________________________________________________________________________________________\n",
            "conv2_block4_concat (Concatenat (None, 64, 64, 192)  0           conv2_block3_concat[0][0]        \n",
            "                                                                 conv2_block4_2_conv[0][0]        \n",
            "__________________________________________________________________________________________________\n",
            "conv2_block5_0_bn (BatchNormali (None, 64, 64, 192)  768         conv2_block4_concat[0][0]        \n",
            "__________________________________________________________________________________________________\n",
            "conv2_block5_0_relu (Activation (None, 64, 64, 192)  0           conv2_block5_0_bn[0][0]          \n",
            "__________________________________________________________________________________________________\n",
            "conv2_block5_1_conv (Conv2D)    (None, 64, 64, 128)  24576       conv2_block5_0_relu[0][0]        \n",
            "__________________________________________________________________________________________________\n",
            "conv2_block5_1_bn (BatchNormali (None, 64, 64, 128)  512         conv2_block5_1_conv[0][0]        \n",
            "__________________________________________________________________________________________________\n",
            "conv2_block5_1_relu (Activation (None, 64, 64, 128)  0           conv2_block5_1_bn[0][0]          \n",
            "__________________________________________________________________________________________________\n",
            "conv2_block5_2_conv (Conv2D)    (None, 64, 64, 32)   36864       conv2_block5_1_relu[0][0]        \n",
            "__________________________________________________________________________________________________\n",
            "conv2_block5_concat (Concatenat (None, 64, 64, 224)  0           conv2_block4_concat[0][0]        \n",
            "                                                                 conv2_block5_2_conv[0][0]        \n",
            "__________________________________________________________________________________________________\n",
            "conv2_block6_0_bn (BatchNormali (None, 64, 64, 224)  896         conv2_block5_concat[0][0]        \n",
            "__________________________________________________________________________________________________\n",
            "conv2_block6_0_relu (Activation (None, 64, 64, 224)  0           conv2_block6_0_bn[0][0]          \n",
            "__________________________________________________________________________________________________\n",
            "conv2_block6_1_conv (Conv2D)    (None, 64, 64, 128)  28672       conv2_block6_0_relu[0][0]        \n",
            "__________________________________________________________________________________________________\n",
            "conv2_block6_1_bn (BatchNormali (None, 64, 64, 128)  512         conv2_block6_1_conv[0][0]        \n",
            "__________________________________________________________________________________________________\n",
            "conv2_block6_1_relu (Activation (None, 64, 64, 128)  0           conv2_block6_1_bn[0][0]          \n",
            "__________________________________________________________________________________________________\n",
            "conv2_block6_2_conv (Conv2D)    (None, 64, 64, 32)   36864       conv2_block6_1_relu[0][0]        \n",
            "__________________________________________________________________________________________________\n",
            "conv2_block6_concat (Concatenat (None, 64, 64, 256)  0           conv2_block5_concat[0][0]        \n",
            "                                                                 conv2_block6_2_conv[0][0]        \n",
            "__________________________________________________________________________________________________\n",
            "pool2_bn (BatchNormalization)   (None, 64, 64, 256)  1024        conv2_block6_concat[0][0]        \n",
            "__________________________________________________________________________________________________\n",
            "pool2_relu (Activation)         (None, 64, 64, 256)  0           pool2_bn[0][0]                   \n",
            "__________________________________________________________________________________________________\n",
            "pool2_conv (Conv2D)             (None, 64, 64, 128)  32768       pool2_relu[0][0]                 \n",
            "__________________________________________________________________________________________________\n",
            "pool2_pool (AveragePooling2D)   (None, 32, 32, 128)  0           pool2_conv[0][0]                 \n",
            "__________________________________________________________________________________________________\n",
            "conv3_block1_0_bn (BatchNormali (None, 32, 32, 128)  512         pool2_pool[0][0]                 \n",
            "__________________________________________________________________________________________________\n",
            "conv3_block1_0_relu (Activation (None, 32, 32, 128)  0           conv3_block1_0_bn[0][0]          \n",
            "__________________________________________________________________________________________________\n",
            "conv3_block1_1_conv (Conv2D)    (None, 32, 32, 128)  16384       conv3_block1_0_relu[0][0]        \n",
            "__________________________________________________________________________________________________\n",
            "conv3_block1_1_bn (BatchNormali (None, 32, 32, 128)  512         conv3_block1_1_conv[0][0]        \n",
            "__________________________________________________________________________________________________\n",
            "conv3_block1_1_relu (Activation (None, 32, 32, 128)  0           conv3_block1_1_bn[0][0]          \n",
            "__________________________________________________________________________________________________\n",
            "conv3_block1_2_conv (Conv2D)    (None, 32, 32, 32)   36864       conv3_block1_1_relu[0][0]        \n",
            "__________________________________________________________________________________________________\n",
            "conv3_block1_concat (Concatenat (None, 32, 32, 160)  0           pool2_pool[0][0]                 \n",
            "                                                                 conv3_block1_2_conv[0][0]        \n",
            "__________________________________________________________________________________________________\n",
            "conv3_block2_0_bn (BatchNormali (None, 32, 32, 160)  640         conv3_block1_concat[0][0]        \n",
            "__________________________________________________________________________________________________\n",
            "conv3_block2_0_relu (Activation (None, 32, 32, 160)  0           conv3_block2_0_bn[0][0]          \n",
            "__________________________________________________________________________________________________\n",
            "conv3_block2_1_conv (Conv2D)    (None, 32, 32, 128)  20480       conv3_block2_0_relu[0][0]        \n",
            "__________________________________________________________________________________________________\n",
            "conv3_block2_1_bn (BatchNormali (None, 32, 32, 128)  512         conv3_block2_1_conv[0][0]        \n",
            "__________________________________________________________________________________________________\n",
            "conv3_block2_1_relu (Activation (None, 32, 32, 128)  0           conv3_block2_1_bn[0][0]          \n",
            "__________________________________________________________________________________________________\n",
            "conv3_block2_2_conv (Conv2D)    (None, 32, 32, 32)   36864       conv3_block2_1_relu[0][0]        \n",
            "__________________________________________________________________________________________________\n",
            "conv3_block2_concat (Concatenat (None, 32, 32, 192)  0           conv3_block1_concat[0][0]        \n",
            "                                                                 conv3_block2_2_conv[0][0]        \n",
            "__________________________________________________________________________________________________\n",
            "conv3_block3_0_bn (BatchNormali (None, 32, 32, 192)  768         conv3_block2_concat[0][0]        \n",
            "__________________________________________________________________________________________________\n",
            "conv3_block3_0_relu (Activation (None, 32, 32, 192)  0           conv3_block3_0_bn[0][0]          \n",
            "__________________________________________________________________________________________________\n",
            "conv3_block3_1_conv (Conv2D)    (None, 32, 32, 128)  24576       conv3_block3_0_relu[0][0]        \n",
            "__________________________________________________________________________________________________\n",
            "conv3_block3_1_bn (BatchNormali (None, 32, 32, 128)  512         conv3_block3_1_conv[0][0]        \n",
            "__________________________________________________________________________________________________\n",
            "conv3_block3_1_relu (Activation (None, 32, 32, 128)  0           conv3_block3_1_bn[0][0]          \n",
            "__________________________________________________________________________________________________\n",
            "conv3_block3_2_conv (Conv2D)    (None, 32, 32, 32)   36864       conv3_block3_1_relu[0][0]        \n",
            "__________________________________________________________________________________________________\n",
            "conv3_block3_concat (Concatenat (None, 32, 32, 224)  0           conv3_block2_concat[0][0]        \n",
            "                                                                 conv3_block3_2_conv[0][0]        \n",
            "__________________________________________________________________________________________________\n",
            "conv3_block4_0_bn (BatchNormali (None, 32, 32, 224)  896         conv3_block3_concat[0][0]        \n",
            "__________________________________________________________________________________________________\n",
            "conv3_block4_0_relu (Activation (None, 32, 32, 224)  0           conv3_block4_0_bn[0][0]          \n",
            "__________________________________________________________________________________________________\n",
            "conv3_block4_1_conv (Conv2D)    (None, 32, 32, 128)  28672       conv3_block4_0_relu[0][0]        \n",
            "__________________________________________________________________________________________________\n",
            "conv3_block4_1_bn (BatchNormali (None, 32, 32, 128)  512         conv3_block4_1_conv[0][0]        \n",
            "__________________________________________________________________________________________________\n",
            "conv3_block4_1_relu (Activation (None, 32, 32, 128)  0           conv3_block4_1_bn[0][0]          \n",
            "__________________________________________________________________________________________________\n",
            "conv3_block4_2_conv (Conv2D)    (None, 32, 32, 32)   36864       conv3_block4_1_relu[0][0]        \n",
            "__________________________________________________________________________________________________\n",
            "conv3_block4_concat (Concatenat (None, 32, 32, 256)  0           conv3_block3_concat[0][0]        \n",
            "                                                                 conv3_block4_2_conv[0][0]        \n",
            "__________________________________________________________________________________________________\n",
            "conv3_block5_0_bn (BatchNormali (None, 32, 32, 256)  1024        conv3_block4_concat[0][0]        \n",
            "__________________________________________________________________________________________________\n",
            "conv3_block5_0_relu (Activation (None, 32, 32, 256)  0           conv3_block5_0_bn[0][0]          \n",
            "__________________________________________________________________________________________________\n",
            "conv3_block5_1_conv (Conv2D)    (None, 32, 32, 128)  32768       conv3_block5_0_relu[0][0]        \n",
            "__________________________________________________________________________________________________\n",
            "conv3_block5_1_bn (BatchNormali (None, 32, 32, 128)  512         conv3_block5_1_conv[0][0]        \n",
            "__________________________________________________________________________________________________\n",
            "conv3_block5_1_relu (Activation (None, 32, 32, 128)  0           conv3_block5_1_bn[0][0]          \n",
            "__________________________________________________________________________________________________\n",
            "conv3_block5_2_conv (Conv2D)    (None, 32, 32, 32)   36864       conv3_block5_1_relu[0][0]        \n",
            "__________________________________________________________________________________________________\n",
            "conv3_block5_concat (Concatenat (None, 32, 32, 288)  0           conv3_block4_concat[0][0]        \n",
            "                                                                 conv3_block5_2_conv[0][0]        \n",
            "__________________________________________________________________________________________________\n",
            "conv3_block6_0_bn (BatchNormali (None, 32, 32, 288)  1152        conv3_block5_concat[0][0]        \n",
            "__________________________________________________________________________________________________\n",
            "conv3_block6_0_relu (Activation (None, 32, 32, 288)  0           conv3_block6_0_bn[0][0]          \n",
            "__________________________________________________________________________________________________\n",
            "conv3_block6_1_conv (Conv2D)    (None, 32, 32, 128)  36864       conv3_block6_0_relu[0][0]        \n",
            "__________________________________________________________________________________________________\n",
            "conv3_block6_1_bn (BatchNormali (None, 32, 32, 128)  512         conv3_block6_1_conv[0][0]        \n",
            "__________________________________________________________________________________________________\n",
            "conv3_block6_1_relu (Activation (None, 32, 32, 128)  0           conv3_block6_1_bn[0][0]          \n",
            "__________________________________________________________________________________________________\n",
            "conv3_block6_2_conv (Conv2D)    (None, 32, 32, 32)   36864       conv3_block6_1_relu[0][0]        \n",
            "__________________________________________________________________________________________________\n",
            "conv3_block6_concat (Concatenat (None, 32, 32, 320)  0           conv3_block5_concat[0][0]        \n",
            "                                                                 conv3_block6_2_conv[0][0]        \n",
            "__________________________________________________________________________________________________\n",
            "conv3_block7_0_bn (BatchNormali (None, 32, 32, 320)  1280        conv3_block6_concat[0][0]        \n",
            "__________________________________________________________________________________________________\n",
            "conv3_block7_0_relu (Activation (None, 32, 32, 320)  0           conv3_block7_0_bn[0][0]          \n",
            "__________________________________________________________________________________________________\n",
            "conv3_block7_1_conv (Conv2D)    (None, 32, 32, 128)  40960       conv3_block7_0_relu[0][0]        \n",
            "__________________________________________________________________________________________________\n",
            "conv3_block7_1_bn (BatchNormali (None, 32, 32, 128)  512         conv3_block7_1_conv[0][0]        \n",
            "__________________________________________________________________________________________________\n",
            "conv3_block7_1_relu (Activation (None, 32, 32, 128)  0           conv3_block7_1_bn[0][0]          \n",
            "__________________________________________________________________________________________________\n",
            "conv3_block7_2_conv (Conv2D)    (None, 32, 32, 32)   36864       conv3_block7_1_relu[0][0]        \n",
            "__________________________________________________________________________________________________\n",
            "conv3_block7_concat (Concatenat (None, 32, 32, 352)  0           conv3_block6_concat[0][0]        \n",
            "                                                                 conv3_block7_2_conv[0][0]        \n",
            "__________________________________________________________________________________________________\n",
            "conv3_block8_0_bn (BatchNormali (None, 32, 32, 352)  1408        conv3_block7_concat[0][0]        \n",
            "__________________________________________________________________________________________________\n",
            "conv3_block8_0_relu (Activation (None, 32, 32, 352)  0           conv3_block8_0_bn[0][0]          \n",
            "__________________________________________________________________________________________________\n",
            "conv3_block8_1_conv (Conv2D)    (None, 32, 32, 128)  45056       conv3_block8_0_relu[0][0]        \n",
            "__________________________________________________________________________________________________\n",
            "conv3_block8_1_bn (BatchNormali (None, 32, 32, 128)  512         conv3_block8_1_conv[0][0]        \n",
            "__________________________________________________________________________________________________\n",
            "conv3_block8_1_relu (Activation (None, 32, 32, 128)  0           conv3_block8_1_bn[0][0]          \n",
            "__________________________________________________________________________________________________\n",
            "conv3_block8_2_conv (Conv2D)    (None, 32, 32, 32)   36864       conv3_block8_1_relu[0][0]        \n",
            "__________________________________________________________________________________________________\n",
            "conv3_block8_concat (Concatenat (None, 32, 32, 384)  0           conv3_block7_concat[0][0]        \n",
            "                                                                 conv3_block8_2_conv[0][0]        \n",
            "__________________________________________________________________________________________________\n",
            "conv3_block9_0_bn (BatchNormali (None, 32, 32, 384)  1536        conv3_block8_concat[0][0]        \n",
            "__________________________________________________________________________________________________\n",
            "conv3_block9_0_relu (Activation (None, 32, 32, 384)  0           conv3_block9_0_bn[0][0]          \n",
            "__________________________________________________________________________________________________\n",
            "conv3_block9_1_conv (Conv2D)    (None, 32, 32, 128)  49152       conv3_block9_0_relu[0][0]        \n",
            "__________________________________________________________________________________________________\n",
            "conv3_block9_1_bn (BatchNormali (None, 32, 32, 128)  512         conv3_block9_1_conv[0][0]        \n",
            "__________________________________________________________________________________________________\n",
            "conv3_block9_1_relu (Activation (None, 32, 32, 128)  0           conv3_block9_1_bn[0][0]          \n",
            "__________________________________________________________________________________________________\n",
            "conv3_block9_2_conv (Conv2D)    (None, 32, 32, 32)   36864       conv3_block9_1_relu[0][0]        \n",
            "__________________________________________________________________________________________________\n",
            "conv3_block9_concat (Concatenat (None, 32, 32, 416)  0           conv3_block8_concat[0][0]        \n",
            "                                                                 conv3_block9_2_conv[0][0]        \n",
            "__________________________________________________________________________________________________\n",
            "conv3_block10_0_bn (BatchNormal (None, 32, 32, 416)  1664        conv3_block9_concat[0][0]        \n",
            "__________________________________________________________________________________________________\n",
            "conv3_block10_0_relu (Activatio (None, 32, 32, 416)  0           conv3_block10_0_bn[0][0]         \n",
            "__________________________________________________________________________________________________\n",
            "conv3_block10_1_conv (Conv2D)   (None, 32, 32, 128)  53248       conv3_block10_0_relu[0][0]       \n",
            "__________________________________________________________________________________________________\n",
            "conv3_block10_1_bn (BatchNormal (None, 32, 32, 128)  512         conv3_block10_1_conv[0][0]       \n",
            "__________________________________________________________________________________________________\n",
            "conv3_block10_1_relu (Activatio (None, 32, 32, 128)  0           conv3_block10_1_bn[0][0]         \n",
            "__________________________________________________________________________________________________\n",
            "conv3_block10_2_conv (Conv2D)   (None, 32, 32, 32)   36864       conv3_block10_1_relu[0][0]       \n",
            "__________________________________________________________________________________________________\n",
            "conv3_block10_concat (Concatena (None, 32, 32, 448)  0           conv3_block9_concat[0][0]        \n",
            "                                                                 conv3_block10_2_conv[0][0]       \n",
            "__________________________________________________________________________________________________\n",
            "conv3_block11_0_bn (BatchNormal (None, 32, 32, 448)  1792        conv3_block10_concat[0][0]       \n",
            "__________________________________________________________________________________________________\n",
            "conv3_block11_0_relu (Activatio (None, 32, 32, 448)  0           conv3_block11_0_bn[0][0]         \n",
            "__________________________________________________________________________________________________\n",
            "conv3_block11_1_conv (Conv2D)   (None, 32, 32, 128)  57344       conv3_block11_0_relu[0][0]       \n",
            "__________________________________________________________________________________________________\n",
            "conv3_block11_1_bn (BatchNormal (None, 32, 32, 128)  512         conv3_block11_1_conv[0][0]       \n",
            "__________________________________________________________________________________________________\n",
            "conv3_block11_1_relu (Activatio (None, 32, 32, 128)  0           conv3_block11_1_bn[0][0]         \n",
            "__________________________________________________________________________________________________\n",
            "conv3_block11_2_conv (Conv2D)   (None, 32, 32, 32)   36864       conv3_block11_1_relu[0][0]       \n",
            "__________________________________________________________________________________________________\n",
            "conv3_block11_concat (Concatena (None, 32, 32, 480)  0           conv3_block10_concat[0][0]       \n",
            "                                                                 conv3_block11_2_conv[0][0]       \n",
            "__________________________________________________________________________________________________\n",
            "conv3_block12_0_bn (BatchNormal (None, 32, 32, 480)  1920        conv3_block11_concat[0][0]       \n",
            "__________________________________________________________________________________________________\n",
            "conv3_block12_0_relu (Activatio (None, 32, 32, 480)  0           conv3_block12_0_bn[0][0]         \n",
            "__________________________________________________________________________________________________\n",
            "conv3_block12_1_conv (Conv2D)   (None, 32, 32, 128)  61440       conv3_block12_0_relu[0][0]       \n",
            "__________________________________________________________________________________________________\n",
            "conv3_block12_1_bn (BatchNormal (None, 32, 32, 128)  512         conv3_block12_1_conv[0][0]       \n",
            "__________________________________________________________________________________________________\n",
            "conv3_block12_1_relu (Activatio (None, 32, 32, 128)  0           conv3_block12_1_bn[0][0]         \n",
            "__________________________________________________________________________________________________\n",
            "conv3_block12_2_conv (Conv2D)   (None, 32, 32, 32)   36864       conv3_block12_1_relu[0][0]       \n",
            "__________________________________________________________________________________________________\n",
            "conv3_block12_concat (Concatena (None, 32, 32, 512)  0           conv3_block11_concat[0][0]       \n",
            "                                                                 conv3_block12_2_conv[0][0]       \n",
            "__________________________________________________________________________________________________\n",
            "pool3_bn (BatchNormalization)   (None, 32, 32, 512)  2048        conv3_block12_concat[0][0]       \n",
            "__________________________________________________________________________________________________\n",
            "pool3_relu (Activation)         (None, 32, 32, 512)  0           pool3_bn[0][0]                   \n",
            "__________________________________________________________________________________________________\n",
            "pool3_conv (Conv2D)             (None, 32, 32, 256)  131072      pool3_relu[0][0]                 \n",
            "__________________________________________________________________________________________________\n",
            "pool3_pool (AveragePooling2D)   (None, 16, 16, 256)  0           pool3_conv[0][0]                 \n",
            "__________________________________________________________________________________________________\n",
            "conv4_block1_0_bn (BatchNormali (None, 16, 16, 256)  1024        pool3_pool[0][0]                 \n",
            "__________________________________________________________________________________________________\n",
            "conv4_block1_0_relu (Activation (None, 16, 16, 256)  0           conv4_block1_0_bn[0][0]          \n",
            "__________________________________________________________________________________________________\n",
            "conv4_block1_1_conv (Conv2D)    (None, 16, 16, 128)  32768       conv4_block1_0_relu[0][0]        \n",
            "__________________________________________________________________________________________________\n",
            "conv4_block1_1_bn (BatchNormali (None, 16, 16, 128)  512         conv4_block1_1_conv[0][0]        \n",
            "__________________________________________________________________________________________________\n",
            "conv4_block1_1_relu (Activation (None, 16, 16, 128)  0           conv4_block1_1_bn[0][0]          \n",
            "__________________________________________________________________________________________________\n",
            "conv4_block1_2_conv (Conv2D)    (None, 16, 16, 32)   36864       conv4_block1_1_relu[0][0]        \n",
            "__________________________________________________________________________________________________\n",
            "conv4_block1_concat (Concatenat (None, 16, 16, 288)  0           pool3_pool[0][0]                 \n",
            "                                                                 conv4_block1_2_conv[0][0]        \n",
            "__________________________________________________________________________________________________\n",
            "conv4_block2_0_bn (BatchNormali (None, 16, 16, 288)  1152        conv4_block1_concat[0][0]        \n",
            "__________________________________________________________________________________________________\n",
            "conv4_block2_0_relu (Activation (None, 16, 16, 288)  0           conv4_block2_0_bn[0][0]          \n",
            "__________________________________________________________________________________________________\n",
            "conv4_block2_1_conv (Conv2D)    (None, 16, 16, 128)  36864       conv4_block2_0_relu[0][0]        \n",
            "__________________________________________________________________________________________________\n",
            "conv4_block2_1_bn (BatchNormali (None, 16, 16, 128)  512         conv4_block2_1_conv[0][0]        \n",
            "__________________________________________________________________________________________________\n",
            "conv4_block2_1_relu (Activation (None, 16, 16, 128)  0           conv4_block2_1_bn[0][0]          \n",
            "__________________________________________________________________________________________________\n",
            "conv4_block2_2_conv (Conv2D)    (None, 16, 16, 32)   36864       conv4_block2_1_relu[0][0]        \n",
            "__________________________________________________________________________________________________\n",
            "conv4_block2_concat (Concatenat (None, 16, 16, 320)  0           conv4_block1_concat[0][0]        \n",
            "                                                                 conv4_block2_2_conv[0][0]        \n",
            "__________________________________________________________________________________________________\n",
            "conv4_block3_0_bn (BatchNormali (None, 16, 16, 320)  1280        conv4_block2_concat[0][0]        \n",
            "__________________________________________________________________________________________________\n",
            "conv4_block3_0_relu (Activation (None, 16, 16, 320)  0           conv4_block3_0_bn[0][0]          \n",
            "__________________________________________________________________________________________________\n",
            "conv4_block3_1_conv (Conv2D)    (None, 16, 16, 128)  40960       conv4_block3_0_relu[0][0]        \n",
            "__________________________________________________________________________________________________\n",
            "conv4_block3_1_bn (BatchNormali (None, 16, 16, 128)  512         conv4_block3_1_conv[0][0]        \n",
            "__________________________________________________________________________________________________\n",
            "conv4_block3_1_relu (Activation (None, 16, 16, 128)  0           conv4_block3_1_bn[0][0]          \n",
            "__________________________________________________________________________________________________\n",
            "conv4_block3_2_conv (Conv2D)    (None, 16, 16, 32)   36864       conv4_block3_1_relu[0][0]        \n",
            "__________________________________________________________________________________________________\n",
            "conv4_block3_concat (Concatenat (None, 16, 16, 352)  0           conv4_block2_concat[0][0]        \n",
            "                                                                 conv4_block3_2_conv[0][0]        \n",
            "__________________________________________________________________________________________________\n",
            "conv4_block4_0_bn (BatchNormali (None, 16, 16, 352)  1408        conv4_block3_concat[0][0]        \n",
            "__________________________________________________________________________________________________\n",
            "conv4_block4_0_relu (Activation (None, 16, 16, 352)  0           conv4_block4_0_bn[0][0]          \n",
            "__________________________________________________________________________________________________\n",
            "conv4_block4_1_conv (Conv2D)    (None, 16, 16, 128)  45056       conv4_block4_0_relu[0][0]        \n",
            "__________________________________________________________________________________________________\n",
            "conv4_block4_1_bn (BatchNormali (None, 16, 16, 128)  512         conv4_block4_1_conv[0][0]        \n",
            "__________________________________________________________________________________________________\n",
            "conv4_block4_1_relu (Activation (None, 16, 16, 128)  0           conv4_block4_1_bn[0][0]          \n",
            "__________________________________________________________________________________________________\n",
            "conv4_block4_2_conv (Conv2D)    (None, 16, 16, 32)   36864       conv4_block4_1_relu[0][0]        \n",
            "__________________________________________________________________________________________________\n",
            "conv4_block4_concat (Concatenat (None, 16, 16, 384)  0           conv4_block3_concat[0][0]        \n",
            "                                                                 conv4_block4_2_conv[0][0]        \n",
            "__________________________________________________________________________________________________\n",
            "conv4_block5_0_bn (BatchNormali (None, 16, 16, 384)  1536        conv4_block4_concat[0][0]        \n",
            "__________________________________________________________________________________________________\n",
            "conv4_block5_0_relu (Activation (None, 16, 16, 384)  0           conv4_block5_0_bn[0][0]          \n",
            "__________________________________________________________________________________________________\n",
            "conv4_block5_1_conv (Conv2D)    (None, 16, 16, 128)  49152       conv4_block5_0_relu[0][0]        \n",
            "__________________________________________________________________________________________________\n",
            "conv4_block5_1_bn (BatchNormali (None, 16, 16, 128)  512         conv4_block5_1_conv[0][0]        \n",
            "__________________________________________________________________________________________________\n",
            "conv4_block5_1_relu (Activation (None, 16, 16, 128)  0           conv4_block5_1_bn[0][0]          \n",
            "__________________________________________________________________________________________________\n",
            "conv4_block5_2_conv (Conv2D)    (None, 16, 16, 32)   36864       conv4_block5_1_relu[0][0]        \n",
            "__________________________________________________________________________________________________\n",
            "conv4_block5_concat (Concatenat (None, 16, 16, 416)  0           conv4_block4_concat[0][0]        \n",
            "                                                                 conv4_block5_2_conv[0][0]        \n",
            "__________________________________________________________________________________________________\n",
            "conv4_block6_0_bn (BatchNormali (None, 16, 16, 416)  1664        conv4_block5_concat[0][0]        \n",
            "__________________________________________________________________________________________________\n",
            "conv4_block6_0_relu (Activation (None, 16, 16, 416)  0           conv4_block6_0_bn[0][0]          \n",
            "__________________________________________________________________________________________________\n",
            "conv4_block6_1_conv (Conv2D)    (None, 16, 16, 128)  53248       conv4_block6_0_relu[0][0]        \n",
            "__________________________________________________________________________________________________\n",
            "conv4_block6_1_bn (BatchNormali (None, 16, 16, 128)  512         conv4_block6_1_conv[0][0]        \n",
            "__________________________________________________________________________________________________\n",
            "conv4_block6_1_relu (Activation (None, 16, 16, 128)  0           conv4_block6_1_bn[0][0]          \n",
            "__________________________________________________________________________________________________\n",
            "conv4_block6_2_conv (Conv2D)    (None, 16, 16, 32)   36864       conv4_block6_1_relu[0][0]        \n",
            "__________________________________________________________________________________________________\n",
            "conv4_block6_concat (Concatenat (None, 16, 16, 448)  0           conv4_block5_concat[0][0]        \n",
            "                                                                 conv4_block6_2_conv[0][0]        \n",
            "__________________________________________________________________________________________________\n",
            "conv4_block7_0_bn (BatchNormali (None, 16, 16, 448)  1792        conv4_block6_concat[0][0]        \n",
            "__________________________________________________________________________________________________\n",
            "conv4_block7_0_relu (Activation (None, 16, 16, 448)  0           conv4_block7_0_bn[0][0]          \n",
            "__________________________________________________________________________________________________\n",
            "conv4_block7_1_conv (Conv2D)    (None, 16, 16, 128)  57344       conv4_block7_0_relu[0][0]        \n",
            "__________________________________________________________________________________________________\n",
            "conv4_block7_1_bn (BatchNormali (None, 16, 16, 128)  512         conv4_block7_1_conv[0][0]        \n",
            "__________________________________________________________________________________________________\n",
            "conv4_block7_1_relu (Activation (None, 16, 16, 128)  0           conv4_block7_1_bn[0][0]          \n",
            "__________________________________________________________________________________________________\n",
            "conv4_block7_2_conv (Conv2D)    (None, 16, 16, 32)   36864       conv4_block7_1_relu[0][0]        \n",
            "__________________________________________________________________________________________________\n",
            "conv4_block7_concat (Concatenat (None, 16, 16, 480)  0           conv4_block6_concat[0][0]        \n",
            "                                                                 conv4_block7_2_conv[0][0]        \n",
            "__________________________________________________________________________________________________\n",
            "conv4_block8_0_bn (BatchNormali (None, 16, 16, 480)  1920        conv4_block7_concat[0][0]        \n",
            "__________________________________________________________________________________________________\n",
            "conv4_block8_0_relu (Activation (None, 16, 16, 480)  0           conv4_block8_0_bn[0][0]          \n",
            "__________________________________________________________________________________________________\n",
            "conv4_block8_1_conv (Conv2D)    (None, 16, 16, 128)  61440       conv4_block8_0_relu[0][0]        \n",
            "__________________________________________________________________________________________________\n",
            "conv4_block8_1_bn (BatchNormali (None, 16, 16, 128)  512         conv4_block8_1_conv[0][0]        \n",
            "__________________________________________________________________________________________________\n",
            "conv4_block8_1_relu (Activation (None, 16, 16, 128)  0           conv4_block8_1_bn[0][0]          \n",
            "__________________________________________________________________________________________________\n",
            "conv4_block8_2_conv (Conv2D)    (None, 16, 16, 32)   36864       conv4_block8_1_relu[0][0]        \n",
            "__________________________________________________________________________________________________\n",
            "conv4_block8_concat (Concatenat (None, 16, 16, 512)  0           conv4_block7_concat[0][0]        \n",
            "                                                                 conv4_block8_2_conv[0][0]        \n",
            "__________________________________________________________________________________________________\n",
            "conv4_block9_0_bn (BatchNormali (None, 16, 16, 512)  2048        conv4_block8_concat[0][0]        \n",
            "__________________________________________________________________________________________________\n",
            "conv4_block9_0_relu (Activation (None, 16, 16, 512)  0           conv4_block9_0_bn[0][0]          \n",
            "__________________________________________________________________________________________________\n",
            "conv4_block9_1_conv (Conv2D)    (None, 16, 16, 128)  65536       conv4_block9_0_relu[0][0]        \n",
            "__________________________________________________________________________________________________\n",
            "conv4_block9_1_bn (BatchNormali (None, 16, 16, 128)  512         conv4_block9_1_conv[0][0]        \n",
            "__________________________________________________________________________________________________\n",
            "conv4_block9_1_relu (Activation (None, 16, 16, 128)  0           conv4_block9_1_bn[0][0]          \n",
            "__________________________________________________________________________________________________\n",
            "conv4_block9_2_conv (Conv2D)    (None, 16, 16, 32)   36864       conv4_block9_1_relu[0][0]        \n",
            "__________________________________________________________________________________________________\n",
            "conv4_block9_concat (Concatenat (None, 16, 16, 544)  0           conv4_block8_concat[0][0]        \n",
            "                                                                 conv4_block9_2_conv[0][0]        \n",
            "__________________________________________________________________________________________________\n",
            "conv4_block10_0_bn (BatchNormal (None, 16, 16, 544)  2176        conv4_block9_concat[0][0]        \n",
            "__________________________________________________________________________________________________\n",
            "conv4_block10_0_relu (Activatio (None, 16, 16, 544)  0           conv4_block10_0_bn[0][0]         \n",
            "__________________________________________________________________________________________________\n",
            "conv4_block10_1_conv (Conv2D)   (None, 16, 16, 128)  69632       conv4_block10_0_relu[0][0]       \n",
            "__________________________________________________________________________________________________\n",
            "conv4_block10_1_bn (BatchNormal (None, 16, 16, 128)  512         conv4_block10_1_conv[0][0]       \n",
            "__________________________________________________________________________________________________\n",
            "conv4_block10_1_relu (Activatio (None, 16, 16, 128)  0           conv4_block10_1_bn[0][0]         \n",
            "__________________________________________________________________________________________________\n",
            "conv4_block10_2_conv (Conv2D)   (None, 16, 16, 32)   36864       conv4_block10_1_relu[0][0]       \n",
            "__________________________________________________________________________________________________\n",
            "conv4_block10_concat (Concatena (None, 16, 16, 576)  0           conv4_block9_concat[0][0]        \n",
            "                                                                 conv4_block10_2_conv[0][0]       \n",
            "__________________________________________________________________________________________________\n",
            "conv4_block11_0_bn (BatchNormal (None, 16, 16, 576)  2304        conv4_block10_concat[0][0]       \n",
            "__________________________________________________________________________________________________\n",
            "conv4_block11_0_relu (Activatio (None, 16, 16, 576)  0           conv4_block11_0_bn[0][0]         \n",
            "__________________________________________________________________________________________________\n",
            "conv4_block11_1_conv (Conv2D)   (None, 16, 16, 128)  73728       conv4_block11_0_relu[0][0]       \n",
            "__________________________________________________________________________________________________\n",
            "conv4_block11_1_bn (BatchNormal (None, 16, 16, 128)  512         conv4_block11_1_conv[0][0]       \n",
            "__________________________________________________________________________________________________\n",
            "conv4_block11_1_relu (Activatio (None, 16, 16, 128)  0           conv4_block11_1_bn[0][0]         \n",
            "__________________________________________________________________________________________________\n",
            "conv4_block11_2_conv (Conv2D)   (None, 16, 16, 32)   36864       conv4_block11_1_relu[0][0]       \n",
            "__________________________________________________________________________________________________\n",
            "conv4_block11_concat (Concatena (None, 16, 16, 608)  0           conv4_block10_concat[0][0]       \n",
            "                                                                 conv4_block11_2_conv[0][0]       \n",
            "__________________________________________________________________________________________________\n",
            "conv4_block12_0_bn (BatchNormal (None, 16, 16, 608)  2432        conv4_block11_concat[0][0]       \n",
            "__________________________________________________________________________________________________\n",
            "conv4_block12_0_relu (Activatio (None, 16, 16, 608)  0           conv4_block12_0_bn[0][0]         \n",
            "__________________________________________________________________________________________________\n",
            "conv4_block12_1_conv (Conv2D)   (None, 16, 16, 128)  77824       conv4_block12_0_relu[0][0]       \n",
            "__________________________________________________________________________________________________\n",
            "conv4_block12_1_bn (BatchNormal (None, 16, 16, 128)  512         conv4_block12_1_conv[0][0]       \n",
            "__________________________________________________________________________________________________\n",
            "conv4_block12_1_relu (Activatio (None, 16, 16, 128)  0           conv4_block12_1_bn[0][0]         \n",
            "__________________________________________________________________________________________________\n",
            "conv4_block12_2_conv (Conv2D)   (None, 16, 16, 32)   36864       conv4_block12_1_relu[0][0]       \n",
            "__________________________________________________________________________________________________\n",
            "conv4_block12_concat (Concatena (None, 16, 16, 640)  0           conv4_block11_concat[0][0]       \n",
            "                                                                 conv4_block12_2_conv[0][0]       \n",
            "__________________________________________________________________________________________________\n",
            "conv4_block13_0_bn (BatchNormal (None, 16, 16, 640)  2560        conv4_block12_concat[0][0]       \n",
            "__________________________________________________________________________________________________\n",
            "conv4_block13_0_relu (Activatio (None, 16, 16, 640)  0           conv4_block13_0_bn[0][0]         \n",
            "__________________________________________________________________________________________________\n",
            "conv4_block13_1_conv (Conv2D)   (None, 16, 16, 128)  81920       conv4_block13_0_relu[0][0]       \n",
            "__________________________________________________________________________________________________\n",
            "conv4_block13_1_bn (BatchNormal (None, 16, 16, 128)  512         conv4_block13_1_conv[0][0]       \n",
            "__________________________________________________________________________________________________\n",
            "conv4_block13_1_relu (Activatio (None, 16, 16, 128)  0           conv4_block13_1_bn[0][0]         \n",
            "__________________________________________________________________________________________________\n",
            "conv4_block13_2_conv (Conv2D)   (None, 16, 16, 32)   36864       conv4_block13_1_relu[0][0]       \n",
            "__________________________________________________________________________________________________\n",
            "conv4_block13_concat (Concatena (None, 16, 16, 672)  0           conv4_block12_concat[0][0]       \n",
            "                                                                 conv4_block13_2_conv[0][0]       \n",
            "__________________________________________________________________________________________________\n",
            "conv4_block14_0_bn (BatchNormal (None, 16, 16, 672)  2688        conv4_block13_concat[0][0]       \n",
            "__________________________________________________________________________________________________\n",
            "conv4_block14_0_relu (Activatio (None, 16, 16, 672)  0           conv4_block14_0_bn[0][0]         \n",
            "__________________________________________________________________________________________________\n",
            "conv4_block14_1_conv (Conv2D)   (None, 16, 16, 128)  86016       conv4_block14_0_relu[0][0]       \n",
            "__________________________________________________________________________________________________\n",
            "conv4_block14_1_bn (BatchNormal (None, 16, 16, 128)  512         conv4_block14_1_conv[0][0]       \n",
            "__________________________________________________________________________________________________\n",
            "conv4_block14_1_relu (Activatio (None, 16, 16, 128)  0           conv4_block14_1_bn[0][0]         \n",
            "__________________________________________________________________________________________________\n",
            "conv4_block14_2_conv (Conv2D)   (None, 16, 16, 32)   36864       conv4_block14_1_relu[0][0]       \n",
            "__________________________________________________________________________________________________\n",
            "conv4_block14_concat (Concatena (None, 16, 16, 704)  0           conv4_block13_concat[0][0]       \n",
            "                                                                 conv4_block14_2_conv[0][0]       \n",
            "__________________________________________________________________________________________________\n",
            "conv4_block15_0_bn (BatchNormal (None, 16, 16, 704)  2816        conv4_block14_concat[0][0]       \n",
            "__________________________________________________________________________________________________\n",
            "conv4_block15_0_relu (Activatio (None, 16, 16, 704)  0           conv4_block15_0_bn[0][0]         \n",
            "__________________________________________________________________________________________________\n",
            "conv4_block15_1_conv (Conv2D)   (None, 16, 16, 128)  90112       conv4_block15_0_relu[0][0]       \n",
            "__________________________________________________________________________________________________\n",
            "conv4_block15_1_bn (BatchNormal (None, 16, 16, 128)  512         conv4_block15_1_conv[0][0]       \n",
            "__________________________________________________________________________________________________\n",
            "conv4_block15_1_relu (Activatio (None, 16, 16, 128)  0           conv4_block15_1_bn[0][0]         \n",
            "__________________________________________________________________________________________________\n",
            "conv4_block15_2_conv (Conv2D)   (None, 16, 16, 32)   36864       conv4_block15_1_relu[0][0]       \n",
            "__________________________________________________________________________________________________\n",
            "conv4_block15_concat (Concatena (None, 16, 16, 736)  0           conv4_block14_concat[0][0]       \n",
            "                                                                 conv4_block15_2_conv[0][0]       \n",
            "__________________________________________________________________________________________________\n",
            "conv4_block16_0_bn (BatchNormal (None, 16, 16, 736)  2944        conv4_block15_concat[0][0]       \n",
            "__________________________________________________________________________________________________\n",
            "conv4_block16_0_relu (Activatio (None, 16, 16, 736)  0           conv4_block16_0_bn[0][0]         \n",
            "__________________________________________________________________________________________________\n",
            "conv4_block16_1_conv (Conv2D)   (None, 16, 16, 128)  94208       conv4_block16_0_relu[0][0]       \n",
            "__________________________________________________________________________________________________\n",
            "conv4_block16_1_bn (BatchNormal (None, 16, 16, 128)  512         conv4_block16_1_conv[0][0]       \n",
            "__________________________________________________________________________________________________\n",
            "conv4_block16_1_relu (Activatio (None, 16, 16, 128)  0           conv4_block16_1_bn[0][0]         \n",
            "__________________________________________________________________________________________________\n",
            "conv4_block16_2_conv (Conv2D)   (None, 16, 16, 32)   36864       conv4_block16_1_relu[0][0]       \n",
            "__________________________________________________________________________________________________\n",
            "conv4_block16_concat (Concatena (None, 16, 16, 768)  0           conv4_block15_concat[0][0]       \n",
            "                                                                 conv4_block16_2_conv[0][0]       \n",
            "__________________________________________________________________________________________________\n",
            "conv4_block17_0_bn (BatchNormal (None, 16, 16, 768)  3072        conv4_block16_concat[0][0]       \n",
            "__________________________________________________________________________________________________\n",
            "conv4_block17_0_relu (Activatio (None, 16, 16, 768)  0           conv4_block17_0_bn[0][0]         \n",
            "__________________________________________________________________________________________________\n",
            "conv4_block17_1_conv (Conv2D)   (None, 16, 16, 128)  98304       conv4_block17_0_relu[0][0]       \n",
            "__________________________________________________________________________________________________\n",
            "conv4_block17_1_bn (BatchNormal (None, 16, 16, 128)  512         conv4_block17_1_conv[0][0]       \n",
            "__________________________________________________________________________________________________\n",
            "conv4_block17_1_relu (Activatio (None, 16, 16, 128)  0           conv4_block17_1_bn[0][0]         \n",
            "__________________________________________________________________________________________________\n",
            "conv4_block17_2_conv (Conv2D)   (None, 16, 16, 32)   36864       conv4_block17_1_relu[0][0]       \n",
            "__________________________________________________________________________________________________\n",
            "conv4_block17_concat (Concatena (None, 16, 16, 800)  0           conv4_block16_concat[0][0]       \n",
            "                                                                 conv4_block17_2_conv[0][0]       \n",
            "__________________________________________________________________________________________________\n",
            "conv4_block18_0_bn (BatchNormal (None, 16, 16, 800)  3200        conv4_block17_concat[0][0]       \n",
            "__________________________________________________________________________________________________\n",
            "conv4_block18_0_relu (Activatio (None, 16, 16, 800)  0           conv4_block18_0_bn[0][0]         \n",
            "__________________________________________________________________________________________________\n",
            "conv4_block18_1_conv (Conv2D)   (None, 16, 16, 128)  102400      conv4_block18_0_relu[0][0]       \n",
            "__________________________________________________________________________________________________\n",
            "conv4_block18_1_bn (BatchNormal (None, 16, 16, 128)  512         conv4_block18_1_conv[0][0]       \n",
            "__________________________________________________________________________________________________\n",
            "conv4_block18_1_relu (Activatio (None, 16, 16, 128)  0           conv4_block18_1_bn[0][0]         \n",
            "__________________________________________________________________________________________________\n",
            "conv4_block18_2_conv (Conv2D)   (None, 16, 16, 32)   36864       conv4_block18_1_relu[0][0]       \n",
            "__________________________________________________________________________________________________\n",
            "conv4_block18_concat (Concatena (None, 16, 16, 832)  0           conv4_block17_concat[0][0]       \n",
            "                                                                 conv4_block18_2_conv[0][0]       \n",
            "__________________________________________________________________________________________________\n",
            "conv4_block19_0_bn (BatchNormal (None, 16, 16, 832)  3328        conv4_block18_concat[0][0]       \n",
            "__________________________________________________________________________________________________\n",
            "conv4_block19_0_relu (Activatio (None, 16, 16, 832)  0           conv4_block19_0_bn[0][0]         \n",
            "__________________________________________________________________________________________________\n",
            "conv4_block19_1_conv (Conv2D)   (None, 16, 16, 128)  106496      conv4_block19_0_relu[0][0]       \n",
            "__________________________________________________________________________________________________\n",
            "conv4_block19_1_bn (BatchNormal (None, 16, 16, 128)  512         conv4_block19_1_conv[0][0]       \n",
            "__________________________________________________________________________________________________\n",
            "conv4_block19_1_relu (Activatio (None, 16, 16, 128)  0           conv4_block19_1_bn[0][0]         \n",
            "__________________________________________________________________________________________________\n",
            "conv4_block19_2_conv (Conv2D)   (None, 16, 16, 32)   36864       conv4_block19_1_relu[0][0]       \n",
            "__________________________________________________________________________________________________\n",
            "conv4_block19_concat (Concatena (None, 16, 16, 864)  0           conv4_block18_concat[0][0]       \n",
            "                                                                 conv4_block19_2_conv[0][0]       \n",
            "__________________________________________________________________________________________________\n",
            "conv4_block20_0_bn (BatchNormal (None, 16, 16, 864)  3456        conv4_block19_concat[0][0]       \n",
            "__________________________________________________________________________________________________\n",
            "conv4_block20_0_relu (Activatio (None, 16, 16, 864)  0           conv4_block20_0_bn[0][0]         \n",
            "__________________________________________________________________________________________________\n",
            "conv4_block20_1_conv (Conv2D)   (None, 16, 16, 128)  110592      conv4_block20_0_relu[0][0]       \n",
            "__________________________________________________________________________________________________\n",
            "conv4_block20_1_bn (BatchNormal (None, 16, 16, 128)  512         conv4_block20_1_conv[0][0]       \n",
            "__________________________________________________________________________________________________\n",
            "conv4_block20_1_relu (Activatio (None, 16, 16, 128)  0           conv4_block20_1_bn[0][0]         \n",
            "__________________________________________________________________________________________________\n",
            "conv4_block20_2_conv (Conv2D)   (None, 16, 16, 32)   36864       conv4_block20_1_relu[0][0]       \n",
            "__________________________________________________________________________________________________\n",
            "conv4_block20_concat (Concatena (None, 16, 16, 896)  0           conv4_block19_concat[0][0]       \n",
            "                                                                 conv4_block20_2_conv[0][0]       \n",
            "__________________________________________________________________________________________________\n",
            "conv4_block21_0_bn (BatchNormal (None, 16, 16, 896)  3584        conv4_block20_concat[0][0]       \n",
            "__________________________________________________________________________________________________\n",
            "conv4_block21_0_relu (Activatio (None, 16, 16, 896)  0           conv4_block21_0_bn[0][0]         \n",
            "__________________________________________________________________________________________________\n",
            "conv4_block21_1_conv (Conv2D)   (None, 16, 16, 128)  114688      conv4_block21_0_relu[0][0]       \n",
            "__________________________________________________________________________________________________\n",
            "conv4_block21_1_bn (BatchNormal (None, 16, 16, 128)  512         conv4_block21_1_conv[0][0]       \n",
            "__________________________________________________________________________________________________\n",
            "conv4_block21_1_relu (Activatio (None, 16, 16, 128)  0           conv4_block21_1_bn[0][0]         \n",
            "__________________________________________________________________________________________________\n",
            "conv4_block21_2_conv (Conv2D)   (None, 16, 16, 32)   36864       conv4_block21_1_relu[0][0]       \n",
            "__________________________________________________________________________________________________\n",
            "conv4_block21_concat (Concatena (None, 16, 16, 928)  0           conv4_block20_concat[0][0]       \n",
            "                                                                 conv4_block21_2_conv[0][0]       \n",
            "__________________________________________________________________________________________________\n",
            "conv4_block22_0_bn (BatchNormal (None, 16, 16, 928)  3712        conv4_block21_concat[0][0]       \n",
            "__________________________________________________________________________________________________\n",
            "conv4_block22_0_relu (Activatio (None, 16, 16, 928)  0           conv4_block22_0_bn[0][0]         \n",
            "__________________________________________________________________________________________________\n",
            "conv4_block22_1_conv (Conv2D)   (None, 16, 16, 128)  118784      conv4_block22_0_relu[0][0]       \n",
            "__________________________________________________________________________________________________\n",
            "conv4_block22_1_bn (BatchNormal (None, 16, 16, 128)  512         conv4_block22_1_conv[0][0]       \n",
            "__________________________________________________________________________________________________\n",
            "conv4_block22_1_relu (Activatio (None, 16, 16, 128)  0           conv4_block22_1_bn[0][0]         \n",
            "__________________________________________________________________________________________________\n",
            "conv4_block22_2_conv (Conv2D)   (None, 16, 16, 32)   36864       conv4_block22_1_relu[0][0]       \n",
            "__________________________________________________________________________________________________\n",
            "conv4_block22_concat (Concatena (None, 16, 16, 960)  0           conv4_block21_concat[0][0]       \n",
            "                                                                 conv4_block22_2_conv[0][0]       \n",
            "__________________________________________________________________________________________________\n",
            "conv4_block23_0_bn (BatchNormal (None, 16, 16, 960)  3840        conv4_block22_concat[0][0]       \n",
            "__________________________________________________________________________________________________\n",
            "conv4_block23_0_relu (Activatio (None, 16, 16, 960)  0           conv4_block23_0_bn[0][0]         \n",
            "__________________________________________________________________________________________________\n",
            "conv4_block23_1_conv (Conv2D)   (None, 16, 16, 128)  122880      conv4_block23_0_relu[0][0]       \n",
            "__________________________________________________________________________________________________\n",
            "conv4_block23_1_bn (BatchNormal (None, 16, 16, 128)  512         conv4_block23_1_conv[0][0]       \n",
            "__________________________________________________________________________________________________\n",
            "conv4_block23_1_relu (Activatio (None, 16, 16, 128)  0           conv4_block23_1_bn[0][0]         \n",
            "__________________________________________________________________________________________________\n",
            "conv4_block23_2_conv (Conv2D)   (None, 16, 16, 32)   36864       conv4_block23_1_relu[0][0]       \n",
            "__________________________________________________________________________________________________\n",
            "conv4_block23_concat (Concatena (None, 16, 16, 992)  0           conv4_block22_concat[0][0]       \n",
            "                                                                 conv4_block23_2_conv[0][0]       \n",
            "__________________________________________________________________________________________________\n",
            "conv4_block24_0_bn (BatchNormal (None, 16, 16, 992)  3968        conv4_block23_concat[0][0]       \n",
            "__________________________________________________________________________________________________\n",
            "conv4_block24_0_relu (Activatio (None, 16, 16, 992)  0           conv4_block24_0_bn[0][0]         \n",
            "__________________________________________________________________________________________________\n",
            "conv4_block24_1_conv (Conv2D)   (None, 16, 16, 128)  126976      conv4_block24_0_relu[0][0]       \n",
            "__________________________________________________________________________________________________\n",
            "conv4_block24_1_bn (BatchNormal (None, 16, 16, 128)  512         conv4_block24_1_conv[0][0]       \n",
            "__________________________________________________________________________________________________\n",
            "conv4_block24_1_relu (Activatio (None, 16, 16, 128)  0           conv4_block24_1_bn[0][0]         \n",
            "__________________________________________________________________________________________________\n",
            "conv4_block24_2_conv (Conv2D)   (None, 16, 16, 32)   36864       conv4_block24_1_relu[0][0]       \n",
            "__________________________________________________________________________________________________\n",
            "conv4_block24_concat (Concatena (None, 16, 16, 1024) 0           conv4_block23_concat[0][0]       \n",
            "                                                                 conv4_block24_2_conv[0][0]       \n",
            "__________________________________________________________________________________________________\n",
            "conv4_block25_0_bn (BatchNormal (None, 16, 16, 1024) 4096        conv4_block24_concat[0][0]       \n",
            "__________________________________________________________________________________________________\n",
            "conv4_block25_0_relu (Activatio (None, 16, 16, 1024) 0           conv4_block25_0_bn[0][0]         \n",
            "__________________________________________________________________________________________________\n",
            "conv4_block25_1_conv (Conv2D)   (None, 16, 16, 128)  131072      conv4_block25_0_relu[0][0]       \n",
            "__________________________________________________________________________________________________\n",
            "conv4_block25_1_bn (BatchNormal (None, 16, 16, 128)  512         conv4_block25_1_conv[0][0]       \n",
            "__________________________________________________________________________________________________\n",
            "conv4_block25_1_relu (Activatio (None, 16, 16, 128)  0           conv4_block25_1_bn[0][0]         \n",
            "__________________________________________________________________________________________________\n",
            "conv4_block25_2_conv (Conv2D)   (None, 16, 16, 32)   36864       conv4_block25_1_relu[0][0]       \n",
            "__________________________________________________________________________________________________\n",
            "conv4_block25_concat (Concatena (None, 16, 16, 1056) 0           conv4_block24_concat[0][0]       \n",
            "                                                                 conv4_block25_2_conv[0][0]       \n",
            "__________________________________________________________________________________________________\n",
            "conv4_block26_0_bn (BatchNormal (None, 16, 16, 1056) 4224        conv4_block25_concat[0][0]       \n",
            "__________________________________________________________________________________________________\n",
            "conv4_block26_0_relu (Activatio (None, 16, 16, 1056) 0           conv4_block26_0_bn[0][0]         \n",
            "__________________________________________________________________________________________________\n",
            "conv4_block26_1_conv (Conv2D)   (None, 16, 16, 128)  135168      conv4_block26_0_relu[0][0]       \n",
            "__________________________________________________________________________________________________\n",
            "conv4_block26_1_bn (BatchNormal (None, 16, 16, 128)  512         conv4_block26_1_conv[0][0]       \n",
            "__________________________________________________________________________________________________\n",
            "conv4_block26_1_relu (Activatio (None, 16, 16, 128)  0           conv4_block26_1_bn[0][0]         \n",
            "__________________________________________________________________________________________________\n",
            "conv4_block26_2_conv (Conv2D)   (None, 16, 16, 32)   36864       conv4_block26_1_relu[0][0]       \n",
            "__________________________________________________________________________________________________\n",
            "conv4_block26_concat (Concatena (None, 16, 16, 1088) 0           conv4_block25_concat[0][0]       \n",
            "                                                                 conv4_block26_2_conv[0][0]       \n",
            "__________________________________________________________________________________________________\n",
            "conv4_block27_0_bn (BatchNormal (None, 16, 16, 1088) 4352        conv4_block26_concat[0][0]       \n",
            "__________________________________________________________________________________________________\n",
            "conv4_block27_0_relu (Activatio (None, 16, 16, 1088) 0           conv4_block27_0_bn[0][0]         \n",
            "__________________________________________________________________________________________________\n",
            "conv4_block27_1_conv (Conv2D)   (None, 16, 16, 128)  139264      conv4_block27_0_relu[0][0]       \n",
            "__________________________________________________________________________________________________\n",
            "conv4_block27_1_bn (BatchNormal (None, 16, 16, 128)  512         conv4_block27_1_conv[0][0]       \n",
            "__________________________________________________________________________________________________\n",
            "conv4_block27_1_relu (Activatio (None, 16, 16, 128)  0           conv4_block27_1_bn[0][0]         \n",
            "__________________________________________________________________________________________________\n",
            "conv4_block27_2_conv (Conv2D)   (None, 16, 16, 32)   36864       conv4_block27_1_relu[0][0]       \n",
            "__________________________________________________________________________________________________\n",
            "conv4_block27_concat (Concatena (None, 16, 16, 1120) 0           conv4_block26_concat[0][0]       \n",
            "                                                                 conv4_block27_2_conv[0][0]       \n",
            "__________________________________________________________________________________________________\n",
            "conv4_block28_0_bn (BatchNormal (None, 16, 16, 1120) 4480        conv4_block27_concat[0][0]       \n",
            "__________________________________________________________________________________________________\n",
            "conv4_block28_0_relu (Activatio (None, 16, 16, 1120) 0           conv4_block28_0_bn[0][0]         \n",
            "__________________________________________________________________________________________________\n",
            "conv4_block28_1_conv (Conv2D)   (None, 16, 16, 128)  143360      conv4_block28_0_relu[0][0]       \n",
            "__________________________________________________________________________________________________\n",
            "conv4_block28_1_bn (BatchNormal (None, 16, 16, 128)  512         conv4_block28_1_conv[0][0]       \n",
            "__________________________________________________________________________________________________\n",
            "conv4_block28_1_relu (Activatio (None, 16, 16, 128)  0           conv4_block28_1_bn[0][0]         \n",
            "__________________________________________________________________________________________________\n",
            "conv4_block28_2_conv (Conv2D)   (None, 16, 16, 32)   36864       conv4_block28_1_relu[0][0]       \n",
            "__________________________________________________________________________________________________\n",
            "conv4_block28_concat (Concatena (None, 16, 16, 1152) 0           conv4_block27_concat[0][0]       \n",
            "                                                                 conv4_block28_2_conv[0][0]       \n",
            "__________________________________________________________________________________________________\n",
            "conv4_block29_0_bn (BatchNormal (None, 16, 16, 1152) 4608        conv4_block28_concat[0][0]       \n",
            "__________________________________________________________________________________________________\n",
            "conv4_block29_0_relu (Activatio (None, 16, 16, 1152) 0           conv4_block29_0_bn[0][0]         \n",
            "__________________________________________________________________________________________________\n",
            "conv4_block29_1_conv (Conv2D)   (None, 16, 16, 128)  147456      conv4_block29_0_relu[0][0]       \n",
            "__________________________________________________________________________________________________\n",
            "conv4_block29_1_bn (BatchNormal (None, 16, 16, 128)  512         conv4_block29_1_conv[0][0]       \n",
            "__________________________________________________________________________________________________\n",
            "conv4_block29_1_relu (Activatio (None, 16, 16, 128)  0           conv4_block29_1_bn[0][0]         \n",
            "__________________________________________________________________________________________________\n",
            "conv4_block29_2_conv (Conv2D)   (None, 16, 16, 32)   36864       conv4_block29_1_relu[0][0]       \n",
            "__________________________________________________________________________________________________\n",
            "conv4_block29_concat (Concatena (None, 16, 16, 1184) 0           conv4_block28_concat[0][0]       \n",
            "                                                                 conv4_block29_2_conv[0][0]       \n",
            "__________________________________________________________________________________________________\n",
            "conv4_block30_0_bn (BatchNormal (None, 16, 16, 1184) 4736        conv4_block29_concat[0][0]       \n",
            "__________________________________________________________________________________________________\n",
            "conv4_block30_0_relu (Activatio (None, 16, 16, 1184) 0           conv4_block30_0_bn[0][0]         \n",
            "__________________________________________________________________________________________________\n",
            "conv4_block30_1_conv (Conv2D)   (None, 16, 16, 128)  151552      conv4_block30_0_relu[0][0]       \n",
            "__________________________________________________________________________________________________\n",
            "conv4_block30_1_bn (BatchNormal (None, 16, 16, 128)  512         conv4_block30_1_conv[0][0]       \n",
            "__________________________________________________________________________________________________\n",
            "conv4_block30_1_relu (Activatio (None, 16, 16, 128)  0           conv4_block30_1_bn[0][0]         \n",
            "__________________________________________________________________________________________________\n",
            "conv4_block30_2_conv (Conv2D)   (None, 16, 16, 32)   36864       conv4_block30_1_relu[0][0]       \n",
            "__________________________________________________________________________________________________\n",
            "conv4_block30_concat (Concatena (None, 16, 16, 1216) 0           conv4_block29_concat[0][0]       \n",
            "                                                                 conv4_block30_2_conv[0][0]       \n",
            "__________________________________________________________________________________________________\n",
            "conv4_block31_0_bn (BatchNormal (None, 16, 16, 1216) 4864        conv4_block30_concat[0][0]       \n",
            "__________________________________________________________________________________________________\n",
            "conv4_block31_0_relu (Activatio (None, 16, 16, 1216) 0           conv4_block31_0_bn[0][0]         \n",
            "__________________________________________________________________________________________________\n",
            "conv4_block31_1_conv (Conv2D)   (None, 16, 16, 128)  155648      conv4_block31_0_relu[0][0]       \n",
            "__________________________________________________________________________________________________\n",
            "conv4_block31_1_bn (BatchNormal (None, 16, 16, 128)  512         conv4_block31_1_conv[0][0]       \n",
            "__________________________________________________________________________________________________\n",
            "conv4_block31_1_relu (Activatio (None, 16, 16, 128)  0           conv4_block31_1_bn[0][0]         \n",
            "__________________________________________________________________________________________________\n",
            "conv4_block31_2_conv (Conv2D)   (None, 16, 16, 32)   36864       conv4_block31_1_relu[0][0]       \n",
            "__________________________________________________________________________________________________\n",
            "conv4_block31_concat (Concatena (None, 16, 16, 1248) 0           conv4_block30_concat[0][0]       \n",
            "                                                                 conv4_block31_2_conv[0][0]       \n",
            "__________________________________________________________________________________________________\n",
            "conv4_block32_0_bn (BatchNormal (None, 16, 16, 1248) 4992        conv4_block31_concat[0][0]       \n",
            "__________________________________________________________________________________________________\n",
            "conv4_block32_0_relu (Activatio (None, 16, 16, 1248) 0           conv4_block32_0_bn[0][0]         \n",
            "__________________________________________________________________________________________________\n",
            "conv4_block32_1_conv (Conv2D)   (None, 16, 16, 128)  159744      conv4_block32_0_relu[0][0]       \n",
            "__________________________________________________________________________________________________\n",
            "conv4_block32_1_bn (BatchNormal (None, 16, 16, 128)  512         conv4_block32_1_conv[0][0]       \n",
            "__________________________________________________________________________________________________\n",
            "conv4_block32_1_relu (Activatio (None, 16, 16, 128)  0           conv4_block32_1_bn[0][0]         \n",
            "__________________________________________________________________________________________________\n",
            "conv4_block32_2_conv (Conv2D)   (None, 16, 16, 32)   36864       conv4_block32_1_relu[0][0]       \n",
            "__________________________________________________________________________________________________\n",
            "conv4_block32_concat (Concatena (None, 16, 16, 1280) 0           conv4_block31_concat[0][0]       \n",
            "                                                                 conv4_block32_2_conv[0][0]       \n",
            "__________________________________________________________________________________________________\n",
            "conv4_block33_0_bn (BatchNormal (None, 16, 16, 1280) 5120        conv4_block32_concat[0][0]       \n",
            "__________________________________________________________________________________________________\n",
            "conv4_block33_0_relu (Activatio (None, 16, 16, 1280) 0           conv4_block33_0_bn[0][0]         \n",
            "__________________________________________________________________________________________________\n",
            "conv4_block33_1_conv (Conv2D)   (None, 16, 16, 128)  163840      conv4_block33_0_relu[0][0]       \n",
            "__________________________________________________________________________________________________\n",
            "conv4_block33_1_bn (BatchNormal (None, 16, 16, 128)  512         conv4_block33_1_conv[0][0]       \n",
            "__________________________________________________________________________________________________\n",
            "conv4_block33_1_relu (Activatio (None, 16, 16, 128)  0           conv4_block33_1_bn[0][0]         \n",
            "__________________________________________________________________________________________________\n",
            "conv4_block33_2_conv (Conv2D)   (None, 16, 16, 32)   36864       conv4_block33_1_relu[0][0]       \n",
            "__________________________________________________________________________________________________\n",
            "conv4_block33_concat (Concatena (None, 16, 16, 1312) 0           conv4_block32_concat[0][0]       \n",
            "                                                                 conv4_block33_2_conv[0][0]       \n",
            "__________________________________________________________________________________________________\n",
            "conv4_block34_0_bn (BatchNormal (None, 16, 16, 1312) 5248        conv4_block33_concat[0][0]       \n",
            "__________________________________________________________________________________________________\n",
            "conv4_block34_0_relu (Activatio (None, 16, 16, 1312) 0           conv4_block34_0_bn[0][0]         \n",
            "__________________________________________________________________________________________________\n",
            "conv4_block34_1_conv (Conv2D)   (None, 16, 16, 128)  167936      conv4_block34_0_relu[0][0]       \n",
            "__________________________________________________________________________________________________\n",
            "conv4_block34_1_bn (BatchNormal (None, 16, 16, 128)  512         conv4_block34_1_conv[0][0]       \n",
            "__________________________________________________________________________________________________\n",
            "conv4_block34_1_relu (Activatio (None, 16, 16, 128)  0           conv4_block34_1_bn[0][0]         \n",
            "__________________________________________________________________________________________________\n",
            "conv4_block34_2_conv (Conv2D)   (None, 16, 16, 32)   36864       conv4_block34_1_relu[0][0]       \n",
            "__________________________________________________________________________________________________\n",
            "conv4_block34_concat (Concatena (None, 16, 16, 1344) 0           conv4_block33_concat[0][0]       \n",
            "                                                                 conv4_block34_2_conv[0][0]       \n",
            "__________________________________________________________________________________________________\n",
            "conv4_block35_0_bn (BatchNormal (None, 16, 16, 1344) 5376        conv4_block34_concat[0][0]       \n",
            "__________________________________________________________________________________________________\n",
            "conv4_block35_0_relu (Activatio (None, 16, 16, 1344) 0           conv4_block35_0_bn[0][0]         \n",
            "__________________________________________________________________________________________________\n",
            "conv4_block35_1_conv (Conv2D)   (None, 16, 16, 128)  172032      conv4_block35_0_relu[0][0]       \n",
            "__________________________________________________________________________________________________\n",
            "conv4_block35_1_bn (BatchNormal (None, 16, 16, 128)  512         conv4_block35_1_conv[0][0]       \n",
            "__________________________________________________________________________________________________\n",
            "conv4_block35_1_relu (Activatio (None, 16, 16, 128)  0           conv4_block35_1_bn[0][0]         \n",
            "__________________________________________________________________________________________________\n",
            "conv4_block35_2_conv (Conv2D)   (None, 16, 16, 32)   36864       conv4_block35_1_relu[0][0]       \n",
            "__________________________________________________________________________________________________\n",
            "conv4_block35_concat (Concatena (None, 16, 16, 1376) 0           conv4_block34_concat[0][0]       \n",
            "                                                                 conv4_block35_2_conv[0][0]       \n",
            "__________________________________________________________________________________________________\n",
            "conv4_block36_0_bn (BatchNormal (None, 16, 16, 1376) 5504        conv4_block35_concat[0][0]       \n",
            "__________________________________________________________________________________________________\n",
            "conv4_block36_0_relu (Activatio (None, 16, 16, 1376) 0           conv4_block36_0_bn[0][0]         \n",
            "__________________________________________________________________________________________________\n",
            "conv4_block36_1_conv (Conv2D)   (None, 16, 16, 128)  176128      conv4_block36_0_relu[0][0]       \n",
            "__________________________________________________________________________________________________\n",
            "conv4_block36_1_bn (BatchNormal (None, 16, 16, 128)  512         conv4_block36_1_conv[0][0]       \n",
            "__________________________________________________________________________________________________\n",
            "conv4_block36_1_relu (Activatio (None, 16, 16, 128)  0           conv4_block36_1_bn[0][0]         \n",
            "__________________________________________________________________________________________________\n",
            "conv4_block36_2_conv (Conv2D)   (None, 16, 16, 32)   36864       conv4_block36_1_relu[0][0]       \n",
            "__________________________________________________________________________________________________\n",
            "conv4_block36_concat (Concatena (None, 16, 16, 1408) 0           conv4_block35_concat[0][0]       \n",
            "                                                                 conv4_block36_2_conv[0][0]       \n",
            "__________________________________________________________________________________________________\n",
            "conv4_block37_0_bn (BatchNormal (None, 16, 16, 1408) 5632        conv4_block36_concat[0][0]       \n",
            "__________________________________________________________________________________________________\n",
            "conv4_block37_0_relu (Activatio (None, 16, 16, 1408) 0           conv4_block37_0_bn[0][0]         \n",
            "__________________________________________________________________________________________________\n",
            "conv4_block37_1_conv (Conv2D)   (None, 16, 16, 128)  180224      conv4_block37_0_relu[0][0]       \n",
            "__________________________________________________________________________________________________\n",
            "conv4_block37_1_bn (BatchNormal (None, 16, 16, 128)  512         conv4_block37_1_conv[0][0]       \n",
            "__________________________________________________________________________________________________\n",
            "conv4_block37_1_relu (Activatio (None, 16, 16, 128)  0           conv4_block37_1_bn[0][0]         \n",
            "__________________________________________________________________________________________________\n",
            "conv4_block37_2_conv (Conv2D)   (None, 16, 16, 32)   36864       conv4_block37_1_relu[0][0]       \n",
            "__________________________________________________________________________________________________\n",
            "conv4_block37_concat (Concatena (None, 16, 16, 1440) 0           conv4_block36_concat[0][0]       \n",
            "                                                                 conv4_block37_2_conv[0][0]       \n",
            "__________________________________________________________________________________________________\n",
            "conv4_block38_0_bn (BatchNormal (None, 16, 16, 1440) 5760        conv4_block37_concat[0][0]       \n",
            "__________________________________________________________________________________________________\n",
            "conv4_block38_0_relu (Activatio (None, 16, 16, 1440) 0           conv4_block38_0_bn[0][0]         \n",
            "__________________________________________________________________________________________________\n",
            "conv4_block38_1_conv (Conv2D)   (None, 16, 16, 128)  184320      conv4_block38_0_relu[0][0]       \n",
            "__________________________________________________________________________________________________\n",
            "conv4_block38_1_bn (BatchNormal (None, 16, 16, 128)  512         conv4_block38_1_conv[0][0]       \n",
            "__________________________________________________________________________________________________\n",
            "conv4_block38_1_relu (Activatio (None, 16, 16, 128)  0           conv4_block38_1_bn[0][0]         \n",
            "__________________________________________________________________________________________________\n",
            "conv4_block38_2_conv (Conv2D)   (None, 16, 16, 32)   36864       conv4_block38_1_relu[0][0]       \n",
            "__________________________________________________________________________________________________\n",
            "conv4_block38_concat (Concatena (None, 16, 16, 1472) 0           conv4_block37_concat[0][0]       \n",
            "                                                                 conv4_block38_2_conv[0][0]       \n",
            "__________________________________________________________________________________________________\n",
            "conv4_block39_0_bn (BatchNormal (None, 16, 16, 1472) 5888        conv4_block38_concat[0][0]       \n",
            "__________________________________________________________________________________________________\n",
            "conv4_block39_0_relu (Activatio (None, 16, 16, 1472) 0           conv4_block39_0_bn[0][0]         \n",
            "__________________________________________________________________________________________________\n",
            "conv4_block39_1_conv (Conv2D)   (None, 16, 16, 128)  188416      conv4_block39_0_relu[0][0]       \n",
            "__________________________________________________________________________________________________\n",
            "conv4_block39_1_bn (BatchNormal (None, 16, 16, 128)  512         conv4_block39_1_conv[0][0]       \n",
            "__________________________________________________________________________________________________\n",
            "conv4_block39_1_relu (Activatio (None, 16, 16, 128)  0           conv4_block39_1_bn[0][0]         \n",
            "__________________________________________________________________________________________________\n",
            "conv4_block39_2_conv (Conv2D)   (None, 16, 16, 32)   36864       conv4_block39_1_relu[0][0]       \n",
            "__________________________________________________________________________________________________\n",
            "conv4_block39_concat (Concatena (None, 16, 16, 1504) 0           conv4_block38_concat[0][0]       \n",
            "                                                                 conv4_block39_2_conv[0][0]       \n",
            "__________________________________________________________________________________________________\n",
            "conv4_block40_0_bn (BatchNormal (None, 16, 16, 1504) 6016        conv4_block39_concat[0][0]       \n",
            "__________________________________________________________________________________________________\n",
            "conv4_block40_0_relu (Activatio (None, 16, 16, 1504) 0           conv4_block40_0_bn[0][0]         \n",
            "__________________________________________________________________________________________________\n",
            "conv4_block40_1_conv (Conv2D)   (None, 16, 16, 128)  192512      conv4_block40_0_relu[0][0]       \n",
            "__________________________________________________________________________________________________\n",
            "conv4_block40_1_bn (BatchNormal (None, 16, 16, 128)  512         conv4_block40_1_conv[0][0]       \n",
            "__________________________________________________________________________________________________\n",
            "conv4_block40_1_relu (Activatio (None, 16, 16, 128)  0           conv4_block40_1_bn[0][0]         \n",
            "__________________________________________________________________________________________________\n",
            "conv4_block40_2_conv (Conv2D)   (None, 16, 16, 32)   36864       conv4_block40_1_relu[0][0]       \n",
            "__________________________________________________________________________________________________\n",
            "conv4_block40_concat (Concatena (None, 16, 16, 1536) 0           conv4_block39_concat[0][0]       \n",
            "                                                                 conv4_block40_2_conv[0][0]       \n",
            "__________________________________________________________________________________________________\n",
            "conv4_block41_0_bn (BatchNormal (None, 16, 16, 1536) 6144        conv4_block40_concat[0][0]       \n",
            "__________________________________________________________________________________________________\n",
            "conv4_block41_0_relu (Activatio (None, 16, 16, 1536) 0           conv4_block41_0_bn[0][0]         \n",
            "__________________________________________________________________________________________________\n",
            "conv4_block41_1_conv (Conv2D)   (None, 16, 16, 128)  196608      conv4_block41_0_relu[0][0]       \n",
            "__________________________________________________________________________________________________\n",
            "conv4_block41_1_bn (BatchNormal (None, 16, 16, 128)  512         conv4_block41_1_conv[0][0]       \n",
            "__________________________________________________________________________________________________\n",
            "conv4_block41_1_relu (Activatio (None, 16, 16, 128)  0           conv4_block41_1_bn[0][0]         \n",
            "__________________________________________________________________________________________________\n",
            "conv4_block41_2_conv (Conv2D)   (None, 16, 16, 32)   36864       conv4_block41_1_relu[0][0]       \n",
            "__________________________________________________________________________________________________\n",
            "conv4_block41_concat (Concatena (None, 16, 16, 1568) 0           conv4_block40_concat[0][0]       \n",
            "                                                                 conv4_block41_2_conv[0][0]       \n",
            "__________________________________________________________________________________________________\n",
            "conv4_block42_0_bn (BatchNormal (None, 16, 16, 1568) 6272        conv4_block41_concat[0][0]       \n",
            "__________________________________________________________________________________________________\n",
            "conv4_block42_0_relu (Activatio (None, 16, 16, 1568) 0           conv4_block42_0_bn[0][0]         \n",
            "__________________________________________________________________________________________________\n",
            "conv4_block42_1_conv (Conv2D)   (None, 16, 16, 128)  200704      conv4_block42_0_relu[0][0]       \n",
            "__________________________________________________________________________________________________\n",
            "conv4_block42_1_bn (BatchNormal (None, 16, 16, 128)  512         conv4_block42_1_conv[0][0]       \n",
            "__________________________________________________________________________________________________\n",
            "conv4_block42_1_relu (Activatio (None, 16, 16, 128)  0           conv4_block42_1_bn[0][0]         \n",
            "__________________________________________________________________________________________________\n",
            "conv4_block42_2_conv (Conv2D)   (None, 16, 16, 32)   36864       conv4_block42_1_relu[0][0]       \n",
            "__________________________________________________________________________________________________\n",
            "conv4_block42_concat (Concatena (None, 16, 16, 1600) 0           conv4_block41_concat[0][0]       \n",
            "                                                                 conv4_block42_2_conv[0][0]       \n",
            "__________________________________________________________________________________________________\n",
            "conv4_block43_0_bn (BatchNormal (None, 16, 16, 1600) 6400        conv4_block42_concat[0][0]       \n",
            "__________________________________________________________________________________________________\n",
            "conv4_block43_0_relu (Activatio (None, 16, 16, 1600) 0           conv4_block43_0_bn[0][0]         \n",
            "__________________________________________________________________________________________________\n",
            "conv4_block43_1_conv (Conv2D)   (None, 16, 16, 128)  204800      conv4_block43_0_relu[0][0]       \n",
            "__________________________________________________________________________________________________\n",
            "conv4_block43_1_bn (BatchNormal (None, 16, 16, 128)  512         conv4_block43_1_conv[0][0]       \n",
            "__________________________________________________________________________________________________\n",
            "conv4_block43_1_relu (Activatio (None, 16, 16, 128)  0           conv4_block43_1_bn[0][0]         \n",
            "__________________________________________________________________________________________________\n",
            "conv4_block43_2_conv (Conv2D)   (None, 16, 16, 32)   36864       conv4_block43_1_relu[0][0]       \n",
            "__________________________________________________________________________________________________\n",
            "conv4_block43_concat (Concatena (None, 16, 16, 1632) 0           conv4_block42_concat[0][0]       \n",
            "                                                                 conv4_block43_2_conv[0][0]       \n",
            "__________________________________________________________________________________________________\n",
            "conv4_block44_0_bn (BatchNormal (None, 16, 16, 1632) 6528        conv4_block43_concat[0][0]       \n",
            "__________________________________________________________________________________________________\n",
            "conv4_block44_0_relu (Activatio (None, 16, 16, 1632) 0           conv4_block44_0_bn[0][0]         \n",
            "__________________________________________________________________________________________________\n",
            "conv4_block44_1_conv (Conv2D)   (None, 16, 16, 128)  208896      conv4_block44_0_relu[0][0]       \n",
            "__________________________________________________________________________________________________\n",
            "conv4_block44_1_bn (BatchNormal (None, 16, 16, 128)  512         conv4_block44_1_conv[0][0]       \n",
            "__________________________________________________________________________________________________\n",
            "conv4_block44_1_relu (Activatio (None, 16, 16, 128)  0           conv4_block44_1_bn[0][0]         \n",
            "__________________________________________________________________________________________________\n",
            "conv4_block44_2_conv (Conv2D)   (None, 16, 16, 32)   36864       conv4_block44_1_relu[0][0]       \n",
            "__________________________________________________________________________________________________\n",
            "conv4_block44_concat (Concatena (None, 16, 16, 1664) 0           conv4_block43_concat[0][0]       \n",
            "                                                                 conv4_block44_2_conv[0][0]       \n",
            "__________________________________________________________________________________________________\n",
            "conv4_block45_0_bn (BatchNormal (None, 16, 16, 1664) 6656        conv4_block44_concat[0][0]       \n",
            "__________________________________________________________________________________________________\n",
            "conv4_block45_0_relu (Activatio (None, 16, 16, 1664) 0           conv4_block45_0_bn[0][0]         \n",
            "__________________________________________________________________________________________________\n",
            "conv4_block45_1_conv (Conv2D)   (None, 16, 16, 128)  212992      conv4_block45_0_relu[0][0]       \n",
            "__________________________________________________________________________________________________\n",
            "conv4_block45_1_bn (BatchNormal (None, 16, 16, 128)  512         conv4_block45_1_conv[0][0]       \n",
            "__________________________________________________________________________________________________\n",
            "conv4_block45_1_relu (Activatio (None, 16, 16, 128)  0           conv4_block45_1_bn[0][0]         \n",
            "__________________________________________________________________________________________________\n",
            "conv4_block45_2_conv (Conv2D)   (None, 16, 16, 32)   36864       conv4_block45_1_relu[0][0]       \n",
            "__________________________________________________________________________________________________\n",
            "conv4_block45_concat (Concatena (None, 16, 16, 1696) 0           conv4_block44_concat[0][0]       \n",
            "                                                                 conv4_block45_2_conv[0][0]       \n",
            "__________________________________________________________________________________________________\n",
            "conv4_block46_0_bn (BatchNormal (None, 16, 16, 1696) 6784        conv4_block45_concat[0][0]       \n",
            "__________________________________________________________________________________________________\n",
            "conv4_block46_0_relu (Activatio (None, 16, 16, 1696) 0           conv4_block46_0_bn[0][0]         \n",
            "__________________________________________________________________________________________________\n",
            "conv4_block46_1_conv (Conv2D)   (None, 16, 16, 128)  217088      conv4_block46_0_relu[0][0]       \n",
            "__________________________________________________________________________________________________\n",
            "conv4_block46_1_bn (BatchNormal (None, 16, 16, 128)  512         conv4_block46_1_conv[0][0]       \n",
            "__________________________________________________________________________________________________\n",
            "conv4_block46_1_relu (Activatio (None, 16, 16, 128)  0           conv4_block46_1_bn[0][0]         \n",
            "__________________________________________________________________________________________________\n",
            "conv4_block46_2_conv (Conv2D)   (None, 16, 16, 32)   36864       conv4_block46_1_relu[0][0]       \n",
            "__________________________________________________________________________________________________\n",
            "conv4_block46_concat (Concatena (None, 16, 16, 1728) 0           conv4_block45_concat[0][0]       \n",
            "                                                                 conv4_block46_2_conv[0][0]       \n",
            "__________________________________________________________________________________________________\n",
            "conv4_block47_0_bn (BatchNormal (None, 16, 16, 1728) 6912        conv4_block46_concat[0][0]       \n",
            "__________________________________________________________________________________________________\n",
            "conv4_block47_0_relu (Activatio (None, 16, 16, 1728) 0           conv4_block47_0_bn[0][0]         \n",
            "__________________________________________________________________________________________________\n",
            "conv4_block47_1_conv (Conv2D)   (None, 16, 16, 128)  221184      conv4_block47_0_relu[0][0]       \n",
            "__________________________________________________________________________________________________\n",
            "conv4_block47_1_bn (BatchNormal (None, 16, 16, 128)  512         conv4_block47_1_conv[0][0]       \n",
            "__________________________________________________________________________________________________\n",
            "conv4_block47_1_relu (Activatio (None, 16, 16, 128)  0           conv4_block47_1_bn[0][0]         \n",
            "__________________________________________________________________________________________________\n",
            "conv4_block47_2_conv (Conv2D)   (None, 16, 16, 32)   36864       conv4_block47_1_relu[0][0]       \n",
            "__________________________________________________________________________________________________\n",
            "conv4_block47_concat (Concatena (None, 16, 16, 1760) 0           conv4_block46_concat[0][0]       \n",
            "                                                                 conv4_block47_2_conv[0][0]       \n",
            "__________________________________________________________________________________________________\n",
            "conv4_block48_0_bn (BatchNormal (None, 16, 16, 1760) 7040        conv4_block47_concat[0][0]       \n",
            "__________________________________________________________________________________________________\n",
            "conv4_block48_0_relu (Activatio (None, 16, 16, 1760) 0           conv4_block48_0_bn[0][0]         \n",
            "__________________________________________________________________________________________________\n",
            "conv4_block48_1_conv (Conv2D)   (None, 16, 16, 128)  225280      conv4_block48_0_relu[0][0]       \n",
            "__________________________________________________________________________________________________\n",
            "conv4_block48_1_bn (BatchNormal (None, 16, 16, 128)  512         conv4_block48_1_conv[0][0]       \n",
            "__________________________________________________________________________________________________\n",
            "conv4_block48_1_relu (Activatio (None, 16, 16, 128)  0           conv4_block48_1_bn[0][0]         \n",
            "__________________________________________________________________________________________________\n",
            "conv4_block48_2_conv (Conv2D)   (None, 16, 16, 32)   36864       conv4_block48_1_relu[0][0]       \n",
            "__________________________________________________________________________________________________\n",
            "conv4_block48_concat (Concatena (None, 16, 16, 1792) 0           conv4_block47_concat[0][0]       \n",
            "                                                                 conv4_block48_2_conv[0][0]       \n",
            "__________________________________________________________________________________________________\n",
            "pool4_bn (BatchNormalization)   (None, 16, 16, 1792) 7168        conv4_block48_concat[0][0]       \n",
            "__________________________________________________________________________________________________\n",
            "pool4_relu (Activation)         (None, 16, 16, 1792) 0           pool4_bn[0][0]                   \n",
            "__________________________________________________________________________________________________\n",
            "pool4_conv (Conv2D)             (None, 16, 16, 896)  1605632     pool4_relu[0][0]                 \n",
            "__________________________________________________________________________________________________\n",
            "pool4_pool (AveragePooling2D)   (None, 8, 8, 896)    0           pool4_conv[0][0]                 \n",
            "__________________________________________________________________________________________________\n",
            "conv5_block1_0_bn (BatchNormali (None, 8, 8, 896)    3584        pool4_pool[0][0]                 \n",
            "__________________________________________________________________________________________________\n",
            "conv5_block1_0_relu (Activation (None, 8, 8, 896)    0           conv5_block1_0_bn[0][0]          \n",
            "__________________________________________________________________________________________________\n",
            "conv5_block1_1_conv (Conv2D)    (None, 8, 8, 128)    114688      conv5_block1_0_relu[0][0]        \n",
            "__________________________________________________________________________________________________\n",
            "conv5_block1_1_bn (BatchNormali (None, 8, 8, 128)    512         conv5_block1_1_conv[0][0]        \n",
            "__________________________________________________________________________________________________\n",
            "conv5_block1_1_relu (Activation (None, 8, 8, 128)    0           conv5_block1_1_bn[0][0]          \n",
            "__________________________________________________________________________________________________\n",
            "conv5_block1_2_conv (Conv2D)    (None, 8, 8, 32)     36864       conv5_block1_1_relu[0][0]        \n",
            "__________________________________________________________________________________________________\n",
            "conv5_block1_concat (Concatenat (None, 8, 8, 928)    0           pool4_pool[0][0]                 \n",
            "                                                                 conv5_block1_2_conv[0][0]        \n",
            "__________________________________________________________________________________________________\n",
            "conv5_block2_0_bn (BatchNormali (None, 8, 8, 928)    3712        conv5_block1_concat[0][0]        \n",
            "__________________________________________________________________________________________________\n",
            "conv5_block2_0_relu (Activation (None, 8, 8, 928)    0           conv5_block2_0_bn[0][0]          \n",
            "__________________________________________________________________________________________________\n",
            "conv5_block2_1_conv (Conv2D)    (None, 8, 8, 128)    118784      conv5_block2_0_relu[0][0]        \n",
            "__________________________________________________________________________________________________\n",
            "conv5_block2_1_bn (BatchNormali (None, 8, 8, 128)    512         conv5_block2_1_conv[0][0]        \n",
            "__________________________________________________________________________________________________\n",
            "conv5_block2_1_relu (Activation (None, 8, 8, 128)    0           conv5_block2_1_bn[0][0]          \n",
            "__________________________________________________________________________________________________\n",
            "conv5_block2_2_conv (Conv2D)    (None, 8, 8, 32)     36864       conv5_block2_1_relu[0][0]        \n",
            "__________________________________________________________________________________________________\n",
            "conv5_block2_concat (Concatenat (None, 8, 8, 960)    0           conv5_block1_concat[0][0]        \n",
            "                                                                 conv5_block2_2_conv[0][0]        \n",
            "__________________________________________________________________________________________________\n",
            "conv5_block3_0_bn (BatchNormali (None, 8, 8, 960)    3840        conv5_block2_concat[0][0]        \n",
            "__________________________________________________________________________________________________\n",
            "conv5_block3_0_relu (Activation (None, 8, 8, 960)    0           conv5_block3_0_bn[0][0]          \n",
            "__________________________________________________________________________________________________\n",
            "conv5_block3_1_conv (Conv2D)    (None, 8, 8, 128)    122880      conv5_block3_0_relu[0][0]        \n",
            "__________________________________________________________________________________________________\n",
            "conv5_block3_1_bn (BatchNormali (None, 8, 8, 128)    512         conv5_block3_1_conv[0][0]        \n",
            "__________________________________________________________________________________________________\n",
            "conv5_block3_1_relu (Activation (None, 8, 8, 128)    0           conv5_block3_1_bn[0][0]          \n",
            "__________________________________________________________________________________________________\n",
            "conv5_block3_2_conv (Conv2D)    (None, 8, 8, 32)     36864       conv5_block3_1_relu[0][0]        \n",
            "__________________________________________________________________________________________________\n",
            "conv5_block3_concat (Concatenat (None, 8, 8, 992)    0           conv5_block2_concat[0][0]        \n",
            "                                                                 conv5_block3_2_conv[0][0]        \n",
            "__________________________________________________________________________________________________\n",
            "conv5_block4_0_bn (BatchNormali (None, 8, 8, 992)    3968        conv5_block3_concat[0][0]        \n",
            "__________________________________________________________________________________________________\n",
            "conv5_block4_0_relu (Activation (None, 8, 8, 992)    0           conv5_block4_0_bn[0][0]          \n",
            "__________________________________________________________________________________________________\n",
            "conv5_block4_1_conv (Conv2D)    (None, 8, 8, 128)    126976      conv5_block4_0_relu[0][0]        \n",
            "__________________________________________________________________________________________________\n",
            "conv5_block4_1_bn (BatchNormali (None, 8, 8, 128)    512         conv5_block4_1_conv[0][0]        \n",
            "__________________________________________________________________________________________________\n",
            "conv5_block4_1_relu (Activation (None, 8, 8, 128)    0           conv5_block4_1_bn[0][0]          \n",
            "__________________________________________________________________________________________________\n",
            "conv5_block4_2_conv (Conv2D)    (None, 8, 8, 32)     36864       conv5_block4_1_relu[0][0]        \n",
            "__________________________________________________________________________________________________\n",
            "conv5_block4_concat (Concatenat (None, 8, 8, 1024)   0           conv5_block3_concat[0][0]        \n",
            "                                                                 conv5_block4_2_conv[0][0]        \n",
            "__________________________________________________________________________________________________\n",
            "conv5_block5_0_bn (BatchNormali (None, 8, 8, 1024)   4096        conv5_block4_concat[0][0]        \n",
            "__________________________________________________________________________________________________\n",
            "conv5_block5_0_relu (Activation (None, 8, 8, 1024)   0           conv5_block5_0_bn[0][0]          \n",
            "__________________________________________________________________________________________________\n",
            "conv5_block5_1_conv (Conv2D)    (None, 8, 8, 128)    131072      conv5_block5_0_relu[0][0]        \n",
            "__________________________________________________________________________________________________\n",
            "conv5_block5_1_bn (BatchNormali (None, 8, 8, 128)    512         conv5_block5_1_conv[0][0]        \n",
            "__________________________________________________________________________________________________\n",
            "conv5_block5_1_relu (Activation (None, 8, 8, 128)    0           conv5_block5_1_bn[0][0]          \n",
            "__________________________________________________________________________________________________\n",
            "conv5_block5_2_conv (Conv2D)    (None, 8, 8, 32)     36864       conv5_block5_1_relu[0][0]        \n",
            "__________________________________________________________________________________________________\n",
            "conv5_block5_concat (Concatenat (None, 8, 8, 1056)   0           conv5_block4_concat[0][0]        \n",
            "                                                                 conv5_block5_2_conv[0][0]        \n",
            "__________________________________________________________________________________________________\n",
            "conv5_block6_0_bn (BatchNormali (None, 8, 8, 1056)   4224        conv5_block5_concat[0][0]        \n",
            "__________________________________________________________________________________________________\n",
            "conv5_block6_0_relu (Activation (None, 8, 8, 1056)   0           conv5_block6_0_bn[0][0]          \n",
            "__________________________________________________________________________________________________\n",
            "conv5_block6_1_conv (Conv2D)    (None, 8, 8, 128)    135168      conv5_block6_0_relu[0][0]        \n",
            "__________________________________________________________________________________________________\n",
            "conv5_block6_1_bn (BatchNormali (None, 8, 8, 128)    512         conv5_block6_1_conv[0][0]        \n",
            "__________________________________________________________________________________________________\n",
            "conv5_block6_1_relu (Activation (None, 8, 8, 128)    0           conv5_block6_1_bn[0][0]          \n",
            "__________________________________________________________________________________________________\n",
            "conv5_block6_2_conv (Conv2D)    (None, 8, 8, 32)     36864       conv5_block6_1_relu[0][0]        \n",
            "__________________________________________________________________________________________________\n",
            "conv5_block6_concat (Concatenat (None, 8, 8, 1088)   0           conv5_block5_concat[0][0]        \n",
            "                                                                 conv5_block6_2_conv[0][0]        \n",
            "__________________________________________________________________________________________________\n",
            "conv5_block7_0_bn (BatchNormali (None, 8, 8, 1088)   4352        conv5_block6_concat[0][0]        \n",
            "__________________________________________________________________________________________________\n",
            "conv5_block7_0_relu (Activation (None, 8, 8, 1088)   0           conv5_block7_0_bn[0][0]          \n",
            "__________________________________________________________________________________________________\n",
            "conv5_block7_1_conv (Conv2D)    (None, 8, 8, 128)    139264      conv5_block7_0_relu[0][0]        \n",
            "__________________________________________________________________________________________________\n",
            "conv5_block7_1_bn (BatchNormali (None, 8, 8, 128)    512         conv5_block7_1_conv[0][0]        \n",
            "__________________________________________________________________________________________________\n",
            "conv5_block7_1_relu (Activation (None, 8, 8, 128)    0           conv5_block7_1_bn[0][0]          \n",
            "__________________________________________________________________________________________________\n",
            "conv5_block7_2_conv (Conv2D)    (None, 8, 8, 32)     36864       conv5_block7_1_relu[0][0]        \n",
            "__________________________________________________________________________________________________\n",
            "conv5_block7_concat (Concatenat (None, 8, 8, 1120)   0           conv5_block6_concat[0][0]        \n",
            "                                                                 conv5_block7_2_conv[0][0]        \n",
            "__________________________________________________________________________________________________\n",
            "conv5_block8_0_bn (BatchNormali (None, 8, 8, 1120)   4480        conv5_block7_concat[0][0]        \n",
            "__________________________________________________________________________________________________\n",
            "conv5_block8_0_relu (Activation (None, 8, 8, 1120)   0           conv5_block8_0_bn[0][0]          \n",
            "__________________________________________________________________________________________________\n",
            "conv5_block8_1_conv (Conv2D)    (None, 8, 8, 128)    143360      conv5_block8_0_relu[0][0]        \n",
            "__________________________________________________________________________________________________\n",
            "conv5_block8_1_bn (BatchNormali (None, 8, 8, 128)    512         conv5_block8_1_conv[0][0]        \n",
            "__________________________________________________________________________________________________\n",
            "conv5_block8_1_relu (Activation (None, 8, 8, 128)    0           conv5_block8_1_bn[0][0]          \n",
            "__________________________________________________________________________________________________\n",
            "conv5_block8_2_conv (Conv2D)    (None, 8, 8, 32)     36864       conv5_block8_1_relu[0][0]        \n",
            "__________________________________________________________________________________________________\n",
            "conv5_block8_concat (Concatenat (None, 8, 8, 1152)   0           conv5_block7_concat[0][0]        \n",
            "                                                                 conv5_block8_2_conv[0][0]        \n",
            "__________________________________________________________________________________________________\n",
            "conv5_block9_0_bn (BatchNormali (None, 8, 8, 1152)   4608        conv5_block8_concat[0][0]        \n",
            "__________________________________________________________________________________________________\n",
            "conv5_block9_0_relu (Activation (None, 8, 8, 1152)   0           conv5_block9_0_bn[0][0]          \n",
            "__________________________________________________________________________________________________\n",
            "conv5_block9_1_conv (Conv2D)    (None, 8, 8, 128)    147456      conv5_block9_0_relu[0][0]        \n",
            "__________________________________________________________________________________________________\n",
            "conv5_block9_1_bn (BatchNormali (None, 8, 8, 128)    512         conv5_block9_1_conv[0][0]        \n",
            "__________________________________________________________________________________________________\n",
            "conv5_block9_1_relu (Activation (None, 8, 8, 128)    0           conv5_block9_1_bn[0][0]          \n",
            "__________________________________________________________________________________________________\n",
            "conv5_block9_2_conv (Conv2D)    (None, 8, 8, 32)     36864       conv5_block9_1_relu[0][0]        \n",
            "__________________________________________________________________________________________________\n",
            "conv5_block9_concat (Concatenat (None, 8, 8, 1184)   0           conv5_block8_concat[0][0]        \n",
            "                                                                 conv5_block9_2_conv[0][0]        \n",
            "__________________________________________________________________________________________________\n",
            "conv5_block10_0_bn (BatchNormal (None, 8, 8, 1184)   4736        conv5_block9_concat[0][0]        \n",
            "__________________________________________________________________________________________________\n",
            "conv5_block10_0_relu (Activatio (None, 8, 8, 1184)   0           conv5_block10_0_bn[0][0]         \n",
            "__________________________________________________________________________________________________\n",
            "conv5_block10_1_conv (Conv2D)   (None, 8, 8, 128)    151552      conv5_block10_0_relu[0][0]       \n",
            "__________________________________________________________________________________________________\n",
            "conv5_block10_1_bn (BatchNormal (None, 8, 8, 128)    512         conv5_block10_1_conv[0][0]       \n",
            "__________________________________________________________________________________________________\n",
            "conv5_block10_1_relu (Activatio (None, 8, 8, 128)    0           conv5_block10_1_bn[0][0]         \n",
            "__________________________________________________________________________________________________\n",
            "conv5_block10_2_conv (Conv2D)   (None, 8, 8, 32)     36864       conv5_block10_1_relu[0][0]       \n",
            "__________________________________________________________________________________________________\n",
            "conv5_block10_concat (Concatena (None, 8, 8, 1216)   0           conv5_block9_concat[0][0]        \n",
            "                                                                 conv5_block10_2_conv[0][0]       \n",
            "__________________________________________________________________________________________________\n",
            "conv5_block11_0_bn (BatchNormal (None, 8, 8, 1216)   4864        conv5_block10_concat[0][0]       \n",
            "__________________________________________________________________________________________________\n",
            "conv5_block11_0_relu (Activatio (None, 8, 8, 1216)   0           conv5_block11_0_bn[0][0]         \n",
            "__________________________________________________________________________________________________\n",
            "conv5_block11_1_conv (Conv2D)   (None, 8, 8, 128)    155648      conv5_block11_0_relu[0][0]       \n",
            "__________________________________________________________________________________________________\n",
            "conv5_block11_1_bn (BatchNormal (None, 8, 8, 128)    512         conv5_block11_1_conv[0][0]       \n",
            "__________________________________________________________________________________________________\n",
            "conv5_block11_1_relu (Activatio (None, 8, 8, 128)    0           conv5_block11_1_bn[0][0]         \n",
            "__________________________________________________________________________________________________\n",
            "conv5_block11_2_conv (Conv2D)   (None, 8, 8, 32)     36864       conv5_block11_1_relu[0][0]       \n",
            "__________________________________________________________________________________________________\n",
            "conv5_block11_concat (Concatena (None, 8, 8, 1248)   0           conv5_block10_concat[0][0]       \n",
            "                                                                 conv5_block11_2_conv[0][0]       \n",
            "__________________________________________________________________________________________________\n",
            "conv5_block12_0_bn (BatchNormal (None, 8, 8, 1248)   4992        conv5_block11_concat[0][0]       \n",
            "__________________________________________________________________________________________________\n",
            "conv5_block12_0_relu (Activatio (None, 8, 8, 1248)   0           conv5_block12_0_bn[0][0]         \n",
            "__________________________________________________________________________________________________\n",
            "conv5_block12_1_conv (Conv2D)   (None, 8, 8, 128)    159744      conv5_block12_0_relu[0][0]       \n",
            "__________________________________________________________________________________________________\n",
            "conv5_block12_1_bn (BatchNormal (None, 8, 8, 128)    512         conv5_block12_1_conv[0][0]       \n",
            "__________________________________________________________________________________________________\n",
            "conv5_block12_1_relu (Activatio (None, 8, 8, 128)    0           conv5_block12_1_bn[0][0]         \n",
            "__________________________________________________________________________________________________\n",
            "conv5_block12_2_conv (Conv2D)   (None, 8, 8, 32)     36864       conv5_block12_1_relu[0][0]       \n",
            "__________________________________________________________________________________________________\n",
            "conv5_block12_concat (Concatena (None, 8, 8, 1280)   0           conv5_block11_concat[0][0]       \n",
            "                                                                 conv5_block12_2_conv[0][0]       \n",
            "__________________________________________________________________________________________________\n",
            "conv5_block13_0_bn (BatchNormal (None, 8, 8, 1280)   5120        conv5_block12_concat[0][0]       \n",
            "__________________________________________________________________________________________________\n",
            "conv5_block13_0_relu (Activatio (None, 8, 8, 1280)   0           conv5_block13_0_bn[0][0]         \n",
            "__________________________________________________________________________________________________\n",
            "conv5_block13_1_conv (Conv2D)   (None, 8, 8, 128)    163840      conv5_block13_0_relu[0][0]       \n",
            "__________________________________________________________________________________________________\n",
            "conv5_block13_1_bn (BatchNormal (None, 8, 8, 128)    512         conv5_block13_1_conv[0][0]       \n",
            "__________________________________________________________________________________________________\n",
            "conv5_block13_1_relu (Activatio (None, 8, 8, 128)    0           conv5_block13_1_bn[0][0]         \n",
            "__________________________________________________________________________________________________\n",
            "conv5_block13_2_conv (Conv2D)   (None, 8, 8, 32)     36864       conv5_block13_1_relu[0][0]       \n",
            "__________________________________________________________________________________________________\n",
            "conv5_block13_concat (Concatena (None, 8, 8, 1312)   0           conv5_block12_concat[0][0]       \n",
            "                                                                 conv5_block13_2_conv[0][0]       \n",
            "__________________________________________________________________________________________________\n",
            "conv5_block14_0_bn (BatchNormal (None, 8, 8, 1312)   5248        conv5_block13_concat[0][0]       \n",
            "__________________________________________________________________________________________________\n",
            "conv5_block14_0_relu (Activatio (None, 8, 8, 1312)   0           conv5_block14_0_bn[0][0]         \n",
            "__________________________________________________________________________________________________\n",
            "conv5_block14_1_conv (Conv2D)   (None, 8, 8, 128)    167936      conv5_block14_0_relu[0][0]       \n",
            "__________________________________________________________________________________________________\n",
            "conv5_block14_1_bn (BatchNormal (None, 8, 8, 128)    512         conv5_block14_1_conv[0][0]       \n",
            "__________________________________________________________________________________________________\n",
            "conv5_block14_1_relu (Activatio (None, 8, 8, 128)    0           conv5_block14_1_bn[0][0]         \n",
            "__________________________________________________________________________________________________\n",
            "conv5_block14_2_conv (Conv2D)   (None, 8, 8, 32)     36864       conv5_block14_1_relu[0][0]       \n",
            "__________________________________________________________________________________________________\n",
            "conv5_block14_concat (Concatena (None, 8, 8, 1344)   0           conv5_block13_concat[0][0]       \n",
            "                                                                 conv5_block14_2_conv[0][0]       \n",
            "__________________________________________________________________________________________________\n",
            "conv5_block15_0_bn (BatchNormal (None, 8, 8, 1344)   5376        conv5_block14_concat[0][0]       \n",
            "__________________________________________________________________________________________________\n",
            "conv5_block15_0_relu (Activatio (None, 8, 8, 1344)   0           conv5_block15_0_bn[0][0]         \n",
            "__________________________________________________________________________________________________\n",
            "conv5_block15_1_conv (Conv2D)   (None, 8, 8, 128)    172032      conv5_block15_0_relu[0][0]       \n",
            "__________________________________________________________________________________________________\n",
            "conv5_block15_1_bn (BatchNormal (None, 8, 8, 128)    512         conv5_block15_1_conv[0][0]       \n",
            "__________________________________________________________________________________________________\n",
            "conv5_block15_1_relu (Activatio (None, 8, 8, 128)    0           conv5_block15_1_bn[0][0]         \n",
            "__________________________________________________________________________________________________\n",
            "conv5_block15_2_conv (Conv2D)   (None, 8, 8, 32)     36864       conv5_block15_1_relu[0][0]       \n",
            "__________________________________________________________________________________________________\n",
            "conv5_block15_concat (Concatena (None, 8, 8, 1376)   0           conv5_block14_concat[0][0]       \n",
            "                                                                 conv5_block15_2_conv[0][0]       \n",
            "__________________________________________________________________________________________________\n",
            "conv5_block16_0_bn (BatchNormal (None, 8, 8, 1376)   5504        conv5_block15_concat[0][0]       \n",
            "__________________________________________________________________________________________________\n",
            "conv5_block16_0_relu (Activatio (None, 8, 8, 1376)   0           conv5_block16_0_bn[0][0]         \n",
            "__________________________________________________________________________________________________\n",
            "conv5_block16_1_conv (Conv2D)   (None, 8, 8, 128)    176128      conv5_block16_0_relu[0][0]       \n",
            "__________________________________________________________________________________________________\n",
            "conv5_block16_1_bn (BatchNormal (None, 8, 8, 128)    512         conv5_block16_1_conv[0][0]       \n",
            "__________________________________________________________________________________________________\n",
            "conv5_block16_1_relu (Activatio (None, 8, 8, 128)    0           conv5_block16_1_bn[0][0]         \n",
            "__________________________________________________________________________________________________\n",
            "conv5_block16_2_conv (Conv2D)   (None, 8, 8, 32)     36864       conv5_block16_1_relu[0][0]       \n",
            "__________________________________________________________________________________________________\n",
            "conv5_block16_concat (Concatena (None, 8, 8, 1408)   0           conv5_block15_concat[0][0]       \n",
            "                                                                 conv5_block16_2_conv[0][0]       \n",
            "__________________________________________________________________________________________________\n",
            "conv5_block17_0_bn (BatchNormal (None, 8, 8, 1408)   5632        conv5_block16_concat[0][0]       \n",
            "__________________________________________________________________________________________________\n",
            "conv5_block17_0_relu (Activatio (None, 8, 8, 1408)   0           conv5_block17_0_bn[0][0]         \n",
            "__________________________________________________________________________________________________\n",
            "conv5_block17_1_conv (Conv2D)   (None, 8, 8, 128)    180224      conv5_block17_0_relu[0][0]       \n",
            "__________________________________________________________________________________________________\n",
            "conv5_block17_1_bn (BatchNormal (None, 8, 8, 128)    512         conv5_block17_1_conv[0][0]       \n",
            "__________________________________________________________________________________________________\n",
            "conv5_block17_1_relu (Activatio (None, 8, 8, 128)    0           conv5_block17_1_bn[0][0]         \n",
            "__________________________________________________________________________________________________\n",
            "conv5_block17_2_conv (Conv2D)   (None, 8, 8, 32)     36864       conv5_block17_1_relu[0][0]       \n",
            "__________________________________________________________________________________________________\n",
            "conv5_block17_concat (Concatena (None, 8, 8, 1440)   0           conv5_block16_concat[0][0]       \n",
            "                                                                 conv5_block17_2_conv[0][0]       \n",
            "__________________________________________________________________________________________________\n",
            "conv5_block18_0_bn (BatchNormal (None, 8, 8, 1440)   5760        conv5_block17_concat[0][0]       \n",
            "__________________________________________________________________________________________________\n",
            "conv5_block18_0_relu (Activatio (None, 8, 8, 1440)   0           conv5_block18_0_bn[0][0]         \n",
            "__________________________________________________________________________________________________\n",
            "conv5_block18_1_conv (Conv2D)   (None, 8, 8, 128)    184320      conv5_block18_0_relu[0][0]       \n",
            "__________________________________________________________________________________________________\n",
            "conv5_block18_1_bn (BatchNormal (None, 8, 8, 128)    512         conv5_block18_1_conv[0][0]       \n",
            "__________________________________________________________________________________________________\n",
            "conv5_block18_1_relu (Activatio (None, 8, 8, 128)    0           conv5_block18_1_bn[0][0]         \n",
            "__________________________________________________________________________________________________\n",
            "conv5_block18_2_conv (Conv2D)   (None, 8, 8, 32)     36864       conv5_block18_1_relu[0][0]       \n",
            "__________________________________________________________________________________________________\n",
            "conv5_block18_concat (Concatena (None, 8, 8, 1472)   0           conv5_block17_concat[0][0]       \n",
            "                                                                 conv5_block18_2_conv[0][0]       \n",
            "__________________________________________________________________________________________________\n",
            "conv5_block19_0_bn (BatchNormal (None, 8, 8, 1472)   5888        conv5_block18_concat[0][0]       \n",
            "__________________________________________________________________________________________________\n",
            "conv5_block19_0_relu (Activatio (None, 8, 8, 1472)   0           conv5_block19_0_bn[0][0]         \n",
            "__________________________________________________________________________________________________\n",
            "conv5_block19_1_conv (Conv2D)   (None, 8, 8, 128)    188416      conv5_block19_0_relu[0][0]       \n",
            "__________________________________________________________________________________________________\n",
            "conv5_block19_1_bn (BatchNormal (None, 8, 8, 128)    512         conv5_block19_1_conv[0][0]       \n",
            "__________________________________________________________________________________________________\n",
            "conv5_block19_1_relu (Activatio (None, 8, 8, 128)    0           conv5_block19_1_bn[0][0]         \n",
            "__________________________________________________________________________________________________\n",
            "conv5_block19_2_conv (Conv2D)   (None, 8, 8, 32)     36864       conv5_block19_1_relu[0][0]       \n",
            "__________________________________________________________________________________________________\n",
            "conv5_block19_concat (Concatena (None, 8, 8, 1504)   0           conv5_block18_concat[0][0]       \n",
            "                                                                 conv5_block19_2_conv[0][0]       \n",
            "__________________________________________________________________________________________________\n",
            "conv5_block20_0_bn (BatchNormal (None, 8, 8, 1504)   6016        conv5_block19_concat[0][0]       \n",
            "__________________________________________________________________________________________________\n",
            "conv5_block20_0_relu (Activatio (None, 8, 8, 1504)   0           conv5_block20_0_bn[0][0]         \n",
            "__________________________________________________________________________________________________\n",
            "conv5_block20_1_conv (Conv2D)   (None, 8, 8, 128)    192512      conv5_block20_0_relu[0][0]       \n",
            "__________________________________________________________________________________________________\n",
            "conv5_block20_1_bn (BatchNormal (None, 8, 8, 128)    512         conv5_block20_1_conv[0][0]       \n",
            "__________________________________________________________________________________________________\n",
            "conv5_block20_1_relu (Activatio (None, 8, 8, 128)    0           conv5_block20_1_bn[0][0]         \n",
            "__________________________________________________________________________________________________\n",
            "conv5_block20_2_conv (Conv2D)   (None, 8, 8, 32)     36864       conv5_block20_1_relu[0][0]       \n",
            "__________________________________________________________________________________________________\n",
            "conv5_block20_concat (Concatena (None, 8, 8, 1536)   0           conv5_block19_concat[0][0]       \n",
            "                                                                 conv5_block20_2_conv[0][0]       \n",
            "__________________________________________________________________________________________________\n",
            "conv5_block21_0_bn (BatchNormal (None, 8, 8, 1536)   6144        conv5_block20_concat[0][0]       \n",
            "__________________________________________________________________________________________________\n",
            "conv5_block21_0_relu (Activatio (None, 8, 8, 1536)   0           conv5_block21_0_bn[0][0]         \n",
            "__________________________________________________________________________________________________\n",
            "conv5_block21_1_conv (Conv2D)   (None, 8, 8, 128)    196608      conv5_block21_0_relu[0][0]       \n",
            "__________________________________________________________________________________________________\n",
            "conv5_block21_1_bn (BatchNormal (None, 8, 8, 128)    512         conv5_block21_1_conv[0][0]       \n",
            "__________________________________________________________________________________________________\n",
            "conv5_block21_1_relu (Activatio (None, 8, 8, 128)    0           conv5_block21_1_bn[0][0]         \n",
            "__________________________________________________________________________________________________\n",
            "conv5_block21_2_conv (Conv2D)   (None, 8, 8, 32)     36864       conv5_block21_1_relu[0][0]       \n",
            "__________________________________________________________________________________________________\n",
            "conv5_block21_concat (Concatena (None, 8, 8, 1568)   0           conv5_block20_concat[0][0]       \n",
            "                                                                 conv5_block21_2_conv[0][0]       \n",
            "__________________________________________________________________________________________________\n",
            "conv5_block22_0_bn (BatchNormal (None, 8, 8, 1568)   6272        conv5_block21_concat[0][0]       \n",
            "__________________________________________________________________________________________________\n",
            "conv5_block22_0_relu (Activatio (None, 8, 8, 1568)   0           conv5_block22_0_bn[0][0]         \n",
            "__________________________________________________________________________________________________\n",
            "conv5_block22_1_conv (Conv2D)   (None, 8, 8, 128)    200704      conv5_block22_0_relu[0][0]       \n",
            "__________________________________________________________________________________________________\n",
            "conv5_block22_1_bn (BatchNormal (None, 8, 8, 128)    512         conv5_block22_1_conv[0][0]       \n",
            "__________________________________________________________________________________________________\n",
            "conv5_block22_1_relu (Activatio (None, 8, 8, 128)    0           conv5_block22_1_bn[0][0]         \n",
            "__________________________________________________________________________________________________\n",
            "conv5_block22_2_conv (Conv2D)   (None, 8, 8, 32)     36864       conv5_block22_1_relu[0][0]       \n",
            "__________________________________________________________________________________________________\n",
            "conv5_block22_concat (Concatena (None, 8, 8, 1600)   0           conv5_block21_concat[0][0]       \n",
            "                                                                 conv5_block22_2_conv[0][0]       \n",
            "__________________________________________________________________________________________________\n",
            "conv5_block23_0_bn (BatchNormal (None, 8, 8, 1600)   6400        conv5_block22_concat[0][0]       \n",
            "__________________________________________________________________________________________________\n",
            "conv5_block23_0_relu (Activatio (None, 8, 8, 1600)   0           conv5_block23_0_bn[0][0]         \n",
            "__________________________________________________________________________________________________\n",
            "conv5_block23_1_conv (Conv2D)   (None, 8, 8, 128)    204800      conv5_block23_0_relu[0][0]       \n",
            "__________________________________________________________________________________________________\n",
            "conv5_block23_1_bn (BatchNormal (None, 8, 8, 128)    512         conv5_block23_1_conv[0][0]       \n",
            "__________________________________________________________________________________________________\n",
            "conv5_block23_1_relu (Activatio (None, 8, 8, 128)    0           conv5_block23_1_bn[0][0]         \n",
            "__________________________________________________________________________________________________\n",
            "conv5_block23_2_conv (Conv2D)   (None, 8, 8, 32)     36864       conv5_block23_1_relu[0][0]       \n",
            "__________________________________________________________________________________________________\n",
            "conv5_block23_concat (Concatena (None, 8, 8, 1632)   0           conv5_block22_concat[0][0]       \n",
            "                                                                 conv5_block23_2_conv[0][0]       \n",
            "__________________________________________________________________________________________________\n",
            "conv5_block24_0_bn (BatchNormal (None, 8, 8, 1632)   6528        conv5_block23_concat[0][0]       \n",
            "__________________________________________________________________________________________________\n",
            "conv5_block24_0_relu (Activatio (None, 8, 8, 1632)   0           conv5_block24_0_bn[0][0]         \n",
            "__________________________________________________________________________________________________\n",
            "conv5_block24_1_conv (Conv2D)   (None, 8, 8, 128)    208896      conv5_block24_0_relu[0][0]       \n",
            "__________________________________________________________________________________________________\n",
            "conv5_block24_1_bn (BatchNormal (None, 8, 8, 128)    512         conv5_block24_1_conv[0][0]       \n",
            "__________________________________________________________________________________________________\n",
            "conv5_block24_1_relu (Activatio (None, 8, 8, 128)    0           conv5_block24_1_bn[0][0]         \n",
            "__________________________________________________________________________________________________\n",
            "conv5_block24_2_conv (Conv2D)   (None, 8, 8, 32)     36864       conv5_block24_1_relu[0][0]       \n",
            "__________________________________________________________________________________________________\n",
            "conv5_block24_concat (Concatena (None, 8, 8, 1664)   0           conv5_block23_concat[0][0]       \n",
            "                                                                 conv5_block24_2_conv[0][0]       \n",
            "__________________________________________________________________________________________________\n",
            "conv5_block25_0_bn (BatchNormal (None, 8, 8, 1664)   6656        conv5_block24_concat[0][0]       \n",
            "__________________________________________________________________________________________________\n",
            "conv5_block25_0_relu (Activatio (None, 8, 8, 1664)   0           conv5_block25_0_bn[0][0]         \n",
            "__________________________________________________________________________________________________\n",
            "conv5_block25_1_conv (Conv2D)   (None, 8, 8, 128)    212992      conv5_block25_0_relu[0][0]       \n",
            "__________________________________________________________________________________________________\n",
            "conv5_block25_1_bn (BatchNormal (None, 8, 8, 128)    512         conv5_block25_1_conv[0][0]       \n",
            "__________________________________________________________________________________________________\n",
            "conv5_block25_1_relu (Activatio (None, 8, 8, 128)    0           conv5_block25_1_bn[0][0]         \n",
            "__________________________________________________________________________________________________\n",
            "conv5_block25_2_conv (Conv2D)   (None, 8, 8, 32)     36864       conv5_block25_1_relu[0][0]       \n",
            "__________________________________________________________________________________________________\n",
            "conv5_block25_concat (Concatena (None, 8, 8, 1696)   0           conv5_block24_concat[0][0]       \n",
            "                                                                 conv5_block25_2_conv[0][0]       \n",
            "__________________________________________________________________________________________________\n",
            "conv5_block26_0_bn (BatchNormal (None, 8, 8, 1696)   6784        conv5_block25_concat[0][0]       \n",
            "__________________________________________________________________________________________________\n",
            "conv5_block26_0_relu (Activatio (None, 8, 8, 1696)   0           conv5_block26_0_bn[0][0]         \n",
            "__________________________________________________________________________________________________\n",
            "conv5_block26_1_conv (Conv2D)   (None, 8, 8, 128)    217088      conv5_block26_0_relu[0][0]       \n",
            "__________________________________________________________________________________________________\n",
            "conv5_block26_1_bn (BatchNormal (None, 8, 8, 128)    512         conv5_block26_1_conv[0][0]       \n",
            "__________________________________________________________________________________________________\n",
            "conv5_block26_1_relu (Activatio (None, 8, 8, 128)    0           conv5_block26_1_bn[0][0]         \n",
            "__________________________________________________________________________________________________\n",
            "conv5_block26_2_conv (Conv2D)   (None, 8, 8, 32)     36864       conv5_block26_1_relu[0][0]       \n",
            "__________________________________________________________________________________________________\n",
            "conv5_block26_concat (Concatena (None, 8, 8, 1728)   0           conv5_block25_concat[0][0]       \n",
            "                                                                 conv5_block26_2_conv[0][0]       \n",
            "__________________________________________________________________________________________________\n",
            "conv5_block27_0_bn (BatchNormal (None, 8, 8, 1728)   6912        conv5_block26_concat[0][0]       \n",
            "__________________________________________________________________________________________________\n",
            "conv5_block27_0_relu (Activatio (None, 8, 8, 1728)   0           conv5_block27_0_bn[0][0]         \n",
            "__________________________________________________________________________________________________\n",
            "conv5_block27_1_conv (Conv2D)   (None, 8, 8, 128)    221184      conv5_block27_0_relu[0][0]       \n",
            "__________________________________________________________________________________________________\n",
            "conv5_block27_1_bn (BatchNormal (None, 8, 8, 128)    512         conv5_block27_1_conv[0][0]       \n",
            "__________________________________________________________________________________________________\n",
            "conv5_block27_1_relu (Activatio (None, 8, 8, 128)    0           conv5_block27_1_bn[0][0]         \n",
            "__________________________________________________________________________________________________\n",
            "conv5_block27_2_conv (Conv2D)   (None, 8, 8, 32)     36864       conv5_block27_1_relu[0][0]       \n",
            "__________________________________________________________________________________________________\n",
            "conv5_block27_concat (Concatena (None, 8, 8, 1760)   0           conv5_block26_concat[0][0]       \n",
            "                                                                 conv5_block27_2_conv[0][0]       \n",
            "__________________________________________________________________________________________________\n",
            "conv5_block28_0_bn (BatchNormal (None, 8, 8, 1760)   7040        conv5_block27_concat[0][0]       \n",
            "__________________________________________________________________________________________________\n",
            "conv5_block28_0_relu (Activatio (None, 8, 8, 1760)   0           conv5_block28_0_bn[0][0]         \n",
            "__________________________________________________________________________________________________\n",
            "conv5_block28_1_conv (Conv2D)   (None, 8, 8, 128)    225280      conv5_block28_0_relu[0][0]       \n",
            "__________________________________________________________________________________________________\n",
            "conv5_block28_1_bn (BatchNormal (None, 8, 8, 128)    512         conv5_block28_1_conv[0][0]       \n",
            "__________________________________________________________________________________________________\n",
            "conv5_block28_1_relu (Activatio (None, 8, 8, 128)    0           conv5_block28_1_bn[0][0]         \n",
            "__________________________________________________________________________________________________\n",
            "conv5_block28_2_conv (Conv2D)   (None, 8, 8, 32)     36864       conv5_block28_1_relu[0][0]       \n",
            "__________________________________________________________________________________________________\n",
            "conv5_block28_concat (Concatena (None, 8, 8, 1792)   0           conv5_block27_concat[0][0]       \n",
            "                                                                 conv5_block28_2_conv[0][0]       \n",
            "__________________________________________________________________________________________________\n",
            "conv5_block29_0_bn (BatchNormal (None, 8, 8, 1792)   7168        conv5_block28_concat[0][0]       \n",
            "__________________________________________________________________________________________________\n",
            "conv5_block29_0_relu (Activatio (None, 8, 8, 1792)   0           conv5_block29_0_bn[0][0]         \n",
            "__________________________________________________________________________________________________\n",
            "conv5_block29_1_conv (Conv2D)   (None, 8, 8, 128)    229376      conv5_block29_0_relu[0][0]       \n",
            "__________________________________________________________________________________________________\n",
            "conv5_block29_1_bn (BatchNormal (None, 8, 8, 128)    512         conv5_block29_1_conv[0][0]       \n",
            "__________________________________________________________________________________________________\n",
            "conv5_block29_1_relu (Activatio (None, 8, 8, 128)    0           conv5_block29_1_bn[0][0]         \n",
            "__________________________________________________________________________________________________\n",
            "conv5_block29_2_conv (Conv2D)   (None, 8, 8, 32)     36864       conv5_block29_1_relu[0][0]       \n",
            "__________________________________________________________________________________________________\n",
            "conv5_block29_concat (Concatena (None, 8, 8, 1824)   0           conv5_block28_concat[0][0]       \n",
            "                                                                 conv5_block29_2_conv[0][0]       \n",
            "__________________________________________________________________________________________________\n",
            "conv5_block30_0_bn (BatchNormal (None, 8, 8, 1824)   7296        conv5_block29_concat[0][0]       \n",
            "__________________________________________________________________________________________________\n",
            "conv5_block30_0_relu (Activatio (None, 8, 8, 1824)   0           conv5_block30_0_bn[0][0]         \n",
            "__________________________________________________________________________________________________\n",
            "conv5_block30_1_conv (Conv2D)   (None, 8, 8, 128)    233472      conv5_block30_0_relu[0][0]       \n",
            "__________________________________________________________________________________________________\n",
            "conv5_block30_1_bn (BatchNormal (None, 8, 8, 128)    512         conv5_block30_1_conv[0][0]       \n",
            "__________________________________________________________________________________________________\n",
            "conv5_block30_1_relu (Activatio (None, 8, 8, 128)    0           conv5_block30_1_bn[0][0]         \n",
            "__________________________________________________________________________________________________\n",
            "conv5_block30_2_conv (Conv2D)   (None, 8, 8, 32)     36864       conv5_block30_1_relu[0][0]       \n",
            "__________________________________________________________________________________________________\n",
            "conv5_block30_concat (Concatena (None, 8, 8, 1856)   0           conv5_block29_concat[0][0]       \n",
            "                                                                 conv5_block30_2_conv[0][0]       \n",
            "__________________________________________________________________________________________________\n",
            "conv5_block31_0_bn (BatchNormal (None, 8, 8, 1856)   7424        conv5_block30_concat[0][0]       \n",
            "__________________________________________________________________________________________________\n",
            "conv5_block31_0_relu (Activatio (None, 8, 8, 1856)   0           conv5_block31_0_bn[0][0]         \n",
            "__________________________________________________________________________________________________\n",
            "conv5_block31_1_conv (Conv2D)   (None, 8, 8, 128)    237568      conv5_block31_0_relu[0][0]       \n",
            "__________________________________________________________________________________________________\n",
            "conv5_block31_1_bn (BatchNormal (None, 8, 8, 128)    512         conv5_block31_1_conv[0][0]       \n",
            "__________________________________________________________________________________________________\n",
            "conv5_block31_1_relu (Activatio (None, 8, 8, 128)    0           conv5_block31_1_bn[0][0]         \n",
            "__________________________________________________________________________________________________\n",
            "conv5_block31_2_conv (Conv2D)   (None, 8, 8, 32)     36864       conv5_block31_1_relu[0][0]       \n",
            "__________________________________________________________________________________________________\n",
            "conv5_block31_concat (Concatena (None, 8, 8, 1888)   0           conv5_block30_concat[0][0]       \n",
            "                                                                 conv5_block31_2_conv[0][0]       \n",
            "__________________________________________________________________________________________________\n",
            "conv5_block32_0_bn (BatchNormal (None, 8, 8, 1888)   7552        conv5_block31_concat[0][0]       \n",
            "__________________________________________________________________________________________________\n",
            "conv5_block32_0_relu (Activatio (None, 8, 8, 1888)   0           conv5_block32_0_bn[0][0]         \n",
            "__________________________________________________________________________________________________\n",
            "conv5_block32_1_conv (Conv2D)   (None, 8, 8, 128)    241664      conv5_block32_0_relu[0][0]       \n",
            "__________________________________________________________________________________________________\n",
            "conv5_block32_1_bn (BatchNormal (None, 8, 8, 128)    512         conv5_block32_1_conv[0][0]       \n",
            "__________________________________________________________________________________________________\n",
            "conv5_block32_1_relu (Activatio (None, 8, 8, 128)    0           conv5_block32_1_bn[0][0]         \n",
            "__________________________________________________________________________________________________\n",
            "conv5_block32_2_conv (Conv2D)   (None, 8, 8, 32)     36864       conv5_block32_1_relu[0][0]       \n",
            "__________________________________________________________________________________________________\n",
            "conv5_block32_concat (Concatena (None, 8, 8, 1920)   0           conv5_block31_concat[0][0]       \n",
            "                                                                 conv5_block32_2_conv[0][0]       \n",
            "__________________________________________________________________________________________________\n",
            "bn (BatchNormalization)         (None, 8, 8, 1920)   7680        conv5_block32_concat[0][0]       \n",
            "__________________________________________________________________________________________________\n",
            "relu (Activation)               (None, 8, 8, 1920)   0           bn[0][0]                         \n",
            "__________________________________________________________________________________________________\n",
            "flatten (Flatten)               (None, 122880)       0           relu[0][0]                       \n",
            "__________________________________________________________________________________________________\n",
            "dense (Dense)                   (None, 1024)         125830144   flatten[0][0]                    \n",
            "__________________________________________________________________________________________________\n",
            "dropout (Dropout)               (None, 1024)         0           dense[0][0]                      \n",
            "__________________________________________________________________________________________________\n",
            "dense_1 (Dense)                 (None, 1024)         1049600     dropout[0][0]                    \n",
            "__________________________________________________________________________________________________\n",
            "dropout_1 (Dropout)             (None, 1024)         0           dense_1[0][0]                    \n",
            "__________________________________________________________________________________________________\n",
            "dense_2 (Dense)                 (None, 2048)         2099200     dropout_1[0][0]                  \n",
            "__________________________________________________________________________________________________\n",
            "dropout_2 (Dropout)             (None, 2048)         0           dense_2[0][0]                    \n",
            "__________________________________________________________________________________________________\n",
            "dense_3 (Dense)                 (None, 10)           20490       dropout_2[0][0]                  \n",
            "==================================================================================================\n",
            "Total params: 147,321,418\n",
            "Trainable params: 147,092,362\n",
            "Non-trainable params: 229,056\n",
            "__________________________________________________________________________________________________\n"
          ],
          "name": "stdout"
        }
      ]
    },
    {
      "cell_type": "code",
      "metadata": {
        "colab": {
          "base_uri": "https://localhost:8080/",
          "height": 36
        },
        "id": "WgomlDGDqn6-",
        "outputId": "399b7ca3-ceca-4261-f2ab-0ff943b5bd98"
      },
      "source": [
        "'''\n",
        "tf.keras.utils.plot_model(\n",
        "    model, to_file='model.png', show_shapes=True, show_dtype=False,\n",
        "    show_layer_names=True, rankdir='TB', expand_nested=True, dpi=64\n",
        ")\n",
        "#'''"
      ],
      "execution_count": 16,
      "outputs": [
        {
          "output_type": "execute_result",
          "data": {
            "application/vnd.google.colaboratory.intrinsic+json": {
              "type": "string"
            },
            "text/plain": [
              "\"\\ntf.keras.utils.plot_model(\\n    model, to_file='model.png', show_shapes=True, show_dtype=False,\\n    show_layer_names=True, rankdir='TB', expand_nested=True, dpi=64\\n)\\n#\""
            ]
          },
          "metadata": {
            "tags": []
          },
          "execution_count": 16
        }
      ]
    },
    {
      "cell_type": "code",
      "metadata": {
        "colab": {
          "base_uri": "https://localhost:8080/"
        },
        "id": "ozx7Z-ZiUE-2",
        "outputId": "c315b270-2238-403f-86eb-87cfeaf1c3a1"
      },
      "source": [
        "count_trainable = 0\n",
        "count_non_trainable = 0\n",
        "\n",
        "#'''\n",
        "if pointTrainableAfter == \"allDefault\":\n",
        "    for layer in model.layers:\n",
        "        layer.trainable=True\n",
        "        count_trainable += 1\n",
        "elif pointTrainableAfter > 0:\n",
        "    for layer in model.layers[:pointTrainableAfter]: # [:-pointTrainableAfter]\n",
        "        layer.trainable=False\n",
        "        count_non_trainable += 1\n",
        "    for layer in model.layers[pointTrainableAfter:]: # [-pointTrainableAfter:]\n",
        "        layer.trainable=True\n",
        "        count_trainable += 1\n",
        "#'''\n",
        "\n",
        "'''\n",
        "for layer in model.layers:\n",
        "    layer.trainable=True\n",
        "    count_trainable += 1\n",
        "#'''\n",
        "\n",
        "print(\"count_non_trainable =\", count_non_trainable)\n",
        "print(\"count_trainable =\", count_trainable)\n",
        "print(\"Total number of layers =\", count_non_trainable+count_trainable)"
      ],
      "execution_count": 17,
      "outputs": [
        {
          "output_type": "stream",
          "text": [
            "count_non_trainable = 0\n",
            "count_trainable = 715\n",
            "Total number of layers = 715\n"
          ],
          "name": "stdout"
        }
      ]
    },
    {
      "cell_type": "code",
      "metadata": {
        "colab": {
          "base_uri": "https://localhost:8080/",
          "height": 72
        },
        "id": "aqwYD5TGPxyV",
        "outputId": "86289370-27fa-423e-d007-2ca9626088ed"
      },
      "source": [
        "'''\n",
        "checkpointer_name  = \"weights.\"+dataset+\".pad\"+str(pad)+\".\"+impl_type+\".wInit.\"+str(init_weights)+\".TrainableAfter.\"+str(pointTrainableAfter)+\\\n",
        "                     modelExt+\".opt.\"+OPTIMIZER+\".drop.\"+str(DROPOUT)+\".batch\"+str(BATCH_SIZE)+ext+\".hdf5\"\n",
        "log_name = \"log.\"+checkpointer_name[8:-5]+\".log\"\n",
        "\n",
        "print('checkpointer_name =', checkpointer_name)\n",
        "print('log_name =', log_name)\n",
        "#'''"
      ],
      "execution_count": 18,
      "outputs": [
        {
          "output_type": "execute_result",
          "data": {
            "application/vnd.google.colaboratory.intrinsic+json": {
              "type": "string"
            },
            "text/plain": [
              "'\\ncheckpointer_name  = \"weights.\"+dataset+\".pad\"+str(pad)+\".\"+impl_type+\".wInit.\"+str(init_weights)+\".TrainableAfter.\"+str(pointTrainableAfter)+                     modelExt+\".opt.\"+OPTIMIZER+\".drop.\"+str(DROPOUT)+\".batch\"+str(BATCH_SIZE)+ext+\".hdf5\"\\nlog_name = \"log.\"+checkpointer_name[8:-5]+\".log\"\\n\\nprint(\\'checkpointer_name =\\', checkpointer_name)\\nprint(\\'log_name =\\', log_name)\\n#'"
            ]
          },
          "metadata": {
            "tags": []
          },
          "execution_count": 18
        }
      ]
    },
    {
      "cell_type": "code",
      "metadata": {
        "colab": {
          "base_uri": "https://localhost:8080/"
        },
        "id": "3T7w_lC1QCPh",
        "outputId": "3f66b02d-a9fc-47b5-80dd-00b174197705"
      },
      "source": [
        "# \"RMSProp\" \"SGD\" \"Adam\" \"Adamax\" \"Adadelta\" \"Adagrad\" \"SGD\"\n",
        "#optimizer = tf.keras.optimizers.RMSprop(lr = LEARNING_RATE, epsilon=EPSILON)\n",
        "\n",
        "if OPTIMIZER == \"RMSProp\":\n",
        "    optimizer = tf.keras.optimizers.RMSprop(lr = LEARNING_RATE, epsilon=EPSILON)\n",
        "elif OPTIMIZER == \"Adam\":\n",
        "    optimizer = tf.keras.optimizers.Adam(lr = LEARNING_RATE, epsilon=EPSILON, beta_1=0.9, beta_2=0.999)\n",
        "elif OPTIMIZER == \"Adamax\":\n",
        "    optimizer = tf.keras.optimizers.Adamax(lr = LEARNING_RATE, epsilon=EPSILON, beta_1=0.9, beta_2=0.999)\n",
        "elif OPTIMIZER == \"Adadelta\":\n",
        "    optimizer = tf.keras.optimizers.Adadelta(lr = LEARNING_RATE, epsilon=EPSILON, rho=0.95)\n",
        "elif OPTIMIZER == \"Adagrad\":\n",
        "    optimizer = tf.keras.optimizers.Adagrad(lr = LEARNING_RATE, epsilon=EPSILON, initial_accumulator_value=0.1)\n",
        "elif OPTIMIZER == \"SGD\":\n",
        "    optimizer = tf.keras.optimizers.SGD(lr = LEARNING_RATE, momentum=0.9)\n",
        "\n",
        "model.compile(\n",
        "    #optimizer=OPTIMIZER,\n",
        "    optimizer=optimizer,\n",
        "    loss=LOSS,\n",
        "    metrics=['accuracy']\n",
        ")\n",
        "\n",
        "print(\"OPTIMIZER =\", OPTIMIZER)"
      ],
      "execution_count": 19,
      "outputs": [
        {
          "output_type": "stream",
          "text": [
            "OPTIMIZER = Adam\n"
          ],
          "name": "stdout"
        },
        {
          "output_type": "stream",
          "text": [
            "/usr/local/lib/python3.7/dist-packages/tensorflow/python/keras/optimizer_v2/optimizer_v2.py:375: UserWarning: The `lr` argument is deprecated, use `learning_rate` instead.\n",
            "  \"The `lr` argument is deprecated, use `learning_rate` instead.\")\n"
          ],
          "name": "stderr"
        }
      ]
    },
    {
      "cell_type": "code",
      "metadata": {
        "id": "OdySVEG3QCpv"
      },
      "source": [
        "# save the best model with least validation loss\n",
        "checkpointer = ModelCheckpoint(filepath = work_dir+checkpointer_name, \n",
        "                               #monitor='val_accuracy',\n",
        "                               monitor='val_loss',\n",
        "                               save_weights_only=False,  \n",
        "                               mode='auto', \n",
        "                               verbose = 1, # 0 = silent, 1 = progress bar, 2 = one line per epoch\n",
        "                               save_best_only =False\n",
        "                               )\n",
        "checkpointer_best = ModelCheckpoint(filepath = work_dir+\"best_\"+checkpointer_name, \n",
        "                                    monitor='val_loss', \n",
        "                                    save_weights_only=False,\n",
        "                                    mode='auto',  \n",
        "                                    verbose = 1, \n",
        "                                    save_best_only = True\n",
        "                                    )\n",
        "early_stopping = EarlyStopping(monitor='loss', patience=early_stop_after_epochs)"
      ],
      "execution_count": 20,
      "outputs": []
    },
    {
      "cell_type": "code",
      "metadata": {
        "colab": {
          "base_uri": "https://localhost:8080/"
        },
        "id": "Fq3iXmYXQHNL",
        "outputId": "a485567a-2b45-4905-cb55-8501437c202b"
      },
      "source": [
        "'''\n",
        "if 'count_no_improvement' not in globals():\n",
        "    count_no_improvement = 0\n",
        "    print(\"count_no_improvement =\", count_no_improvement)\n",
        "#'''\n",
        "#'''\n",
        "count_no_improvement = 0\n",
        "epoch_initial = False\n",
        "#'''\n",
        "min_delta = 0.0009\n",
        "print(\"count_no_improvement =\", count_no_improvement)\n",
        "\n",
        "def checkBestPerformance(epoch, logs):\n",
        "    save_filepath = work_dir+\"best_\"+checkpointer_name\n",
        "\n",
        "    global epoch_initial\n",
        "    if epoch_initial == True:\n",
        "        epoch_initial = False\n",
        "        model.save(filepath = save_filepath)\n",
        "        print(\". Model saved!\")\n",
        "\n",
        "    elif epoch_initial == False:\n",
        "        global count_no_improvement\n",
        "\n",
        "        log_data = pd.read_csv(work_dir+log_name, sep=',', usecols=['val_loss', 'val_accuracy'], engine='python')\n",
        "        min_val_loss = float(str(min(log_data.val_loss.values))[:6])\n",
        "        max_val_acc = float(str(max(log_data.val_accuracy.values))[:6])\n",
        "\n",
        "        current_val_acc = float(str(logs['val_accuracy'])[:6])\n",
        "        current_val_loss = float(str(logs['val_loss'])[:6])\n",
        "\n",
        "        if (current_val_loss < min_val_loss) and (abs(current_val_loss-min_val_loss) >= min_delta):\n",
        "            count_no_improvement = 0\n",
        "            model.save(filepath = save_filepath)\n",
        "            print(\"\\nval_loss decreased from\",min_val_loss,\" to\",current_val_loss,\"( val_accuracy =\",current_val_acc,\").\")\n",
        "\n",
        "        elif (current_val_loss==min_val_loss) and (current_val_acc>max_val_acc):\n",
        "            count_no_improvement = 0\n",
        "            model.save(filepath = save_filepath)\n",
        "            print(\"\\nval_accuracy increased to\", current_val_acc, \".\")\n",
        "\n",
        "        else:\n",
        "            count_no_improvement += 1\n",
        "            print(\". count_no_improvement =\", count_no_improvement)\n",
        "\n",
        "        if count_no_improvement >= early_stop_after_epochs:\n",
        "            global list_callbacks\n",
        "            del list_callbacks, count_no_improvement\n",
        "            #print(\"count_no_improvement =\", count_no_improvement, \"... list_callbacks =\", list_callbacks)"
      ],
      "execution_count": 21,
      "outputs": [
        {
          "output_type": "stream",
          "text": [
            "count_no_improvement = 0\n"
          ],
          "name": "stdout"
        }
      ]
    },
    {
      "cell_type": "code",
      "metadata": {
        "colab": {
          "base_uri": "https://localhost:8080/"
        },
        "id": "YYewyuDiREFZ",
        "outputId": "dff0e86d-6699-4ba6-bf65-0332f98c9c60"
      },
      "source": [
        "epochs_completed = 0\n",
        "list_callbacks = []\n",
        "csv_logger = CSVLogger(work_dir+log_name, separator=',', append=True)\n",
        "\n",
        "#if 'list_callbacks' in globals():\n",
        "#    del list_callbacks\n",
        "\n",
        "try:\n",
        "    log_data = pd.read_csv(work_dir+log_name, sep=',', usecols=['epoch'], engine='python')\n",
        "    epochs_completed = log_data.shape[0]\n",
        "\n",
        "    #if epochs_completed > 0:\n",
        "    model = load_model(work_dir+checkpointer_name)\n",
        "    list_callbacks = [checkpointer, LambdaCallback(on_epoch_end=checkBestPerformance), csv_logger]\n",
        "    print(\"epochs_completed =\", epochs_completed)\n",
        "\n",
        "except Exception as error:\n",
        "    if epochs_completed == 0:\n",
        "        # list_callbacks = [checkpointer, checkpointer_best, csv_logger, early_stopping] \n",
        "        list_callbacks = [checkpointer, LambdaCallback(on_epoch_end=checkBestPerformance), csv_logger]\n",
        "        print(\"epochs_completed =\", epochs_completed)\n",
        "    elif epochs_completed > 0:\n",
        "        print(error)\n",
        "\n",
        "print('checkpointer_name =', checkpointer_name)"
      ],
      "execution_count": 22,
      "outputs": [
        {
          "output_type": "stream",
          "text": [
            "epochs_completed = 8\n",
            "checkpointer_name = weights.CIFAR_10.rgb.(256, 256).DataFlow.pad0.TransferLearning3D.DenseNet201.wInit.imagenet.TrainableAfter.allDefault.Dense.1024.1024.2048.actF.elu.opt.Adam.drop.0.5.batch16.Flatten.l2.0.001.run_2.hdf5\n"
          ],
          "name": "stdout"
        }
      ]
    },
    {
      "cell_type": "code",
      "metadata": {
        "colab": {
          "base_uri": "https://localhost:8080/"
        },
        "id": "6JKqrHnwRGGz",
        "outputId": "f3e41394-b246-44db-8c43-39ee08d7f862"
      },
      "source": [
        "print('checkpointer_name =', checkpointer_name)\n",
        "print(\"Previously completed epochs =\", epochs_completed)\n",
        "print(\"count_no_improvement =\", count_no_improvement, \"\\n\")\n",
        "\n",
        "#'''\n",
        "try:\n",
        "    start_time = time.time()\n",
        "    history = model.fit(train_generator, \n",
        "                        steps_per_epoch=total_train_data // BATCH_SIZE,\n",
        "                        shuffle=True, \n",
        "                        epochs = NUM_EPOCHS - epochs_completed, \n",
        "                        validation_data=test_generator,\n",
        "                        validation_steps=total_test_data // BATCH_SIZE,\n",
        "                        callbacks=list_callbacks\n",
        "                        )\n",
        "    elapsed_time = time.time() - start_time \n",
        "    print(\"\\nTime elapsed: \", elapsed_time)\n",
        "\n",
        "except Exception as error:\n",
        "    print(\"\\nError:\", error)\n",
        "#'''"
      ],
      "execution_count": 23,
      "outputs": [
        {
          "output_type": "stream",
          "text": [
            "checkpointer_name = weights.CIFAR_10.rgb.(256, 256).DataFlow.pad0.TransferLearning3D.DenseNet201.wInit.imagenet.TrainableAfter.allDefault.Dense.1024.1024.2048.actF.elu.opt.Adam.drop.0.5.batch16.Flatten.l2.0.001.run_2.hdf5\n",
            "Previously completed epochs = 8\n",
            "count_no_improvement = 0 \n",
            "\n",
            "Epoch 1/2\n",
            "3125/3125 [==============================] - 10003s 3s/step - loss: 2.2075 - accuracy: 0.9884 - val_loss: 2.2938 - val_accuracy: 0.9643\n",
            "\n",
            "Epoch 00001: saving model to drive/My Drive/CIFAR10/Records/weights.CIFAR_10.rgb.(256, 256).DataFlow.pad0.TransferLearning3D.DenseNet201.wInit.imagenet.TrainableAfter.allDefault.Dense.1024.1024.2048.actF.elu.opt.Adam.drop.0.5.batch16.Flatten.l2.0.001.run_2.hdf5\n",
            "\n",
            "val_loss decreased from 2.4832  to 2.2937 ( val_accuracy = 0.9642 ).\n",
            "Epoch 2/2\n",
            "3125/3125 [==============================] - 1356s 434ms/step - loss: 2.0411 - accuracy: 0.9907 - val_loss: 2.1784 - val_accuracy: 0.9592\n",
            "\n",
            "Epoch 00002: saving model to drive/My Drive/CIFAR10/Records/weights.CIFAR_10.rgb.(256, 256).DataFlow.pad0.TransferLearning3D.DenseNet201.wInit.imagenet.TrainableAfter.allDefault.Dense.1024.1024.2048.actF.elu.opt.Adam.drop.0.5.batch16.Flatten.l2.0.001.run_2.hdf5\n",
            "\n",
            "val_loss decreased from 2.2937  to 2.1783 ( val_accuracy = 0.9592 ).\n",
            "\n",
            "Time elapsed:  11583.808625221252\n"
          ],
          "name": "stdout"
        }
      ]
    },
    {
      "cell_type": "code",
      "metadata": {
        "id": "UJsgsZFzQCs2"
      },
      "source": [
        "# (91.00%) weights.CIFAR_10.rgb.(256, 256).DataFlow.pad0.TransferLearning3D.DenseNet201.wInit.imagenet.TrainableAfter.allDefault.Dense.1024.1024.2048.actF.elu.opt.Adam.drop.0.5.batch16.Flatten.l2.0.001.run_1.hdf5\n",
        "# weights.CIFAR_10.rgb.(256, 256).DataFlow.pad0.TransferLearning3D.DenseNet201.wInit.imagenet.TrainableAfter.allDefault.Dense.1024.1024.2048.actF.elu.opt.Adam.drop.0.5.batch16.Flatten.l2.0.001.run_2.hdf5\n"
      ],
      "execution_count": 24,
      "outputs": []
    },
    {
      "cell_type": "code",
      "metadata": {
        "id": "l_xKnoFvFQ4F",
        "colab": {
          "base_uri": "https://localhost:8080/"
        },
        "outputId": "ed3f0f43-8dcb-4b6b-c2d3-bf766a2b586a"
      },
      "source": [
        "'''\n",
        "Record: CIFAR_10_impl_1_256p_RGB_Dense201_Custom_withImageNet_DataFlow: (90.61%)\n",
        ";\n",
        "---\n",
        "Test Acc: 0.9592, Test Loss: 2.1784: ep10, weights.CIFAR_10.rgb.(256, 256).DataFlow.pad0.TransferLearning3D.DenseNet201.wInit.imagenet.TrainableAfter.allDefault.Dense.1024.1024.2048.actF.elu.opt.Adam.drop.0.5.batch16.Flatten.l2.0.001.run_2.hdf5\n",
        "\n",
        "#'''\n",
        "\n",
        "csv_logger = CSVLogger(work_dir+log_name, separator=',', append=True)\n",
        "log_data = pd.read_csv(work_dir+log_name, sep=',', usecols=['epoch'], engine='python')\n",
        "epochs_completed = log_data.shape[0]\n",
        "\n",
        "result = model.evaluate(test_generator, steps=total_test_data // BATCH_SIZE)\n",
        "print(\"Test Acc: {}, Test Loss: {}: ep{}, {}\\n\".format(round(result[1],4), round(result[0],4), epochs_completed, checkpointer_name))\n"
      ],
      "execution_count": 25,
      "outputs": [
        {
          "output_type": "stream",
          "text": [
            "625/625 [==============================] - 84s 133ms/step - loss: 2.1784 - accuracy: 0.9592\n",
            "Test Acc: 0.9592, Test Loss: 2.1784: ep10, weights.CIFAR_10.rgb.(256, 256).DataFlow.pad0.TransferLearning3D.DenseNet201.wInit.imagenet.TrainableAfter.allDefault.Dense.1024.1024.2048.actF.elu.opt.Adam.drop.0.5.batch16.Flatten.l2.0.001.run_2.hdf5\n",
            "\n"
          ],
          "name": "stdout"
        }
      ]
    },
    {
      "cell_type": "code",
      "metadata": {
        "id": "IQM7JieEFQ1G",
        "colab": {
          "base_uri": "https://localhost:8080/"
        },
        "outputId": "dc683eb3-94f0-47c9-8803-a134b6f773cc"
      },
      "source": [
        "#checkpointer_name = \"weights.Fashion.DenseNet121.wInit.None.TrainableAfterallDefault.opt.SGD.drop.0.0.batch32.Flatten.run_1.hdf5\"\n",
        "model_loaded = load_model(work_dir+\"best_\"+checkpointer_name)\n",
        "print(\"Loaded \"+work_dir+\"best_\"+checkpointer_name+\".\")"
      ],
      "execution_count": 26,
      "outputs": [
        {
          "output_type": "stream",
          "text": [
            "Loaded drive/My Drive/CIFAR10/Records/best_weights.CIFAR_10.rgb.(256, 256).DataFlow.pad0.TransferLearning3D.DenseNet201.wInit.imagenet.TrainableAfter.allDefault.Dense.1024.1024.2048.actF.elu.opt.Adam.drop.0.5.batch16.Flatten.l2.0.001.run_2.hdf5.\n"
          ],
          "name": "stdout"
        }
      ]
    },
    {
      "cell_type": "code",
      "metadata": {
        "id": "chvVsOEgRfsO",
        "colab": {
          "base_uri": "https://localhost:8080/"
        },
        "outputId": "8acbaa97-62a4-4904-a0d3-24d82058e18c"
      },
      "source": [
        "'''\n",
        "Record: CIFAR_10_impl_1_256p_RGB_Dense201_Custom_withImageNet_DataFlow: (90.61%)\n",
        ";\n",
        "---\n",
        "Test Acc: 0.9592, Test Loss: 2.1784: ep10, best_weights.CIFAR_10.rgb.(256, 256).DataFlow.pad0.TransferLearning3D.DenseNet201.wInit.imagenet.TrainableAfter.allDefault.Dense.1024.1024.2048.actF.elu.opt.Adam.drop.0.5.batch16.Flatten.l2.0.001.run_2.hdf5\n",
        "\n",
        "#'''\n",
        "'''\n",
        "csv_logger = CSVLogger(work_dir+log_name, separator=',', append=True)\n",
        "log_data = pd.read_csv(work_dir+log_name, sep=',', usecols=['epoch'], engine='python')\n",
        "epochs_completed = log_data.shape[0]\n",
        "#'''\n",
        "\n",
        "result2 = model_loaded.evaluate(test_generator, steps=total_test_data // BATCH_SIZE)\n",
        "#print(\"nLayers: {}, nNeurons: {}, DROPOUT: {}, Test Acc: {}, Test Loss: {}\".format(NUM_LAYERS, NUM_NEURONS, DROPOUT, round(result2[1], 4), round(result2[0], 4)))\n",
        "print(\"Test Acc: {}, Test Loss: {}: ep{}, {}\\n\".format(round(result2[1],4), round(result2[0],4), epochs_completed, \"best_\"+checkpointer_name))\n"
      ],
      "execution_count": 27,
      "outputs": [
        {
          "output_type": "stream",
          "text": [
            "625/625 [==============================] - 72s 111ms/step - loss: 2.1784 - accuracy: 0.9592\n",
            "Test Acc: 0.9592, Test Loss: 2.1784: ep10, best_weights.CIFAR_10.rgb.(256, 256).DataFlow.pad0.TransferLearning3D.DenseNet201.wInit.imagenet.TrainableAfter.allDefault.Dense.1024.1024.2048.actF.elu.opt.Adam.drop.0.5.batch16.Flatten.l2.0.001.run_2.hdf5\n",
            "\n"
          ],
          "name": "stdout"
        }
      ]
    },
    {
      "cell_type": "code",
      "metadata": {
        "id": "z1GzwpODRlRf",
        "colab": {
          "base_uri": "https://localhost:8080/"
        },
        "outputId": "5ebf4b06-e97e-4ac0-9c80-6cd342fc6b02"
      },
      "source": [
        "import csv\n",
        "\n",
        "with open(work_dir+'Records.csv', \"a\") as fp:\n",
        "    wr = csv.writer(fp, dialect='excel')\n",
        "    try:\n",
        "        wr.writerow([checkpointer_name[8:-5], round(result2[1], 4), round(result2[0], 4), elapsed_time])\n",
        "    except:\n",
        "        wr.writerow([checkpointer_name[8:-5], round(result2[1], 4), round(result2[0], 4)])\n",
        "print(\"Saved results.\")"
      ],
      "execution_count": 28,
      "outputs": [
        {
          "output_type": "stream",
          "text": [
            "Saved results.\n"
          ],
          "name": "stdout"
        }
      ]
    },
    {
      "cell_type": "code",
      "metadata": {
        "id": "Dv35-hm1Rfv5"
      },
      "source": [
        ""
      ],
      "execution_count": 28,
      "outputs": []
    },
    {
      "cell_type": "code",
      "metadata": {
        "id": "r41Tx24EuA8A",
        "colab": {
          "base_uri": "https://localhost:8080/"
        },
        "outputId": "77e681e7-4b6b-436b-fc90-6e63cb8ad28f"
      },
      "source": [
        "#Confution Matrix and Classification Report\n",
        "#'''\n",
        "Y_pred = model_loaded.predict_generator(test_generator, verbose=1)\n",
        "#'''\n",
        "#'''\n",
        "save_predictions_filename = f\"Y_pred.{checkpointer_name[8:-5]}\"\n",
        "np.save(f\"{work_dir}{save_predictions_filename}\", Y_pred, allow_pickle=True)\n",
        "print(f\"Saved: {work_dir}{save_predictions_filename}\")\n",
        "#'''"
      ],
      "execution_count": 29,
      "outputs": [
        {
          "output_type": "stream",
          "text": [
            "/usr/local/lib/python3.7/dist-packages/tensorflow/python/keras/engine/training.py:2001: UserWarning: `Model.predict_generator` is deprecated and will be removed in a future version. Please use `Model.predict`, which supports generators.\n",
            "  warnings.warn('`Model.predict_generator` is deprecated and '\n"
          ],
          "name": "stderr"
        },
        {
          "output_type": "stream",
          "text": [
            "625/625 [==============================] - 59s 91ms/step\n",
            "Saved: drive/My Drive/CIFAR10/Records/Y_pred.CIFAR_10.rgb.(256, 256).DataFlow.pad0.TransferLearning3D.DenseNet201.wInit.imagenet.TrainableAfter.allDefault.Dense.1024.1024.2048.actF.elu.opt.Adam.drop.0.5.batch16.Flatten.l2.0.001.run_2\n"
          ],
          "name": "stdout"
        }
      ]
    },
    {
      "cell_type": "code",
      "metadata": {
        "id": "RCOqGtOtSVG5",
        "colab": {
          "base_uri": "https://localhost:8080/",
          "height": 54
        },
        "outputId": "b992d011-6cd3-4db9-9960-99a55644f2c1"
      },
      "source": [
        "'''\n",
        "save_predictions_filename = f\"Y_pred.{checkpointer_name[8:-5]}\"\n",
        "np.save(f\"{work_dir}{save_predictions_filename}\", Y_pred, allow_pickle=True)\n",
        "print(f\"Saved: {work_dir}{save_predictions_filename}\")\n",
        "#'''"
      ],
      "execution_count": 30,
      "outputs": [
        {
          "output_type": "execute_result",
          "data": {
            "application/vnd.google.colaboratory.intrinsic+json": {
              "type": "string"
            },
            "text/plain": [
              "'\\nsave_predictions_filename = f\"Y_pred.{checkpointer_name[8:-5]}\"\\nnp.save(f\"{work_dir}{save_predictions_filename}\", Y_pred, allow_pickle=True)\\nprint(f\"Saved: {work_dir}{save_predictions_filename}\")\\n#'"
            ]
          },
          "metadata": {
            "tags": []
          },
          "execution_count": 30
        }
      ]
    },
    {
      "cell_type": "code",
      "metadata": {
        "id": "f5DLKM2YTGiR",
        "colab": {
          "base_uri": "https://localhost:8080/"
        },
        "outputId": "8d3ad4cc-795a-4644-aa98-40cbaf190533"
      },
      "source": [
        "#Y_pred_loaded = np.load(f\"{work_dir}{save_predictions_filename_2}.npy\", allow_pickle=True)\n",
        "Y_pred_loaded = np.load(f\"{work_dir}{save_predictions_filename}.npy\", allow_pickle=True)\n",
        "print(f\"Y_pred_loaded.shape = {Y_pred_loaded.shape}\")"
      ],
      "execution_count": 31,
      "outputs": [
        {
          "output_type": "stream",
          "text": [
            "Y_pred_loaded.shape = (10000, 10)\n"
          ],
          "name": "stdout"
        }
      ]
    },
    {
      "cell_type": "code",
      "metadata": {
        "id": "sKVblYYLTR8O"
      },
      "source": [
        ""
      ],
      "execution_count": 31,
      "outputs": []
    },
    {
      "cell_type": "code",
      "metadata": {
        "id": "vPVcI8W8uVxT"
      },
      "source": [
        "y_pred = np.argmax(Y_pred_loaded, axis=1)"
      ],
      "execution_count": 32,
      "outputs": []
    },
    {
      "cell_type": "code",
      "metadata": {
        "id": "EWjMUxOC_idw"
      },
      "source": [
        "y_true = test_generator.classes"
      ],
      "execution_count": 33,
      "outputs": []
    },
    {
      "cell_type": "code",
      "metadata": {
        "id": "9AnENPzD_XCi",
        "colab": {
          "base_uri": "https://localhost:8080/"
        },
        "outputId": "bb84ce23-b160-48f5-f652-763622d8b54c"
      },
      "source": [
        "list_class_names_in_generator = list(test_generator.class_indices.values())\n",
        "list_class_names_in_generator[:5]"
      ],
      "execution_count": 34,
      "outputs": [
        {
          "output_type": "execute_result",
          "data": {
            "text/plain": [
              "[0, 1, 2, 3, 4]"
            ]
          },
          "metadata": {
            "tags": []
          },
          "execution_count": 34
        }
      ]
    },
    {
      "cell_type": "code",
      "metadata": {
        "id": "g9ECGTlXdLEY",
        "colab": {
          "base_uri": "https://localhost:8080/"
        },
        "outputId": "a6793214-19d9-43cb-9c65-5467c60a8299"
      },
      "source": [
        "len(list_class_names_in_generator)"
      ],
      "execution_count": 35,
      "outputs": [
        {
          "output_type": "execute_result",
          "data": {
            "text/plain": [
              "10"
            ]
          },
          "metadata": {
            "tags": []
          },
          "execution_count": 35
        }
      ]
    },
    {
      "cell_type": "code",
      "metadata": {
        "id": "7c1QqkvSB4rw"
      },
      "source": [
        "list_y_true_rearranged = []\n",
        "list_y_pred_rearranged = []\n",
        "\n",
        "for true_class,pred_class in zip(y_true,y_pred):\n",
        "    #print(f\"true_class = {true_class}; pred_class = {pred_class}\")\n",
        "    #y_true_rearranged = int(list_class_names_in_generator[true_class][5:])\n",
        "    #y_pred_rearranged = int(list_class_names_in_generator[pred_class][5:])\n",
        "\n",
        "    y_true_rearranged = int(list_class_names_in_generator[true_class])\n",
        "    y_pred_rearranged = int(list_class_names_in_generator[pred_class])\n",
        "\n",
        "    list_y_true_rearranged.append(y_true_rearranged)\n",
        "    list_y_pred_rearranged.append(y_pred_rearranged)"
      ],
      "execution_count": 36,
      "outputs": []
    },
    {
      "cell_type": "code",
      "metadata": {
        "id": "twUaOkzO_lYu",
        "colab": {
          "base_uri": "https://localhost:8080/"
        },
        "outputId": "259aa51c-d42a-4f86-9e5c-7bc5ed6b4f8e"
      },
      "source": [
        "np_y_true_rearranged = np.array(list_y_true_rearranged)\n",
        "np_y_pred_rearranged = np.array(list_y_pred_rearranged)\n",
        "\n",
        "print(f\"np_y_true_rearranged.shape = {np_y_true_rearranged.shape}\")\n",
        "print(f\"np_y_pred_rearranged.shape = {np_y_pred_rearranged.shape}\")\n",
        "print(f\"np_y_true_rearranged: {np_y_true_rearranged}\")\n",
        "print(f\"np_y_pred_rearranged: {np_y_pred_rearranged}\")"
      ],
      "execution_count": 37,
      "outputs": [
        {
          "output_type": "stream",
          "text": [
            "np_y_true_rearranged.shape = (10000,)\n",
            "np_y_pred_rearranged.shape = (10000,)\n",
            "np_y_true_rearranged: [0 0 0 ... 9 9 9]\n",
            "np_y_pred_rearranged: [0 0 0 ... 9 9 9]\n"
          ],
          "name": "stdout"
        }
      ]
    },
    {
      "cell_type": "code",
      "metadata": {
        "id": "LxgBOkM5Es08",
        "colab": {
          "base_uri": "https://localhost:8080/"
        },
        "outputId": "aa02f1e2-ab27-4dee-9dfd-2d0377954213"
      },
      "source": [
        "print(f\"np_y_true_rearranged.shape = {np_y_true_rearranged.shape}\\n\")\n",
        "\n",
        "index = -5\n",
        "print(f\"y_true[{index}:] = {y_true[index:]}\")\n",
        "print(f\"y_pred[{index}:] = {y_pred[index:]}\\n\")\n",
        "print(f\"np_y_true_rearranged[{index}:] = {np_y_true_rearranged[index:]}\")\n",
        "print(f\"np_y_pred_rearranged[{index}:] = {np_y_pred_rearranged[index:]}\\n\")\n",
        "print(f\"np.unique(np_y_true_rearranged) = {np.unique(np_y_true_rearranged)}\")\n",
        "print(f\"np.unique(np_y_pred_rearranged) = {np.unique(np_y_pred_rearranged)}\")"
      ],
      "execution_count": 38,
      "outputs": [
        {
          "output_type": "stream",
          "text": [
            "np_y_true_rearranged.shape = (10000,)\n",
            "\n",
            "y_true[-5:] = [9 9 9 9 9]\n",
            "y_pred[-5:] = [9 9 9 9 9]\n",
            "\n",
            "np_y_true_rearranged[-5:] = [9 9 9 9 9]\n",
            "np_y_pred_rearranged[-5:] = [9 9 9 9 9]\n",
            "\n",
            "np.unique(np_y_true_rearranged) = [0 1 2 3 4 5 6 7 8 9]\n",
            "np.unique(np_y_pred_rearranged) = [0 1 2 3 4 5 6 7 8 9]\n"
          ],
          "name": "stdout"
        }
      ]
    },
    {
      "cell_type": "code",
      "metadata": {
        "id": "yo2maYGREHa1"
      },
      "source": [
        ""
      ],
      "execution_count": 38,
      "outputs": []
    },
    {
      "cell_type": "code",
      "metadata": {
        "id": "ATQ8O5enuJcA",
        "colab": {
          "base_uri": "https://localhost:8080/"
        },
        "outputId": "ac2d7186-0c7f-4bc3-82c4-590af8cf5343"
      },
      "source": [
        "conf_matrix = sklearn.metrics.confusion_matrix(np_y_true_rearranged, np_y_pred_rearranged)\n",
        "print(f\"Confusion Matrix:\\n{conf_matrix}\")"
      ],
      "execution_count": 39,
      "outputs": [
        {
          "output_type": "stream",
          "text": [
            "Confusion Matrix:\n",
            "[[949   7   0   2   0   0   0   1   1  40]\n",
            " [  0 996   0   0   0   0   0   0   2   2]\n",
            " [  0   2 941  12  13   1   6  24   1   0]\n",
            " [  0   4   7 939   5  20   9  11   3   2]\n",
            " [  0   3   3  12 955   4   7   5  11   0]\n",
            " [  0   0   7  66   7 891   2  27   0   0]\n",
            " [  1   2   3   4   4   0 983   1   2   0]\n",
            " [  0   1   2   5   1   0   0 991   0   0]\n",
            " [  2  17   1   4   5   0   3   4 961   3]\n",
            " [  8   4   0   0   0   0   0   1   1 986]]\n"
          ],
          "name": "stdout"
        }
      ]
    },
    {
      "cell_type": "code",
      "metadata": {
        "id": "iWt92DPh8BIG",
        "colab": {
          "base_uri": "https://localhost:8080/",
          "height": 293
        },
        "outputId": "0edcb2ca-1b15-49cd-d1cc-91037ade5a27"
      },
      "source": [
        "#plt.figure(figsize = (30,30))\n",
        "plt.matshow(conf_matrix)"
      ],
      "execution_count": 40,
      "outputs": [
        {
          "output_type": "execute_result",
          "data": {
            "text/plain": [
              "<matplotlib.image.AxesImage at 0x7f1df7848190>"
            ]
          },
          "metadata": {
            "tags": []
          },
          "execution_count": 40
        },
        {
          "output_type": "display_data",
          "data": {
            "image/png": "[encoded data removed]",
            "text/plain": [
              "<Figure size 288x288 with 1 Axes>"
            ]
          },
          "metadata": {
            "tags": [],
            "needs_background": "light"
          }
        }
      ]
    },
    {
      "cell_type": "code",
      "metadata": {
        "id": "qYbVekfx9Qk-"
      },
      "source": [
        "df_conf_matrix = pd.DataFrame(conf_matrix, index = [f\"Class {i+1}\" for i in range(num_classes)],\n",
        "                  columns = [f\"Class {i+1}\" for i in range(num_classes)])"
      ],
      "execution_count": 41,
      "outputs": []
    },
    {
      "cell_type": "code",
      "metadata": {
        "id": "bhhb_ykf7mGr",
        "colab": {
          "base_uri": "https://localhost:8080/",
          "height": 389
        },
        "outputId": "dd3fc9cc-4804-46af-feae-db141f29a121"
      },
      "source": [
        "title = \"Confusion matrix for \"+dataset+\" \"+impl_type+\"\\n\"\n",
        "plt.figure(figsize = (10,5))\n",
        "plt.title(title)\n",
        "sn.heatmap(df_conf_matrix, annot=True)\n",
        "\n",
        "img_path = work_dir+'Images/conf_matrix_'+checkpointer_name[8:-5]+'.png'\n",
        "plt.savefig(img_path, dpi=600)\n",
        "print(f\"img_path = {img_path}\")"
      ],
      "execution_count": 42,
      "outputs": [
        {
          "output_type": "stream",
          "text": [
            "img_path = drive/My Drive/CIFAR10/Records/Images/conf_matrix_CIFAR_10.rgb.(256, 256).DataFlow.pad0.TransferLearning3D.DenseNet201.wInit.imagenet.TrainableAfter.allDefault.Dense.1024.1024.2048.actF.elu.opt.Adam.drop.0.5.batch16.Flatten.l2.0.001.run_2.png\n"
          ],
          "name": "stdout"
        },
        {
          "output_type": "display_data",
          "data": {
            "image/png": "[encoded data removed]",
            "text/plain": [
              "<Figure size 720x360 with 2 Axes>"
            ]
          },
          "metadata": {
            "tags": [],
            "needs_background": "light"
          }
        }
      ]
    },
    {
      "cell_type": "code",
      "metadata": {
        "id": "OyvlKAMW-q4-"
      },
      "source": [
        ""
      ],
      "execution_count": 42,
      "outputs": []
    },
    {
      "cell_type": "code",
      "metadata": {
        "id": "hgY4v21DyQwL",
        "colab": {
          "base_uri": "https://localhost:8080/",
          "height": 54
        },
        "outputId": "2cbfc5aa-68b2-4c41-92bc-e2a5294b481c"
      },
      "source": [
        "#Confution Matrix and Classification Report\n",
        "'''\n",
        "Y_pred = model_loaded.predict_generator(final_test_imageset, len(final_test_imageset))\n",
        "y_pred = np.argmax(Y_pred, axis=1)\n",
        "print('Confusion Matrix')\n",
        "print(sklearn.metrics.confusion_matrix(np_test_label, y_pred))\n",
        "#'''"
      ],
      "execution_count": 43,
      "outputs": [
        {
          "output_type": "execute_result",
          "data": {
            "application/vnd.google.colaboratory.intrinsic+json": {
              "type": "string"
            },
            "text/plain": [
              "\"\\nY_pred = model_loaded.predict_generator(final_test_imageset, len(final_test_imageset))\\ny_pred = np.argmax(Y_pred, axis=1)\\nprint('Confusion Matrix')\\nprint(sklearn.metrics.confusion_matrix(np_test_label, y_pred))\\n#\""
            ]
          },
          "metadata": {
            "tags": []
          },
          "execution_count": 43
        }
      ]
    },
    {
      "cell_type": "code",
      "metadata": {
        "id": "U5j7b3KcRvwj",
        "colab": {
          "base_uri": "https://localhost:8080/",
          "height": 36
        },
        "outputId": "a09c0e98-b3ab-498f-d8ee-6229502ec84a"
      },
      "source": [
        "# Precision [TP/TP+FP] = The ratio of correctly predicted positive observations to the total predicted positive observations.\n",
        "# Recall (Sensitivity) [TP/TP+FN] = The ratio of correctly predicted positive observations to the all observations in actual class - 'yes'.\n",
        "# F1 score [F1 Score = 2*(Recall * Precision) / (Recall + Precision)] = The weighted average of Precision and Recall.\n",
        "# Support = The number of samples of the true response that lie in that class.\n",
        "'''\n",
        "print('Classification Report:')\n",
        "print(sklearn.metrics.classification_report(test_generator.classes, y_pred))\n",
        "#'''"
      ],
      "execution_count": 44,
      "outputs": [
        {
          "output_type": "execute_result",
          "data": {
            "application/vnd.google.colaboratory.intrinsic+json": {
              "type": "string"
            },
            "text/plain": [
              "\"\\nprint('Classification Report:')\\nprint(sklearn.metrics.classification_report(test_generator.classes, y_pred))\\n#\""
            ]
          },
          "metadata": {
            "tags": []
          },
          "execution_count": 44
        }
      ]
    },
    {
      "cell_type": "code",
      "metadata": {
        "id": "jTwSA-kRYavk"
      },
      "source": [
        ""
      ],
      "execution_count": 44,
      "outputs": []
    },
    {
      "cell_type": "code",
      "metadata": {
        "id": "AaZZkLXW6Vb8",
        "colab": {
          "base_uri": "https://localhost:8080/"
        },
        "outputId": "e23aed99-c927-497c-f605-e5b222374f75"
      },
      "source": [
        "test_generator.class_indices.keys()"
      ],
      "execution_count": 45,
      "outputs": [
        {
          "output_type": "execute_result",
          "data": {
            "text/plain": [
              "dict_keys(['Ankle boot', 'Bag', 'Coat', 'Dress', 'Pullover', 'Sandal', 'Shirt', 'Sneaker', 'T-shirt-top', 'Trouser'])"
            ]
          },
          "metadata": {
            "tags": []
          },
          "execution_count": 45
        }
      ]
    },
    {
      "cell_type": "code",
      "metadata": {
        "id": "ceGRitu9RvzV",
        "colab": {
          "base_uri": "https://localhost:8080/"
        },
        "outputId": "d325f87c-4687-436b-945d-e8d6c73dde42"
      },
      "source": [
        "#'''\n",
        "print('Classification Report')\n",
        "print(sklearn.metrics.classification_report(np_y_true_rearranged, np_y_pred_rearranged, target_names=test_generator.class_indices.keys()))\n",
        "#'''"
      ],
      "execution_count": 46,
      "outputs": [
        {
          "output_type": "stream",
          "text": [
            "Classification Report\n",
            "              precision    recall  f1-score   support\n",
            "\n",
            "  Ankle boot       0.99      0.95      0.97      1000\n",
            "         Bag       0.96      1.00      0.98      1000\n",
            "        Coat       0.98      0.94      0.96      1000\n",
            "       Dress       0.90      0.94      0.92      1000\n",
            "    Pullover       0.96      0.95      0.96      1000\n",
            "      Sandal       0.97      0.89      0.93      1000\n",
            "       Shirt       0.97      0.98      0.98      1000\n",
            "     Sneaker       0.93      0.99      0.96      1000\n",
            " T-shirt-top       0.98      0.96      0.97      1000\n",
            "     Trouser       0.95      0.99      0.97      1000\n",
            "\n",
            "    accuracy                           0.96     10000\n",
            "   macro avg       0.96      0.96      0.96     10000\n",
            "weighted avg       0.96      0.96      0.96     10000\n",
            "\n"
          ],
          "name": "stdout"
        }
      ]
    },
    {
      "cell_type": "code",
      "metadata": {
        "id": "ujLQjTf2Rv11"
      },
      "source": [
        "log_data = pd.read_csv(work_dir+log_name, sep=',', engine='python') "
      ],
      "execution_count": 47,
      "outputs": []
    },
    {
      "cell_type": "code",
      "metadata": {
        "id": "To55jgGSRv4a",
        "colab": {
          "base_uri": "https://localhost:8080/",
          "height": 206
        },
        "outputId": "968d70a6-d205-4170-e0ab-b824bc92b792"
      },
      "source": [
        "# Getting the model history keys \n",
        "#history.history.keys()\n",
        "log_data.head()"
      ],
      "execution_count": 48,
      "outputs": [
        {
          "output_type": "execute_result",
          "data": {
            "text/html": [
              "<div>\n",
              "<style scoped>\n",
              "    .dataframe tbody tr th:only-of-type {\n",
              "        vertical-align: middle;\n",
              "    }\n",
              "\n",
              "    .dataframe tbody tr th {\n",
              "        vertical-align: top;\n",
              "    }\n",
              "\n",
              "    .dataframe thead th {\n",
              "        text-align: right;\n",
              "    }\n",
              "</style>\n",
              "<table border=\"1\" class=\"dataframe\">\n",
              "  <thead>\n",
              "    <tr style=\"text-align: right;\">\n",
              "      <th></th>\n",
              "      <th>epoch</th>\n",
              "      <th>accuracy</th>\n",
              "      <th>loss</th>\n",
              "      <th>val_accuracy</th>\n",
              "      <th>val_loss</th>\n",
              "    </tr>\n",
              "  </thead>\n",
              "  <tbody>\n",
              "    <tr>\n",
              "      <th>0</th>\n",
              "      <td>0</td>\n",
              "      <td>0.70874</td>\n",
              "      <td>5.056377</td>\n",
              "      <td>0.9274</td>\n",
              "      <td>3.981975</td>\n",
              "    </tr>\n",
              "    <tr>\n",
              "      <th>1</th>\n",
              "      <td>1</td>\n",
              "      <td>0.89696</td>\n",
              "      <td>3.864783</td>\n",
              "      <td>0.9481</td>\n",
              "      <td>3.532310</td>\n",
              "    </tr>\n",
              "    <tr>\n",
              "      <th>2</th>\n",
              "      <td>2</td>\n",
              "      <td>0.93792</td>\n",
              "      <td>3.429685</td>\n",
              "      <td>0.9552</td>\n",
              "      <td>3.282066</td>\n",
              "    </tr>\n",
              "    <tr>\n",
              "      <th>3</th>\n",
              "      <td>3</td>\n",
              "      <td>0.96014</td>\n",
              "      <td>3.150858</td>\n",
              "      <td>0.9614</td>\n",
              "      <td>3.100008</td>\n",
              "    </tr>\n",
              "    <tr>\n",
              "      <th>4</th>\n",
              "      <td>0</td>\n",
              "      <td>0.97216</td>\n",
              "      <td>2.934999</td>\n",
              "      <td>0.9607</td>\n",
              "      <td>2.945946</td>\n",
              "    </tr>\n",
              "  </tbody>\n",
              "</table>\n",
              "</div>"
            ],
            "text/plain": [
              "   epoch  accuracy      loss  val_accuracy  val_loss\n",
              "0      0   0.70874  5.056377        0.9274  3.981975\n",
              "1      1   0.89696  3.864783        0.9481  3.532310\n",
              "2      2   0.93792  3.429685        0.9552  3.282066\n",
              "3      3   0.96014  3.150858        0.9614  3.100008\n",
              "4      0   0.97216  2.934999        0.9607  2.945946"
            ]
          },
          "metadata": {
            "tags": []
          },
          "execution_count": 48
        }
      ]
    },
    {
      "cell_type": "code",
      "metadata": {
        "id": "aytAYSJ4Rv7T",
        "colab": {
          "base_uri": "https://localhost:8080/",
          "height": 348
        },
        "outputId": "c6e38206-cafe-41b0-d889-48b40d56291b"
      },
      "source": [
        "# plot the training artifacts\n",
        "title = \"Val loss for \"+dataset+\" \"+impl_type+\"\\n\"\n",
        "\n",
        "plt.plot(log_data['loss'])\n",
        "plt.plot(log_data['val_loss'])\n",
        "plt.title(title)\n",
        "plt.ylabel('loss')\n",
        "plt.xlabel('epoch')\n",
        "plt.legend(['train_loss','val_loss'], loc = 'best')\n",
        "plt.grid(b=True, which='major', axis='both')\n",
        "\n",
        "img_path = work_dir+'Images/vLoss_'+checkpointer_name[8:-5]+'.png'\n",
        "plt.savefig(img_path, dpi=600)\n",
        "plt.show()\n",
        "print('img_path =', img_path)"
      ],
      "execution_count": 49,
      "outputs": [
        {
          "output_type": "display_data",
          "data": {
            "image/png": "[encoded data removed]",
            "text/plain": [
              "<Figure size 432x288 with 1 Axes>"
            ]
          },
          "metadata": {
            "tags": [],
            "needs_background": "light"
          }
        },
        {
          "output_type": "stream",
          "text": [
            "img_path = drive/My Drive/CIFAR10/Records/Images/vLoss_CIFAR_10.rgb.(256, 256).DataFlow.pad0.TransferLearning3D.DenseNet201.wInit.imagenet.TrainableAfter.allDefault.Dense.1024.1024.2048.actF.elu.opt.Adam.drop.0.5.batch16.Flatten.l2.0.001.run_2.png\n"
          ],
          "name": "stdout"
        }
      ]
    },
    {
      "cell_type": "code",
      "metadata": {
        "id": "yUq1WaElRv-M",
        "colab": {
          "base_uri": "https://localhost:8080/",
          "height": 348
        },
        "outputId": "02ef5770-3629-4b2f-b2cd-18056569edcc"
      },
      "source": [
        "title = \"Val acc for \"+dataset+\" \"+impl_type+\"\\n\"\n",
        "\n",
        "plt.plot(log_data['accuracy'])\n",
        "plt.plot(log_data['val_accuracy'])\n",
        "plt.title(title)\n",
        "plt.ylabel('accuracy')\n",
        "plt.xlabel('epoch')\n",
        "plt.legend(['train_accuracy','val_accuracy'], loc = 'best')\n",
        "plt.grid(b=True, which='major', axis='both')\n",
        "\n",
        "img_path = work_dir+'Images/vAcc_'+checkpointer_name[8:-5]+'.png'\n",
        "plt.savefig(img_path, dpi=600)\n",
        "plt.show()\n",
        "print('img_path =', img_path)"
      ],
      "execution_count": 50,
      "outputs": [
        {
          "output_type": "display_data",
          "data": {
            "image/png": "[encoded data removed]",
            "text/plain": [
              "<Figure size 432x288 with 1 Axes>"
            ]
          },
          "metadata": {
            "tags": [],
            "needs_background": "light"
          }
        },
        {
          "output_type": "stream",
          "text": [
            "img_path = drive/My Drive/CIFAR10/Records/Images/vAcc_CIFAR_10.rgb.(256, 256).DataFlow.pad0.TransferLearning3D.DenseNet201.wInit.imagenet.TrainableAfter.allDefault.Dense.1024.1024.2048.actF.elu.opt.Adam.drop.0.5.batch16.Flatten.l2.0.001.run_2.png\n"
          ],
          "name": "stdout"
        }
      ]
    },
    {
      "cell_type": "code",
      "metadata": {
        "id": "w4msuVKMSk8E"
      },
      "source": [
        ""
      ],
      "execution_count": 50,
      "outputs": []
    }
  ]
}