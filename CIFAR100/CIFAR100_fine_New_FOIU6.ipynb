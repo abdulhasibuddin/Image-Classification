{
  "nbformat": 4,
  "nbformat_minor": 0,
  "metadata": {
    "colab": {
      "name": "CIFAR100_fine_New_FOIU6.ipynb",
      "provenance": [],
      "collapsed_sections": []
    },
    "kernelspec": {
      "name": "python3",
      "display_name": "Python 3"
    },
    "accelerator": "GPU"
  },
  "cells": [
    {
      "cell_type": "code",
      "metadata": {
        "id": "OqPP8c_ZcADr",
        "colab": {
          "base_uri": "https://localhost:8080/"
        },
        "outputId": "c762706f-d592-43d3-d51e-0e6f61137b6b"
      },
      "source": [
        "from google.colab import drive\n",
        "drive.mount('/content/drive', force_remount=True)"
      ],
      "execution_count": 1,
      "outputs": [
        {
          "output_type": "stream",
          "text": [
            "Mounted at /content/drive\n"
          ],
          "name": "stdout"
        }
      ]
    },
    {
      "cell_type": "code",
      "metadata": {
        "id": "sSkifZ-534x_"
      },
      "source": [
        ""
      ],
      "execution_count": 1,
      "outputs": []
    },
    {
      "cell_type": "code",
      "metadata": {
        "id": "1KSrUsIPlJxK"
      },
      "source": [
        "work_dir = \"drive/My Drive/Training Records/\"\n",
        "impl_type = \"ConvLSTM\"\n",
        "dataset = \"CIFAR100.fine.New.FOIU6\""
      ],
      "execution_count": 2,
      "outputs": []
    },
    {
      "cell_type": "code",
      "metadata": {
        "id": "4nH4627DTtnu"
      },
      "source": [
        "\n",
        "import numpy as np\n",
        "import pandas as pd\n",
        "import pickle\n",
        "import numpy as np\n",
        "import random\n",
        "import time\n",
        "import os\n",
        "#os.environ[\"OPENCV_IO_MAX_IMAGE_PIXELS\"] = pow(2,40).__str__()\n",
        "import cv2\n",
        "from tqdm import tqdm\n",
        "\n",
        "import tensorflow as tf\n",
        "from tensorflow.python.keras import Sequential\n",
        "from tensorflow.keras import layers, optimizers\n",
        "from tensorflow.keras.applications import DenseNet121\n",
        "from tensorflow.keras.applications.resnet50 import ResNet50\n",
        "from tensorflow.keras.layers import *\n",
        "from tensorflow.keras.models import Model, load_model\n",
        "from tensorflow.keras.initializers import glorot_uniform\n",
        "from tensorflow.keras.utils import plot_model\n",
        "from tensorflow.keras.callbacks import ReduceLROnPlateau, EarlyStopping, ModelCheckpoint, LearningRateScheduler\n",
        "from IPython.display import display\n",
        "from tensorflow.keras import backend as K\n",
        "import matplotlib.pyplot as plt\n",
        "import matplotlib.image as mpimg\n",
        "from sklearn.model_selection import train_test_split\n",
        "from keras import optimizers\n",
        "from sklearn.metrics import classification_report, confusion_matrix\n",
        "from keras.callbacks import CSVLogger\n",
        "import keras"
      ],
      "execution_count": 3,
      "outputs": []
    },
    {
      "cell_type": "code",
      "metadata": {
        "id": "bwRTaiwlvMSj"
      },
      "source": [
        ""
      ],
      "execution_count": 3,
      "outputs": []
    },
    {
      "cell_type": "code",
      "metadata": {
        "id": "bXwh_5yHvM8m",
        "colab": {
          "base_uri": "https://localhost:8080/"
        },
        "outputId": "154bbdf1-2d79-448a-fd90-d01f711464b7"
      },
      "source": [
        "list_categories_coarse = ['aquatic mammals', 'fish', 'flowers',\t'food containers', 'fruit and vegetables', 'household electrical devices', \n",
        "                          'household furniture', 'insects',\t'large carnivores',\t'large man-made outdoor things', 'large natural outdoor scenes',\n",
        "                          'large omnivores and herbivores',\t'medium-sized mammals',\t'non-insect invertebrates',\t'people', 'reptiles', 'small mammals',\n",
        "                          'trees', 'vehicles 1', 'vehicles 2']\n",
        "\n",
        "list_categories = ['beaver', 'dolphin', 'otter', 'seal', 'whale',\n",
        "                   'aquarium fish', 'flatfish', 'ray', 'shark', 'trout',\n",
        "                   'orchids', 'poppies', 'roses', 'sunflowers', 'tulips',\n",
        "                   'bottles', 'bowls', 'cans', 'cups', 'plates',\n",
        "                   'apples', 'mushrooms', 'oranges', 'pears', 'sweet peppers',\n",
        "                   'clock', 'computer keyboard', 'lamp', 'telephone', 'television',\n",
        "                   'bed', 'chair', 'couch', 'table', 'wardrobe',\n",
        "                   'bee', 'beetle', 'butterfly', 'caterpillar', 'cockroach',\n",
        "                   'bear', 'leopard', 'lion', 'tiger', 'wolf',\n",
        "                   'bridge', 'castle', 'house', 'road', 'skyscraper',\n",
        "                   'cloud', 'forest', 'mountain', 'plain', 'sea',\n",
        "                   'camel', 'cattle', 'chimpanzee', 'elephant', 'kangaroo',\n",
        "                   'fox', 'porcupine', 'possum', 'raccoon', 'skunk',\n",
        "                   'crab', 'lobster', 'snail', 'spider', 'worm',\n",
        "                   'baby', 'boy', 'girl', 'man', 'woman',\n",
        "                   'crocodile', 'dinosaur', 'lizard', 'snake', 'turtle',\n",
        "                   'hamster', 'mouse', 'rabbit', 'shrew', 'squirrel',\n",
        "                   'maple', 'oak', 'palm', 'pine', 'willow',\n",
        "                   'bicycle', 'bus', 'motorcycle', 'pickup truck', 'train',\n",
        "                   'lawn-mower', 'rocket', 'streetcar', 'tank', 'tractor']\n",
        "                   \n",
        "num_classes = len(list_categories)\n",
        "print('num_classes =', num_classes)"
      ],
      "execution_count": 4,
      "outputs": [
        {
          "output_type": "stream",
          "text": [
            "num_classes = 100\n"
          ],
          "name": "stdout"
        }
      ]
    },
    {
      "cell_type": "code",
      "metadata": {
        "id": "vQQaW13hXYDv",
        "colab": {
          "base_uri": "https://localhost:8080/"
        },
        "outputId": "2e1d2537-5f74-446d-b1f6-499e9ba9c1e6"
      },
      "source": [
        "# CIFAR100: Each image comes with a \"fine\" label (the class to which it belongs) and a \"coarse\" label (the superclass \n",
        "# to which it belongs):\n",
        "(x_train, y_train), (x_test, y_test) = tf.keras.datasets.cifar100.load_data(label_mode=\"fine\")\n",
        "\n",
        "print('x_train.shape =',x_train.shape)\n",
        "print('y_train.shape =',y_train.shape)\n",
        "print('x_test.shape =',x_test.shape)\n",
        "print('y_test.shape =',y_test.shape)"
      ],
      "execution_count": 5,
      "outputs": [
        {
          "output_type": "stream",
          "text": [
            "Downloading data from https://www.cs.toronto.edu/~kriz/cifar-100-python.tar.gz\n",
            "169009152/169001437 [==============================] - 2s 0us/step\n",
            "x_train.shape = (50000, 32, 32, 3)\n",
            "y_train.shape = (50000, 1)\n",
            "x_test.shape = (10000, 32, 32, 3)\n",
            "y_test.shape = (10000, 1)\n"
          ],
          "name": "stdout"
        }
      ]
    },
    {
      "cell_type": "code",
      "metadata": {
        "id": "woR_39Kvah5y",
        "colab": {
          "base_uri": "https://localhost:8080/",
          "height": 36
        },
        "outputId": "bc0bafda-16f0-4a55-add8-5f328bfb6159"
      },
      "source": [
        "'''\n",
        "x_train_norm_rgb = x_train/255 \n",
        "x_test_norm_rgb = x_test/255\n",
        "#'''"
      ],
      "execution_count": 6,
      "outputs": [
        {
          "output_type": "execute_result",
          "data": {
            "application/vnd.google.colaboratory.intrinsic+json": {
              "type": "string"
            },
            "text/plain": [
              "'\\nx_train_norm_rgb = x_train/255 \\nx_test_norm_rgb = x_test/255\\n#'"
            ]
          },
          "metadata": {
            "tags": []
          },
          "execution_count": 6
        }
      ]
    },
    {
      "cell_type": "code",
      "metadata": {
        "id": "hLQSMiDEPs9N",
        "colab": {
          "base_uri": "https://localhost:8080/",
          "height": 72
        },
        "outputId": "bdd55ea0-c5a3-40b1-a67b-5bd9f51cab42"
      },
      "source": [
        "'''\n",
        "def grayscale(data, dtype='float32'):\n",
        "    # luma coding weighted average in video systems\n",
        "    r, g, b = np.asarray(0.2989, dtype=dtype), np.asarray(0.5870, dtype=dtype), np.asarray(0.1140, dtype=dtype)\n",
        "    rst = r * data[:, :, :, 0] + g * data[:, :, :, 1] + b * data[:, :, :, 2]\n",
        "    # add channel dimension\n",
        "    #rst = np.expand_dims(rst, axis=3)\n",
        "    return rst\n",
        "#'''"
      ],
      "execution_count": 7,
      "outputs": [
        {
          "output_type": "execute_result",
          "data": {
            "application/vnd.google.colaboratory.intrinsic+json": {
              "type": "string"
            },
            "text/plain": [
              "\"\\ndef grayscale(data, dtype='float32'):\\n    # luma coding weighted average in video systems\\n    r, g, b = np.asarray(0.2989, dtype=dtype), np.asarray(0.5870, dtype=dtype), np.asarray(0.1140, dtype=dtype)\\n    rst = r * data[:, :, :, 0] + g * data[:, :, :, 1] + b * data[:, :, :, 2]\\n    # add channel dimension\\n    #rst = np.expand_dims(rst, axis=3)\\n    return rst\\n#\""
            ]
          },
          "metadata": {
            "tags": []
          },
          "execution_count": 7
        }
      ]
    },
    {
      "cell_type": "code",
      "metadata": {
        "id": "VXRGSkwnPtKF",
        "colab": {
          "base_uri": "https://localhost:8080/",
          "height": 54
        },
        "outputId": "0790f853-4ff2-4c17-e696-4bbd6d62a238"
      },
      "source": [
        "'''\n",
        "x_train_norm = grayscale(x_train_norm_rgb)\n",
        "x_test_norm = grayscale(x_test_norm_rgb)\n",
        "\n",
        "print('x_train_norm.shape =',x_train_norm.shape)\n",
        "print('x_test_norm.shape =',x_test_norm.shape)\n",
        "#'''"
      ],
      "execution_count": 8,
      "outputs": [
        {
          "output_type": "execute_result",
          "data": {
            "application/vnd.google.colaboratory.intrinsic+json": {
              "type": "string"
            },
            "text/plain": [
              "\"\\nx_train_norm = grayscale(x_train_norm_rgb)\\nx_test_norm = grayscale(x_test_norm_rgb)\\n\\nprint('x_train_norm.shape =',x_train_norm.shape)\\nprint('x_test_norm.shape =',x_test_norm.shape)\\n#\""
            ]
          },
          "metadata": {
            "tags": []
          },
          "execution_count": 8
        }
      ]
    },
    {
      "cell_type": "code",
      "metadata": {
        "id": "D6vUK7vZa3Cd"
      },
      "source": [
        "def grayscale(data, dtype='float32'):\n",
        "    # luma coding weighted average in video systems\n",
        "    #r, g, b = np.asarray(0.2989, dtype=dtype), np.asarray(0.5870, dtype=dtype), np.asarray(0.1140, dtype=dtype)\n",
        "    #rst = r * data[:, :, :, 0] + g * data[:, :, :, 1] + b * data[:, :, :, 2]\n",
        "    #rst = cv2.cvtColor(data, cv2.COLOR_BGR2GRAY)\n",
        "    # add channel dimension\n",
        "    #rst = np.expand_dims(rst, axis=3)\n",
        "    r = data[:, :, :, 0] \n",
        "    g = data[:, :, :, 1] \n",
        "    b = data[:, :, :, 2]\n",
        "    return r/255, g/255, b/255 #np.array([r,g,b])"
      ],
      "execution_count": 9,
      "outputs": []
    },
    {
      "cell_type": "code",
      "metadata": {
        "colab": {
          "base_uri": "https://localhost:8080/"
        },
        "id": "epsrFTkIbwb3",
        "outputId": "84de66bf-668b-4b96-9141-68703f34619d"
      },
      "source": [
        "x_train_norm_r, x_train_norm_g, x_train_norm_b = grayscale(x_train)\n",
        "x_test_norm_r, x_test_norm_g, x_test_norm_b = grayscale(x_test)\n",
        "\n",
        "print('x_train_norm_r.shape =',x_train_norm_r.shape)\n",
        "print('x_test_norm_r.shape =',x_test_norm_r.shape)"
      ],
      "execution_count": 10,
      "outputs": [
        {
          "output_type": "stream",
          "text": [
            "x_train_norm_r.shape = (50000, 32, 32)\n",
            "x_test_norm_r.shape = (10000, 32, 32)\n"
          ],
          "name": "stdout"
        }
      ]
    },
    {
      "cell_type": "code",
      "metadata": {
        "id": "LKfm-6z2Z-6X",
        "colab": {
          "base_uri": "https://localhost:8080/"
        },
        "outputId": "cbd719f7-3eec-4d50-9ea0-6b65c81264ca"
      },
      "source": [
        "final_train_imageset_r = np.expand_dims(x_train_norm_r, axis = 3)\n",
        "final_test_imageset_r = np.expand_dims(x_test_norm_r, axis = 3)\n",
        "\n",
        "final_train_imageset_g = np.expand_dims(x_train_norm_g, axis = 3)\n",
        "final_test_imageset_g = np.expand_dims(x_test_norm_g, axis = 3)\n",
        "\n",
        "final_train_imageset_b = np.expand_dims(x_train_norm_b, axis = 3)\n",
        "final_test_imageset_b = np.expand_dims(x_test_norm_b, axis = 3)\n",
        "\n",
        "#y_train2 = np.expand_dims(y_train, axis = 1)\n",
        "#y_test2 = np.expand_dims(y_test, axis = 1)\n",
        "\n",
        "print('final_train_imageset_r.shape =', final_train_imageset_r.shape)\n",
        "print('final_test_imageset_r.shape =', final_test_imageset_r.shape)\n",
        "#print('y_train2.shape =', y_train2.shape)\n",
        "#print('y_test2.shape =', y_test2.shape)"
      ],
      "execution_count": 11,
      "outputs": [
        {
          "output_type": "stream",
          "text": [
            "final_train_imageset_r.shape = (50000, 32, 32, 1)\n",
            "final_test_imageset_r.shape = (10000, 32, 32, 1)\n"
          ],
          "name": "stdout"
        }
      ]
    },
    {
      "cell_type": "code",
      "metadata": {
        "id": "WYQzdAN-baRZ",
        "colab": {
          "base_uri": "https://localhost:8080/"
        },
        "outputId": "09c7d058-064f-4bf2-8808-a8586155f36a"
      },
      "source": [
        "final_train_label = tf.keras.utils.to_categorical(y_train, num_classes)\n",
        "final_test_label = tf.keras.utils.to_categorical(y_test, num_classes)\n",
        "\n",
        "print('final_train_label.shape =',final_train_label.shape)\n",
        "print('final_test_label.shape =',final_test_label.shape)"
      ],
      "execution_count": 12,
      "outputs": [
        {
          "output_type": "stream",
          "text": [
            "final_train_label.shape = (50000, 100)\n",
            "final_test_label.shape = (10000, 100)\n"
          ],
          "name": "stdout"
        }
      ]
    },
    {
      "cell_type": "code",
      "metadata": {
        "id": "77WXvDHGbavk"
      },
      "source": [
        ""
      ],
      "execution_count": 12,
      "outputs": []
    },
    {
      "cell_type": "code",
      "metadata": {
        "id": "Y3KEYSzNZ_Mb",
        "colab": {
          "base_uri": "https://localhost:8080/"
        },
        "outputId": "5959c7f4-9c22-4d89-db4b-19980fea7554"
      },
      "source": [
        "NUM_NEURONS = 16\n",
        "NUM_LAYERS = 3\n",
        "BATCH_SIZE = 10\n",
        "NUM_EPOCHS = 300\n",
        "epochs_completed = 0\n",
        "LEARNING_RATE = 0.0001\n",
        "EPSILON = 1e-4\n",
        "DROPOUT = 0.5\n",
        "\n",
        "LOSS = 'categorical_crossentropy'\n",
        "ACTIVATION_FUNCTION = 'relu'\n",
        "FINAL_ACTIVATION_FUNCTION = 'softmax'\n",
        "validation_split = 0.1\n",
        "kernel_size=(1,1)\n",
        "\n",
        "nTry = \"5\"\n",
        "# +\"_kernel\"+str(kernel_size)+\"_lr\"+str(LEARNING_RATE)+\"_batch\"+str(BATCH_SIZE)+\"_epochs\"+str(NUM_EPOCHS)\n",
        "#checkpointer_name  = \"weights_\"+dataset+\"_\"+impl_type+\"_nLayers\"+str(NUM_LAYERS)+\"_nNeurons\"+str(NUM_NEURONS)+\"_dropout\"+str(DROPOUT)+\"_batch\"+str(BATCH_SIZE)+\".hdf5\"\n",
        "checkpointer_name  = \"weights.\"+dataset+\".\"+impl_type+\".batch\"+str(BATCH_SIZE)+\".nTry.\"+nTry\n",
        "log_name = \"log.\"+checkpointer_name[8:]+\".log\"\n",
        "\n",
        "print('checkpointer_name =', checkpointer_name)\n",
        "print('log_name =', log_name)"
      ],
      "execution_count": 35,
      "outputs": [
        {
          "output_type": "stream",
          "text": [
            "checkpointer_name = weights.CIFAR100.fine.New.FOIU6.ConvLSTM.batch10.nTry.5\n",
            "log_name = log.CIFAR100.fine.New.FOIU6.ConvLSTM.batch10.nTry.5.log\n"
          ],
          "name": "stdout"
        }
      ]
    },
    {
      "cell_type": "code",
      "metadata": {
        "id": "n02hlBxFXYMC",
        "colab": {
          "base_uri": "https://localhost:8080/"
        },
        "outputId": "26feaca2-a497-445d-ee82-bb818a4b73f7"
      },
      "source": [
        "final_train_imageset_r.shape[1:]"
      ],
      "execution_count": 36,
      "outputs": [
        {
          "output_type": "execute_result",
          "data": {
            "text/plain": [
              "(32, 32, 1)"
            ]
          },
          "metadata": {
            "tags": []
          },
          "execution_count": 36
        }
      ]
    },
    {
      "cell_type": "code",
      "metadata": {
        "colab": {
          "base_uri": "https://localhost:8080/"
        },
        "id": "MzIRNDlljCZY",
        "outputId": "c018d968-287e-4b8c-e078-a89244cf206a"
      },
      "source": [
        "input_shape = (final_train_imageset_r.shape[1:], final_train_imageset_g.shape[1:], final_train_imageset_b.shape[1:])\n",
        "input_shape"
      ],
      "execution_count": 37,
      "outputs": [
        {
          "output_type": "execute_result",
          "data": {
            "text/plain": [
              "((32, 32, 1), (32, 32, 1), (32, 32, 1))"
            ]
          },
          "metadata": {
            "tags": []
          },
          "execution_count": 37
        }
      ]
    },
    {
      "cell_type": "code",
      "metadata": {
        "id": "I-XbkH-AXYR3",
        "colab": {
          "base_uri": "https://localhost:8080/"
        },
        "outputId": "2768a583-c3a1-41a5-e376-b0956516c7ae"
      },
      "source": [
        "#'''\n",
        "input_shape = (final_train_imageset_r.shape[1:], final_train_imageset_g.shape[1:], final_train_imageset_b.shape[1:])\n",
        "\n",
        "#####\n",
        "inputs_r = Input(input_shape[0])\n",
        "x_r = inputs_r\n",
        "\n",
        "up_size = 2\n",
        "x_r = UpSampling2D(size=(up_size, up_size))(x_r)\n",
        "x_r = Conv2D(32, (3,3), activation='relu')(x_r)\n",
        "x_r = MaxPool2D(pool_size=(2, 2))(x_r)\n",
        "x_r = Dropout(DROPOUT)(x_r)\n",
        "\n",
        "up_size = 2\n",
        "x_r = UpSampling2D(size=(up_size, up_size))(x_r)\n",
        "x_r = Conv2D(32, (3,3), activation='relu')(x_r)\n",
        "x_r = MaxPool2D(pool_size=(2, 2))(x_r)\n",
        "x_r = Dropout(DROPOUT)(x_r)\n",
        "\n",
        "up_size = 2\n",
        "x_r = UpSampling2D(size=(up_size, up_size))(x_r)\n",
        "x_r = Conv2D(32, (3,3), activation='relu')(x_r)\n",
        "x_r = MaxPool2D(pool_size=(2, 2))(x_r)\n",
        "x_r = Dropout(DROPOUT)(x_r)\n",
        "\n",
        "x_r = Flatten()(x_r)\n",
        "#x_r = Dense(512, activation='relu')(x_r)\n",
        "o_r = Dense(num_classes, activation='sigmoid')(x_r)\n",
        "#####\n",
        "\n",
        "inputs_g = Input(input_shape[1])\n",
        "x_g = inputs_g\n",
        "\n",
        "up_size = 2\n",
        "x_g = UpSampling2D(size=(up_size, up_size))(x_g)\n",
        "x_g = Conv2D(32, (3,3), activation='relu')(x_g)\n",
        "x_g = MaxPool2D(pool_size=(2, 2))(x_g)\n",
        "x_g = Dropout(DROPOUT)(x_g)\n",
        "\n",
        "up_size = 2\n",
        "x_g = UpSampling2D(size=(up_size, up_size))(x_g)\n",
        "x_g = Conv2D(32, (3,3), activation='relu')(x_g)\n",
        "x_g = MaxPool2D(pool_size=(2, 2))(x_g)\n",
        "x_g = Dropout(DROPOUT)(x_g)\n",
        "\n",
        "up_size = 2\n",
        "x_g = UpSampling2D(size=(up_size, up_size))(x_g)\n",
        "x_g = Conv2D(32, (3,3), activation='relu')(x_g)\n",
        "x_g = MaxPool2D(pool_size=(2, 2))(x_g)\n",
        "x_g = Dropout(DROPOUT)(x_g)\n",
        "\n",
        "x_g = Flatten()(x_g)\n",
        "#x_g = Dense(512, activation='relu')(x_g)\n",
        "o_g = Dense(num_classes, activation='sigmoid')(x_g)\n",
        "#####\n",
        "\n",
        "inputs_b = Input(input_shape[2])\n",
        "x_b = inputs_b\n",
        "\n",
        "up_size = 2\n",
        "x_b = UpSampling2D(size=(up_size, up_size))(x_b)\n",
        "x_b = Conv2D(32, (3,3), activation='relu')(x_b)\n",
        "x_b = MaxPool2D(pool_size=(2, 2))(x_b)\n",
        "x_b = Dropout(DROPOUT)(x_b)\n",
        "\n",
        "up_size = 2\n",
        "x_b = UpSampling2D(size=(up_size, up_size))(x_b)\n",
        "x_b = Conv2D(32, (3,3), activation='relu')(x_b)\n",
        "x_b = MaxPool2D(pool_size=(2, 2))(x_b)\n",
        "x_b = Dropout(DROPOUT)(x_b)\n",
        "\n",
        "up_size = 2\n",
        "x_b = UpSampling2D(size=(up_size, up_size))(x_b)\n",
        "x_b = Conv2D(32, (3,3), activation='relu')(x_b)\n",
        "x_b = MaxPool2D(pool_size=(2, 2))(x_b)\n",
        "x_b = Dropout(DROPOUT)(x_b)\n",
        "\n",
        "x_b = Flatten()(x_b)\n",
        "#x_b = Dense(512, activation='relu')(x_b)\n",
        "o_b = Dense(num_classes, activation='sigmoid')(x_b)\n",
        "#####\n",
        "\n",
        "add_rg = Add()([x_r, x_g])\n",
        "add_gb = Add()([x_g, x_b])\n",
        "add_br = Add()([x_b, x_r])\n",
        "#####\n",
        "\n",
        "add_all = Add()([add_rg, add_gb, add_br])\n",
        "outputs = Dense(num_classes, activation=FINAL_ACTIVATION_FUNCTION)(add_all)\n",
        "\n",
        "model = Model(inputs=(inputs_r, inputs_g, inputs_b), outputs=outputs)\n",
        "model.summary()\n",
        "#'''"
      ],
      "execution_count": 38,
      "outputs": [
        {
          "output_type": "stream",
          "text": [
            "Model: \"model_2\"\n",
            "__________________________________________________________________________________________________\n",
            "Layer (type)                    Output Shape         Param #     Connected to                     \n",
            "==================================================================================================\n",
            "input_7 (InputLayer)            [(None, 32, 32, 1)]  0                                            \n",
            "__________________________________________________________________________________________________\n",
            "input_8 (InputLayer)            [(None, 32, 32, 1)]  0                                            \n",
            "__________________________________________________________________________________________________\n",
            "input_9 (InputLayer)            [(None, 32, 32, 1)]  0                                            \n",
            "__________________________________________________________________________________________________\n",
            "up_sampling2d_12 (UpSampling2D) (None, 64, 64, 1)    0           input_7[0][0]                    \n",
            "__________________________________________________________________________________________________\n",
            "up_sampling2d_15 (UpSampling2D) (None, 64, 64, 1)    0           input_8[0][0]                    \n",
            "__________________________________________________________________________________________________\n",
            "up_sampling2d_18 (UpSampling2D) (None, 64, 64, 1)    0           input_9[0][0]                    \n",
            "__________________________________________________________________________________________________\n",
            "conv2d_12 (Conv2D)              (None, 62, 62, 32)   320         up_sampling2d_12[0][0]           \n",
            "__________________________________________________________________________________________________\n",
            "conv2d_15 (Conv2D)              (None, 62, 62, 32)   320         up_sampling2d_15[0][0]           \n",
            "__________________________________________________________________________________________________\n",
            "conv2d_18 (Conv2D)              (None, 62, 62, 32)   320         up_sampling2d_18[0][0]           \n",
            "__________________________________________________________________________________________________\n",
            "max_pooling2d_12 (MaxPooling2D) (None, 31, 31, 32)   0           conv2d_12[0][0]                  \n",
            "__________________________________________________________________________________________________\n",
            "max_pooling2d_15 (MaxPooling2D) (None, 31, 31, 32)   0           conv2d_15[0][0]                  \n",
            "__________________________________________________________________________________________________\n",
            "max_pooling2d_18 (MaxPooling2D) (None, 31, 31, 32)   0           conv2d_18[0][0]                  \n",
            "__________________________________________________________________________________________________\n",
            "dropout_12 (Dropout)            (None, 31, 31, 32)   0           max_pooling2d_12[0][0]           \n",
            "__________________________________________________________________________________________________\n",
            "dropout_15 (Dropout)            (None, 31, 31, 32)   0           max_pooling2d_15[0][0]           \n",
            "__________________________________________________________________________________________________\n",
            "dropout_18 (Dropout)            (None, 31, 31, 32)   0           max_pooling2d_18[0][0]           \n",
            "__________________________________________________________________________________________________\n",
            "up_sampling2d_13 (UpSampling2D) (None, 62, 62, 32)   0           dropout_12[0][0]                 \n",
            "__________________________________________________________________________________________________\n",
            "up_sampling2d_16 (UpSampling2D) (None, 62, 62, 32)   0           dropout_15[0][0]                 \n",
            "__________________________________________________________________________________________________\n",
            "up_sampling2d_19 (UpSampling2D) (None, 62, 62, 32)   0           dropout_18[0][0]                 \n",
            "__________________________________________________________________________________________________\n",
            "conv2d_13 (Conv2D)              (None, 60, 60, 32)   9248        up_sampling2d_13[0][0]           \n",
            "__________________________________________________________________________________________________\n",
            "conv2d_16 (Conv2D)              (None, 60, 60, 32)   9248        up_sampling2d_16[0][0]           \n",
            "__________________________________________________________________________________________________\n",
            "conv2d_19 (Conv2D)              (None, 60, 60, 32)   9248        up_sampling2d_19[0][0]           \n",
            "__________________________________________________________________________________________________\n",
            "max_pooling2d_13 (MaxPooling2D) (None, 30, 30, 32)   0           conv2d_13[0][0]                  \n",
            "__________________________________________________________________________________________________\n",
            "max_pooling2d_16 (MaxPooling2D) (None, 30, 30, 32)   0           conv2d_16[0][0]                  \n",
            "__________________________________________________________________________________________________\n",
            "max_pooling2d_19 (MaxPooling2D) (None, 30, 30, 32)   0           conv2d_19[0][0]                  \n",
            "__________________________________________________________________________________________________\n",
            "dropout_13 (Dropout)            (None, 30, 30, 32)   0           max_pooling2d_13[0][0]           \n",
            "__________________________________________________________________________________________________\n",
            "dropout_16 (Dropout)            (None, 30, 30, 32)   0           max_pooling2d_16[0][0]           \n",
            "__________________________________________________________________________________________________\n",
            "dropout_19 (Dropout)            (None, 30, 30, 32)   0           max_pooling2d_19[0][0]           \n",
            "__________________________________________________________________________________________________\n",
            "up_sampling2d_14 (UpSampling2D) (None, 60, 60, 32)   0           dropout_13[0][0]                 \n",
            "__________________________________________________________________________________________________\n",
            "up_sampling2d_17 (UpSampling2D) (None, 60, 60, 32)   0           dropout_16[0][0]                 \n",
            "__________________________________________________________________________________________________\n",
            "up_sampling2d_20 (UpSampling2D) (None, 60, 60, 32)   0           dropout_19[0][0]                 \n",
            "__________________________________________________________________________________________________\n",
            "conv2d_14 (Conv2D)              (None, 58, 58, 32)   9248        up_sampling2d_14[0][0]           \n",
            "__________________________________________________________________________________________________\n",
            "conv2d_17 (Conv2D)              (None, 58, 58, 32)   9248        up_sampling2d_17[0][0]           \n",
            "__________________________________________________________________________________________________\n",
            "conv2d_20 (Conv2D)              (None, 58, 58, 32)   9248        up_sampling2d_20[0][0]           \n",
            "__________________________________________________________________________________________________\n",
            "max_pooling2d_14 (MaxPooling2D) (None, 29, 29, 32)   0           conv2d_14[0][0]                  \n",
            "__________________________________________________________________________________________________\n",
            "max_pooling2d_17 (MaxPooling2D) (None, 29, 29, 32)   0           conv2d_17[0][0]                  \n",
            "__________________________________________________________________________________________________\n",
            "max_pooling2d_20 (MaxPooling2D) (None, 29, 29, 32)   0           conv2d_20[0][0]                  \n",
            "__________________________________________________________________________________________________\n",
            "dropout_14 (Dropout)            (None, 29, 29, 32)   0           max_pooling2d_14[0][0]           \n",
            "__________________________________________________________________________________________________\n",
            "dropout_17 (Dropout)            (None, 29, 29, 32)   0           max_pooling2d_17[0][0]           \n",
            "__________________________________________________________________________________________________\n",
            "dropout_20 (Dropout)            (None, 29, 29, 32)   0           max_pooling2d_20[0][0]           \n",
            "__________________________________________________________________________________________________\n",
            "flatten_6 (Flatten)             (None, 26912)        0           dropout_14[0][0]                 \n",
            "__________________________________________________________________________________________________\n",
            "flatten_7 (Flatten)             (None, 26912)        0           dropout_17[0][0]                 \n",
            "__________________________________________________________________________________________________\n",
            "flatten_8 (Flatten)             (None, 26912)        0           dropout_20[0][0]                 \n",
            "__________________________________________________________________________________________________\n",
            "add_8 (Add)                     (None, 26912)        0           flatten_6[0][0]                  \n",
            "                                                                 flatten_7[0][0]                  \n",
            "__________________________________________________________________________________________________\n",
            "add_9 (Add)                     (None, 26912)        0           flatten_7[0][0]                  \n",
            "                                                                 flatten_8[0][0]                  \n",
            "__________________________________________________________________________________________________\n",
            "add_10 (Add)                    (None, 26912)        0           flatten_8[0][0]                  \n",
            "                                                                 flatten_6[0][0]                  \n",
            "__________________________________________________________________________________________________\n",
            "add_11 (Add)                    (None, 26912)        0           add_8[0][0]                      \n",
            "                                                                 add_9[0][0]                      \n",
            "                                                                 add_10[0][0]                     \n",
            "__________________________________________________________________________________________________\n",
            "dense_11 (Dense)                (None, 100)          2691300     add_11[0][0]                     \n",
            "==================================================================================================\n",
            "Total params: 2,747,748\n",
            "Trainable params: 2,747,748\n",
            "Non-trainable params: 0\n",
            "__________________________________________________________________________________________________\n"
          ],
          "name": "stdout"
        }
      ]
    },
    {
      "cell_type": "code",
      "metadata": {
        "colab": {
          "base_uri": "https://localhost:8080/",
          "height": 1000
        },
        "id": "9ZrnNmY6u241",
        "outputId": "27547c17-b688-4391-e3bc-29395394c5aa"
      },
      "source": [
        "tf.keras.utils.plot_model(\n",
        "    model, to_file='model.png', show_shapes=False, show_dtype=False,\n",
        "    show_layer_names=True, rankdir='TB', expand_nested=False, dpi=96\n",
        ")"
      ],
      "execution_count": 39,
      "outputs": [
        {
          "output_type": "execute_result",
          "data": {
            "image/png": "[encoded data removed]",
            "text/plain": [
              "<IPython.core.display.Image object>"
            ]
          },
          "metadata": {
            "tags": []
          },
          "execution_count": 39
        }
      ]
    },
    {
      "cell_type": "code",
      "metadata": {
        "colab": {
          "base_uri": "https://localhost:8080/",
          "height": 128
        },
        "id": "MP1gz9bKfnHp",
        "outputId": "0ccc11f6-218c-4ac4-a65d-eac43388566f"
      },
      "source": [
        "'''\n",
        "model = keras.Sequential(\n",
        "    [\n",
        "        keras.Input(\n",
        "            shape=(None, 32, 32, 1)\n",
        "        ),  # Variable-length sequence of 40x40x1 frames\n",
        "        layers.ConvLSTM2D(\n",
        "            filters=40, kernel_size=(3, 3), padding=\"same\", return_sequences=True\n",
        "        ),\n",
        "        layers.BatchNormalization(),\n",
        "        layers.ConvLSTM2D(\n",
        "            filters=40, kernel_size=(3, 3), padding=\"same\", return_sequences=True\n",
        "        ),\n",
        "        layers.BatchNormalization(),\n",
        "        layers.ConvLSTM2D(\n",
        "            filters=40, kernel_size=(3, 3), padding=\"same\", return_sequences=True\n",
        "        ),\n",
        "        layers.BatchNormalization(),\n",
        "        layers.ConvLSTM2D(\n",
        "            filters=40, kernel_size=(3, 3), padding=\"same\", return_sequences=True\n",
        "        ),\n",
        "        layers.BatchNormalization(),\n",
        "        layers.Conv3D(\n",
        "            filters=1, kernel_size=(3, 3, 3), activation=\"sigmoid\", padding=\"same\"\n",
        "        ),\n",
        "    ]\n",
        ")\n",
        "model.summary()\n",
        "#'''"
      ],
      "execution_count": 40,
      "outputs": [
        {
          "output_type": "execute_result",
          "data": {
            "application/vnd.google.colaboratory.intrinsic+json": {
              "type": "string"
            },
            "text/plain": [
              "'\\nmodel = keras.Sequential(\\n    [\\n        keras.Input(\\n            shape=(None, 32, 32, 1)\\n        ),  # Variable-length sequence of 40x40x1 frames\\n        layers.ConvLSTM2D(\\n            filters=40, kernel_size=(3, 3), padding=\"same\", return_sequences=True\\n        ),\\n        layers.BatchNormalization(),\\n        layers.ConvLSTM2D(\\n            filters=40, kernel_size=(3, 3), padding=\"same\", return_sequences=True\\n        ),\\n        layers.BatchNormalization(),\\n        layers.ConvLSTM2D(\\n            filters=40, kernel_size=(3, 3), padding=\"same\", return_sequences=True\\n        ),\\n        layers.BatchNormalization(),\\n        layers.ConvLSTM2D(\\n            filters=40, kernel_size=(3, 3), padding=\"same\", return_sequences=True\\n        ),\\n        layers.BatchNormalization(),\\n        layers.Conv3D(\\n            filters=1, kernel_size=(3, 3, 3), activation=\"sigmoid\", padding=\"same\"\\n        ),\\n    ]\\n)\\nmodel.summary()\\n#'"
            ]
          },
          "metadata": {
            "tags": []
          },
          "execution_count": 40
        }
      ]
    },
    {
      "cell_type": "code",
      "metadata": {
        "id": "iu7jBKYUXYaK",
        "colab": {
          "base_uri": "https://localhost:8080/"
        },
        "outputId": "e54c8c90-a9fc-4621-ae19-9c0af293c87c"
      },
      "source": [
        "optimizer = tf.keras.optimizers.RMSprop(lr = LEARNING_RATE, epsilon=EPSILON)\n",
        "model.compile(\n",
        "    optimizer=optimizer, #'rmsprop',\n",
        "    loss=LOSS,\n",
        "    metrics=['accuracy']\n",
        ")"
      ],
      "execution_count": 41,
      "outputs": [
        {
          "output_type": "stream",
          "text": [
            "/usr/local/lib/python3.7/dist-packages/tensorflow/python/keras/optimizer_v2/optimizer_v2.py:375: UserWarning: The `lr` argument is deprecated, use `learning_rate` instead.\n",
            "  \"The `lr` argument is deprecated, use `learning_rate` instead.\")\n"
          ],
          "name": "stderr"
        }
      ]
    },
    {
      "cell_type": "code",
      "metadata": {
        "id": "ENSmBglrXYlp"
      },
      "source": [
        "# save the best model with least validation loss\n",
        "checkpointer = ModelCheckpoint(filepath = work_dir+checkpointer_name, verbose = 1, save_best_only = True)"
      ],
      "execution_count": 42,
      "outputs": []
    },
    {
      "cell_type": "code",
      "metadata": {
        "id": "oYDse9cTyOvk"
      },
      "source": [
        "if epochs_completed > 0:\n",
        "    model = load_model(work_dir+checkpointer_name)\n",
        "    print(\"Loaded partially trained model...\")"
      ],
      "execution_count": 43,
      "outputs": []
    },
    {
      "cell_type": "code",
      "metadata": {
        "id": "Em1indudl72y"
      },
      "source": [
        "tf.config.run_functions_eagerly(True)"
      ],
      "execution_count": 44,
      "outputs": []
    },
    {
      "cell_type": "code",
      "metadata": {
        "id": "M1jON3KWXYi0",
        "colab": {
          "base_uri": "https://localhost:8080/"
        },
        "outputId": "b812fcc1-79dc-443b-a48f-3218fa8f1543"
      },
      "source": [
        "print('checkpointer_name =', checkpointer_name)\n",
        "print(\"Previously completed epochs =\", epochs_completed, \"\\n\")\n",
        "csv_logger = CSVLogger(work_dir+log_name, separator=',', append=True)\n",
        "\n",
        "start_time = time.time()\n",
        "history = model.fit((final_train_imageset_r, final_train_imageset_g, final_train_imageset_b), \n",
        "                    final_train_label, \n",
        "                    shuffle=True, \n",
        "                    batch_size = BATCH_SIZE, \n",
        "                    epochs = NUM_EPOCHS - epochs_completed, \n",
        "                    #steps_per_epoch = 2,\n",
        "                    #validation_split = validation_split, \n",
        "                    validation_data = ((final_test_imageset_r, final_test_imageset_g, final_test_imageset_b),\n",
        "                                       final_test_label),\n",
        "                    callbacks=[checkpointer, csv_logger]\n",
        "                    )\n",
        "elapsed_time = time.time() - start_time \n",
        "print(\"\\nTime elapsed: \", elapsed_time)"
      ],
      "execution_count": null,
      "outputs": [
        {
          "output_type": "stream",
          "text": [
            "checkpointer_name = weights.CIFAR100.fine.New.FOIU6.ConvLSTM.batch10.nTry.5\n",
            "Previously completed epochs = 0 \n",
            "\n"
          ],
          "name": "stdout"
        },
        {
          "output_type": "stream",
          "text": [
            "/usr/local/lib/python3.7/dist-packages/tensorflow/python/data/ops/dataset_ops.py:3704: UserWarning: Even though the `tf.config.experimental_run_functions_eagerly` option is set, this option does not apply to tf.data functions. To force eager execution of tf.data functions, please use `tf.data.experimental.enable.debug_mode()`.\n",
            "  \"Even though the `tf.config.experimental_run_functions_eagerly` \"\n"
          ],
          "name": "stderr"
        },
        {
          "output_type": "stream",
          "text": [
            "Epoch 1/300\n",
            "1154/5000 [=====>........................] - ETA: 3:07 - loss: 4.5233 - accuracy: 0.0401"
          ],
          "name": "stdout"
        }
      ]
    },
    {
      "cell_type": "code",
      "metadata": {
        "id": "rbumzY9bXYgX"
      },
      "source": [
        "result = model.evaluate((final_test_imageset_r, final_test_imageset_g, final_test_imageset_b),\n",
        "                                       final_test_label)\n",
        "print(\"Accuracy : {}, Loss: {}\".format(result[1], result[0]))"
      ],
      "execution_count": null,
      "outputs": []
    },
    {
      "cell_type": "code",
      "metadata": {
        "id": "L1Z_Sn_UXYXz"
      },
      "source": [
        "model_loaded = load_model(work_dir+checkpointer_name)"
      ],
      "execution_count": null,
      "outputs": []
    },
    {
      "cell_type": "code",
      "metadata": {
        "id": "j6RZW1ZqaeV_"
      },
      "source": [
        "'''\n",
        "Record:\n",
        "Epochs = 050, Test Acc = 0., Test Loss = 0.;\n",
        "Epochs = 100, Test Acc = 0., Test Loss = 0.;\n",
        "#'''\n",
        "\n",
        "result2 = model_loaded.evaluate((final_test_imageset_r, final_test_imageset_g, final_test_imageset_b),\n",
        "                                       final_test_label)\n",
        "print(\"Accuracy : {}, Loss: {}\".format(result2[1], result2[0]))"
      ],
      "execution_count": null,
      "outputs": []
    },
    {
      "cell_type": "code",
      "metadata": {
        "id": "vNrrlrUTXYVp"
      },
      "source": [
        "#Confution Matrix and Classification Report\n",
        "Y_pred = model_loaded.predict_generator(final_test_imageset, len(final_test_imageset))\n",
        "y_pred = np.argmax(Y_pred, axis=1)\n",
        "print('Confusion Matrix')\n",
        "print(confusion_matrix(y_test, y_pred))"
      ],
      "execution_count": null,
      "outputs": []
    },
    {
      "cell_type": "code",
      "metadata": {
        "id": "RhiUB_uNXYPL"
      },
      "source": [
        "# Precision [TP/TP+FP] = The ratio of correctly predicted positive observations to the total predicted positive observations.\n",
        "# Recall (Sensitivity) [TP/TP+FN] = The ratio of correctly predicted positive observations to the all observations in actual class - 'yes'.\n",
        "# F1 score [F1 Score = 2*(Recall * Precision) / (Recall + Precision)] = The weighted average of Precision and Recall.\n",
        "# Support = The number of samples of the true response that lie in that class.\n",
        "print('Classification Report:')\n",
        "#target_names = ['Mono', 'Di'] # not ['Di', 'Mono']\n",
        "print(classification_report(y_test, y_pred)) #, target_names=target_names))"
      ],
      "execution_count": null,
      "outputs": []
    },
    {
      "cell_type": "code",
      "metadata": {
        "id": "7adZ1XniXYKV"
      },
      "source": [
        "print('Classification Report')\n",
        "print(classification_report(y_test, y_pred, target_names=list_categories))"
      ],
      "execution_count": null,
      "outputs": []
    },
    {
      "cell_type": "code",
      "metadata": {
        "id": "2woc7B6ClV6G"
      },
      "source": [
        ""
      ],
      "execution_count": null,
      "outputs": []
    },
    {
      "cell_type": "code",
      "metadata": {
        "id": "VJjvgOHfkREd"
      },
      "source": [
        "log_data = pd.read_csv(work_dir+log_name, sep=',', engine='python') "
      ],
      "execution_count": null,
      "outputs": []
    },
    {
      "cell_type": "code",
      "metadata": {
        "id": "cXvYwRP6lWQz"
      },
      "source": [
        "# Getting the model history keys \n",
        "#history.history.keys()\n",
        "log_data.head()"
      ],
      "execution_count": null,
      "outputs": []
    },
    {
      "cell_type": "code",
      "metadata": {
        "id": "5DyZbASblWNn"
      },
      "source": [
        "# plot the training artifacts\n",
        "\n",
        "plt.plot(log_data['loss'])\n",
        "plt.plot(log_data['val_loss'])\n",
        "plt.title('Model loss')\n",
        "plt.ylabel('loss')\n",
        "plt.xlabel('epoch')\n",
        "plt.legend(['train_loss','val_loss'], loc = 'best')\n",
        "plt.show()"
      ],
      "execution_count": null,
      "outputs": []
    },
    {
      "cell_type": "code",
      "metadata": {
        "id": "CIPNBC_slWKi"
      },
      "source": [
        "plt.plot(log_data['accuracy'])\n",
        "plt.plot(log_data['val_accuracy'])\n",
        "plt.title('Model accuracy')\n",
        "plt.ylabel('accuracy')\n",
        "plt.xlabel('epoch')\n",
        "plt.legend(['train_accuracy','val_accuracy'], loc = 'best')\n",
        "plt.show()"
      ],
      "execution_count": null,
      "outputs": []
    },
    {
      "cell_type": "code",
      "metadata": {
        "id": "_wxpuYhJlWHI"
      },
      "source": [
        ""
      ],
      "execution_count": null,
      "outputs": []
    },
    {
      "cell_type": "code",
      "metadata": {
        "id": "HHcBPAZMlWDz"
      },
      "source": [
        ""
      ],
      "execution_count": null,
      "outputs": []
    },
    {
      "cell_type": "code",
      "metadata": {
        "id": "6jg6TBJxlV_b"
      },
      "source": [
        ""
      ],
      "execution_count": null,
      "outputs": []
    },
    {
      "cell_type": "code",
      "metadata": {
        "id": "ZQlafPWlXYH5"
      },
      "source": [
        ""
      ],
      "execution_count": null,
      "outputs": []
    }
  ]
}