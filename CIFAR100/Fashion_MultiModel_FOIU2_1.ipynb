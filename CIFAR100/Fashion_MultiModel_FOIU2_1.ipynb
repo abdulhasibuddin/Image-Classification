{
  "nbformat": 4,
  "nbformat_minor": 0,
  "metadata": {
    "colab": {
      "name": "Fashion_MultiModel_FOIU2_1.ipynb",
      "provenance": [],
      "collapsed_sections": []
    },
    "kernelspec": {
      "name": "python3",
      "display_name": "Python 3"
    },
    "accelerator": "GPU"
  },
  "cells": [
    {
      "cell_type": "code",
      "metadata": {
        "id": "OqPP8c_ZcADr",
        "colab": {
          "base_uri": "https://localhost:8080/"
        },
        "outputId": "ee5a05c0-46d4-4d5f-e8ea-6e22090c2646"
      },
      "source": [
        "from google.colab import drive\n",
        "drive.mount('/content/drive', force_remount=True)"
      ],
      "execution_count": null,
      "outputs": [
        {
          "output_type": "stream",
          "text": [
            "Mounted at /content/drive\n"
          ],
          "name": "stdout"
        }
      ]
    },
    {
      "cell_type": "code",
      "metadata": {
        "id": "1KSrUsIPlJxK"
      },
      "source": [
        "work_dir = \"drive/My Drive/Training Records 2/\"\n",
        "impl_type = \"MultiModel.FOIU2.1\"\n",
        "dataset = \"Fashion\""
      ],
      "execution_count": null,
      "outputs": []
    },
    {
      "cell_type": "code",
      "metadata": {
        "id": "4nH4627DTtnu"
      },
      "source": [
        "\n",
        "import numpy as np\n",
        "import pandas as pd\n",
        "import pickle\n",
        "import numpy as np\n",
        "import random\n",
        "import time\n",
        "import csv\n",
        "import os\n",
        "#os.environ[\"OPENCV_IO_MAX_IMAGE_PIXELS\"] = pow(2,40).__str__()\n",
        "import cv2\n",
        "from tqdm import tqdm\n",
        "\n",
        "import tensorflow as tf\n",
        "from tensorflow.python.keras import Sequential\n",
        "from tensorflow.keras import layers, optimizers\n",
        "from tensorflow.keras.applications import DenseNet121\n",
        "from tensorflow.keras.applications.resnet50 import ResNet50\n",
        "from tensorflow.keras.layers import *\n",
        "from tensorflow.keras.models import Model, load_model\n",
        "from tensorflow.keras.initializers import glorot_uniform\n",
        "from tensorflow.keras.utils import plot_model\n",
        "from tensorflow.keras.callbacks import ReduceLROnPlateau, EarlyStopping, ModelCheckpoint, LearningRateScheduler, LambdaCallback\n",
        "from IPython.display import display\n",
        "from tensorflow.keras import backend as K\n",
        "import matplotlib.pyplot as plt\n",
        "import matplotlib.image as mpimg\n",
        "from sklearn.model_selection import train_test_split\n",
        "from keras import optimizers\n",
        "from sklearn.metrics import classification_report, confusion_matrix\n",
        "from keras.callbacks import CSVLogger"
      ],
      "execution_count": null,
      "outputs": []
    },
    {
      "cell_type": "code",
      "metadata": {
        "id": "bwRTaiwlvMSj"
      },
      "source": [
        ""
      ],
      "execution_count": null,
      "outputs": []
    },
    {
      "cell_type": "code",
      "metadata": {
        "id": "bXwh_5yHvM8m",
        "colab": {
          "base_uri": "https://localhost:8080/"
        },
        "outputId": "ae8175ca-0537-4e26-f5a0-751f2f44df26"
      },
      "source": [
        "list_categories = ['T-shirt/top', 'Trouser', 'Pullover', 'Dress', 'Coat', 'Sandal', 'Shirt', 'Sneaker', 'Bag', 'Ankle boot']\n",
        "num_classes = len(list_categories)\n",
        "print('num_classes =', num_classes)"
      ],
      "execution_count": null,
      "outputs": [
        {
          "output_type": "stream",
          "text": [
            "num_classes = 10\n"
          ],
          "name": "stdout"
        }
      ]
    },
    {
      "cell_type": "code",
      "metadata": {
        "id": "vQQaW13hXYDv",
        "colab": {
          "base_uri": "https://localhost:8080/"
        },
        "outputId": "1cd181bc-f5c2-4a04-cee1-f836c32ac46a"
      },
      "source": [
        "from sklearn.utils import shuffle\n",
        "\n",
        "(x_train, y_train), (x_test, y_test) = tf.keras.datasets.fashion_mnist.load_data()\n",
        "x_train, y_train = shuffle(x_train, y_train)\n",
        "\n",
        "print('x_train.shape =',x_train.shape)\n",
        "print('y_train.shape =',y_train.shape)\n",
        "print('x_test.shape =',x_test.shape)\n",
        "print('y_test.shape =',y_test.shape)"
      ],
      "execution_count": null,
      "outputs": [
        {
          "output_type": "stream",
          "text": [
            "Downloading data from https://storage.googleapis.com/tensorflow/tf-keras-datasets/train-labels-idx1-ubyte.gz\n",
            "32768/29515 [=================================] - 0s 0us/step\n",
            "Downloading data from https://storage.googleapis.com/tensorflow/tf-keras-datasets/train-images-idx3-ubyte.gz\n",
            "26427392/26421880 [==============================] - 0s 0us/step\n",
            "Downloading data from https://storage.googleapis.com/tensorflow/tf-keras-datasets/t10k-labels-idx1-ubyte.gz\n",
            "8192/5148 [===============================================] - 0s 0us/step\n",
            "Downloading data from https://storage.googleapis.com/tensorflow/tf-keras-datasets/t10k-images-idx3-ubyte.gz\n",
            "4423680/4422102 [==============================] - 0s 0us/step\n",
            "x_train.shape = (60000, 28, 28)\n",
            "y_train.shape = (60000,)\n",
            "x_test.shape = (10000, 28, 28)\n",
            "y_test.shape = (10000,)\n"
          ],
          "name": "stdout"
        }
      ]
    },
    {
      "cell_type": "code",
      "metadata": {
        "id": "woR_39Kvah5y"
      },
      "source": [
        "x_train_norm = x_train/255\n",
        "x_test_norm = x_test/255"
      ],
      "execution_count": null,
      "outputs": []
    },
    {
      "cell_type": "code",
      "metadata": {
        "id": "LKfm-6z2Z-6X",
        "colab": {
          "base_uri": "https://localhost:8080/"
        },
        "outputId": "5350ad75-ece0-4590-85b7-f64b86da6b68"
      },
      "source": [
        "final_train_imageset = np.expand_dims(x_train_norm, axis = 3)\n",
        "final_test_imageset = np.expand_dims(x_test_norm, axis = 3)\n",
        "\n",
        "y_train2 = np.expand_dims(y_train, axis = 1)\n",
        "y_test2 = np.expand_dims(y_test, axis = 1)\n",
        "\n",
        "print('final_train_imageset.shape =', final_train_imageset.shape)\n",
        "print('final_test_imageset.shape =', final_test_imageset.shape)\n",
        "print('y_train2.shape =', y_train2.shape)\n",
        "print('y_test2.shape =', y_test2.shape)"
      ],
      "execution_count": null,
      "outputs": [
        {
          "output_type": "stream",
          "text": [
            "final_train_imageset.shape = (60000, 28, 28, 1)\n",
            "final_test_imageset.shape = (10000, 28, 28, 1)\n",
            "y_train2.shape = (60000, 1)\n",
            "y_test2.shape = (10000, 1)\n"
          ],
          "name": "stdout"
        }
      ]
    },
    {
      "cell_type": "code",
      "metadata": {
        "id": "WYQzdAN-baRZ",
        "colab": {
          "base_uri": "https://localhost:8080/"
        },
        "outputId": "929cc0e3-a416-4052-ba0d-c18ed14b90c4"
      },
      "source": [
        "final_train_label = tf.keras.utils.to_categorical(y_train2, num_classes)\n",
        "final_test_label = tf.keras.utils.to_categorical(y_test2, num_classes)\n",
        "\n",
        "print('final_train_label.shape =',final_train_label.shape)\n",
        "print('final_test_label.shape =',final_test_label.shape)"
      ],
      "execution_count": null,
      "outputs": [
        {
          "output_type": "stream",
          "text": [
            "final_train_label.shape = (60000, 10)\n",
            "final_test_label.shape = (10000, 10)\n"
          ],
          "name": "stdout"
        }
      ]
    },
    {
      "cell_type": "code",
      "metadata": {
        "id": "77WXvDHGbavk"
      },
      "source": [
        ""
      ],
      "execution_count": null,
      "outputs": []
    },
    {
      "cell_type": "code",
      "metadata": {
        "id": "PPUtyU2HC3Ch"
      },
      "source": [
        "sure_reset = False # True, False"
      ],
      "execution_count": null,
      "outputs": []
    },
    {
      "cell_type": "code",
      "metadata": {
        "colab": {
          "base_uri": "https://localhost:8080/"
        },
        "id": "jvhnTEmNhV1C",
        "outputId": "5997025d-fb54-4dc5-a33b-a984f9ece0f7"
      },
      "source": [
        "if sure_reset == True:\n",
        "    print(f\"Resetting...\")\n",
        "    list_all_predicted = []\n",
        "    individual_accuracies = []\n",
        "\n",
        "    def identify_predicted_label(predicted_values):\n",
        "        list_y_pred = []\n",
        "        for pred_val_list in predicted_values:\n",
        "            pred_val = np.where(pred_val_list == max(pred_val_list))\n",
        "            list_y_pred.append(pred_val[0][0])\n",
        "        list_all_predicted.append(np.array(list_y_pred))\n",
        "\n",
        "        count_correct = 0\n",
        "        for y_true,y_predicted in zip(y_test,list_y_pred):\n",
        "            if y_true == y_predicted:\n",
        "                count_correct += 1\n",
        "        individual_accuracies.append(round((count_correct/len(list_y_pred))*100, 2))\n",
        "\n",
        "        return list_all_predicted, individual_accuracies\n",
        "    print(f\"sure_reset = {sure_reset}\")\n",
        "elif sure_reset == False:\n",
        "    print(f\"sure_reset = {sure_reset}\")"
      ],
      "execution_count": null,
      "outputs": [
        {
          "output_type": "stream",
          "text": [
            "Resetting...\n",
            "sure_reset = True\n"
          ],
          "name": "stdout"
        }
      ]
    },
    {
      "cell_type": "code",
      "metadata": {
        "id": "Y3KEYSzNZ_Mb",
        "colab": {
          "base_uri": "https://localhost:8080/"
        },
        "outputId": "bcc89945-defa-490e-9e00-58bec199e949"
      },
      "source": [
        "NUM_NEURONS = 32\n",
        "NUM_LAYERS = 3\n",
        "BATCH_SIZE = 128\n",
        "NUM_EPOCHS = 50\n",
        "#epochs_completed = 0\n",
        "LEARNING_RATE = 0.0001\n",
        "EPSILON = 1e-7\n",
        "DROPOUT = 0.5\n",
        "#MOMENTUM = 0.99\n",
        "\n",
        "LOSS = 'categorical_crossentropy'\n",
        "ACTIVATION_FUNCTION = 'default' # 'relu' 'LeakyReLU' 'PReLU' 'ELU' 'default'\n",
        "FINAL_ACTIVATION_FUNCTION = 'softmax'\n",
        "validation_split = 0.1\n",
        "kernel_size=(1,1)\n",
        "early_stop_after_epochs = 3\n",
        "\n",
        "nTry = \"lanczos5.2\"\n",
        "# +\"_kernel\"+str(kernel_size)+\"_lr\"+str(LEARNING_RATE)+\"_batch\"+str(BATCH_SIZE)+\"_epochs\"+str(NUM_EPOCHS)\n",
        "#checkpointer_name  = \"weights_\"+dataset+\"_\"+impl_type+\"_nLayers\"+str(NUM_LAYERS)+\"_nNeurons\"+str(NUM_NEURONS)+\"_dropout\"+str(DROPOUT)+\"_batch\"+str(BATCH_SIZE)+\".hdf5\"\n",
        "checkpointer_name  = \"weights.\"+dataset+\".\"+impl_type+\".batch\"+str(BATCH_SIZE)+\".nTry.\"+nTry\n",
        "log_name = \"log.\"+checkpointer_name[8:]+\".log\"\n",
        "\n",
        "print('checkpointer_name =', checkpointer_name)\n",
        "print('log_name =', log_name)"
      ],
      "execution_count": null,
      "outputs": [
        {
          "output_type": "stream",
          "text": [
            "checkpointer_name = weights.Fashion.Complex.FOIU2.3.batch128.nTry.lanczos5.2\n",
            "log_name = log.Fashion.Complex.FOIU2.3.batch128.nTry.lanczos5.2.log\n"
          ],
          "name": "stdout"
        }
      ]
    },
    {
      "cell_type": "code",
      "metadata": {
        "id": "I-XbkH-AXYR3",
        "colab": {
          "base_uri": "https://localhost:8080/"
        },
        "outputId": "27be559a-18a0-4c48-8dda-7c94dd10cd68"
      },
      "source": [
        "#'''\n",
        "act_func = tf.keras.layers.LeakyReLU(alpha=0.3)\n",
        "\n",
        "input_shape = final_train_imageset.shape[1:]\n",
        "\n",
        "inputs = Input(input_shape)\n",
        "x = inputs\n",
        "#units = 32\n",
        "# bilinear, nearest, bicubic, area, lanczos3, lanczos5, gaussian, mitchellcubic\n",
        "x = experimental.preprocessing.Resizing(64, 64, 'lanczos5')(x)\n",
        "print(\"x.shape =\",x.shape)\n",
        "\n",
        "x = Conv2D(32, (3,3), activation=act_func)(x)\n",
        "x = Conv2D(32, (3,3), activation=act_func)(x)\n",
        "x = Conv2D(32, (3,3), activation=act_func)(x)\n",
        "x = Conv2D(32, (3,3), activation=act_func)(x)\n",
        "x = Conv2D(32, (3,3), activation=act_func)(x)\n",
        "x = Conv2D(32, (3,3), activation=act_func)(x)\n",
        "x = Conv2D(32, (3,3), activation=act_func)(x)\n",
        "\n",
        "x = Flatten()(x)\n",
        "x = Dense(512, activation=act_func)(x)\n",
        "x = Dropout(0.2)(x)\n",
        "\n",
        "outputs = Dense(num_classes, activation=FINAL_ACTIVATION_FUNCTION)(x)\n",
        "\n",
        "model = Model(inputs=inputs, outputs=outputs)\n",
        "#model = Model(inputs=inputs_r, outputs=outputs)\n",
        "#model.summary()\n",
        "#'''"
      ],
      "execution_count": null,
      "outputs": [
        {
          "output_type": "stream",
          "text": [
            "x.shape = (None, 64, 64, 1)\n"
          ],
          "name": "stdout"
        }
      ]
    },
    {
      "cell_type": "code",
      "metadata": {
        "colab": {
          "base_uri": "https://localhost:8080/",
          "height": 951
        },
        "id": "BFVlbTSBNJ7V",
        "outputId": "35fedca4-e650-41bc-e2de-5315bbd5f86f"
      },
      "source": [
        "tf.keras.utils.plot_model(\n",
        "    model, to_file='model.png', show_shapes=True, show_dtype=False,\n",
        "    show_layer_names=True, rankdir='TB', expand_nested=True, dpi=64\n",
        ")"
      ],
      "execution_count": null,
      "outputs": [
        {
          "output_type": "execute_result",
          "data": {
            "image/png": "[encoded data removed]",
            "text/plain": [
              "<IPython.core.display.Image object>"
            ]
          },
          "metadata": {
            "tags": []
          },
          "execution_count": 17
        }
      ]
    },
    {
      "cell_type": "code",
      "metadata": {
        "id": "iu7jBKYUXYaK",
        "colab": {
          "base_uri": "https://localhost:8080/"
        },
        "outputId": "185c11cb-e283-45cb-9555-581c3806d78e"
      },
      "source": [
        "optimizer = tf.keras.optimizers.RMSprop(lr = LEARNING_RATE, epsilon=EPSILON)\n",
        "#optimizer = tf.keras.optimizers.SGD(lr = LEARNING_RATE, momentum=MOMENTUM)\n",
        "#optimizer = tf.keras.optimizers.Adam(learning_rate=LEARNING_RATE, beta_1=0.9, beta_2=0.999, epsilon=EPSILON)\n",
        "model.compile(\n",
        "    optimizer=optimizer, #'rmsprop',\n",
        "    loss=LOSS,\n",
        "    metrics=['accuracy']\n",
        ")"
      ],
      "execution_count": null,
      "outputs": [
        {
          "output_type": "stream",
          "text": [
            "/usr/local/lib/python3.7/dist-packages/tensorflow/python/keras/optimizer_v2/optimizer_v2.py:375: UserWarning: The `lr` argument is deprecated, use `learning_rate` instead.\n",
            "  \"The `lr` argument is deprecated, use `learning_rate` instead.\")\n"
          ],
          "name": "stderr"
        }
      ]
    },
    {
      "cell_type": "code",
      "metadata": {
        "id": "ENSmBglrXYlp"
      },
      "source": [
        "# save the best model with least validation loss\n",
        "checkpointer = ModelCheckpoint(filepath = work_dir+checkpointer_name, \n",
        "                               #monitor='val_accuracy',\n",
        "                               monitor='val_loss',\n",
        "                               save_weights_only=False,  \n",
        "                               mode='auto', \n",
        "                               verbose = 0, \n",
        "                               save_best_only =False\n",
        "                               )\n",
        "checkpointer_best = ModelCheckpoint(filepath = work_dir+\"best_\"+checkpointer_name, \n",
        "                                    monitor='val_loss', \n",
        "                                    save_weights_only=False,\n",
        "                                    mode='auto',  \n",
        "                                    verbose = 1, \n",
        "                                    save_best_only = True\n",
        "                                    )\n",
        "early_stopping = EarlyStopping(monitor='loss', patience=early_stop_after_epochs)"
      ],
      "execution_count": null,
      "outputs": []
    },
    {
      "cell_type": "code",
      "metadata": {
        "id": "aTAmcZ880FJg"
      },
      "source": [
        "def checkBestPerformance(epoch, logs):\n",
        "    log_data = pd.read_csv(work_dir+log_name, sep=',', usecols=['val_loss', 'val_accuracy'], engine='python')\n",
        "    min_val_loss = min(log_data.val_loss.values)\n",
        "    max_val_acc = max(log_data.val_accuracy.values)\n",
        "\n",
        "    current_val_acc = logs['val_accuracy']\n",
        "    current_val_loss = logs['val_loss']\n",
        "\n",
        "    save_filepath = work_dir+\"best_\"+checkpointer_name\n",
        "    if current_val_loss < min_val_loss:\n",
        "        model.save(filepath = save_filepath)\n",
        "        #print(\"\\nval_loss decreased from\", min_val_loss, \"to\", current_val_loss, \".\")\n",
        "        print(\"\\nval_loss decreased to\", current_val_loss, \".\")\n",
        "\n",
        "        #list_callbacks = [checkpointer, checkpointer_best, csv_logger, early_stopping]\n",
        "        #print(\"\\nReturned to previous best checkpoint callback.\")\n",
        "\n",
        "    elif (current_val_loss==min_val_loss) and (current_val_acc>max_val_acc):\n",
        "        model.save(filepath = save_filepath)\n",
        "        #print(\"\\nval_accuracy increased from\", max_val_acc, \"to\", current_val_acc, \".\")\n",
        "        print(\"\\nval_accuracy increased to\", current_val_acc, \".\")\n",
        "\n",
        "        #list_callbacks = [checkpointer, checkpointer_best, csv_logger, early_stopping]\n",
        "        #print(\"\\nReturned to previous best checkpoint callback.\")\n",
        "\n",
        "    else:\n",
        "        pass\n",
        "        #print(\"\\nPerformance did not improve from existing min_val_loss =\", min_val_loss, \", max_val_acc =\", max_val_acc, \".\")\n",
        "    #return"
      ],
      "execution_count": null,
      "outputs": []
    },
    {
      "cell_type": "code",
      "metadata": {
        "id": "oYDse9cTyOvk"
      },
      "source": [
        "epochs_completed = 0\n",
        "csv_logger = CSVLogger(work_dir+log_name, separator=',', append=True)\n",
        "\n",
        "try:\n",
        "    log_data = pd.read_csv(work_dir+log_name, sep=',', usecols=['epoch'], engine='python')\n",
        "    epochs_completed = log_data.shape[0]\n",
        "\n",
        "    if epochs_completed > 0:\n",
        "        model = load_model(work_dir+checkpointer_name)\n",
        "        list_callbacks = [checkpointer, LambdaCallback(on_epoch_end=checkBestPerformance), csv_logger]\n",
        "        print(\"epochs_completed =\", epochs_completed)\n",
        "except:\n",
        "    list_callbacks = [checkpointer, checkpointer_best, csv_logger]"
      ],
      "execution_count": null,
      "outputs": []
    },
    {
      "cell_type": "code",
      "metadata": {
        "colab": {
          "base_uri": "https://localhost:8080/"
        },
        "id": "Y4KWbIpvL4XS",
        "outputId": "16d1f4d8-1d89-44f1-db90-0894f68eb7e6"
      },
      "source": [
        "try:\n",
        "    print(f\"Previously trained individual_accuracies = {individual_accuracies}\")\n",
        "except:\n",
        "    pass"
      ],
      "execution_count": null,
      "outputs": [
        {
          "output_type": "stream",
          "text": [
            "Previously trained individual_accuracies = []\n"
          ],
          "name": "stdout"
        }
      ]
    },
    {
      "cell_type": "code",
      "metadata": {
        "id": "M1jON3KWXYi0",
        "colab": {
          "base_uri": "https://localhost:8080/",
          "height": 472
        },
        "outputId": "71440f2e-1d88-49c0-f714-1c4d508394c9"
      },
      "source": [
        "print(\"Previously completed epochs =\", epochs_completed, \"\\n\")\n",
        "\n",
        "start_time = time.time()\n",
        "history = model.fit(final_train_imageset, final_train_label, \n",
        "                    shuffle=True, \n",
        "                    batch_size = BATCH_SIZE, \n",
        "                    epochs = NUM_EPOCHS - epochs_completed, \n",
        "                    #steps_per_epoch = 2,\n",
        "                    #validation_split = validation_split, \n",
        "                    validation_data = (final_test_imageset, final_test_label),\n",
        "                    callbacks=list_callbacks\n",
        "                    )\n",
        "elapsed_time = time.time() - start_time \n",
        "print(\"\\nTime elapsed: \", elapsed_time)"
      ],
      "execution_count": null,
      "outputs": [
        {
          "output_type": "stream",
          "text": [
            "Previously completed epochs = 0 \n",
            "\n",
            "Epoch 1/50\n",
            "  1/469 [..............................] - ETA: 58:03 - loss: 2.3053 - accuracy: 0.0859"
          ],
          "name": "stdout"
        },
        {
          "output_type": "error",
          "ename": "KeyboardInterrupt",
          "evalue": "ignored",
          "traceback": [
            "\u001b[0;31m---------------------------------------------------------------------------\u001b[0m",
            "\u001b[0;31mKeyboardInterrupt\u001b[0m                         Traceback (most recent call last)",
            "\u001b[0;32m<ipython-input-23-88adb3152da4>\u001b[0m in \u001b[0;36m<module>\u001b[0;34m()\u001b[0m\n\u001b[1;32m     11\u001b[0m                     \u001b[0mcallbacks\u001b[0m\u001b[0;34m=\u001b[0m\u001b[0mlist_callbacks\u001b[0m\u001b[0;34m,\u001b[0m\u001b[0;34m\u001b[0m\u001b[0;34m\u001b[0m\u001b[0m\n\u001b[1;32m     12\u001b[0m                     \u001b[0mworkers\u001b[0m\u001b[0;34m=\u001b[0m\u001b[0;36m5\u001b[0m\u001b[0;34m,\u001b[0m\u001b[0;34m\u001b[0m\u001b[0;34m\u001b[0m\u001b[0m\n\u001b[0;32m---> 13\u001b[0;31m                     \u001b[0muse_multiprocessing\u001b[0m\u001b[0;34m=\u001b[0m\u001b[0;32mTrue\u001b[0m\u001b[0;34m\u001b[0m\u001b[0;34m\u001b[0m\u001b[0m\n\u001b[0m\u001b[1;32m     14\u001b[0m                     )\n\u001b[1;32m     15\u001b[0m \u001b[0melapsed_time\u001b[0m \u001b[0;34m=\u001b[0m \u001b[0mtime\u001b[0m\u001b[0;34m.\u001b[0m\u001b[0mtime\u001b[0m\u001b[0;34m(\u001b[0m\u001b[0;34m)\u001b[0m \u001b[0;34m-\u001b[0m \u001b[0mstart_time\u001b[0m\u001b[0;34m\u001b[0m\u001b[0;34m\u001b[0m\u001b[0m\n",
            "\u001b[0;32m/usr/local/lib/python3.7/dist-packages/tensorflow/python/keras/engine/training.py\u001b[0m in \u001b[0;36mfit\u001b[0;34m(self, x, y, batch_size, epochs, verbose, callbacks, validation_split, validation_data, shuffle, class_weight, sample_weight, initial_epoch, steps_per_epoch, validation_steps, validation_batch_size, validation_freq, max_queue_size, workers, use_multiprocessing)\u001b[0m\n\u001b[1;32m   1181\u001b[0m                 _r=1):\n\u001b[1;32m   1182\u001b[0m               \u001b[0mcallbacks\u001b[0m\u001b[0;34m.\u001b[0m\u001b[0mon_train_batch_begin\u001b[0m\u001b[0;34m(\u001b[0m\u001b[0mstep\u001b[0m\u001b[0;34m)\u001b[0m\u001b[0;34m\u001b[0m\u001b[0;34m\u001b[0m\u001b[0m\n\u001b[0;32m-> 1183\u001b[0;31m               \u001b[0mtmp_logs\u001b[0m \u001b[0;34m=\u001b[0m \u001b[0mself\u001b[0m\u001b[0;34m.\u001b[0m\u001b[0mtrain_function\u001b[0m\u001b[0;34m(\u001b[0m\u001b[0miterator\u001b[0m\u001b[0;34m)\u001b[0m\u001b[0;34m\u001b[0m\u001b[0;34m\u001b[0m\u001b[0m\n\u001b[0m\u001b[1;32m   1184\u001b[0m               \u001b[0;32mif\u001b[0m \u001b[0mdata_handler\u001b[0m\u001b[0;34m.\u001b[0m\u001b[0mshould_sync\u001b[0m\u001b[0;34m:\u001b[0m\u001b[0;34m\u001b[0m\u001b[0;34m\u001b[0m\u001b[0m\n\u001b[1;32m   1185\u001b[0m                 \u001b[0mcontext\u001b[0m\u001b[0;34m.\u001b[0m\u001b[0masync_wait\u001b[0m\u001b[0;34m(\u001b[0m\u001b[0;34m)\u001b[0m\u001b[0;34m\u001b[0m\u001b[0;34m\u001b[0m\u001b[0m\n",
            "\u001b[0;32m/usr/local/lib/python3.7/dist-packages/tensorflow/python/eager/def_function.py\u001b[0m in \u001b[0;36m__call__\u001b[0;34m(self, *args, **kwds)\u001b[0m\n\u001b[1;32m    887\u001b[0m \u001b[0;34m\u001b[0m\u001b[0m\n\u001b[1;32m    888\u001b[0m       \u001b[0;32mwith\u001b[0m \u001b[0mOptionalXlaContext\u001b[0m\u001b[0;34m(\u001b[0m\u001b[0mself\u001b[0m\u001b[0;34m.\u001b[0m\u001b[0m_jit_compile\u001b[0m\u001b[0;34m)\u001b[0m\u001b[0;34m:\u001b[0m\u001b[0;34m\u001b[0m\u001b[0;34m\u001b[0m\u001b[0m\n\u001b[0;32m--> 889\u001b[0;31m         \u001b[0mresult\u001b[0m \u001b[0;34m=\u001b[0m \u001b[0mself\u001b[0m\u001b[0;34m.\u001b[0m\u001b[0m_call\u001b[0m\u001b[0;34m(\u001b[0m\u001b[0;34m*\u001b[0m\u001b[0margs\u001b[0m\u001b[0;34m,\u001b[0m \u001b[0;34m**\u001b[0m\u001b[0mkwds\u001b[0m\u001b[0;34m)\u001b[0m\u001b[0;34m\u001b[0m\u001b[0;34m\u001b[0m\u001b[0m\n\u001b[0m\u001b[1;32m    890\u001b[0m \u001b[0;34m\u001b[0m\u001b[0m\n\u001b[1;32m    891\u001b[0m       \u001b[0mnew_tracing_count\u001b[0m \u001b[0;34m=\u001b[0m \u001b[0mself\u001b[0m\u001b[0;34m.\u001b[0m\u001b[0mexperimental_get_tracing_count\u001b[0m\u001b[0;34m(\u001b[0m\u001b[0;34m)\u001b[0m\u001b[0;34m\u001b[0m\u001b[0;34m\u001b[0m\u001b[0m\n",
            "\u001b[0;32m/usr/local/lib/python3.7/dist-packages/tensorflow/python/eager/def_function.py\u001b[0m in \u001b[0;36m_call\u001b[0;34m(self, *args, **kwds)\u001b[0m\n\u001b[1;32m    915\u001b[0m       \u001b[0;31m# In this case we have created variables on the first call, so we run the\u001b[0m\u001b[0;34m\u001b[0m\u001b[0;34m\u001b[0m\u001b[0;34m\u001b[0m\u001b[0m\n\u001b[1;32m    916\u001b[0m       \u001b[0;31m# defunned version which is guaranteed to never create variables.\u001b[0m\u001b[0;34m\u001b[0m\u001b[0;34m\u001b[0m\u001b[0;34m\u001b[0m\u001b[0m\n\u001b[0;32m--> 917\u001b[0;31m       \u001b[0;32mreturn\u001b[0m \u001b[0mself\u001b[0m\u001b[0;34m.\u001b[0m\u001b[0m_stateless_fn\u001b[0m\u001b[0;34m(\u001b[0m\u001b[0;34m*\u001b[0m\u001b[0margs\u001b[0m\u001b[0;34m,\u001b[0m \u001b[0;34m**\u001b[0m\u001b[0mkwds\u001b[0m\u001b[0;34m)\u001b[0m  \u001b[0;31m# pylint: disable=not-callable\u001b[0m\u001b[0;34m\u001b[0m\u001b[0;34m\u001b[0m\u001b[0m\n\u001b[0m\u001b[1;32m    918\u001b[0m     \u001b[0;32melif\u001b[0m \u001b[0mself\u001b[0m\u001b[0;34m.\u001b[0m\u001b[0m_stateful_fn\u001b[0m \u001b[0;32mis\u001b[0m \u001b[0;32mnot\u001b[0m \u001b[0;32mNone\u001b[0m\u001b[0;34m:\u001b[0m\u001b[0;34m\u001b[0m\u001b[0;34m\u001b[0m\u001b[0m\n\u001b[1;32m    919\u001b[0m       \u001b[0;31m# Release the lock early so that multiple threads can perform the call\u001b[0m\u001b[0;34m\u001b[0m\u001b[0;34m\u001b[0m\u001b[0;34m\u001b[0m\u001b[0m\n",
            "\u001b[0;32m/usr/local/lib/python3.7/dist-packages/tensorflow/python/eager/function.py\u001b[0m in \u001b[0;36m__call__\u001b[0;34m(self, *args, **kwargs)\u001b[0m\n\u001b[1;32m   3022\u001b[0m        filtered_flat_args) = self._maybe_define_function(args, kwargs)\n\u001b[1;32m   3023\u001b[0m     return graph_function._call_flat(\n\u001b[0;32m-> 3024\u001b[0;31m         filtered_flat_args, captured_inputs=graph_function.captured_inputs)  # pylint: disable=protected-access\n\u001b[0m\u001b[1;32m   3025\u001b[0m \u001b[0;34m\u001b[0m\u001b[0m\n\u001b[1;32m   3026\u001b[0m   \u001b[0;34m@\u001b[0m\u001b[0mproperty\u001b[0m\u001b[0;34m\u001b[0m\u001b[0;34m\u001b[0m\u001b[0m\n",
            "\u001b[0;32m/usr/local/lib/python3.7/dist-packages/tensorflow/python/eager/function.py\u001b[0m in \u001b[0;36m_call_flat\u001b[0;34m(self, args, captured_inputs, cancellation_manager)\u001b[0m\n\u001b[1;32m   1959\u001b[0m       \u001b[0;31m# No tape is watching; skip to running the function.\u001b[0m\u001b[0;34m\u001b[0m\u001b[0;34m\u001b[0m\u001b[0;34m\u001b[0m\u001b[0m\n\u001b[1;32m   1960\u001b[0m       return self._build_call_outputs(self._inference_function.call(\n\u001b[0;32m-> 1961\u001b[0;31m           ctx, args, cancellation_manager=cancellation_manager))\n\u001b[0m\u001b[1;32m   1962\u001b[0m     forward_backward = self._select_forward_and_backward_functions(\n\u001b[1;32m   1963\u001b[0m         \u001b[0margs\u001b[0m\u001b[0;34m,\u001b[0m\u001b[0;34m\u001b[0m\u001b[0;34m\u001b[0m\u001b[0m\n",
            "\u001b[0;32m/usr/local/lib/python3.7/dist-packages/tensorflow/python/eager/function.py\u001b[0m in \u001b[0;36mcall\u001b[0;34m(self, ctx, args, cancellation_manager)\u001b[0m\n\u001b[1;32m    594\u001b[0m               \u001b[0minputs\u001b[0m\u001b[0;34m=\u001b[0m\u001b[0margs\u001b[0m\u001b[0;34m,\u001b[0m\u001b[0;34m\u001b[0m\u001b[0;34m\u001b[0m\u001b[0m\n\u001b[1;32m    595\u001b[0m               \u001b[0mattrs\u001b[0m\u001b[0;34m=\u001b[0m\u001b[0mattrs\u001b[0m\u001b[0;34m,\u001b[0m\u001b[0;34m\u001b[0m\u001b[0;34m\u001b[0m\u001b[0m\n\u001b[0;32m--> 596\u001b[0;31m               ctx=ctx)\n\u001b[0m\u001b[1;32m    597\u001b[0m         \u001b[0;32melse\u001b[0m\u001b[0;34m:\u001b[0m\u001b[0;34m\u001b[0m\u001b[0;34m\u001b[0m\u001b[0m\n\u001b[1;32m    598\u001b[0m           outputs = execute.execute_with_cancellation(\n",
            "\u001b[0;32m/usr/local/lib/python3.7/dist-packages/tensorflow/python/eager/execute.py\u001b[0m in \u001b[0;36mquick_execute\u001b[0;34m(op_name, num_outputs, inputs, attrs, ctx, name)\u001b[0m\n\u001b[1;32m     58\u001b[0m     \u001b[0mctx\u001b[0m\u001b[0;34m.\u001b[0m\u001b[0mensure_initialized\u001b[0m\u001b[0;34m(\u001b[0m\u001b[0;34m)\u001b[0m\u001b[0;34m\u001b[0m\u001b[0;34m\u001b[0m\u001b[0m\n\u001b[1;32m     59\u001b[0m     tensors = pywrap_tfe.TFE_Py_Execute(ctx._handle, device_name, op_name,\n\u001b[0;32m---> 60\u001b[0;31m                                         inputs, attrs, num_outputs)\n\u001b[0m\u001b[1;32m     61\u001b[0m   \u001b[0;32mexcept\u001b[0m \u001b[0mcore\u001b[0m\u001b[0;34m.\u001b[0m\u001b[0m_NotOkStatusException\u001b[0m \u001b[0;32mas\u001b[0m \u001b[0me\u001b[0m\u001b[0;34m:\u001b[0m\u001b[0;34m\u001b[0m\u001b[0;34m\u001b[0m\u001b[0m\n\u001b[1;32m     62\u001b[0m     \u001b[0;32mif\u001b[0m \u001b[0mname\u001b[0m \u001b[0;32mis\u001b[0m \u001b[0;32mnot\u001b[0m \u001b[0;32mNone\u001b[0m\u001b[0;34m:\u001b[0m\u001b[0;34m\u001b[0m\u001b[0;34m\u001b[0m\u001b[0m\n",
            "\u001b[0;31mKeyboardInterrupt\u001b[0m: "
          ]
        }
      ]
    },
    {
      "cell_type": "code",
      "metadata": {
        "id": "rbumzY9bXYgX",
        "colab": {
          "base_uri": "https://localhost:8080/"
        },
        "outputId": "77820a1a-86de-4658-c2bc-11c8c538f009"
      },
      "source": [
        "result = model.evaluate(final_test_imageset, final_test_label)\n",
        "print(\"Accuracy : {}, Loss: {}\".format(result[1], result[0]))"
      ],
      "execution_count": null,
      "outputs": [
        {
          "output_type": "stream",
          "text": [
            "313/313 [==============================] - 108s 345ms/step - loss: 2.1264 - accuracy: 0.3146\n",
            "Accuracy : 0.31459999084472656, Loss: 2.1263551712036133\n"
          ],
          "name": "stdout"
        }
      ]
    },
    {
      "cell_type": "code",
      "metadata": {
        "id": "GD_4XS5Iiv0b"
      },
      "source": [
        ""
      ],
      "execution_count": null,
      "outputs": []
    },
    {
      "cell_type": "code",
      "metadata": {
        "id": "L1Z_Sn_UXYXz"
      },
      "source": [
        "model_loaded = load_model(work_dir+\"best_\"+checkpointer_name)"
      ],
      "execution_count": null,
      "outputs": []
    },
    {
      "cell_type": "code",
      "metadata": {
        "id": "j6RZW1ZqaeV_"
      },
      "source": [
        "result2 = model_loaded.evaluate(final_test_imageset, final_test_label)\n",
        "print(\"{}: Test Acc: {}, Test Loss: {}\".format(\"best_\"+checkpointer_name, round(result2[1],4), round(result2[0],4) ))"
      ],
      "execution_count": null,
      "outputs": []
    },
    {
      "cell_type": "code",
      "metadata": {
        "id": "a5Q6-SzVbIwt"
      },
      "source": [
        "#predicted_values = model.predict(final_test_imageset, len(final_test_imageset))\n",
        "predicted_values = model_loaded.predict(final_test_imageset, len(final_test_imageset))"
      ],
      "execution_count": null,
      "outputs": []
    },
    {
      "cell_type": "code",
      "metadata": {
        "id": "ywmXGVHplGAA"
      },
      "source": [
        "list_all_predicted, individual_accuracies = identify_predicted_label(predicted_values)\n",
        "\n",
        "np.save(f'{work_dir}list_all_predicted.{dataset}.{impl_type}.pkl', list_all_predicted, allow_pickle=True)\n",
        "np.save(f'{work_dir}individual_accuracies.{dataset}.{impl_type}.pkl', individual_accuracies, allow_pickle=True)\n",
        "\n",
        "list_all_predicted = np.load(f'{work_dir}list_all_predicted.{dataset}.{impl_type}.pkl.npy', allow_pickle=True)\n",
        "individual_accuracies = np.load(f'{work_dir}individual_accuracies.{dataset}.{impl_type}.pkl.npy', allow_pickle=True)"
      ],
      "execution_count": null,
      "outputs": []
    },
    {
      "cell_type": "code",
      "metadata": {
        "id": "i3c2ueEn-Cg0"
      },
      "source": [
        "max_index_ind_acc = np.argmax(np.array(individual_accuracies))"
      ],
      "execution_count": null,
      "outputs": []
    },
    {
      "cell_type": "code",
      "metadata": {
        "colab": {
          "base_uri": "https://localhost:8080/"
        },
        "id": "5K2AcPFxjrvv",
        "outputId": "1cd1f1af-3be4-4b7f-e4b5-7802e112ca9d"
      },
      "source": [
        "print(f\"max_index_ind_acc = {max_index_ind_acc}\")\n",
        "print(f\"len(list_all_predicted) = {len(list_all_predicted)}\")\n",
        "print(f\"len(list_all_predicted[{max_index_ind_acc}]) = {len(list_all_predicted[max_index_ind_acc])}\")\n",
        "print(f\"individual_accuracies = {individual_accuracies}\")"
      ],
      "execution_count": null,
      "outputs": [
        {
          "output_type": "stream",
          "text": [
            "max_index_ind_acc = 0\n",
            "len(list_all_predicted) = 1\n",
            "len(list_all_predicted[0]) = 10000\n",
            "individual_accuracies = [31.46]\n"
          ],
          "name": "stdout"
        }
      ]
    },
    {
      "cell_type": "code",
      "metadata": {
        "colab": {
          "base_uri": "https://localhost:8080/"
        },
        "id": "cCUDOC-ap7_A",
        "outputId": "972424a1-a5f4-4f1c-bb94-3be686dcc2b2"
      },
      "source": [
        "print(\"np.array(list_all_predicted).shape =\", np.array(list_all_predicted).shape)\n",
        "#np.array(list_all_predicted)"
      ],
      "execution_count": null,
      "outputs": [
        {
          "output_type": "stream",
          "text": [
            "np.array(list_all_predicted).shape = (1, 10000)\n"
          ],
          "name": "stdout"
        }
      ]
    },
    {
      "cell_type": "code",
      "metadata": {
        "colab": {
          "base_uri": "https://localhost:8080/"
        },
        "id": "uTyxdwqL5FkD",
        "outputId": "f48bf8b5-8239-4b7f-fc36-e88bbcd40d6b"
      },
      "source": [
        "from scipy import stats\n",
        "\n",
        "list_modes = stats.mode(np.array(list_all_predicted))\n",
        "print(\"list_modes.mode.shape =\", list_modes.mode.shape)\n",
        "list_modes"
      ],
      "execution_count": null,
      "outputs": [
        {
          "output_type": "stream",
          "text": [
            "list_modes.mode.shape = (1, 10000)\n"
          ],
          "name": "stdout"
        },
        {
          "output_type": "execute_result",
          "data": {
            "text/plain": [
              "ModeResult(mode=array([[5, 6, 1, ..., 0, 1, 5]]), count=array([[1, 1, 1, ..., 1, 1, 1]]))"
            ]
          },
          "metadata": {
            "tags": []
          },
          "execution_count": 30
        }
      ]
    },
    {
      "cell_type": "code",
      "metadata": {
        "colab": {
          "base_uri": "https://localhost:8080/",
          "height": 36
        },
        "id": "gK5O-IE7J5ts",
        "outputId": "a2a7c7a0-72fa-413e-83c9-690c9149be8c"
      },
      "source": [
        "'''\n",
        "Final accuracy = 92.62%\n",
        "Final: correctly classified 9312 out of 10000. Accuracy = 93.12%\n",
        "Final: correctly classified 9321 out of 10000. Accuracy = 93.21%\n",
        "'''"
      ],
      "execution_count": null,
      "outputs": [
        {
          "output_type": "execute_result",
          "data": {
            "application/vnd.google.colaboratory.intrinsic+json": {
              "type": "string"
            },
            "text/plain": [
              "'\\nFinal accuracy = 92.62%\\nFinal: correctly classified 9312 out of 10000. Accuracy = 93.12%\\nFinal: correctly classified 9321 out of 10000. Accuracy = 93.21%\\n'"
            ]
          },
          "metadata": {
            "tags": []
          },
          "execution_count": 37
        }
      ]
    },
    {
      "cell_type": "code",
      "metadata": {
        "colab": {
          "base_uri": "https://localhost:8080/"
        },
        "id": "Ad4cZRbZ6Hif",
        "outputId": "2a7e069e-a308-4781-c07c-ffe04ec16df3"
      },
      "source": [
        "final_count_correct = 0\n",
        "data = 0\n",
        "final_prediction_list = []\n",
        "for true,mode_val,freq in zip(y_test, list_modes.mode[0],list_modes.count[0]):\n",
        "    #print(f\"data {data}: true = {true}; mode = {mode}; count = {count}\")\n",
        "    if (true == mode_val) and (freq > 1):\n",
        "        final_prediction_list.append(mode_val)\n",
        "        final_count_correct += 1\n",
        "    elif true == list_all_predicted[max_index_ind_acc][data]:\n",
        "        final_prediction_list.append(list_all_predicted[max_index_ind_acc][data])\n",
        "        final_count_correct += 1\n",
        "    data += 1\n",
        "    #break\n",
        "\n",
        "print(f'Final: correctly classified {final_count_correct} out of {len(final_prediction_list)}. \\\n",
        "Accuracy = {round((final_count_correct/len(final_prediction_list))*100, 2)}%')\n",
        "#print(f\"Final accuracy = {round((final_count_correct/len(final_predictions))*100, 2)}%\")"
      ],
      "execution_count": null,
      "outputs": [
        {
          "output_type": "stream",
          "text": [
            "Final: correctly classified 3146 out of 3146. Accuracy = 100.0%\n"
          ],
          "name": "stdout"
        }
      ]
    },
    {
      "cell_type": "code",
      "metadata": {
        "id": "48VbbcJz0LoM"
      },
      "source": [
        ""
      ],
      "execution_count": null,
      "outputs": []
    },
    {
      "cell_type": "code",
      "metadata": {
        "id": "Dc7lBQw9zE-Y"
      },
      "source": [
        "with open(work_dir+'Records.csv', \"a\") as fp:\n",
        "    wr = csv.writer(fp, dialect='excel')\n",
        "    try:\n",
        "        wr.writerow([checkpointer_name[8:-5], round(result2[1], 4), round(result2[0], 4), elapsed_time])\n",
        "    except:\n",
        "        wr.writerow([checkpointer_name[8:-5], round(result2[1], 4), round(result2[0], 4)])\n",
        "print(\"Saved results.\")"
      ],
      "execution_count": null,
      "outputs": []
    },
    {
      "cell_type": "code",
      "metadata": {
        "id": "pfOLd5uPoSYP"
      },
      "source": [
        ""
      ],
      "execution_count": null,
      "outputs": []
    },
    {
      "cell_type": "code",
      "metadata": {
        "id": "vNrrlrUTXYVp"
      },
      "source": [
        "#Confution Matrix and Classification Report\n",
        "'''\n",
        "Y_pred = model_loaded.predict_generator(final_test_imageset, len(final_test_imageset))\n",
        "y_pred = np.argmax(Y_pred, axis=1)\n",
        "print('Confusion Matrix')\n",
        "print(confusion_matrix(y_test, y_pred))\n",
        "#'''"
      ],
      "execution_count": null,
      "outputs": []
    },
    {
      "cell_type": "code",
      "metadata": {
        "id": "oZG4v9iHcay7"
      },
      "source": [
        "'''\n",
        "list_y_pred = []\n",
        "\n",
        "for pred_val_list in Y_pred:\n",
        "    pred_val = np.where(pred_val_list == max(pred_val_list))\n",
        "    list_y_pred.append(pred_val[0][0])\n",
        "    #print(pred_val_list)\n",
        "    #break\n",
        "\n",
        "print(\"len(list_y_pred) =\", len(list_y_pred))\n",
        "#'''"
      ],
      "execution_count": null,
      "outputs": []
    },
    {
      "cell_type": "code",
      "metadata": {
        "id": "pO4fL27lcnw8"
      },
      "source": [
        "#print(type(y_test))\n",
        "#print(type(list_y_pred))"
      ],
      "execution_count": null,
      "outputs": []
    },
    {
      "cell_type": "code",
      "metadata": {
        "id": "NCn6Oxgffefh"
      },
      "source": [
        "'''\n",
        "count_correct = 0\n",
        "for y_true,y_predicted in zip(y_test,list_y_pred):\n",
        "    if y_true == y_predicted:\n",
        "        count_correct += 1\n",
        "print(\"count_correct =\", count_correct)\n",
        "print(\"Accuracy =\", (count_correct/len(y_test))*100)\n",
        "#'''"
      ],
      "execution_count": null,
      "outputs": []
    },
    {
      "cell_type": "code",
      "metadata": {
        "id": "RhiUB_uNXYPL"
      },
      "source": [
        "# Precision [TP/TP+FP] = The ratio of correctly predicted positive observations to the total predicted positive observations.\n",
        "# Recall (Sensitivity) [TP/TP+FN] = The ratio of correctly predicted positive observations to the all observations in actual class - 'yes'.\n",
        "# F1 score [F1 Score = 2*(Recall * Precision) / (Recall + Precision)] = The weighted average of Precision and Recall.\n",
        "# Support = The number of samples of the true response that lie in that class.\n",
        "'''\n",
        "print('Classification Report:')\n",
        "#target_names = ['Mono', 'Di'] # not ['Di', 'Mono']\n",
        "print(classification_report(y_test, y_pred)) #, target_names=target_names))\n",
        "#'''"
      ],
      "execution_count": null,
      "outputs": []
    },
    {
      "cell_type": "code",
      "metadata": {
        "id": "7adZ1XniXYKV"
      },
      "source": [
        "'''\n",
        "print('Classification Report')\n",
        "print(classification_report(y_test, y_pred, target_names=list_categories))\n",
        "#'''"
      ],
      "execution_count": null,
      "outputs": []
    },
    {
      "cell_type": "code",
      "metadata": {
        "id": "VJjvgOHfkREd"
      },
      "source": [
        "log_data = pd.read_csv(work_dir+log_name, sep=',', engine='python') \n",
        "print(\"log_data.shape =\", log_data.shape)"
      ],
      "execution_count": null,
      "outputs": []
    },
    {
      "cell_type": "code",
      "metadata": {
        "id": "cXvYwRP6lWQz"
      },
      "source": [
        "# Getting the model history keys \n",
        "#history.history.keys()\n",
        "log_data.head()"
      ],
      "execution_count": null,
      "outputs": []
    },
    {
      "cell_type": "code",
      "metadata": {
        "id": "5DyZbASblWNn"
      },
      "source": [
        "# plot the training artifacts\n",
        "title = \"Val loss for \"+dataset+\" \"+impl_type+\" (\"+str(NUM_LAYERS)+\" layers, \"+str(NUM_NEURONS)+\" neurons)\"\n",
        "\n",
        "plt.plot(log_data['loss'])\n",
        "plt.plot(log_data['val_loss'])\n",
        "plt.title(title)\n",
        "plt.ylabel('loss')\n",
        "plt.xlabel('epoch')\n",
        "plt.legend(['train_loss','val_loss'], loc = 'best')\n",
        "\n",
        "img_path = work_dir+'Images/vLoss_'+checkpointer_name[8:-5]+'.png'\n",
        "plt.savefig(img_path, dpi=600)\n",
        "plt.show()\n",
        "print('img_path =', img_path)"
      ],
      "execution_count": null,
      "outputs": []
    },
    {
      "cell_type": "code",
      "metadata": {
        "id": "CIPNBC_slWKi"
      },
      "source": [
        "title = \"Val acc for \"+dataset+\" \"+impl_type+\" (\"+str(NUM_LAYERS)+\" layers, \"+str(NUM_NEURONS)+\" neurons)\"\n",
        "\n",
        "plt.plot(log_data['accuracy'])\n",
        "plt.plot(log_data['val_accuracy'])\n",
        "plt.title(title)\n",
        "plt.ylabel('accuracy')\n",
        "plt.xlabel('epoch')\n",
        "plt.legend(['train_accuracy','val_accuracy'], loc = 'best')\n",
        "\n",
        "img_path = work_dir+'Images/vAcc_'+checkpointer_name[8:-5]+'.png'\n",
        "plt.savefig(img_path, dpi=600)\n",
        "plt.show()\n",
        "print('img_path =', img_path)"
      ],
      "execution_count": null,
      "outputs": []
    },
    {
      "cell_type": "code",
      "metadata": {
        "id": "_wxpuYhJlWHI"
      },
      "source": [
        ""
      ],
      "execution_count": null,
      "outputs": []
    },
    {
      "cell_type": "code",
      "metadata": {
        "id": "HHcBPAZMlWDz"
      },
      "source": [
        ""
      ],
      "execution_count": null,
      "outputs": []
    },
    {
      "cell_type": "markdown",
      "metadata": {
        "id": "VDC-KGCR9KXu"
      },
      "source": [
        "Image ckeck:"
      ]
    },
    {
      "cell_type": "code",
      "metadata": {
        "id": "6jg6TBJxlV_b"
      },
      "source": [
        "'''\n",
        "Record: \n",
        "Fashion-MNIST: AlexNet = 86.43, VGGNet = 90.45, ResNet = 94.39, CapsuleNet = 90.03, ma2019 = 94.60;\n",
        "dropout = 0.1, Test Acc = 0.9026, Test Loss = 0.2931;\n",
        "dropout = 0.2, Test Acc = 0.9063, Test Loss = 0.3075;\n",
        "dropout = 0.2 (2), Test Acc = 0.9056, Test Loss = 0.2972;\n",
        "dropout = 0.5, Test Acc = 0.8936, Test Loss = 0.3358;\n",
        "dropout = 0.5 (3), Test Acc = 0.8911, Test Loss = 0.3462;\n",
        "dropout = 0.8, Test Acc = 0.8676, Test Loss = 0.3882; ###\n",
        "#'''\n",
        "\n",
        "'''\n",
        "NUM_NEURONS = 64\n",
        "NUM_LAYERS = 3\n",
        "DROPOUT = 0.8\n",
        "checkpointer_name  = \"weights_\"+dataset+\"_\"+impl_type+\"_nLayers\"+str(NUM_LAYERS)+\"_nNeurons\"+str(NUM_NEURONS)+\"_dropout\"+str(DROPOUT)+\".hdf5\"\n",
        "log_name = \"log_\"+checkpointer_name[8:-5]+\".log\"\n",
        "log_data = pd.read_csv(work_dir+log_name, sep=',', engine='python') \n",
        "print('log_name =', log_name)\n",
        "###\n",
        "\n",
        "title = \"Val loss for \"+dataset+\" \"+impl_type+\" (\"+str(NUM_LAYERS)+\" layers, \"+str(NUM_NEURONS)+\" neurons)\"\n",
        "plt.plot(log_data['loss'])\n",
        "plt.plot(log_data['val_loss'])\n",
        "plt.title(title)\n",
        "plt.ylabel('loss')\n",
        "plt.xlabel('epoch')\n",
        "plt.legend(['train_loss','val_loss'], loc = 'best')\n",
        "plt.show()\n",
        "#'''"
      ],
      "execution_count": null,
      "outputs": []
    },
    {
      "cell_type": "code",
      "metadata": {
        "id": "ZQlafPWlXYH5"
      },
      "source": [
        ""
      ],
      "execution_count": null,
      "outputs": []
    }
  ]
}