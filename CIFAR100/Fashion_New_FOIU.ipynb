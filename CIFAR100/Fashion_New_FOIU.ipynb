{
  "nbformat": 4,
  "nbformat_minor": 0,
  "metadata": {
    "colab": {
      "name": "Fashion_New_FOIU.ipynb",
      "provenance": [],
      "collapsed_sections": []
    },
    "kernelspec": {
      "name": "python3",
      "display_name": "Python 3"
    },
    "accelerator": "GPU"
  },
  "cells": [
    {
      "cell_type": "code",
      "metadata": {
        "id": "OqPP8c_ZcADr",
        "colab": {
          "base_uri": "https://localhost:8080/"
        },
        "outputId": "1763c532-90ac-4f9e-dab5-90e2f8567b05"
      },
      "source": [
        "from google.colab import drive\n",
        "drive.mount('/content/drive', force_remount=True)"
      ],
      "execution_count": 1,
      "outputs": [
        {
          "output_type": "stream",
          "text": [
            "Mounted at /content/drive\n"
          ],
          "name": "stdout"
        }
      ]
    },
    {
      "cell_type": "code",
      "metadata": {
        "id": "1KSrUsIPlJxK"
      },
      "source": [
        "work_dir = \"drive/My Drive/Training Records/\"\n",
        "impl_type = \"Complex\"\n",
        "dataset = \"Fashion\""
      ],
      "execution_count": 4,
      "outputs": []
    },
    {
      "cell_type": "code",
      "metadata": {
        "id": "4nH4627DTtnu"
      },
      "source": [
        "\n",
        "import numpy as np\n",
        "import pandas as pd\n",
        "import pickle\n",
        "import numpy as np\n",
        "import random\n",
        "import time\n",
        "import csv\n",
        "import os\n",
        "#os.environ[\"OPENCV_IO_MAX_IMAGE_PIXELS\"] = pow(2,40).__str__()\n",
        "import cv2\n",
        "from tqdm import tqdm\n",
        "\n",
        "import tensorflow as tf\n",
        "from tensorflow.python.keras import Sequential\n",
        "from tensorflow.keras import layers, optimizers\n",
        "from tensorflow.keras.applications import DenseNet121\n",
        "from tensorflow.keras.applications.resnet50 import ResNet50\n",
        "from tensorflow.keras.layers import *\n",
        "from tensorflow.keras.models import Model, load_model\n",
        "from tensorflow.keras.initializers import glorot_uniform\n",
        "from tensorflow.keras.utils import plot_model\n",
        "from tensorflow.keras.callbacks import ReduceLROnPlateau, EarlyStopping, ModelCheckpoint, LearningRateScheduler, LambdaCallback\n",
        "from IPython.display import display\n",
        "from tensorflow.keras import backend as K\n",
        "import matplotlib.pyplot as plt\n",
        "import matplotlib.image as mpimg\n",
        "from sklearn.model_selection import train_test_split\n",
        "from keras import optimizers\n",
        "from sklearn.metrics import classification_report, confusion_matrix\n",
        "from keras.callbacks import CSVLogger"
      ],
      "execution_count": 5,
      "outputs": []
    },
    {
      "cell_type": "code",
      "metadata": {
        "id": "bwRTaiwlvMSj"
      },
      "source": [
        ""
      ],
      "execution_count": null,
      "outputs": []
    },
    {
      "cell_type": "code",
      "metadata": {
        "id": "bXwh_5yHvM8m",
        "colab": {
          "base_uri": "https://localhost:8080/"
        },
        "outputId": "7555a61d-f25a-4dec-b5ea-60b67ccf3412"
      },
      "source": [
        "list_categories = ['T-shirt/top', 'Trouser', 'Pullover', 'Dress', 'Coat', 'Sandal', 'Shirt', 'Sneaker', 'Bag', 'Ankle boot']\n",
        "num_classes = len(list_categories)\n",
        "print('num_classes =', num_classes)"
      ],
      "execution_count": 6,
      "outputs": [
        {
          "output_type": "stream",
          "text": [
            "num_classes = 10\n"
          ],
          "name": "stdout"
        }
      ]
    },
    {
      "cell_type": "code",
      "metadata": {
        "id": "vQQaW13hXYDv",
        "colab": {
          "base_uri": "https://localhost:8080/"
        },
        "outputId": "6754bd9a-a326-4ad7-e0f8-fced01d39e4b"
      },
      "source": [
        "(x_train, y_train), (x_test, y_test) = tf.keras.datasets.fashion_mnist.load_data()\n",
        "\n",
        "print('x_train.shape =',x_train.shape)\n",
        "print('y_train.shape =',y_train.shape)\n",
        "print('x_test.shape =',x_test.shape)\n",
        "print('y_test.shape =',y_test.shape)"
      ],
      "execution_count": 7,
      "outputs": [
        {
          "output_type": "stream",
          "text": [
            "Downloading data from https://storage.googleapis.com/tensorflow/tf-keras-datasets/train-labels-idx1-ubyte.gz\n",
            "32768/29515 [=================================] - 0s 0us/step\n",
            "Downloading data from https://storage.googleapis.com/tensorflow/tf-keras-datasets/train-images-idx3-ubyte.gz\n",
            "26427392/26421880 [==============================] - 0s 0us/step\n",
            "Downloading data from https://storage.googleapis.com/tensorflow/tf-keras-datasets/t10k-labels-idx1-ubyte.gz\n",
            "8192/5148 [===============================================] - 0s 0us/step\n",
            "Downloading data from https://storage.googleapis.com/tensorflow/tf-keras-datasets/t10k-images-idx3-ubyte.gz\n",
            "4423680/4422102 [==============================] - 0s 0us/step\n",
            "x_train.shape = (60000, 28, 28)\n",
            "y_train.shape = (60000,)\n",
            "x_test.shape = (10000, 28, 28)\n",
            "y_test.shape = (10000,)\n"
          ],
          "name": "stdout"
        }
      ]
    },
    {
      "cell_type": "code",
      "metadata": {
        "id": "woR_39Kvah5y"
      },
      "source": [
        "x_train_norm = x_train/255\n",
        "x_test_norm = x_test/255"
      ],
      "execution_count": 8,
      "outputs": []
    },
    {
      "cell_type": "code",
      "metadata": {
        "id": "LKfm-6z2Z-6X",
        "colab": {
          "base_uri": "https://localhost:8080/"
        },
        "outputId": "9a071541-9e80-457e-cb7b-90aa0a2ef764"
      },
      "source": [
        "final_train_imageset = np.expand_dims(x_train_norm, axis = 3)\n",
        "final_test_imageset = np.expand_dims(x_test_norm, axis = 3)\n",
        "\n",
        "y_train2 = np.expand_dims(y_train, axis = 1)\n",
        "y_test2 = np.expand_dims(y_test, axis = 1)\n",
        "\n",
        "print('final_train_imageset.shape =', final_train_imageset.shape)\n",
        "print('final_test_imageset.shape =', final_test_imageset.shape)\n",
        "print('y_train2.shape =', y_train2.shape)\n",
        "print('y_test2.shape =', y_test2.shape)"
      ],
      "execution_count": 9,
      "outputs": [
        {
          "output_type": "stream",
          "text": [
            "final_train_imageset.shape = (60000, 28, 28, 1)\n",
            "final_test_imageset.shape = (10000, 28, 28, 1)\n",
            "y_train2.shape = (60000, 1)\n",
            "y_test2.shape = (10000, 1)\n"
          ],
          "name": "stdout"
        }
      ]
    },
    {
      "cell_type": "code",
      "metadata": {
        "id": "WYQzdAN-baRZ",
        "colab": {
          "base_uri": "https://localhost:8080/"
        },
        "outputId": "67a56218-7126-474b-8440-57350681280d"
      },
      "source": [
        "final_train_label = tf.keras.utils.to_categorical(y_train2, num_classes)\n",
        "final_test_label = tf.keras.utils.to_categorical(y_test2, num_classes)\n",
        "\n",
        "print('final_train_label.shape =',final_train_label.shape)\n",
        "print('final_test_label.shape =',final_test_label.shape)"
      ],
      "execution_count": 10,
      "outputs": [
        {
          "output_type": "stream",
          "text": [
            "final_train_label.shape = (60000, 10)\n",
            "final_test_label.shape = (10000, 10)\n"
          ],
          "name": "stdout"
        }
      ]
    },
    {
      "cell_type": "code",
      "metadata": {
        "id": "77WXvDHGbavk"
      },
      "source": [
        ""
      ],
      "execution_count": null,
      "outputs": []
    },
    {
      "cell_type": "code",
      "metadata": {
        "id": "Y3KEYSzNZ_Mb",
        "colab": {
          "base_uri": "https://localhost:8080/"
        },
        "outputId": "5c8c5d49-f94c-454d-b98d-ee6a5468cd4d"
      },
      "source": [
        "NUM_NEURONS = 32\n",
        "NUM_LAYERS = 3\n",
        "BATCH_SIZE = 32\n",
        "NUM_EPOCHS = 100\n",
        "#epochs_completed = 0\n",
        "LEARNING_RATE = 0.0001\n",
        "EPSILON = 1e-7\n",
        "DROPOUT = 0.5\n",
        "#MOMENTUM = 0.99\n",
        "\n",
        "LOSS = 'categorical_crossentropy'\n",
        "ACTIVATION_FUNCTION = 'default' # 'relu' 'LeakyReLU' 'PReLU' 'ELU' 'default'\n",
        "FINAL_ACTIVATION_FUNCTION = 'softmax'\n",
        "validation_split = 0.1\n",
        "kernel_size=(1,1)\n",
        "early_stop_after_epochs = 50\n",
        "\n",
        "nTry = \"GRU.Hybrid.1\"\n",
        "# +\"_kernel\"+str(kernel_size)+\"_lr\"+str(LEARNING_RATE)+\"_batch\"+str(BATCH_SIZE)+\"_epochs\"+str(NUM_EPOCHS)\n",
        "#checkpointer_name  = \"weights_\"+dataset+\"_\"+impl_type+\"_nLayers\"+str(NUM_LAYERS)+\"_nNeurons\"+str(NUM_NEURONS)+\"_dropout\"+str(DROPOUT)+\"_batch\"+str(BATCH_SIZE)+\".hdf5\"\n",
        "checkpointer_name  = \"weights.\"+dataset+\".\"+impl_type+\".batch\"+str(BATCH_SIZE)+\".nTry.\"+nTry\n",
        "log_name = \"log.\"+checkpointer_name[8:]+\".log\"\n",
        "\n",
        "print('checkpointer_name =', checkpointer_name)\n",
        "print('log_name =', log_name)"
      ],
      "execution_count": 153,
      "outputs": [
        {
          "output_type": "stream",
          "text": [
            "checkpointer_name = weights.Fashion.Complex.batch32.nTry.GRU.Hybrid.1\n",
            "log_name = log.Fashion.Complex.batch32.nTry.GRU.Hybrid.1.log\n"
          ],
          "name": "stdout"
        }
      ]
    },
    {
      "cell_type": "code",
      "metadata": {
        "id": "n02hlBxFXYMC",
        "colab": {
          "base_uri": "https://localhost:8080/"
        },
        "outputId": "a6221bf9-58ad-4c88-ec88-b0c0776b8bf1"
      },
      "source": [
        "a = input_shape[0]\n",
        "a += a//16\n",
        "a"
      ],
      "execution_count": 154,
      "outputs": [
        {
          "output_type": "execute_result",
          "data": {
            "text/plain": [
              "29"
            ]
          },
          "metadata": {
            "tags": []
          },
          "execution_count": 154
        }
      ]
    },
    {
      "cell_type": "code",
      "metadata": {
        "id": "I-XbkH-AXYR3",
        "colab": {
          "base_uri": "https://localhost:8080/"
        },
        "outputId": "dc309e3d-d7c6-4896-fa2f-9be47e3c9415"
      },
      "source": [
        "#'''\n",
        "input_shape = final_train_imageset.shape[1:]\n",
        "\n",
        "inputs = Input(input_shape)\n",
        "x = inputs\n",
        "units = 32\n",
        "x = Conv2D(units, (3,3), activation='relu')(x)\n",
        "x = Conv2D(units, (3,3), activation='relu')(x)\n",
        "x = Conv2D(units, (3,3), activation='relu')(x)\n",
        "x = Conv2D(units, (3,3), activation='relu')(x)\n",
        "x = Conv2D(units, (3,3), activation='relu')(x)\n",
        "x = Conv2D(units, (3,3), activation='relu')(x)\n",
        "x = Conv2D(units, (3,3), activation='relu')(x)\n",
        "x = Conv2D(units, (3,3), activation='relu')(x)\n",
        "x = Conv2D(units, (3,3), activation='relu')(x)\n",
        "x = Conv2D(units, (3,3), activation='relu')(x)\n",
        "x = Conv2D(units, (3,3), activation='relu')(x)\n",
        "x = Conv2D(units, (3,3), activation='relu')(x)\n",
        "x = Conv2D(units, (3,3), activation='relu')(x)\n",
        "x = Reshape((-1, x.shape[1]))(x)\n",
        "x = GRU(units, return_sequences=False)(x)\n",
        "\n",
        "#x = Flatten()(x)\n",
        "#x = Dense(512, activation='relu')(x)\n",
        "outputs = Dense(num_classes, activation=FINAL_ACTIVATION_FUNCTION)(x)\n",
        "\n",
        "model = Model(inputs=inputs, outputs=outputs)\n",
        "#model = Model(inputs=inputs_r, outputs=outputs)\n",
        "model.summary()\n",
        "#'''"
      ],
      "execution_count": 155,
      "outputs": [
        {
          "output_type": "stream",
          "text": [
            "Model: \"model_23\"\n",
            "_________________________________________________________________\n",
            "Layer (type)                 Output Shape              Param #   \n",
            "=================================================================\n",
            "input_61 (InputLayer)        [(None, 28, 28, 1)]       0         \n",
            "_________________________________________________________________\n",
            "conv2d_425 (Conv2D)          (None, 26, 26, 32)        320       \n",
            "_________________________________________________________________\n",
            "conv2d_426 (Conv2D)          (None, 24, 24, 32)        9248      \n",
            "_________________________________________________________________\n",
            "conv2d_427 (Conv2D)          (None, 22, 22, 32)        9248      \n",
            "_________________________________________________________________\n",
            "conv2d_428 (Conv2D)          (None, 20, 20, 32)        9248      \n",
            "_________________________________________________________________\n",
            "conv2d_429 (Conv2D)          (None, 18, 18, 32)        9248      \n",
            "_________________________________________________________________\n",
            "conv2d_430 (Conv2D)          (None, 16, 16, 32)        9248      \n",
            "_________________________________________________________________\n",
            "conv2d_431 (Conv2D)          (None, 14, 14, 32)        9248      \n",
            "_________________________________________________________________\n",
            "conv2d_432 (Conv2D)          (None, 12, 12, 32)        9248      \n",
            "_________________________________________________________________\n",
            "conv2d_433 (Conv2D)          (None, 10, 10, 32)        9248      \n",
            "_________________________________________________________________\n",
            "conv2d_434 (Conv2D)          (None, 8, 8, 32)          9248      \n",
            "_________________________________________________________________\n",
            "conv2d_435 (Conv2D)          (None, 6, 6, 32)          9248      \n",
            "_________________________________________________________________\n",
            "conv2d_436 (Conv2D)          (None, 4, 4, 32)          9248      \n",
            "_________________________________________________________________\n",
            "conv2d_437 (Conv2D)          (None, 2, 2, 32)          9248      \n",
            "_________________________________________________________________\n",
            "reshape_57 (Reshape)         (None, 64, 2)             0         \n",
            "_________________________________________________________________\n",
            "gru_56 (GRU)                 (None, 32)                3456      \n",
            "_________________________________________________________________\n",
            "dense_51 (Dense)             (None, 10)                330       \n",
            "=================================================================\n",
            "Total params: 115,082\n",
            "Trainable params: 115,082\n",
            "Non-trainable params: 0\n",
            "_________________________________________________________________\n"
          ],
          "name": "stdout"
        }
      ]
    },
    {
      "cell_type": "code",
      "metadata": {
        "colab": {
          "base_uri": "https://localhost:8080/",
          "height": 1000
        },
        "id": "BFVlbTSBNJ7V",
        "outputId": "fd06604e-297f-40f3-a514-4ac1a2ff248c"
      },
      "source": [
        "tf.keras.utils.plot_model(\n",
        "    model, to_file='model.png', show_shapes=True, show_dtype=False,\n",
        "    show_layer_names=True, rankdir='TB', expand_nested=True, dpi=64\n",
        ")"
      ],
      "execution_count": 156,
      "outputs": [
        {
          "output_type": "execute_result",
          "data": {
            "image/png": "[encoded data removed]",
            "text/plain": [
              "<IPython.core.display.Image object>"
            ]
          },
          "metadata": {
            "tags": []
          },
          "execution_count": 156
        }
      ]
    },
    {
      "cell_type": "code",
      "metadata": {
        "id": "iu7jBKYUXYaK",
        "colab": {
          "base_uri": "https://localhost:8080/"
        },
        "outputId": "70bfa874-f076-4898-fed3-fdebd62fc7da"
      },
      "source": [
        "optimizer = tf.keras.optimizers.RMSprop(lr = LEARNING_RATE, epsilon=EPSILON)\n",
        "#optimizer = tf.keras.optimizers.SGD(lr = LEARNING_RATE, momentum=MOMENTUM)\n",
        "#optimizer = tf.keras.optimizers.Adam(learning_rate=LEARNING_RATE, beta_1=0.9, beta_2=0.999, epsilon=EPSILON)\n",
        "model.compile(\n",
        "    optimizer=optimizer, #'rmsprop',\n",
        "    loss=LOSS,\n",
        "    metrics=['accuracy']\n",
        ")"
      ],
      "execution_count": 157,
      "outputs": [
        {
          "output_type": "stream",
          "text": [
            "/usr/local/lib/python3.7/dist-packages/tensorflow/python/keras/optimizer_v2/optimizer_v2.py:375: UserWarning: The `lr` argument is deprecated, use `learning_rate` instead.\n",
            "  \"The `lr` argument is deprecated, use `learning_rate` instead.\")\n"
          ],
          "name": "stderr"
        }
      ]
    },
    {
      "cell_type": "code",
      "metadata": {
        "id": "ENSmBglrXYlp"
      },
      "source": [
        "# save the best model with least validation loss\n",
        "checkpointer = ModelCheckpoint(filepath = work_dir+checkpointer_name, \n",
        "                               #monitor='val_accuracy',\n",
        "                               monitor='val_loss',\n",
        "                               save_weights_only=False,  \n",
        "                               mode='auto', \n",
        "                               verbose = 0, \n",
        "                               save_best_only =False\n",
        "                               )\n",
        "checkpointer_best = ModelCheckpoint(filepath = work_dir+\"best_\"+checkpointer_name, \n",
        "                                    monitor='val_loss', \n",
        "                                    save_weights_only=False,\n",
        "                                    mode='auto',  \n",
        "                                    verbose = 1, \n",
        "                                    save_best_only = True\n",
        "                                    )\n",
        "early_stopping = EarlyStopping(monitor='loss', patience=early_stop_after_epochs)"
      ],
      "execution_count": 158,
      "outputs": []
    },
    {
      "cell_type": "code",
      "metadata": {
        "id": "aTAmcZ880FJg"
      },
      "source": [
        "def checkBestPerformance(epoch, logs):\n",
        "    log_data = pd.read_csv(work_dir+log_name, sep=',', usecols=['val_loss', 'val_accuracy'], engine='python')\n",
        "    min_val_loss = min(log_data.val_loss.values)\n",
        "    max_val_acc = max(log_data.val_accuracy.values)\n",
        "\n",
        "    current_val_acc = logs['val_accuracy']\n",
        "    current_val_loss = logs['val_loss']\n",
        "\n",
        "    save_filepath = work_dir+\"best_\"+checkpointer_name\n",
        "    if current_val_loss < min_val_loss:\n",
        "        model.save(filepath = save_filepath)\n",
        "        #print(\"\\nval_loss decreased from\", min_val_loss, \"to\", current_val_loss, \".\")\n",
        "        print(\"\\nval_loss decreased to\", current_val_loss, \".\")\n",
        "\n",
        "        #list_callbacks = [checkpointer, checkpointer_best, csv_logger, early_stopping]\n",
        "        #print(\"\\nReturned to previous best checkpoint callback.\")\n",
        "\n",
        "    elif (current_val_loss==min_val_loss) and (current_val_acc>max_val_acc):\n",
        "        model.save(filepath = save_filepath)\n",
        "        #print(\"\\nval_accuracy increased from\", max_val_acc, \"to\", current_val_acc, \".\")\n",
        "        print(\"\\nval_accuracy increased to\", current_val_acc, \".\")\n",
        "\n",
        "        #list_callbacks = [checkpointer, checkpointer_best, csv_logger, early_stopping]\n",
        "        #print(\"\\nReturned to previous best checkpoint callback.\")\n",
        "\n",
        "    else:\n",
        "        pass\n",
        "        #print(\"\\nPerformance did not improve from existing min_val_loss =\", min_val_loss, \", max_val_acc =\", max_val_acc, \".\")\n",
        "    #return"
      ],
      "execution_count": 159,
      "outputs": []
    },
    {
      "cell_type": "code",
      "metadata": {
        "id": "oYDse9cTyOvk"
      },
      "source": [
        "epochs_completed = 0\n",
        "csv_logger = CSVLogger(work_dir+log_name, separator=',', append=True)\n",
        "\n",
        "try:\n",
        "    log_data = pd.read_csv(work_dir+log_name, sep=',', usecols=['epoch'], engine='python')\n",
        "    epochs_completed = log_data.shape[0]\n",
        "\n",
        "    if epochs_completed > 0:\n",
        "        model = load_model(work_dir+checkpointer_name)\n",
        "        list_callbacks = [checkpointer, LambdaCallback(on_epoch_end=checkBestPerformance), csv_logger]\n",
        "        print(\"epochs_completed =\", epochs_completed)\n",
        "except:\n",
        "    list_callbacks = [checkpointer, checkpointer_best, csv_logger]"
      ],
      "execution_count": 160,
      "outputs": []
    },
    {
      "cell_type": "code",
      "metadata": {
        "id": "M1jON3KWXYi0",
        "colab": {
          "base_uri": "https://localhost:8080/"
        },
        "outputId": "5594d08a-921e-4521-eb9d-3bb1c7237065"
      },
      "source": [
        "print(\"Previously completed epochs =\", epochs_completed, \"\\n\")\n",
        "\n",
        "start_time = time.time()\n",
        "history = model.fit(final_train_imageset, final_train_label, \n",
        "                    shuffle=True, \n",
        "                    batch_size = BATCH_SIZE, \n",
        "                    epochs = NUM_EPOCHS - epochs_completed, \n",
        "                    #steps_per_epoch = 2,\n",
        "                    validation_split = validation_split, \n",
        "                    #validation_data = (final_test_imageset, final_test_label),\n",
        "                    callbacks=list_callbacks\n",
        "                    )\n",
        "elapsed_time = time.time() - start_time \n",
        "print(\"\\nTime elapsed: \", elapsed_time)"
      ],
      "execution_count": null,
      "outputs": [
        {
          "output_type": "stream",
          "text": [
            "Previously completed epochs = 0 \n",
            "\n",
            "Epoch 1/100\n",
            "1688/1688 [==============================] - 22s 11ms/step - loss: 1.6447 - accuracy: 0.3937 - val_loss: 1.2140 - val_accuracy: 0.5980\n"
          ],
          "name": "stdout"
        },
        {
          "output_type": "stream",
          "text": [
            "WARNING:absl:Found untraced functions such as gru_cell_56_layer_call_and_return_conditional_losses, gru_cell_56_layer_call_fn, gru_cell_56_layer_call_fn, gru_cell_56_layer_call_and_return_conditional_losses, gru_cell_56_layer_call_and_return_conditional_losses while saving (showing 5 of 5). These functions will not be directly callable after loading.\n"
          ],
          "name": "stderr"
        },
        {
          "output_type": "stream",
          "text": [
            "INFO:tensorflow:Assets written to: drive/My Drive/Training Records/weights.Fashion.Complex.batch32.nTry.GRU.Hybrid.1/assets\n"
          ],
          "name": "stdout"
        },
        {
          "output_type": "stream",
          "text": [
            "INFO:tensorflow:Assets written to: drive/My Drive/Training Records/weights.Fashion.Complex.batch32.nTry.GRU.Hybrid.1/assets\n"
          ],
          "name": "stderr"
        },
        {
          "output_type": "stream",
          "text": [
            "\n",
            "Epoch 00001: val_loss improved from inf to 1.21399, saving model to drive/My Drive/Training Records/best_weights.Fashion.Complex.batch32.nTry.GRU.Hybrid.1\n"
          ],
          "name": "stdout"
        },
        {
          "output_type": "stream",
          "text": [
            "WARNING:absl:Found untraced functions such as gru_cell_56_layer_call_and_return_conditional_losses, gru_cell_56_layer_call_fn, gru_cell_56_layer_call_fn, gru_cell_56_layer_call_and_return_conditional_losses, gru_cell_56_layer_call_and_return_conditional_losses while saving (showing 5 of 5). These functions will not be directly callable after loading.\n"
          ],
          "name": "stderr"
        },
        {
          "output_type": "stream",
          "text": [
            "INFO:tensorflow:Assets written to: drive/My Drive/Training Records/best_weights.Fashion.Complex.batch32.nTry.GRU.Hybrid.1/assets\n"
          ],
          "name": "stdout"
        },
        {
          "output_type": "stream",
          "text": [
            "INFO:tensorflow:Assets written to: drive/My Drive/Training Records/best_weights.Fashion.Complex.batch32.nTry.GRU.Hybrid.1/assets\n"
          ],
          "name": "stderr"
        },
        {
          "output_type": "stream",
          "text": [
            "Epoch 2/100\n",
            "1688/1688 [==============================] - 18s 11ms/step - loss: 0.9353 - accuracy: 0.6751 - val_loss: 0.7855 - val_accuracy: 0.7087\n"
          ],
          "name": "stdout"
        },
        {
          "output_type": "stream",
          "text": [
            "WARNING:absl:Found untraced functions such as gru_cell_56_layer_call_and_return_conditional_losses, gru_cell_56_layer_call_fn, gru_cell_56_layer_call_fn, gru_cell_56_layer_call_and_return_conditional_losses, gru_cell_56_layer_call_and_return_conditional_losses while saving (showing 5 of 5). These functions will not be directly callable after loading.\n"
          ],
          "name": "stderr"
        },
        {
          "output_type": "stream",
          "text": [
            "INFO:tensorflow:Assets written to: drive/My Drive/Training Records/weights.Fashion.Complex.batch32.nTry.GRU.Hybrid.1/assets\n"
          ],
          "name": "stdout"
        },
        {
          "output_type": "stream",
          "text": [
            "INFO:tensorflow:Assets written to: drive/My Drive/Training Records/weights.Fashion.Complex.batch32.nTry.GRU.Hybrid.1/assets\n"
          ],
          "name": "stderr"
        },
        {
          "output_type": "stream",
          "text": [
            "\n",
            "Epoch 00002: val_loss improved from 1.21399 to 0.78552, saving model to drive/My Drive/Training Records/best_weights.Fashion.Complex.batch32.nTry.GRU.Hybrid.1\n"
          ],
          "name": "stdout"
        },
        {
          "output_type": "stream",
          "text": [
            "WARNING:absl:Found untraced functions such as gru_cell_56_layer_call_and_return_conditional_losses, gru_cell_56_layer_call_fn, gru_cell_56_layer_call_fn, gru_cell_56_layer_call_and_return_conditional_losses, gru_cell_56_layer_call_and_return_conditional_losses while saving (showing 5 of 5). These functions will not be directly callable after loading.\n"
          ],
          "name": "stderr"
        },
        {
          "output_type": "stream",
          "text": [
            "INFO:tensorflow:Assets written to: drive/My Drive/Training Records/best_weights.Fashion.Complex.batch32.nTry.GRU.Hybrid.1/assets\n"
          ],
          "name": "stdout"
        },
        {
          "output_type": "stream",
          "text": [
            "INFO:tensorflow:Assets written to: drive/My Drive/Training Records/best_weights.Fashion.Complex.batch32.nTry.GRU.Hybrid.1/assets\n"
          ],
          "name": "stderr"
        },
        {
          "output_type": "stream",
          "text": [
            "Epoch 3/100\n",
            "1688/1688 [==============================] - 18s 11ms/step - loss: 0.7385 - accuracy: 0.7211 - val_loss: 0.7903 - val_accuracy: 0.6915\n"
          ],
          "name": "stdout"
        },
        {
          "output_type": "stream",
          "text": [
            "WARNING:absl:Found untraced functions such as gru_cell_56_layer_call_and_return_conditional_losses, gru_cell_56_layer_call_fn, gru_cell_56_layer_call_fn, gru_cell_56_layer_call_and_return_conditional_losses, gru_cell_56_layer_call_and_return_conditional_losses while saving (showing 5 of 5). These functions will not be directly callable after loading.\n"
          ],
          "name": "stderr"
        },
        {
          "output_type": "stream",
          "text": [
            "INFO:tensorflow:Assets written to: drive/My Drive/Training Records/weights.Fashion.Complex.batch32.nTry.GRU.Hybrid.1/assets\n"
          ],
          "name": "stdout"
        },
        {
          "output_type": "stream",
          "text": [
            "INFO:tensorflow:Assets written to: drive/My Drive/Training Records/weights.Fashion.Complex.batch32.nTry.GRU.Hybrid.1/assets\n"
          ],
          "name": "stderr"
        },
        {
          "output_type": "stream",
          "text": [
            "\n",
            "Epoch 00003: val_loss did not improve from 0.78552\n",
            "Epoch 4/100\n",
            "1688/1688 [==============================] - 18s 11ms/step - loss: 0.6742 - accuracy: 0.7426 - val_loss: 0.6858 - val_accuracy: 0.7407\n"
          ],
          "name": "stdout"
        },
        {
          "output_type": "stream",
          "text": [
            "WARNING:absl:Found untraced functions such as gru_cell_56_layer_call_and_return_conditional_losses, gru_cell_56_layer_call_fn, gru_cell_56_layer_call_fn, gru_cell_56_layer_call_and_return_conditional_losses, gru_cell_56_layer_call_and_return_conditional_losses while saving (showing 5 of 5). These functions will not be directly callable after loading.\n"
          ],
          "name": "stderr"
        },
        {
          "output_type": "stream",
          "text": [
            "INFO:tensorflow:Assets written to: drive/My Drive/Training Records/weights.Fashion.Complex.batch32.nTry.GRU.Hybrid.1/assets\n"
          ],
          "name": "stdout"
        },
        {
          "output_type": "stream",
          "text": [
            "INFO:tensorflow:Assets written to: drive/My Drive/Training Records/weights.Fashion.Complex.batch32.nTry.GRU.Hybrid.1/assets\n"
          ],
          "name": "stderr"
        },
        {
          "output_type": "stream",
          "text": [
            "\n",
            "Epoch 00004: val_loss improved from 0.78552 to 0.68583, saving model to drive/My Drive/Training Records/best_weights.Fashion.Complex.batch32.nTry.GRU.Hybrid.1\n"
          ],
          "name": "stdout"
        },
        {
          "output_type": "stream",
          "text": [
            "WARNING:absl:Found untraced functions such as gru_cell_56_layer_call_and_return_conditional_losses, gru_cell_56_layer_call_fn, gru_cell_56_layer_call_fn, gru_cell_56_layer_call_and_return_conditional_losses, gru_cell_56_layer_call_and_return_conditional_losses while saving (showing 5 of 5). These functions will not be directly callable after loading.\n"
          ],
          "name": "stderr"
        },
        {
          "output_type": "stream",
          "text": [
            "INFO:tensorflow:Assets written to: drive/My Drive/Training Records/best_weights.Fashion.Complex.batch32.nTry.GRU.Hybrid.1/assets\n"
          ],
          "name": "stdout"
        },
        {
          "output_type": "stream",
          "text": [
            "INFO:tensorflow:Assets written to: drive/My Drive/Training Records/best_weights.Fashion.Complex.batch32.nTry.GRU.Hybrid.1/assets\n"
          ],
          "name": "stderr"
        },
        {
          "output_type": "stream",
          "text": [
            "Epoch 5/100\n",
            "1688/1688 [==============================] - 18s 11ms/step - loss: 0.6335 - accuracy: 0.7626 - val_loss: 0.6241 - val_accuracy: 0.7675\n"
          ],
          "name": "stdout"
        },
        {
          "output_type": "stream",
          "text": [
            "WARNING:absl:Found untraced functions such as gru_cell_56_layer_call_and_return_conditional_losses, gru_cell_56_layer_call_fn, gru_cell_56_layer_call_fn, gru_cell_56_layer_call_and_return_conditional_losses, gru_cell_56_layer_call_and_return_conditional_losses while saving (showing 5 of 5). These functions will not be directly callable after loading.\n"
          ],
          "name": "stderr"
        },
        {
          "output_type": "stream",
          "text": [
            "INFO:tensorflow:Assets written to: drive/My Drive/Training Records/weights.Fashion.Complex.batch32.nTry.GRU.Hybrid.1/assets\n"
          ],
          "name": "stdout"
        },
        {
          "output_type": "stream",
          "text": [
            "INFO:tensorflow:Assets written to: drive/My Drive/Training Records/weights.Fashion.Complex.batch32.nTry.GRU.Hybrid.1/assets\n"
          ],
          "name": "stderr"
        },
        {
          "output_type": "stream",
          "text": [
            "\n",
            "Epoch 00005: val_loss improved from 0.68583 to 0.62413, saving model to drive/My Drive/Training Records/best_weights.Fashion.Complex.batch32.nTry.GRU.Hybrid.1\n"
          ],
          "name": "stdout"
        },
        {
          "output_type": "stream",
          "text": [
            "WARNING:absl:Found untraced functions such as gru_cell_56_layer_call_and_return_conditional_losses, gru_cell_56_layer_call_fn, gru_cell_56_layer_call_fn, gru_cell_56_layer_call_and_return_conditional_losses, gru_cell_56_layer_call_and_return_conditional_losses while saving (showing 5 of 5). These functions will not be directly callable after loading.\n"
          ],
          "name": "stderr"
        },
        {
          "output_type": "stream",
          "text": [
            "INFO:tensorflow:Assets written to: drive/My Drive/Training Records/best_weights.Fashion.Complex.batch32.nTry.GRU.Hybrid.1/assets\n"
          ],
          "name": "stdout"
        },
        {
          "output_type": "stream",
          "text": [
            "INFO:tensorflow:Assets written to: drive/My Drive/Training Records/best_weights.Fashion.Complex.batch32.nTry.GRU.Hybrid.1/assets\n"
          ],
          "name": "stderr"
        },
        {
          "output_type": "stream",
          "text": [
            "Epoch 6/100\n",
            "1688/1688 [==============================] - 18s 11ms/step - loss: 0.5981 - accuracy: 0.7785 - val_loss: 0.5728 - val_accuracy: 0.7797\n"
          ],
          "name": "stdout"
        },
        {
          "output_type": "stream",
          "text": [
            "WARNING:absl:Found untraced functions such as gru_cell_56_layer_call_and_return_conditional_losses, gru_cell_56_layer_call_fn, gru_cell_56_layer_call_fn, gru_cell_56_layer_call_and_return_conditional_losses, gru_cell_56_layer_call_and_return_conditional_losses while saving (showing 5 of 5). These functions will not be directly callable after loading.\n"
          ],
          "name": "stderr"
        },
        {
          "output_type": "stream",
          "text": [
            "INFO:tensorflow:Assets written to: drive/My Drive/Training Records/weights.Fashion.Complex.batch32.nTry.GRU.Hybrid.1/assets\n"
          ],
          "name": "stdout"
        },
        {
          "output_type": "stream",
          "text": [
            "INFO:tensorflow:Assets written to: drive/My Drive/Training Records/weights.Fashion.Complex.batch32.nTry.GRU.Hybrid.1/assets\n"
          ],
          "name": "stderr"
        },
        {
          "output_type": "stream",
          "text": [
            "\n",
            "Epoch 00006: val_loss improved from 0.62413 to 0.57276, saving model to drive/My Drive/Training Records/best_weights.Fashion.Complex.batch32.nTry.GRU.Hybrid.1\n"
          ],
          "name": "stdout"
        },
        {
          "output_type": "stream",
          "text": [
            "WARNING:absl:Found untraced functions such as gru_cell_56_layer_call_and_return_conditional_losses, gru_cell_56_layer_call_fn, gru_cell_56_layer_call_fn, gru_cell_56_layer_call_and_return_conditional_losses, gru_cell_56_layer_call_and_return_conditional_losses while saving (showing 5 of 5). These functions will not be directly callable after loading.\n"
          ],
          "name": "stderr"
        },
        {
          "output_type": "stream",
          "text": [
            "INFO:tensorflow:Assets written to: drive/My Drive/Training Records/best_weights.Fashion.Complex.batch32.nTry.GRU.Hybrid.1/assets\n"
          ],
          "name": "stdout"
        },
        {
          "output_type": "stream",
          "text": [
            "INFO:tensorflow:Assets written to: drive/My Drive/Training Records/best_weights.Fashion.Complex.batch32.nTry.GRU.Hybrid.1/assets\n"
          ],
          "name": "stderr"
        },
        {
          "output_type": "stream",
          "text": [
            "Epoch 7/100\n",
            "1688/1688 [==============================] - 18s 11ms/step - loss: 0.5618 - accuracy: 0.7938 - val_loss: 0.6791 - val_accuracy: 0.7487\n"
          ],
          "name": "stdout"
        },
        {
          "output_type": "stream",
          "text": [
            "WARNING:absl:Found untraced functions such as gru_cell_56_layer_call_and_return_conditional_losses, gru_cell_56_layer_call_fn, gru_cell_56_layer_call_fn, gru_cell_56_layer_call_and_return_conditional_losses, gru_cell_56_layer_call_and_return_conditional_losses while saving (showing 5 of 5). These functions will not be directly callable after loading.\n"
          ],
          "name": "stderr"
        },
        {
          "output_type": "stream",
          "text": [
            "INFO:tensorflow:Assets written to: drive/My Drive/Training Records/weights.Fashion.Complex.batch32.nTry.GRU.Hybrid.1/assets\n"
          ],
          "name": "stdout"
        },
        {
          "output_type": "stream",
          "text": [
            "INFO:tensorflow:Assets written to: drive/My Drive/Training Records/weights.Fashion.Complex.batch32.nTry.GRU.Hybrid.1/assets\n"
          ],
          "name": "stderr"
        },
        {
          "output_type": "stream",
          "text": [
            "\n",
            "Epoch 00007: val_loss did not improve from 0.57276\n",
            "Epoch 8/100\n",
            "1688/1688 [==============================] - 18s 11ms/step - loss: 0.5254 - accuracy: 0.8096 - val_loss: 0.5352 - val_accuracy: 0.8013\n"
          ],
          "name": "stdout"
        },
        {
          "output_type": "stream",
          "text": [
            "WARNING:absl:Found untraced functions such as gru_cell_56_layer_call_and_return_conditional_losses, gru_cell_56_layer_call_fn, gru_cell_56_layer_call_fn, gru_cell_56_layer_call_and_return_conditional_losses, gru_cell_56_layer_call_and_return_conditional_losses while saving (showing 5 of 5). These functions will not be directly callable after loading.\n"
          ],
          "name": "stderr"
        },
        {
          "output_type": "stream",
          "text": [
            "INFO:tensorflow:Assets written to: drive/My Drive/Training Records/weights.Fashion.Complex.batch32.nTry.GRU.Hybrid.1/assets\n"
          ],
          "name": "stdout"
        },
        {
          "output_type": "stream",
          "text": [
            "INFO:tensorflow:Assets written to: drive/My Drive/Training Records/weights.Fashion.Complex.batch32.nTry.GRU.Hybrid.1/assets\n"
          ],
          "name": "stderr"
        },
        {
          "output_type": "stream",
          "text": [
            "\n",
            "Epoch 00008: val_loss improved from 0.57276 to 0.53522, saving model to drive/My Drive/Training Records/best_weights.Fashion.Complex.batch32.nTry.GRU.Hybrid.1\n"
          ],
          "name": "stdout"
        },
        {
          "output_type": "stream",
          "text": [
            "WARNING:absl:Found untraced functions such as gru_cell_56_layer_call_and_return_conditional_losses, gru_cell_56_layer_call_fn, gru_cell_56_layer_call_fn, gru_cell_56_layer_call_and_return_conditional_losses, gru_cell_56_layer_call_and_return_conditional_losses while saving (showing 5 of 5). These functions will not be directly callable after loading.\n"
          ],
          "name": "stderr"
        },
        {
          "output_type": "stream",
          "text": [
            "INFO:tensorflow:Assets written to: drive/My Drive/Training Records/best_weights.Fashion.Complex.batch32.nTry.GRU.Hybrid.1/assets\n"
          ],
          "name": "stdout"
        },
        {
          "output_type": "stream",
          "text": [
            "INFO:tensorflow:Assets written to: drive/My Drive/Training Records/best_weights.Fashion.Complex.batch32.nTry.GRU.Hybrid.1/assets\n"
          ],
          "name": "stderr"
        },
        {
          "output_type": "stream",
          "text": [
            "Epoch 9/100\n",
            "1688/1688 [==============================] - 18s 11ms/step - loss: 0.4926 - accuracy: 0.8233 - val_loss: 0.4970 - val_accuracy: 0.8155\n"
          ],
          "name": "stdout"
        },
        {
          "output_type": "stream",
          "text": [
            "WARNING:absl:Found untraced functions such as gru_cell_56_layer_call_and_return_conditional_losses, gru_cell_56_layer_call_fn, gru_cell_56_layer_call_fn, gru_cell_56_layer_call_and_return_conditional_losses, gru_cell_56_layer_call_and_return_conditional_losses while saving (showing 5 of 5). These functions will not be directly callable after loading.\n"
          ],
          "name": "stderr"
        },
        {
          "output_type": "stream",
          "text": [
            "INFO:tensorflow:Assets written to: drive/My Drive/Training Records/weights.Fashion.Complex.batch32.nTry.GRU.Hybrid.1/assets\n"
          ],
          "name": "stdout"
        },
        {
          "output_type": "stream",
          "text": [
            "INFO:tensorflow:Assets written to: drive/My Drive/Training Records/weights.Fashion.Complex.batch32.nTry.GRU.Hybrid.1/assets\n"
          ],
          "name": "stderr"
        },
        {
          "output_type": "stream",
          "text": [
            "\n",
            "Epoch 00009: val_loss improved from 0.53522 to 0.49695, saving model to drive/My Drive/Training Records/best_weights.Fashion.Complex.batch32.nTry.GRU.Hybrid.1\n"
          ],
          "name": "stdout"
        },
        {
          "output_type": "stream",
          "text": [
            "WARNING:absl:Found untraced functions such as gru_cell_56_layer_call_and_return_conditional_losses, gru_cell_56_layer_call_fn, gru_cell_56_layer_call_fn, gru_cell_56_layer_call_and_return_conditional_losses, gru_cell_56_layer_call_and_return_conditional_losses while saving (showing 5 of 5). These functions will not be directly callable after loading.\n"
          ],
          "name": "stderr"
        },
        {
          "output_type": "stream",
          "text": [
            "INFO:tensorflow:Assets written to: drive/My Drive/Training Records/best_weights.Fashion.Complex.batch32.nTry.GRU.Hybrid.1/assets\n"
          ],
          "name": "stdout"
        },
        {
          "output_type": "stream",
          "text": [
            "INFO:tensorflow:Assets written to: drive/My Drive/Training Records/best_weights.Fashion.Complex.batch32.nTry.GRU.Hybrid.1/assets\n"
          ],
          "name": "stderr"
        },
        {
          "output_type": "stream",
          "text": [
            "Epoch 10/100\n",
            "1688/1688 [==============================] - 18s 11ms/step - loss: 0.4624 - accuracy: 0.8364 - val_loss: 0.4501 - val_accuracy: 0.8320\n"
          ],
          "name": "stdout"
        },
        {
          "output_type": "stream",
          "text": [
            "WARNING:absl:Found untraced functions such as gru_cell_56_layer_call_and_return_conditional_losses, gru_cell_56_layer_call_fn, gru_cell_56_layer_call_fn, gru_cell_56_layer_call_and_return_conditional_losses, gru_cell_56_layer_call_and_return_conditional_losses while saving (showing 5 of 5). These functions will not be directly callable after loading.\n"
          ],
          "name": "stderr"
        },
        {
          "output_type": "stream",
          "text": [
            "INFO:tensorflow:Assets written to: drive/My Drive/Training Records/weights.Fashion.Complex.batch32.nTry.GRU.Hybrid.1/assets\n"
          ],
          "name": "stdout"
        },
        {
          "output_type": "stream",
          "text": [
            "INFO:tensorflow:Assets written to: drive/My Drive/Training Records/weights.Fashion.Complex.batch32.nTry.GRU.Hybrid.1/assets\n"
          ],
          "name": "stderr"
        },
        {
          "output_type": "stream",
          "text": [
            "\n",
            "Epoch 00010: val_loss improved from 0.49695 to 0.45008, saving model to drive/My Drive/Training Records/best_weights.Fashion.Complex.batch32.nTry.GRU.Hybrid.1\n"
          ],
          "name": "stdout"
        },
        {
          "output_type": "stream",
          "text": [
            "WARNING:absl:Found untraced functions such as gru_cell_56_layer_call_and_return_conditional_losses, gru_cell_56_layer_call_fn, gru_cell_56_layer_call_fn, gru_cell_56_layer_call_and_return_conditional_losses, gru_cell_56_layer_call_and_return_conditional_losses while saving (showing 5 of 5). These functions will not be directly callable after loading.\n"
          ],
          "name": "stderr"
        },
        {
          "output_type": "stream",
          "text": [
            "INFO:tensorflow:Assets written to: drive/My Drive/Training Records/best_weights.Fashion.Complex.batch32.nTry.GRU.Hybrid.1/assets\n"
          ],
          "name": "stdout"
        },
        {
          "output_type": "stream",
          "text": [
            "INFO:tensorflow:Assets written to: drive/My Drive/Training Records/best_weights.Fashion.Complex.batch32.nTry.GRU.Hybrid.1/assets\n"
          ],
          "name": "stderr"
        },
        {
          "output_type": "stream",
          "text": [
            "Epoch 11/100\n",
            "1688/1688 [==============================] - 18s 11ms/step - loss: 0.4367 - accuracy: 0.8449 - val_loss: 0.4279 - val_accuracy: 0.8457\n"
          ],
          "name": "stdout"
        },
        {
          "output_type": "stream",
          "text": [
            "WARNING:absl:Found untraced functions such as gru_cell_56_layer_call_and_return_conditional_losses, gru_cell_56_layer_call_fn, gru_cell_56_layer_call_fn, gru_cell_56_layer_call_and_return_conditional_losses, gru_cell_56_layer_call_and_return_conditional_losses while saving (showing 5 of 5). These functions will not be directly callable after loading.\n"
          ],
          "name": "stderr"
        },
        {
          "output_type": "stream",
          "text": [
            "INFO:tensorflow:Assets written to: drive/My Drive/Training Records/weights.Fashion.Complex.batch32.nTry.GRU.Hybrid.1/assets\n"
          ],
          "name": "stdout"
        },
        {
          "output_type": "stream",
          "text": [
            "INFO:tensorflow:Assets written to: drive/My Drive/Training Records/weights.Fashion.Complex.batch32.nTry.GRU.Hybrid.1/assets\n"
          ],
          "name": "stderr"
        },
        {
          "output_type": "stream",
          "text": [
            "\n",
            "Epoch 00011: val_loss improved from 0.45008 to 0.42790, saving model to drive/My Drive/Training Records/best_weights.Fashion.Complex.batch32.nTry.GRU.Hybrid.1\n"
          ],
          "name": "stdout"
        },
        {
          "output_type": "stream",
          "text": [
            "WARNING:absl:Found untraced functions such as gru_cell_56_layer_call_and_return_conditional_losses, gru_cell_56_layer_call_fn, gru_cell_56_layer_call_fn, gru_cell_56_layer_call_and_return_conditional_losses, gru_cell_56_layer_call_and_return_conditional_losses while saving (showing 5 of 5). These functions will not be directly callable after loading.\n"
          ],
          "name": "stderr"
        },
        {
          "output_type": "stream",
          "text": [
            "INFO:tensorflow:Assets written to: drive/My Drive/Training Records/best_weights.Fashion.Complex.batch32.nTry.GRU.Hybrid.1/assets\n"
          ],
          "name": "stdout"
        },
        {
          "output_type": "stream",
          "text": [
            "INFO:tensorflow:Assets written to: drive/My Drive/Training Records/best_weights.Fashion.Complex.batch32.nTry.GRU.Hybrid.1/assets\n"
          ],
          "name": "stderr"
        },
        {
          "output_type": "stream",
          "text": [
            "Epoch 12/100\n",
            "1688/1688 [==============================] - 18s 11ms/step - loss: 0.4139 - accuracy: 0.8532 - val_loss: 0.4245 - val_accuracy: 0.8410\n"
          ],
          "name": "stdout"
        },
        {
          "output_type": "stream",
          "text": [
            "WARNING:absl:Found untraced functions such as gru_cell_56_layer_call_and_return_conditional_losses, gru_cell_56_layer_call_fn, gru_cell_56_layer_call_fn, gru_cell_56_layer_call_and_return_conditional_losses, gru_cell_56_layer_call_and_return_conditional_losses while saving (showing 5 of 5). These functions will not be directly callable after loading.\n"
          ],
          "name": "stderr"
        },
        {
          "output_type": "stream",
          "text": [
            "INFO:tensorflow:Assets written to: drive/My Drive/Training Records/weights.Fashion.Complex.batch32.nTry.GRU.Hybrid.1/assets\n"
          ],
          "name": "stdout"
        },
        {
          "output_type": "stream",
          "text": [
            "INFO:tensorflow:Assets written to: drive/My Drive/Training Records/weights.Fashion.Complex.batch32.nTry.GRU.Hybrid.1/assets\n"
          ],
          "name": "stderr"
        },
        {
          "output_type": "stream",
          "text": [
            "\n",
            "Epoch 00012: val_loss improved from 0.42790 to 0.42453, saving model to drive/My Drive/Training Records/best_weights.Fashion.Complex.batch32.nTry.GRU.Hybrid.1\n"
          ],
          "name": "stdout"
        },
        {
          "output_type": "stream",
          "text": [
            "WARNING:absl:Found untraced functions such as gru_cell_56_layer_call_and_return_conditional_losses, gru_cell_56_layer_call_fn, gru_cell_56_layer_call_fn, gru_cell_56_layer_call_and_return_conditional_losses, gru_cell_56_layer_call_and_return_conditional_losses while saving (showing 5 of 5). These functions will not be directly callable after loading.\n"
          ],
          "name": "stderr"
        },
        {
          "output_type": "stream",
          "text": [
            "INFO:tensorflow:Assets written to: drive/My Drive/Training Records/best_weights.Fashion.Complex.batch32.nTry.GRU.Hybrid.1/assets\n"
          ],
          "name": "stdout"
        },
        {
          "output_type": "stream",
          "text": [
            "INFO:tensorflow:Assets written to: drive/My Drive/Training Records/best_weights.Fashion.Complex.batch32.nTry.GRU.Hybrid.1/assets\n"
          ],
          "name": "stderr"
        },
        {
          "output_type": "stream",
          "text": [
            "Epoch 13/100\n",
            "1688/1688 [==============================] - 18s 11ms/step - loss: 0.3954 - accuracy: 0.8594 - val_loss: 0.4228 - val_accuracy: 0.8445\n"
          ],
          "name": "stdout"
        },
        {
          "output_type": "stream",
          "text": [
            "WARNING:absl:Found untraced functions such as gru_cell_56_layer_call_and_return_conditional_losses, gru_cell_56_layer_call_fn, gru_cell_56_layer_call_fn, gru_cell_56_layer_call_and_return_conditional_losses, gru_cell_56_layer_call_and_return_conditional_losses while saving (showing 5 of 5). These functions will not be directly callable after loading.\n"
          ],
          "name": "stderr"
        },
        {
          "output_type": "stream",
          "text": [
            "INFO:tensorflow:Assets written to: drive/My Drive/Training Records/weights.Fashion.Complex.batch32.nTry.GRU.Hybrid.1/assets\n"
          ],
          "name": "stdout"
        },
        {
          "output_type": "stream",
          "text": [
            "INFO:tensorflow:Assets written to: drive/My Drive/Training Records/weights.Fashion.Complex.batch32.nTry.GRU.Hybrid.1/assets\n"
          ],
          "name": "stderr"
        },
        {
          "output_type": "stream",
          "text": [
            "\n",
            "Epoch 00013: val_loss improved from 0.42453 to 0.42275, saving model to drive/My Drive/Training Records/best_weights.Fashion.Complex.batch32.nTry.GRU.Hybrid.1\n"
          ],
          "name": "stdout"
        },
        {
          "output_type": "stream",
          "text": [
            "WARNING:absl:Found untraced functions such as gru_cell_56_layer_call_and_return_conditional_losses, gru_cell_56_layer_call_fn, gru_cell_56_layer_call_fn, gru_cell_56_layer_call_and_return_conditional_losses, gru_cell_56_layer_call_and_return_conditional_losses while saving (showing 5 of 5). These functions will not be directly callable after loading.\n"
          ],
          "name": "stderr"
        },
        {
          "output_type": "stream",
          "text": [
            "INFO:tensorflow:Assets written to: drive/My Drive/Training Records/best_weights.Fashion.Complex.batch32.nTry.GRU.Hybrid.1/assets\n"
          ],
          "name": "stdout"
        },
        {
          "output_type": "stream",
          "text": [
            "INFO:tensorflow:Assets written to: drive/My Drive/Training Records/best_weights.Fashion.Complex.batch32.nTry.GRU.Hybrid.1/assets\n"
          ],
          "name": "stderr"
        },
        {
          "output_type": "stream",
          "text": [
            "Epoch 14/100\n",
            "1688/1688 [==============================] - 18s 11ms/step - loss: 0.3797 - accuracy: 0.8661 - val_loss: 0.4233 - val_accuracy: 0.8478\n"
          ],
          "name": "stdout"
        },
        {
          "output_type": "stream",
          "text": [
            "WARNING:absl:Found untraced functions such as gru_cell_56_layer_call_and_return_conditional_losses, gru_cell_56_layer_call_fn, gru_cell_56_layer_call_fn, gru_cell_56_layer_call_and_return_conditional_losses, gru_cell_56_layer_call_and_return_conditional_losses while saving (showing 5 of 5). These functions will not be directly callable after loading.\n"
          ],
          "name": "stderr"
        },
        {
          "output_type": "stream",
          "text": [
            "INFO:tensorflow:Assets written to: drive/My Drive/Training Records/weights.Fashion.Complex.batch32.nTry.GRU.Hybrid.1/assets\n"
          ],
          "name": "stdout"
        },
        {
          "output_type": "stream",
          "text": [
            "INFO:tensorflow:Assets written to: drive/My Drive/Training Records/weights.Fashion.Complex.batch32.nTry.GRU.Hybrid.1/assets\n"
          ],
          "name": "stderr"
        },
        {
          "output_type": "stream",
          "text": [
            "\n",
            "Epoch 00014: val_loss did not improve from 0.42275\n",
            "Epoch 15/100\n",
            "1684/1688 [============================>.] - ETA: 0s - loss: 0.3667 - accuracy: 0.8710"
          ],
          "name": "stdout"
        }
      ]
    },
    {
      "cell_type": "code",
      "metadata": {
        "id": "rbumzY9bXYgX"
      },
      "source": [
        "result = model.evaluate(final_test_imageset, final_test_label)\n",
        "print(\"Accuracy : {}, Loss: {}\".format(result[1], result[0]))"
      ],
      "execution_count": null,
      "outputs": []
    },
    {
      "cell_type": "code",
      "metadata": {
        "id": "GD_4XS5Iiv0b"
      },
      "source": [
        ""
      ],
      "execution_count": null,
      "outputs": []
    },
    {
      "cell_type": "code",
      "metadata": {
        "id": "KJy4LjXai31L"
      },
      "source": [
        "'''\n",
        "NUM_NEURONS = 64\n",
        "NUM_LAYERS = 3\n",
        "DROPOUT = 0.8\n",
        "checkpointer_name  = \"weights_\"+dataset+\"_\"+impl_type+\"_nLayers\"+str(NUM_LAYERS)+\"_nNeurons\"+str(NUM_NEURONS)+\"_dropout\"+str(DROPOUT)+\".hdf5\"\n",
        "log_name = \"log_\"+checkpointer_name[8:-5]+\".log\"\n",
        "log_data = pd.read_csv(work_dir+log_name, sep=',', engine='python') \n",
        "print('log_name =', log_name)\n",
        "#'''"
      ],
      "execution_count": null,
      "outputs": []
    },
    {
      "cell_type": "code",
      "metadata": {
        "id": "L1Z_Sn_UXYXz"
      },
      "source": [
        "model_loaded = load_model(work_dir+\"best_\"+checkpointer_name)\n",
        "# drive/My Drive/Training Records/best_weights_Fashion_GRU_2_SGD_default_nLayers3_nNeurons32_batch2048_dropout0.5.hdf5"
      ],
      "execution_count": null,
      "outputs": []
    },
    {
      "cell_type": "code",
      "metadata": {
        "id": "j6RZW1ZqaeV_"
      },
      "source": [
        "'''\n",
        "Record: \n",
        "Fashion-MNIST: AlexNet = 86.43, CapsuleNet = 90.03, VGGNet = 90.45, ResNet = 94.39, ma2019 = 94.60;\n",
        "---\n",
        "best_weights_Fashion_GRU_2_SGD_default_nLayers3_nNeurons32_batch2048_dropout0.2.hdf5:              Test Acc: 0.7989, Test Loss: 0.5534 (cont.1200)\n",
        "best_weights_Fashion_GRU_2_SGD_default_nLayers3_nNeurons32_batch2048_dropout0.5.hdf5:              Test Acc: 0.7733, Test Loss: 0.6148 (cont.2028)\n",
        "best_weights_Fashion_GRU_2_SGD_default_momentum0.85_nLayers3_nNeurons32_batch1024_dropout0.5.hdf5: Test Acc: 0.8085, Test Loss: 0.5307 (cont.3000)\n",
        "best_weights_Fashion_GRU_2_SGD_default_momentum0.99_nLayers3_nNeurons32_batch1024_dropout0.5.hdf5: Test Acc: 0.8806, Test Loss: 0.3289 (cont.3000)\n",
        "best_weights_Fashion_GRU_Adam_default_nLayers3_nNeurons32_batch1024_dropout0.5.hdf5:               Test Acc: 0.8959, Test Loss: 0.3094 (3000)\n",
        "#'''\n",
        "\n",
        "result2 = model_loaded.evaluate(final_test_imageset, final_test_label)\n",
        "#print(\"nLayers: {}, nNeurons: {}, DROPOUT: {}, Test Acc: {}, Test Loss: {}\".format(NUM_LAYERS, NUM_NEURONS, DROPOUT, round(result2[1], 4), round(result2[0], 4)))\n",
        "print(\"{}: Test Acc: {}, Test Loss: {}\".format(\"best_\"+checkpointer_name, round(result2[1],4), round(result2[0],4) ))\n"
      ],
      "execution_count": null,
      "outputs": []
    },
    {
      "cell_type": "code",
      "metadata": {
        "id": "Dc7lBQw9zE-Y"
      },
      "source": [
        "with open(work_dir+'Records.csv', \"a\") as fp:\n",
        "    wr = csv.writer(fp, dialect='excel')\n",
        "    try:\n",
        "        wr.writerow([checkpointer_name[8:-5], round(result2[1], 4), round(result2[0], 4), elapsed_time])\n",
        "    except:\n",
        "        wr.writerow([checkpointer_name[8:-5], round(result2[1], 4), round(result2[0], 4)])\n",
        "print(\"Saved results.\")"
      ],
      "execution_count": null,
      "outputs": []
    },
    {
      "cell_type": "code",
      "metadata": {
        "id": "pfOLd5uPoSYP"
      },
      "source": [
        ""
      ],
      "execution_count": null,
      "outputs": []
    },
    {
      "cell_type": "code",
      "metadata": {
        "id": "vNrrlrUTXYVp"
      },
      "source": [
        "#Confution Matrix and Classification Report\n",
        "'''\n",
        "Y_pred = model_loaded.predict_generator(final_test_imageset, len(final_test_imageset))\n",
        "y_pred = np.argmax(Y_pred, axis=1)\n",
        "print('Confusion Matrix')\n",
        "print(confusion_matrix(y_test, y_pred))\n",
        "#'''"
      ],
      "execution_count": null,
      "outputs": []
    },
    {
      "cell_type": "code",
      "metadata": {
        "id": "RhiUB_uNXYPL"
      },
      "source": [
        "# Precision [TP/TP+FP] = The ratio of correctly predicted positive observations to the total predicted positive observations.\n",
        "# Recall (Sensitivity) [TP/TP+FN] = The ratio of correctly predicted positive observations to the all observations in actual class - 'yes'.\n",
        "# F1 score [F1 Score = 2*(Recall * Precision) / (Recall + Precision)] = The weighted average of Precision and Recall.\n",
        "# Support = The number of samples of the true response that lie in that class.\n",
        "'''\n",
        "print('Classification Report:')\n",
        "#target_names = ['Mono', 'Di'] # not ['Di', 'Mono']\n",
        "print(classification_report(y_test, y_pred)) #, target_names=target_names))\n",
        "#'''"
      ],
      "execution_count": null,
      "outputs": []
    },
    {
      "cell_type": "code",
      "metadata": {
        "id": "7adZ1XniXYKV"
      },
      "source": [
        "'''\n",
        "print('Classification Report')\n",
        "print(classification_report(y_test, y_pred, target_names=list_categories))\n",
        "#'''"
      ],
      "execution_count": null,
      "outputs": []
    },
    {
      "cell_type": "code",
      "metadata": {
        "id": "VJjvgOHfkREd"
      },
      "source": [
        "log_data = pd.read_csv(work_dir+log_name, sep=',', engine='python') \n",
        "print(\"log_data.shape =\", log_data.shape)"
      ],
      "execution_count": null,
      "outputs": []
    },
    {
      "cell_type": "code",
      "metadata": {
        "id": "cXvYwRP6lWQz"
      },
      "source": [
        "# Getting the model history keys \n",
        "#history.history.keys()\n",
        "log_data.head()"
      ],
      "execution_count": null,
      "outputs": []
    },
    {
      "cell_type": "code",
      "metadata": {
        "id": "5DyZbASblWNn"
      },
      "source": [
        "# plot the training artifacts\n",
        "title = \"Val loss for \"+dataset+\" \"+impl_type+\" (\"+str(NUM_LAYERS)+\" layers, \"+str(NUM_NEURONS)+\" neurons)\"\n",
        "\n",
        "plt.plot(log_data['loss'])\n",
        "plt.plot(log_data['val_loss'])\n",
        "plt.title(title)\n",
        "plt.ylabel('loss')\n",
        "plt.xlabel('epoch')\n",
        "plt.legend(['train_loss','val_loss'], loc = 'best')\n",
        "\n",
        "img_path = work_dir+'Images/vLoss_'+checkpointer_name[8:-5]+'.png'\n",
        "plt.savefig(img_path, dpi=600)\n",
        "plt.show()\n",
        "print('img_path =', img_path)"
      ],
      "execution_count": null,
      "outputs": []
    },
    {
      "cell_type": "code",
      "metadata": {
        "id": "CIPNBC_slWKi"
      },
      "source": [
        "title = \"Val acc for \"+dataset+\" \"+impl_type+\" (\"+str(NUM_LAYERS)+\" layers, \"+str(NUM_NEURONS)+\" neurons)\"\n",
        "\n",
        "plt.plot(log_data['accuracy'])\n",
        "plt.plot(log_data['val_accuracy'])\n",
        "plt.title(title)\n",
        "plt.ylabel('accuracy')\n",
        "plt.xlabel('epoch')\n",
        "plt.legend(['train_accuracy','val_accuracy'], loc = 'best')\n",
        "\n",
        "img_path = work_dir+'Images/vAcc_'+checkpointer_name[8:-5]+'.png'\n",
        "plt.savefig(img_path, dpi=600)\n",
        "plt.show()\n",
        "print('img_path =', img_path)"
      ],
      "execution_count": null,
      "outputs": []
    },
    {
      "cell_type": "code",
      "metadata": {
        "id": "_wxpuYhJlWHI"
      },
      "source": [
        ""
      ],
      "execution_count": null,
      "outputs": []
    },
    {
      "cell_type": "code",
      "metadata": {
        "id": "HHcBPAZMlWDz"
      },
      "source": [
        ""
      ],
      "execution_count": null,
      "outputs": []
    },
    {
      "cell_type": "markdown",
      "metadata": {
        "id": "VDC-KGCR9KXu"
      },
      "source": [
        "Image ckeck:"
      ]
    },
    {
      "cell_type": "code",
      "metadata": {
        "id": "6jg6TBJxlV_b"
      },
      "source": [
        "'''\n",
        "Record: \n",
        "Fashion-MNIST: AlexNet = 86.43, VGGNet = 90.45, ResNet = 94.39, CapsuleNet = 90.03, ma2019 = 94.60;\n",
        "dropout = 0.1, Test Acc = 0.9026, Test Loss = 0.2931;\n",
        "dropout = 0.2, Test Acc = 0.9063, Test Loss = 0.3075;\n",
        "dropout = 0.2 (2), Test Acc = 0.9056, Test Loss = 0.2972;\n",
        "dropout = 0.5, Test Acc = 0.8936, Test Loss = 0.3358;\n",
        "dropout = 0.5 (3), Test Acc = 0.8911, Test Loss = 0.3462;\n",
        "dropout = 0.8, Test Acc = 0.8676, Test Loss = 0.3882; ###\n",
        "#'''\n",
        "\n",
        "'''\n",
        "NUM_NEURONS = 64\n",
        "NUM_LAYERS = 3\n",
        "DROPOUT = 0.8\n",
        "checkpointer_name  = \"weights_\"+dataset+\"_\"+impl_type+\"_nLayers\"+str(NUM_LAYERS)+\"_nNeurons\"+str(NUM_NEURONS)+\"_dropout\"+str(DROPOUT)+\".hdf5\"\n",
        "log_name = \"log_\"+checkpointer_name[8:-5]+\".log\"\n",
        "log_data = pd.read_csv(work_dir+log_name, sep=',', engine='python') \n",
        "print('log_name =', log_name)\n",
        "###\n",
        "\n",
        "title = \"Val loss for \"+dataset+\" \"+impl_type+\" (\"+str(NUM_LAYERS)+\" layers, \"+str(NUM_NEURONS)+\" neurons)\"\n",
        "plt.plot(log_data['loss'])\n",
        "plt.plot(log_data['val_loss'])\n",
        "plt.title(title)\n",
        "plt.ylabel('loss')\n",
        "plt.xlabel('epoch')\n",
        "plt.legend(['train_loss','val_loss'], loc = 'best')\n",
        "plt.show()\n",
        "#'''"
      ],
      "execution_count": null,
      "outputs": []
    },
    {
      "cell_type": "code",
      "metadata": {
        "id": "ZQlafPWlXYH5"
      },
      "source": [
        ""
      ],
      "execution_count": null,
      "outputs": []
    }
  ]
}