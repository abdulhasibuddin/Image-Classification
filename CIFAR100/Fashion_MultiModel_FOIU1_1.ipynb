{
  "nbformat": 4,
  "nbformat_minor": 0,
  "metadata": {
    "colab": {
      "name": "Fashion_MultiModel_FOIU1_1.ipynb",
      "provenance": [],
      "collapsed_sections": []
    },
    "kernelspec": {
      "name": "python3",
      "display_name": "Python 3"
    },
    "accelerator": "GPU"
  },
  "cells": [
    {
      "cell_type": "code",
      "metadata": {
        "id": "OqPP8c_ZcADr",
        "colab": {
          "base_uri": "https://localhost:8080/"
        },
        "outputId": "2764298f-6337-4489-c473-df92d2c858a1"
      },
      "source": [
        "from google.colab import drive\n",
        "drive.mount('/content/drive', force_remount=True)"
      ],
      "execution_count": 1,
      "outputs": [
        {
          "output_type": "stream",
          "text": [
            "Mounted at /content/drive\n"
          ],
          "name": "stdout"
        }
      ]
    },
    {
      "cell_type": "code",
      "metadata": {
        "id": "1KSrUsIPlJxK"
      },
      "source": [
        "work_dir = \"drive/My Drive/Training Records 2/\"\n",
        "impl_type = \"MultiModel.FOIU1.1\"\n",
        "dataset = \"Fashion\""
      ],
      "execution_count": 2,
      "outputs": []
    },
    {
      "cell_type": "code",
      "metadata": {
        "id": "4nH4627DTtnu"
      },
      "source": [
        "\n",
        "import numpy as np\n",
        "import pandas as pd\n",
        "import pickle\n",
        "import numpy as np\n",
        "import random\n",
        "import time\n",
        "import csv\n",
        "import os\n",
        "#os.environ[\"OPENCV_IO_MAX_IMAGE_PIXELS\"] = pow(2,40).__str__()\n",
        "import cv2\n",
        "from tqdm import tqdm\n",
        "\n",
        "import tensorflow as tf\n",
        "from tensorflow.python.keras import Sequential\n",
        "from tensorflow.keras import layers, optimizers\n",
        "from tensorflow.keras.applications import DenseNet121\n",
        "from tensorflow.keras.applications.resnet50 import ResNet50\n",
        "from tensorflow.keras.layers import *\n",
        "from tensorflow.keras.models import Model, load_model\n",
        "from tensorflow.keras.initializers import glorot_uniform\n",
        "from tensorflow.keras.utils import plot_model\n",
        "from tensorflow.keras.callbacks import ReduceLROnPlateau, EarlyStopping, ModelCheckpoint, LearningRateScheduler, LambdaCallback\n",
        "from IPython.display import display\n",
        "from tensorflow.keras import backend as K\n",
        "import matplotlib.pyplot as plt\n",
        "import matplotlib.image as mpimg\n",
        "from sklearn.model_selection import train_test_split\n",
        "from keras import optimizers\n",
        "from sklearn.metrics import classification_report, confusion_matrix\n",
        "from keras.callbacks import CSVLogger"
      ],
      "execution_count": 3,
      "outputs": []
    },
    {
      "cell_type": "code",
      "metadata": {
        "id": "bwRTaiwlvMSj"
      },
      "source": [
        ""
      ],
      "execution_count": 3,
      "outputs": []
    },
    {
      "cell_type": "code",
      "metadata": {
        "id": "bXwh_5yHvM8m",
        "colab": {
          "base_uri": "https://localhost:8080/"
        },
        "outputId": "62bc2fc0-1c05-41a3-ceb9-9d16fef1beee"
      },
      "source": [
        "list_categories = ['T-shirt/top', 'Trouser', 'Pullover', 'Dress', 'Coat', 'Sandal', 'Shirt', 'Sneaker', 'Bag', 'Ankle boot']\n",
        "num_classes = len(list_categories)\n",
        "print('num_classes =', num_classes)"
      ],
      "execution_count": 4,
      "outputs": [
        {
          "output_type": "stream",
          "text": [
            "num_classes = 10\n"
          ],
          "name": "stdout"
        }
      ]
    },
    {
      "cell_type": "code",
      "metadata": {
        "id": "vQQaW13hXYDv",
        "colab": {
          "base_uri": "https://localhost:8080/"
        },
        "outputId": "e687e5a6-45c3-48d8-cfbe-58ab70708ad4"
      },
      "source": [
        "from sklearn.utils import shuffle\n",
        "\n",
        "(x_train, y_train), (x_test, y_test) = tf.keras.datasets.fashion_mnist.load_data()\n",
        "x_train, y_train = shuffle(x_train, y_train)\n",
        "\n",
        "print('x_train.shape =',x_train.shape)\n",
        "print('y_train.shape =',y_train.shape)\n",
        "print('x_test.shape =',x_test.shape)\n",
        "print('y_test.shape =',y_test.shape)"
      ],
      "execution_count": 5,
      "outputs": [
        {
          "output_type": "stream",
          "text": [
            "x_train.shape = (60000, 28, 28)\n",
            "y_train.shape = (60000,)\n",
            "x_test.shape = (10000, 28, 28)\n",
            "y_test.shape = (10000,)\n"
          ],
          "name": "stdout"
        }
      ]
    },
    {
      "cell_type": "code",
      "metadata": {
        "id": "woR_39Kvah5y"
      },
      "source": [
        "x_train_norm = x_train/255\n",
        "x_test_norm = x_test/255"
      ],
      "execution_count": 6,
      "outputs": []
    },
    {
      "cell_type": "code",
      "metadata": {
        "id": "LKfm-6z2Z-6X",
        "colab": {
          "base_uri": "https://localhost:8080/"
        },
        "outputId": "540c577c-4071-4b93-859a-76d8fca6f47f"
      },
      "source": [
        "final_train_imageset = np.expand_dims(x_train_norm, axis = 3)\n",
        "final_test_imageset = np.expand_dims(x_test_norm, axis = 3)\n",
        "\n",
        "y_train2 = np.expand_dims(y_train, axis = 1)\n",
        "y_test2 = np.expand_dims(y_test, axis = 1)\n",
        "\n",
        "print('final_train_imageset.shape =', final_train_imageset.shape)\n",
        "print('final_test_imageset.shape =', final_test_imageset.shape)\n",
        "print('y_train2.shape =', y_train2.shape)\n",
        "print('y_test2.shape =', y_test2.shape)"
      ],
      "execution_count": 7,
      "outputs": [
        {
          "output_type": "stream",
          "text": [
            "final_train_imageset.shape = (60000, 28, 28, 1)\n",
            "final_test_imageset.shape = (10000, 28, 28, 1)\n",
            "y_train2.shape = (60000, 1)\n",
            "y_test2.shape = (10000, 1)\n"
          ],
          "name": "stdout"
        }
      ]
    },
    {
      "cell_type": "code",
      "metadata": {
        "id": "WYQzdAN-baRZ",
        "colab": {
          "base_uri": "https://localhost:8080/"
        },
        "outputId": "328ef63a-51a0-462a-a7e0-cd1406d029bd"
      },
      "source": [
        "final_train_label = tf.keras.utils.to_categorical(y_train2, num_classes)\n",
        "final_test_label = tf.keras.utils.to_categorical(y_test2, num_classes)\n",
        "\n",
        "print('final_train_label.shape =',final_train_label.shape)\n",
        "print('final_test_label.shape =',final_test_label.shape)"
      ],
      "execution_count": 8,
      "outputs": [
        {
          "output_type": "stream",
          "text": [
            "final_train_label.shape = (60000, 10)\n",
            "final_test_label.shape = (10000, 10)\n"
          ],
          "name": "stdout"
        }
      ]
    },
    {
      "cell_type": "code",
      "metadata": {
        "id": "77WXvDHGbavk"
      },
      "source": [
        ""
      ],
      "execution_count": 8,
      "outputs": []
    },
    {
      "cell_type": "code",
      "metadata": {
        "colab": {
          "base_uri": "https://localhost:8080/"
        },
        "id": "jvhnTEmNhV1C",
        "outputId": "173092c6-6660-4d43-93cb-adb22b8bdda1"
      },
      "source": [
        "sure_reset = True # True, False\n",
        "\n",
        "if sure_reset == True:\n",
        "    print(f\"Resetting...\")\n",
        "    list_all_predicted = []\n",
        "    individual_accuracies = []\n",
        "\n",
        "    def identify_predicted_label(predicted_values):\n",
        "        list_y_pred = []\n",
        "        for pred_val_list in predicted_values:\n",
        "            pred_val = np.where(pred_val_list == max(pred_val_list))\n",
        "            list_y_pred.append(pred_val[0][0])\n",
        "        list_all_predicted.append(np.array(list_y_pred))\n",
        "\n",
        "        count_correct = 0\n",
        "        for y_true,y_predicted in zip(y_test,list_y_pred):\n",
        "            if y_true == y_predicted:\n",
        "                count_correct += 1\n",
        "        individual_accuracies.append(round((count_correct/len(list_y_pred))*100, 2))\n",
        "\n",
        "        return list_all_predicted, individual_accuracies\n",
        "    print(f\"sure_reset = {sure_reset}\")\n",
        "elif sure_reset == False:\n",
        "    print(f\"sure_reset = {sure_reset}\")"
      ],
      "execution_count": 24,
      "outputs": [
        {
          "output_type": "stream",
          "text": [
            "Resetting...\n",
            "sure_reset = True\n"
          ],
          "name": "stdout"
        }
      ]
    },
    {
      "cell_type": "code",
      "metadata": {
        "id": "Y3KEYSzNZ_Mb",
        "colab": {
          "base_uri": "https://localhost:8080/"
        },
        "outputId": "b02121b2-e87f-4914-cbae-c44d3363171f"
      },
      "source": [
        "NUM_NEURONS = 32\n",
        "NUM_LAYERS = 3\n",
        "BATCH_SIZE = 128\n",
        "NUM_EPOCHS = 5\n",
        "#epochs_completed = 0\n",
        "LEARNING_RATE = 0.0001\n",
        "EPSILON = 1e-7\n",
        "DROPOUT = 0.5\n",
        "#MOMENTUM = 0.99\n",
        "\n",
        "LOSS = 'categorical_crossentropy'\n",
        "ACTIVATION_FUNCTION = 'default' # 'relu' 'LeakyReLU' 'PReLU' 'ELU' 'default'\n",
        "FINAL_ACTIVATION_FUNCTION = 'softmax'\n",
        "validation_split = 0.1\n",
        "kernel_size=(1,1)\n",
        "early_stop_after_epochs = 3\n",
        "\n",
        "nTry = \"lanczos3.1\"\n",
        "# +\"_kernel\"+str(kernel_size)+\"_lr\"+str(LEARNING_RATE)+\"_batch\"+str(BATCH_SIZE)+\"_epochs\"+str(NUM_EPOCHS)\n",
        "#checkpointer_name  = \"weights_\"+dataset+\"_\"+impl_type+\"_nLayers\"+str(NUM_LAYERS)+\"_nNeurons\"+str(NUM_NEURONS)+\"_dropout\"+str(DROPOUT)+\"_batch\"+str(BATCH_SIZE)+\".hdf5\"\n",
        "checkpointer_name  = \"weights.\"+dataset+\".\"+impl_type+\".batch\"+str(BATCH_SIZE)+\".nTry.\"+nTry\n",
        "log_name = \"log.\"+checkpointer_name[8:]+\".log\"\n",
        "\n",
        "print('checkpointer_name =', checkpointer_name)\n",
        "print('log_name =', log_name)"
      ],
      "execution_count": 10,
      "outputs": [
        {
          "output_type": "stream",
          "text": [
            "checkpointer_name = weights.Fashion.MultiModel.FOIU1.1.batch128.nTry.lanczos3.1\n",
            "log_name = log.Fashion.MultiModel.FOIU1.1.batch128.nTry.lanczos3.1.log\n"
          ],
          "name": "stdout"
        }
      ]
    },
    {
      "cell_type": "code",
      "metadata": {
        "id": "I-XbkH-AXYR3",
        "colab": {
          "base_uri": "https://localhost:8080/"
        },
        "outputId": "d3708b65-294a-4842-d8de-7862b26d1616"
      },
      "source": [
        "#'''\n",
        "act_func = tf.keras.layers.LeakyReLU(alpha=0.3)\n",
        "\n",
        "input_shape = final_train_imageset.shape[1:]\n",
        "\n",
        "inputs = Input(input_shape)\n",
        "x = inputs\n",
        "#units = 32\n",
        "# bilinear, nearest, bicubic, area, lanczos3, lanczos5, gaussian, mitchellcubic\n",
        "x = experimental.preprocessing.Resizing(64, 64, 'lanczos3')(x)\n",
        "print(\"x.shape =\",x.shape)\n",
        "\n",
        "x = Conv2D(32, (3,3), activation=act_func)(x)\n",
        "x = Conv2D(32, (3,3), activation=act_func)(x)\n",
        "x = Conv2D(32, (3,3), activation=act_func)(x)\n",
        "x = Conv2D(32, (3,3), activation=act_func)(x)\n",
        "x = Conv2D(32, (3,3), activation=act_func)(x)\n",
        "x = Conv2D(32, (3,3), activation=act_func)(x)\n",
        "x = Conv2D(32, (3,3), activation=act_func)(x)\n",
        "\n",
        "x = Flatten()(x)\n",
        "x = Dense(512, activation=act_func)(x)\n",
        "x = Dropout(0.2)(x)\n",
        "\n",
        "outputs = Dense(num_classes, activation=FINAL_ACTIVATION_FUNCTION)(x)\n",
        "\n",
        "model = Model(inputs=inputs, outputs=outputs)\n",
        "#model = Model(inputs=inputs_r, outputs=outputs)\n",
        "#model.summary()\n",
        "#'''"
      ],
      "execution_count": 11,
      "outputs": [
        {
          "output_type": "stream",
          "text": [
            "x.shape = (None, 64, 64, 1)\n"
          ],
          "name": "stdout"
        }
      ]
    },
    {
      "cell_type": "code",
      "metadata": {
        "colab": {
          "base_uri": "https://localhost:8080/",
          "height": 951
        },
        "id": "BFVlbTSBNJ7V",
        "outputId": "7a2ceaf1-5662-4b04-822b-bef531c4e932"
      },
      "source": [
        "tf.keras.utils.plot_model(\n",
        "    model, to_file='model.png', show_shapes=True, show_dtype=False,\n",
        "    show_layer_names=True, rankdir='TB', expand_nested=True, dpi=64\n",
        ")"
      ],
      "execution_count": 12,
      "outputs": [
        {
          "output_type": "execute_result",
          "data": {
            "image/png": "[encoded data removed]",
            "text/plain": [
              "<IPython.core.display.Image object>"
            ]
          },
          "metadata": {
            "tags": []
          },
          "execution_count": 12
        }
      ]
    },
    {
      "cell_type": "code",
      "metadata": {
        "id": "iu7jBKYUXYaK",
        "colab": {
          "base_uri": "https://localhost:8080/"
        },
        "outputId": "7cbdb5ae-e133-49bc-ec6f-76b502998fc2"
      },
      "source": [
        "optimizer = tf.keras.optimizers.RMSprop(lr = LEARNING_RATE, epsilon=EPSILON)\n",
        "#optimizer = tf.keras.optimizers.SGD(lr = LEARNING_RATE, momentum=MOMENTUM)\n",
        "#optimizer = tf.keras.optimizers.Adam(learning_rate=LEARNING_RATE, beta_1=0.9, beta_2=0.999, epsilon=EPSILON)\n",
        "model.compile(\n",
        "    optimizer=optimizer, #'rmsprop',\n",
        "    loss=LOSS,\n",
        "    metrics=['accuracy']\n",
        ")"
      ],
      "execution_count": 13,
      "outputs": [
        {
          "output_type": "stream",
          "text": [
            "/usr/local/lib/python3.7/dist-packages/tensorflow/python/keras/optimizer_v2/optimizer_v2.py:375: UserWarning: The `lr` argument is deprecated, use `learning_rate` instead.\n",
            "  \"The `lr` argument is deprecated, use `learning_rate` instead.\")\n"
          ],
          "name": "stderr"
        }
      ]
    },
    {
      "cell_type": "code",
      "metadata": {
        "id": "ENSmBglrXYlp"
      },
      "source": [
        "# save the best model with least validation loss\n",
        "checkpointer = ModelCheckpoint(filepath = work_dir+checkpointer_name, \n",
        "                               #monitor='val_accuracy',\n",
        "                               monitor='val_loss',\n",
        "                               save_weights_only=False,  \n",
        "                               mode='auto', \n",
        "                               verbose = 0, \n",
        "                               save_best_only =False\n",
        "                               )\n",
        "checkpointer_best = ModelCheckpoint(filepath = work_dir+\"best_\"+checkpointer_name, \n",
        "                                    monitor='val_loss', \n",
        "                                    save_weights_only=False,\n",
        "                                    mode='auto',  \n",
        "                                    verbose = 1, \n",
        "                                    save_best_only = True\n",
        "                                    )\n",
        "early_stopping = EarlyStopping(monitor='loss', patience=early_stop_after_epochs)"
      ],
      "execution_count": 14,
      "outputs": []
    },
    {
      "cell_type": "code",
      "metadata": {
        "id": "aTAmcZ880FJg"
      },
      "source": [
        "def checkBestPerformance(epoch, logs):\n",
        "    log_data = pd.read_csv(work_dir+log_name, sep=',', usecols=['val_loss', 'val_accuracy'], engine='python')\n",
        "    min_val_loss = min(log_data.val_loss.values)\n",
        "    max_val_acc = max(log_data.val_accuracy.values)\n",
        "\n",
        "    current_val_acc = logs['val_accuracy']\n",
        "    current_val_loss = logs['val_loss']\n",
        "\n",
        "    save_filepath = work_dir+\"best_\"+checkpointer_name\n",
        "    if current_val_loss < min_val_loss:\n",
        "        model.save(filepath = save_filepath)\n",
        "        #print(\"\\nval_loss decreased from\", min_val_loss, \"to\", current_val_loss, \".\")\n",
        "        print(\"\\nval_loss decreased to\", current_val_loss, \".\")\n",
        "\n",
        "        #list_callbacks = [checkpointer, checkpointer_best, csv_logger, early_stopping]\n",
        "        #print(\"\\nReturned to previous best checkpoint callback.\")\n",
        "\n",
        "    elif (current_val_loss==min_val_loss) and (current_val_acc>max_val_acc):\n",
        "        model.save(filepath = save_filepath)\n",
        "        #print(\"\\nval_accuracy increased from\", max_val_acc, \"to\", current_val_acc, \".\")\n",
        "        print(\"\\nval_accuracy increased to\", current_val_acc, \".\")\n",
        "\n",
        "        #list_callbacks = [checkpointer, checkpointer_best, csv_logger, early_stopping]\n",
        "        #print(\"\\nReturned to previous best checkpoint callback.\")\n",
        "\n",
        "    else:\n",
        "        pass\n",
        "        #print(\"\\nPerformance did not improve from existing min_val_loss =\", min_val_loss, \", max_val_acc =\", max_val_acc, \".\")\n",
        "    #return"
      ],
      "execution_count": 15,
      "outputs": []
    },
    {
      "cell_type": "code",
      "metadata": {
        "id": "oYDse9cTyOvk"
      },
      "source": [
        "epochs_completed = 0\n",
        "csv_logger = CSVLogger(work_dir+log_name, separator=',', append=True)\n",
        "\n",
        "try:\n",
        "    log_data = pd.read_csv(work_dir+log_name, sep=',', usecols=['epoch'], engine='python')\n",
        "    epochs_completed = log_data.shape[0]\n",
        "\n",
        "    if epochs_completed > 0:\n",
        "        model = load_model(work_dir+checkpointer_name)\n",
        "        list_callbacks = [checkpointer, LambdaCallback(on_epoch_end=checkBestPerformance), csv_logger]\n",
        "        print(\"epochs_completed =\", epochs_completed)\n",
        "except:\n",
        "    list_callbacks = [checkpointer, checkpointer_best, csv_logger]"
      ],
      "execution_count": 16,
      "outputs": []
    },
    {
      "cell_type": "code",
      "metadata": {
        "id": "Y4KWbIpvL4XS"
      },
      "source": [
        "try:\n",
        "    print(f\"Previously trained individual_accuracies = {individual_accuracies}\")\n",
        "except:\n",
        "    pass"
      ],
      "execution_count": 17,
      "outputs": []
    },
    {
      "cell_type": "code",
      "metadata": {
        "id": "M1jON3KWXYi0",
        "colab": {
          "base_uri": "https://localhost:8080/"
        },
        "outputId": "8146f2ea-d69a-45dd-c906-97a2e6fbddcf"
      },
      "source": [
        "print(\"Previously completed epochs =\", epochs_completed, \"\\n\")\n",
        "\n",
        "start_time = time.time()\n",
        "history = model.fit(final_train_imageset, final_train_label, \n",
        "                    shuffle=True, \n",
        "                    batch_size = BATCH_SIZE, \n",
        "                    epochs = NUM_EPOCHS - epochs_completed, \n",
        "                    #steps_per_epoch = 2,\n",
        "                    #validation_split = validation_split, \n",
        "                    validation_data = (final_test_imageset, final_test_label),\n",
        "                    callbacks=list_callbacks\n",
        "                    )\n",
        "elapsed_time = time.time() - start_time \n",
        "print(\"\\nTime elapsed: \", elapsed_time)"
      ],
      "execution_count": 18,
      "outputs": [
        {
          "output_type": "stream",
          "text": [
            "Previously completed epochs = 0 \n",
            "\n",
            "Epoch 1/5\n",
            "469/469 [==============================] - 60s 109ms/step - loss: 0.5017 - accuracy: 0.8202 - val_loss: 0.3892 - val_accuracy: 0.8633\n"
          ],
          "name": "stdout"
        },
        {
          "output_type": "stream",
          "text": [
            "WARNING:absl:Found untraced functions such as leaky_re_lu_layer_call_and_return_conditional_losses, leaky_re_lu_layer_call_fn, leaky_re_lu_layer_call_fn, leaky_re_lu_layer_call_and_return_conditional_losses, leaky_re_lu_layer_call_and_return_conditional_losses while saving (showing 5 of 5). These functions will not be directly callable after loading.\n"
          ],
          "name": "stderr"
        },
        {
          "output_type": "stream",
          "text": [
            "INFO:tensorflow:Assets written to: drive/My Drive/Training Records 2/weights.Fashion.MultiModel.FOIU1.1.batch128.nTry.lanczos3.1/assets\n"
          ],
          "name": "stdout"
        },
        {
          "output_type": "stream",
          "text": [
            "INFO:tensorflow:Assets written to: drive/My Drive/Training Records 2/weights.Fashion.MultiModel.FOIU1.1.batch128.nTry.lanczos3.1/assets\n"
          ],
          "name": "stderr"
        },
        {
          "output_type": "stream",
          "text": [
            "\n",
            "Epoch 00001: val_loss improved from inf to 0.38925, saving model to drive/My Drive/Training Records 2/best_weights.Fashion.MultiModel.FOIU1.1.batch128.nTry.lanczos3.1\n"
          ],
          "name": "stdout"
        },
        {
          "output_type": "stream",
          "text": [
            "WARNING:absl:Found untraced functions such as leaky_re_lu_layer_call_and_return_conditional_losses, leaky_re_lu_layer_call_fn, leaky_re_lu_layer_call_fn, leaky_re_lu_layer_call_and_return_conditional_losses, leaky_re_lu_layer_call_and_return_conditional_losses while saving (showing 5 of 5). These functions will not be directly callable after loading.\n"
          ],
          "name": "stderr"
        },
        {
          "output_type": "stream",
          "text": [
            "INFO:tensorflow:Assets written to: drive/My Drive/Training Records 2/best_weights.Fashion.MultiModel.FOIU1.1.batch128.nTry.lanczos3.1/assets\n"
          ],
          "name": "stdout"
        },
        {
          "output_type": "stream",
          "text": [
            "INFO:tensorflow:Assets written to: drive/My Drive/Training Records 2/best_weights.Fashion.MultiModel.FOIU1.1.batch128.nTry.lanczos3.1/assets\n"
          ],
          "name": "stderr"
        },
        {
          "output_type": "stream",
          "text": [
            "Epoch 2/5\n",
            "469/469 [==============================] - 50s 106ms/step - loss: 0.3261 - accuracy: 0.8810 - val_loss: 0.3215 - val_accuracy: 0.8827\n"
          ],
          "name": "stdout"
        },
        {
          "output_type": "stream",
          "text": [
            "WARNING:absl:Found untraced functions such as leaky_re_lu_layer_call_and_return_conditional_losses, leaky_re_lu_layer_call_fn, leaky_re_lu_layer_call_fn, leaky_re_lu_layer_call_and_return_conditional_losses, leaky_re_lu_layer_call_and_return_conditional_losses while saving (showing 5 of 5). These functions will not be directly callable after loading.\n"
          ],
          "name": "stderr"
        },
        {
          "output_type": "stream",
          "text": [
            "INFO:tensorflow:Assets written to: drive/My Drive/Training Records 2/weights.Fashion.MultiModel.FOIU1.1.batch128.nTry.lanczos3.1/assets\n"
          ],
          "name": "stdout"
        },
        {
          "output_type": "stream",
          "text": [
            "INFO:tensorflow:Assets written to: drive/My Drive/Training Records 2/weights.Fashion.MultiModel.FOIU1.1.batch128.nTry.lanczos3.1/assets\n"
          ],
          "name": "stderr"
        },
        {
          "output_type": "stream",
          "text": [
            "\n",
            "Epoch 00002: val_loss improved from 0.38925 to 0.32155, saving model to drive/My Drive/Training Records 2/best_weights.Fashion.MultiModel.FOIU1.1.batch128.nTry.lanczos3.1\n"
          ],
          "name": "stdout"
        },
        {
          "output_type": "stream",
          "text": [
            "WARNING:absl:Found untraced functions such as leaky_re_lu_layer_call_and_return_conditional_losses, leaky_re_lu_layer_call_fn, leaky_re_lu_layer_call_fn, leaky_re_lu_layer_call_and_return_conditional_losses, leaky_re_lu_layer_call_and_return_conditional_losses while saving (showing 5 of 5). These functions will not be directly callable after loading.\n"
          ],
          "name": "stderr"
        },
        {
          "output_type": "stream",
          "text": [
            "INFO:tensorflow:Assets written to: drive/My Drive/Training Records 2/best_weights.Fashion.MultiModel.FOIU1.1.batch128.nTry.lanczos3.1/assets\n"
          ],
          "name": "stdout"
        },
        {
          "output_type": "stream",
          "text": [
            "INFO:tensorflow:Assets written to: drive/My Drive/Training Records 2/best_weights.Fashion.MultiModel.FOIU1.1.batch128.nTry.lanczos3.1/assets\n"
          ],
          "name": "stderr"
        },
        {
          "output_type": "stream",
          "text": [
            "Epoch 3/5\n",
            "469/469 [==============================] - 50s 106ms/step - loss: 0.2721 - accuracy: 0.9010 - val_loss: 0.2869 - val_accuracy: 0.8939\n"
          ],
          "name": "stdout"
        },
        {
          "output_type": "stream",
          "text": [
            "WARNING:absl:Found untraced functions such as leaky_re_lu_layer_call_and_return_conditional_losses, leaky_re_lu_layer_call_fn, leaky_re_lu_layer_call_fn, leaky_re_lu_layer_call_and_return_conditional_losses, leaky_re_lu_layer_call_and_return_conditional_losses while saving (showing 5 of 5). These functions will not be directly callable after loading.\n"
          ],
          "name": "stderr"
        },
        {
          "output_type": "stream",
          "text": [
            "INFO:tensorflow:Assets written to: drive/My Drive/Training Records 2/weights.Fashion.MultiModel.FOIU1.1.batch128.nTry.lanczos3.1/assets\n"
          ],
          "name": "stdout"
        },
        {
          "output_type": "stream",
          "text": [
            "INFO:tensorflow:Assets written to: drive/My Drive/Training Records 2/weights.Fashion.MultiModel.FOIU1.1.batch128.nTry.lanczos3.1/assets\n"
          ],
          "name": "stderr"
        },
        {
          "output_type": "stream",
          "text": [
            "\n",
            "Epoch 00003: val_loss improved from 0.32155 to 0.28691, saving model to drive/My Drive/Training Records 2/best_weights.Fashion.MultiModel.FOIU1.1.batch128.nTry.lanczos3.1\n"
          ],
          "name": "stdout"
        },
        {
          "output_type": "stream",
          "text": [
            "WARNING:absl:Found untraced functions such as leaky_re_lu_layer_call_and_return_conditional_losses, leaky_re_lu_layer_call_fn, leaky_re_lu_layer_call_fn, leaky_re_lu_layer_call_and_return_conditional_losses, leaky_re_lu_layer_call_and_return_conditional_losses while saving (showing 5 of 5). These functions will not be directly callable after loading.\n"
          ],
          "name": "stderr"
        },
        {
          "output_type": "stream",
          "text": [
            "INFO:tensorflow:Assets written to: drive/My Drive/Training Records 2/best_weights.Fashion.MultiModel.FOIU1.1.batch128.nTry.lanczos3.1/assets\n"
          ],
          "name": "stdout"
        },
        {
          "output_type": "stream",
          "text": [
            "INFO:tensorflow:Assets written to: drive/My Drive/Training Records 2/best_weights.Fashion.MultiModel.FOIU1.1.batch128.nTry.lanczos3.1/assets\n"
          ],
          "name": "stderr"
        },
        {
          "output_type": "stream",
          "text": [
            "Epoch 4/5\n",
            "469/469 [==============================] - 50s 106ms/step - loss: 0.2368 - accuracy: 0.9133 - val_loss: 0.2724 - val_accuracy: 0.9021\n"
          ],
          "name": "stdout"
        },
        {
          "output_type": "stream",
          "text": [
            "WARNING:absl:Found untraced functions such as leaky_re_lu_layer_call_and_return_conditional_losses, leaky_re_lu_layer_call_fn, leaky_re_lu_layer_call_fn, leaky_re_lu_layer_call_and_return_conditional_losses, leaky_re_lu_layer_call_and_return_conditional_losses while saving (showing 5 of 5). These functions will not be directly callable after loading.\n"
          ],
          "name": "stderr"
        },
        {
          "output_type": "stream",
          "text": [
            "INFO:tensorflow:Assets written to: drive/My Drive/Training Records 2/weights.Fashion.MultiModel.FOIU1.1.batch128.nTry.lanczos3.1/assets\n"
          ],
          "name": "stdout"
        },
        {
          "output_type": "stream",
          "text": [
            "INFO:tensorflow:Assets written to: drive/My Drive/Training Records 2/weights.Fashion.MultiModel.FOIU1.1.batch128.nTry.lanczos3.1/assets\n"
          ],
          "name": "stderr"
        },
        {
          "output_type": "stream",
          "text": [
            "\n",
            "Epoch 00004: val_loss improved from 0.28691 to 0.27237, saving model to drive/My Drive/Training Records 2/best_weights.Fashion.MultiModel.FOIU1.1.batch128.nTry.lanczos3.1\n"
          ],
          "name": "stdout"
        },
        {
          "output_type": "stream",
          "text": [
            "WARNING:absl:Found untraced functions such as leaky_re_lu_layer_call_and_return_conditional_losses, leaky_re_lu_layer_call_fn, leaky_re_lu_layer_call_fn, leaky_re_lu_layer_call_and_return_conditional_losses, leaky_re_lu_layer_call_and_return_conditional_losses while saving (showing 5 of 5). These functions will not be directly callable after loading.\n"
          ],
          "name": "stderr"
        },
        {
          "output_type": "stream",
          "text": [
            "INFO:tensorflow:Assets written to: drive/My Drive/Training Records 2/best_weights.Fashion.MultiModel.FOIU1.1.batch128.nTry.lanczos3.1/assets\n"
          ],
          "name": "stdout"
        },
        {
          "output_type": "stream",
          "text": [
            "INFO:tensorflow:Assets written to: drive/My Drive/Training Records 2/best_weights.Fashion.MultiModel.FOIU1.1.batch128.nTry.lanczos3.1/assets\n"
          ],
          "name": "stderr"
        },
        {
          "output_type": "stream",
          "text": [
            "Epoch 5/5\n",
            "469/469 [==============================] - 50s 106ms/step - loss: 0.2058 - accuracy: 0.9261 - val_loss: 0.2795 - val_accuracy: 0.9025\n"
          ],
          "name": "stdout"
        },
        {
          "output_type": "stream",
          "text": [
            "WARNING:absl:Found untraced functions such as leaky_re_lu_layer_call_and_return_conditional_losses, leaky_re_lu_layer_call_fn, leaky_re_lu_layer_call_fn, leaky_re_lu_layer_call_and_return_conditional_losses, leaky_re_lu_layer_call_and_return_conditional_losses while saving (showing 5 of 5). These functions will not be directly callable after loading.\n"
          ],
          "name": "stderr"
        },
        {
          "output_type": "stream",
          "text": [
            "INFO:tensorflow:Assets written to: drive/My Drive/Training Records 2/weights.Fashion.MultiModel.FOIU1.1.batch128.nTry.lanczos3.1/assets\n"
          ],
          "name": "stdout"
        },
        {
          "output_type": "stream",
          "text": [
            "INFO:tensorflow:Assets written to: drive/My Drive/Training Records 2/weights.Fashion.MultiModel.FOIU1.1.batch128.nTry.lanczos3.1/assets\n"
          ],
          "name": "stderr"
        },
        {
          "output_type": "stream",
          "text": [
            "\n",
            "Epoch 00005: val_loss did not improve from 0.27237\n",
            "\n",
            "Time elapsed:  322.960636138916\n"
          ],
          "name": "stdout"
        }
      ]
    },
    {
      "cell_type": "code",
      "metadata": {
        "id": "rbumzY9bXYgX",
        "colab": {
          "base_uri": "https://localhost:8080/"
        },
        "outputId": "71a2c28c-7ad6-47c8-b72b-6318cef84a0d"
      },
      "source": [
        "result = model.evaluate(final_test_imageset, final_test_label)\n",
        "print(\"Accuracy : {}, Loss: {}\".format(result[1], result[0]))"
      ],
      "execution_count": 19,
      "outputs": [
        {
          "output_type": "stream",
          "text": [
            "313/313 [==============================] - 3s 10ms/step - loss: 0.2795 - accuracy: 0.9025\n",
            "Accuracy : 0.9024999737739563, Loss: 0.2794512212276459\n"
          ],
          "name": "stdout"
        }
      ]
    },
    {
      "cell_type": "code",
      "metadata": {
        "id": "GD_4XS5Iiv0b"
      },
      "source": [
        ""
      ],
      "execution_count": 19,
      "outputs": []
    },
    {
      "cell_type": "code",
      "metadata": {
        "id": "L1Z_Sn_UXYXz"
      },
      "source": [
        "model_loaded = load_model(work_dir+\"best_\"+checkpointer_name)"
      ],
      "execution_count": 20,
      "outputs": []
    },
    {
      "cell_type": "code",
      "metadata": {
        "id": "j6RZW1ZqaeV_",
        "colab": {
          "base_uri": "https://localhost:8080/"
        },
        "outputId": "d2613877-24f2-4be6-8b24-44a543c636d2"
      },
      "source": [
        "result2 = model_loaded.evaluate(final_test_imageset, final_test_label)\n",
        "print(\"{}: Test Acc: {}, Test Loss: {}\".format(\"best_\"+checkpointer_name, round(result2[1],4), round(result2[0],4) ))"
      ],
      "execution_count": 21,
      "outputs": [
        {
          "output_type": "stream",
          "text": [
            "313/313 [==============================] - 3s 10ms/step - loss: 0.2724 - accuracy: 0.9021\n",
            "best_weights.Fashion.MultiModel.FOIU1.1.batch128.nTry.lanczos3.1: Test Acc: 0.9021, Test Loss: 0.2724\n"
          ],
          "name": "stdout"
        }
      ]
    },
    {
      "cell_type": "code",
      "metadata": {
        "id": "a5Q6-SzVbIwt",
        "colab": {
          "base_uri": "https://localhost:8080/"
        },
        "outputId": "c9dd4f2f-4dd8-46db-def2-68c45fec390e"
      },
      "source": [
        "#predicted_values = model.predict_generator(final_test_imageset, len(final_test_imageset))\n",
        "predicted_values = model_loaded.predict_generator(final_test_imageset, len(final_test_imageset))"
      ],
      "execution_count": 22,
      "outputs": [
        {
          "output_type": "stream",
          "text": [
            "/usr/local/lib/python3.7/dist-packages/tensorflow/python/keras/engine/training.py:2001: UserWarning: `Model.predict_generator` is deprecated and will be removed in a future version. Please use `Model.predict`, which supports generators.\n",
            "  warnings.warn('`Model.predict_generator` is deprecated and '\n"
          ],
          "name": "stderr"
        }
      ]
    },
    {
      "cell_type": "code",
      "metadata": {
        "id": "ywmXGVHplGAA"
      },
      "source": [
        "list_all_predicted, individual_accuracies = identify_predicted_label(predicted_values)\n",
        "\n",
        "num_try = 1\n",
        "np.save(f'{work_dir}list_all_predicted_Multimodal.{dataset}.{num_try}.pkl', list_all_predicted, allow_pickle=True)\n",
        "np.save(f'{work_dir}individual_accuracies_Multimodal.{dataset}.{num_try}.pkl', individual_accuracies, allow_pickle=True)\n",
        "\n",
        "list_all_predicted = list(np.load(f'{work_dir}list_all_predicted.{dataset}.{impl_type}.pkl.npy', allow_pickle=True))\n",
        "individual_accuracies = list(np.load(f'{work_dir}individual_accuracies.{dataset}.{impl_type}.pkl.npy', allow_pickle=True))"
      ],
      "execution_count": 25,
      "outputs": []
    },
    {
      "cell_type": "code",
      "metadata": {
        "id": "i3c2ueEn-Cg0"
      },
      "source": [
        "max_index_ind_acc = np.argmax(np.array(individual_accuracies))"
      ],
      "execution_count": 26,
      "outputs": []
    },
    {
      "cell_type": "code",
      "metadata": {
        "id": "5K2AcPFxjrvv",
        "colab": {
          "base_uri": "https://localhost:8080/"
        },
        "outputId": "4e7a8246-1e83-4ef9-aa5a-b14e7b11c69c"
      },
      "source": [
        "print(f\"max_index_ind_acc = {max_index_ind_acc}\")\n",
        "print(f\"len(list_all_predicted) = {len(list_all_predicted)}\")\n",
        "print(f\"len(list_all_predicted[{max_index_ind_acc}]) = {len(list_all_predicted[max_index_ind_acc])}\")\n",
        "print(f\"individual_accuracies = {individual_accuracies}\")"
      ],
      "execution_count": 27,
      "outputs": [
        {
          "output_type": "stream",
          "text": [
            "max_index_ind_acc = 0\n",
            "len(list_all_predicted) = 1\n",
            "len(list_all_predicted[0]) = 10000\n",
            "individual_accuracies = [90.21]\n"
          ],
          "name": "stdout"
        }
      ]
    },
    {
      "cell_type": "code",
      "metadata": {
        "id": "cCUDOC-ap7_A",
        "colab": {
          "base_uri": "https://localhost:8080/"
        },
        "outputId": "1e8557f5-e53e-424c-e48c-674ad6bbb61a"
      },
      "source": [
        "print(\"np.array(list_all_predicted).shape =\", np.array(list_all_predicted).shape)\n",
        "#np.array(list_all_predicted)"
      ],
      "execution_count": 28,
      "outputs": [
        {
          "output_type": "stream",
          "text": [
            "np.array(list_all_predicted).shape = (1, 10000)\n"
          ],
          "name": "stdout"
        }
      ]
    },
    {
      "cell_type": "code",
      "metadata": {
        "id": "uTyxdwqL5FkD",
        "colab": {
          "base_uri": "https://localhost:8080/"
        },
        "outputId": "7fd554d0-544e-4334-ca69-91037898bbb2"
      },
      "source": [
        "from scipy import stats\n",
        "\n",
        "list_modes = stats.mode(np.array(list_all_predicted))\n",
        "print(\"list_modes.mode.shape =\", list_modes.mode.shape)\n",
        "list_modes"
      ],
      "execution_count": 29,
      "outputs": [
        {
          "output_type": "stream",
          "text": [
            "list_modes.mode.shape = (1, 10000)\n"
          ],
          "name": "stdout"
        },
        {
          "output_type": "execute_result",
          "data": {
            "text/plain": [
              "ModeResult(mode=array([[9, 2, 1, ..., 8, 1, 5]]), count=array([[1, 1, 1, ..., 1, 1, 1]]))"
            ]
          },
          "metadata": {
            "tags": []
          },
          "execution_count": 29
        }
      ]
    },
    {
      "cell_type": "code",
      "metadata": {
        "colab": {
          "base_uri": "https://localhost:8080/",
          "height": 54
        },
        "id": "gK5O-IE7J5ts",
        "outputId": "15e4a4c1-102b-4589-c5ac-29567fe988ad"
      },
      "source": [
        "'''\n",
        "Final: correctly classified 9063 out of 10000. Accuracy = 90.63%\n",
        "Final: correctly classified 9063 out of 10000. Accuracy = 90.63%\n",
        "Final: correctly classified 9109 out of 10000. Accuracy = 91.09%\n",
        "Final: correctly classified 9145 out of 10000. Accuracy = 91.45%\n",
        "\n",
        "'''"
      ],
      "execution_count": 30,
      "outputs": [
        {
          "output_type": "execute_result",
          "data": {
            "application/vnd.google.colaboratory.intrinsic+json": {
              "type": "string"
            },
            "text/plain": [
              "'\\nFinal: correctly classified 9063 out of 10000. Accuracy = 90.63%\\nFinal: correctly classified 9063 out of 10000. Accuracy = 90.63%\\nFinal: correctly classified 9109 out of 10000. Accuracy = 91.09%\\nFinal: correctly classified 9145 out of 10000. Accuracy = 91.45%\\n\\n'"
            ]
          },
          "metadata": {
            "tags": []
          },
          "execution_count": 30
        }
      ]
    },
    {
      "cell_type": "code",
      "metadata": {
        "colab": {
          "base_uri": "https://localhost:8080/"
        },
        "id": "Ad4cZRbZ6Hif",
        "outputId": "a5587f34-87a6-42bb-d5e1-2fce69f03622"
      },
      "source": [
        "final_count_correct = 0\n",
        "data = 0\n",
        "final_prediction_list = []\n",
        "for true,mode_val,freq in zip(y_test, list_modes.mode[0],list_modes.count[0]):\n",
        "    #print(f\"data {data}: true = {true}; mode = {mode}; count = {count}\")\n",
        "    if (true == mode_val) and (freq > 1):\n",
        "        final_prediction_list.append(mode_val)\n",
        "        final_count_correct += 1\n",
        "    elif true == list_all_predicted[max_index_ind_acc][data]:\n",
        "        final_prediction_list.append(list_all_predicted[max_index_ind_acc][data])\n",
        "        final_count_correct += 1\n",
        "    data += 1\n",
        "    #break\n",
        "\n",
        "print(f'Final: correctly classified {final_count_correct} out of {len(y_test)}. \\\n",
        "Accuracy = {round((final_count_correct/len(y_test))*100, 2)}%\\n')\n",
        "#print(f\"Final accuracy = {round((final_count_correct/len(final_predictions))*100, 2)}%\")"
      ],
      "execution_count": 31,
      "outputs": [
        {
          "output_type": "stream",
          "text": [
            "Final: correctly classified 9021 out of 10000. Accuracy = 90.21%\n",
            "\n"
          ],
          "name": "stdout"
        }
      ]
    },
    {
      "cell_type": "code",
      "metadata": {
        "id": "48VbbcJz0LoM"
      },
      "source": [
        ""
      ],
      "execution_count": 31,
      "outputs": []
    },
    {
      "cell_type": "code",
      "metadata": {
        "id": "Dc7lBQw9zE-Y",
        "colab": {
          "base_uri": "https://localhost:8080/"
        },
        "outputId": "c1ba1dcb-9b4c-492a-bae0-b91b7455ea1b"
      },
      "source": [
        "with open(work_dir+'Records.csv', \"a\") as fp:\n",
        "    wr = csv.writer(fp, dialect='excel')\n",
        "    try:\n",
        "        wr.writerow([checkpointer_name[8:-5], round(result2[1], 4), round(result2[0], 4), elapsed_time])\n",
        "    except:\n",
        "        wr.writerow([checkpointer_name[8:-5], round(result2[1], 4), round(result2[0], 4)])\n",
        "print(\"Saved results.\")"
      ],
      "execution_count": 32,
      "outputs": [
        {
          "output_type": "stream",
          "text": [
            "Saved results.\n"
          ],
          "name": "stdout"
        }
      ]
    },
    {
      "cell_type": "code",
      "metadata": {
        "id": "pfOLd5uPoSYP"
      },
      "source": [
        ""
      ],
      "execution_count": 32,
      "outputs": []
    },
    {
      "cell_type": "code",
      "metadata": {
        "id": "vNrrlrUTXYVp",
        "colab": {
          "base_uri": "https://localhost:8080/",
          "height": 54
        },
        "outputId": "1f84fbdf-d4ee-4ae3-9d3d-1c30936ccedb"
      },
      "source": [
        "#Confution Matrix and Classification Report\n",
        "'''\n",
        "Y_pred = model_loaded.predict_generator(final_test_imageset, len(final_test_imageset))\n",
        "y_pred = np.argmax(Y_pred, axis=1)\n",
        "print('Confusion Matrix')\n",
        "print(confusion_matrix(y_test, y_pred))\n",
        "#'''"
      ],
      "execution_count": 33,
      "outputs": [
        {
          "output_type": "execute_result",
          "data": {
            "application/vnd.google.colaboratory.intrinsic+json": {
              "type": "string"
            },
            "text/plain": [
              "\"\\nY_pred = model_loaded.predict_generator(final_test_imageset, len(final_test_imageset))\\ny_pred = np.argmax(Y_pred, axis=1)\\nprint('Confusion Matrix')\\nprint(confusion_matrix(y_test, y_pred))\\n#\""
            ]
          },
          "metadata": {
            "tags": []
          },
          "execution_count": 33
        }
      ]
    },
    {
      "cell_type": "code",
      "metadata": {
        "id": "RhiUB_uNXYPL",
        "colab": {
          "base_uri": "https://localhost:8080/",
          "height": 36
        },
        "outputId": "4531aa01-f6e4-43e8-f4e0-b4448bd8d972"
      },
      "source": [
        "# Precision [TP/TP+FP] = The ratio of correctly predicted positive observations to the total predicted positive observations.\n",
        "# Recall (Sensitivity) [TP/TP+FN] = The ratio of correctly predicted positive observations to the all observations in actual class - 'yes'.\n",
        "# F1 score [F1 Score = 2*(Recall * Precision) / (Recall + Precision)] = The weighted average of Precision and Recall.\n",
        "# Support = The number of samples of the true response that lie in that class.\n",
        "'''\n",
        "print('Classification Report:')\n",
        "#target_names = ['Mono', 'Di'] # not ['Di', 'Mono']\n",
        "print(classification_report(y_test, y_pred)) #, target_names=target_names))\n",
        "#'''"
      ],
      "execution_count": 34,
      "outputs": [
        {
          "output_type": "execute_result",
          "data": {
            "application/vnd.google.colaboratory.intrinsic+json": {
              "type": "string"
            },
            "text/plain": [
              "\"\\nprint('Classification Report:')\\n#target_names = ['Mono', 'Di'] # not ['Di', 'Mono']\\nprint(classification_report(y_test, y_pred)) #, target_names=target_names))\\n#\""
            ]
          },
          "metadata": {
            "tags": []
          },
          "execution_count": 34
        }
      ]
    },
    {
      "cell_type": "code",
      "metadata": {
        "id": "7adZ1XniXYKV",
        "colab": {
          "base_uri": "https://localhost:8080/",
          "height": 36
        },
        "outputId": "275d54c1-20c3-4e11-b65b-3131883e24f0"
      },
      "source": [
        "'''\n",
        "print('Classification Report')\n",
        "print(classification_report(y_test, y_pred, target_names=list_categories))\n",
        "#'''"
      ],
      "execution_count": 35,
      "outputs": [
        {
          "output_type": "execute_result",
          "data": {
            "application/vnd.google.colaboratory.intrinsic+json": {
              "type": "string"
            },
            "text/plain": [
              "\"\\nprint('Classification Report')\\nprint(classification_report(y_test, y_pred, target_names=list_categories))\\n#\""
            ]
          },
          "metadata": {
            "tags": []
          },
          "execution_count": 35
        }
      ]
    },
    {
      "cell_type": "code",
      "metadata": {
        "id": "VJjvgOHfkREd",
        "colab": {
          "base_uri": "https://localhost:8080/"
        },
        "outputId": "0a8822be-b5a0-4a82-bba7-b4dd27cbd176"
      },
      "source": [
        "log_data = pd.read_csv(work_dir+log_name, sep=',', engine='python') \n",
        "print(\"log_data.shape =\", log_data.shape)"
      ],
      "execution_count": 36,
      "outputs": [
        {
          "output_type": "stream",
          "text": [
            "log_data.shape = (5, 5)\n"
          ],
          "name": "stdout"
        }
      ]
    },
    {
      "cell_type": "code",
      "metadata": {
        "id": "cXvYwRP6lWQz"
      },
      "source": [
        "# Getting the model history keys \n",
        "#history.history.keys()\n",
        "#log_data.head()"
      ],
      "execution_count": 37,
      "outputs": []
    },
    {
      "cell_type": "code",
      "metadata": {
        "id": "5DyZbASblWNn",
        "colab": {
          "base_uri": "https://localhost:8080/",
          "height": 313
        },
        "outputId": "a9cd2f43-215e-4ff7-98dd-118fc82f7974"
      },
      "source": [
        "# plot the training artifacts\n",
        "title = \"Val loss for \"+dataset+\" \"+impl_type\n",
        "\n",
        "plt.plot(log_data['loss'])\n",
        "plt.plot(log_data['val_loss'])\n",
        "plt.title(title)\n",
        "plt.ylabel('loss')\n",
        "plt.xlabel('epoch')\n",
        "plt.legend(['train_loss','val_loss'], loc = 'best')\n",
        "\n",
        "img_path = work_dir+'Images/vLoss_'+checkpointer_name[8:-5]+'.png'\n",
        "#plt.savefig(img_path, dpi=600)\n",
        "plt.show()\n",
        "print('img_path =', img_path)"
      ],
      "execution_count": 38,
      "outputs": [
        {
          "output_type": "display_data",
          "data": {
            "image/png": "[encoded data removed]",
            "text/plain": [
              "<Figure size 432x288 with 1 Axes>"
            ]
          },
          "metadata": {
            "tags": [],
            "needs_background": "light"
          }
        },
        {
          "output_type": "stream",
          "text": [
            "img_path = drive/My Drive/Training Records 2/Images/vLoss_Fashion.MultiModel.FOIU1.1.batch128.nTry.lancz.png\n"
          ],
          "name": "stdout"
        }
      ]
    },
    {
      "cell_type": "code",
      "metadata": {
        "id": "CIPNBC_slWKi",
        "colab": {
          "base_uri": "https://localhost:8080/",
          "height": 313
        },
        "outputId": "d33dd98e-9a89-4845-fcc2-3e7b6dee6095"
      },
      "source": [
        "title = \"Val acc for \"+dataset+\" \"+impl_type\n",
        "\n",
        "plt.plot(log_data['accuracy'])\n",
        "plt.plot(log_data['val_accuracy'])\n",
        "plt.title(title)\n",
        "plt.ylabel('accuracy')\n",
        "plt.xlabel('epoch')\n",
        "plt.legend(['train_accuracy','val_accuracy'], loc = 'best')\n",
        "\n",
        "img_path = work_dir+'Images/vAcc_'+checkpointer_name[8:-5]+'.png'\n",
        "#plt.savefig(img_path, dpi=600)\n",
        "plt.show()\n",
        "print('img_path =', img_path)"
      ],
      "execution_count": 39,
      "outputs": [
        {
          "output_type": "display_data",
          "data": {
            "image/png": "[encoded data removed]",
            "text/plain": [
              "<Figure size 432x288 with 1 Axes>"
            ]
          },
          "metadata": {
            "tags": [],
            "needs_background": "light"
          }
        },
        {
          "output_type": "stream",
          "text": [
            "img_path = drive/My Drive/Training Records 2/Images/vAcc_Fashion.MultiModel.FOIU1.1.batch128.nTry.lancz.png\n"
          ],
          "name": "stdout"
        }
      ]
    },
    {
      "cell_type": "code",
      "metadata": {
        "id": "_wxpuYhJlWHI"
      },
      "source": [
        ""
      ],
      "execution_count": 39,
      "outputs": []
    }
  ]
}